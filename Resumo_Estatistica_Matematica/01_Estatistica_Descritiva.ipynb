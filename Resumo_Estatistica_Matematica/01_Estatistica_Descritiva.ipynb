{
 "cells": [
  {
   "cell_type": "markdown",
   "metadata": {},
   "source": [
    "<h1 style='color: blue; font-size: 34px; font-weight: bold;'> Projeto Proposto \n",
    "</h1>\n",
    "\n",
    "<p style='font-size: 18px; line-height: 2; margin: 0px 0px; text-align: justify; text-indent: 0px;'>    \n",
    "<i> Este projeto baseia-se no Estudo das Técnicas de Estatística Descritiva. O intuito é analisar os resultados do ENEM no estado de São Paulo do ano de 2019.  </i>       \n",
    "</p>  \n",
    "\n",
    "> CONSULTAR:\n",
    "\n",
    "https://www.youtube.com/watch?v=qBigTkBLU6g&list=PLblh5JKOoLUK0FLuzwntyYI10UQFUhsY9&ab_channel=StatQuestwithJoshStarmer"
   ]
  },
  {
   "cell_type": "markdown",
   "metadata": {},
   "source": [
    "# <font color='red' style='font-size: 40px;'>Library  </font>"
   ]
  },
  {
   "cell_type": "code",
   "execution_count": 70,
   "metadata": {},
   "outputs": [],
   "source": [
    "# Convencionais\n",
    "import pandas as pd\n",
    "import numpy as np\n",
    "import matplotlib.pyplot as plt\n",
    "import seaborn as sns"
   ]
  },
  {
   "cell_type": "code",
   "execution_count": 71,
   "metadata": {},
   "outputs": [
    {
     "name": "stdout",
     "output_type": "stream",
     "text": [
      "(499940, 28)\n"
     ]
    },
    {
     "data": {
      "text/html": [
       "<div>\n",
       "<style scoped>\n",
       "    .dataframe tbody tr th:only-of-type {\n",
       "        vertical-align: middle;\n",
       "    }\n",
       "\n",
       "    .dataframe tbody tr th {\n",
       "        vertical-align: top;\n",
       "    }\n",
       "\n",
       "    .dataframe thead th {\n",
       "        text-align: right;\n",
       "    }\n",
       "</style>\n",
       "<table border=\"1\" class=\"dataframe\">\n",
       "  <thead>\n",
       "    <tr style=\"text-align: right;\">\n",
       "      <th></th>\n",
       "      <th>NU_INSCRICAO</th>\n",
       "      <th>NO_MUNICIPIO_RESIDENCIA</th>\n",
       "      <th>IDADE</th>\n",
       "      <th>SEXO</th>\n",
       "      <th>TP_ESTADO_CIVIL</th>\n",
       "      <th>RACA</th>\n",
       "      <th>TP_NACIONALIDADE</th>\n",
       "      <th>TP_ST_CONCLUSAO</th>\n",
       "      <th>ESCOLA</th>\n",
       "      <th>CO_ESCOLA</th>\n",
       "      <th>...</th>\n",
       "      <th>NOTA_MT</th>\n",
       "      <th>TP_LINGUA</th>\n",
       "      <th>TP_STATUS_REDACAO</th>\n",
       "      <th>COMP1</th>\n",
       "      <th>COMP2</th>\n",
       "      <th>COMP3</th>\n",
       "      <th>COMP4</th>\n",
       "      <th>COMP5</th>\n",
       "      <th>NOTA_REDACAO</th>\n",
       "      <th>INTERNET</th>\n",
       "    </tr>\n",
       "  </thead>\n",
       "  <tbody>\n",
       "    <tr>\n",
       "      <th>0</th>\n",
       "      <td>1,90E+11</td>\n",
       "      <td>Santa Isabel</td>\n",
       "      <td>22</td>\n",
       "      <td>M</td>\n",
       "      <td>1</td>\n",
       "      <td>parda</td>\n",
       "      <td>1</td>\n",
       "      <td>1</td>\n",
       "      <td>não_respondeu</td>\n",
       "      <td>NaN</td>\n",
       "      <td>...</td>\n",
       "      <td>600.2</td>\n",
       "      <td>Inglês</td>\n",
       "      <td>1.0</td>\n",
       "      <td>160.0</td>\n",
       "      <td>200.0</td>\n",
       "      <td>180.0</td>\n",
       "      <td>200.0</td>\n",
       "      <td>200.0</td>\n",
       "      <td>940.0</td>\n",
       "      <td>Sim</td>\n",
       "    </tr>\n",
       "    <tr>\n",
       "      <th>1</th>\n",
       "      <td>1,90E+11</td>\n",
       "      <td>São Paulo</td>\n",
       "      <td>17</td>\n",
       "      <td>F</td>\n",
       "      <td>1</td>\n",
       "      <td>parda</td>\n",
       "      <td>1</td>\n",
       "      <td>2</td>\n",
       "      <td>privada</td>\n",
       "      <td>15567761.0</td>\n",
       "      <td>...</td>\n",
       "      <td>731.8</td>\n",
       "      <td>Inglês</td>\n",
       "      <td>1.0</td>\n",
       "      <td>160.0</td>\n",
       "      <td>120.0</td>\n",
       "      <td>200.0</td>\n",
       "      <td>200.0</td>\n",
       "      <td>200.0</td>\n",
       "      <td>880.0</td>\n",
       "      <td>Não</td>\n",
       "    </tr>\n",
       "    <tr>\n",
       "      <th>2</th>\n",
       "      <td>1,90E+11</td>\n",
       "      <td>São Bernardo do Campo</td>\n",
       "      <td>19</td>\n",
       "      <td>M</td>\n",
       "      <td>1</td>\n",
       "      <td>parda</td>\n",
       "      <td>1</td>\n",
       "      <td>2</td>\n",
       "      <td>pública</td>\n",
       "      <td>35904958.0</td>\n",
       "      <td>...</td>\n",
       "      <td>393.2</td>\n",
       "      <td>Espanhol</td>\n",
       "      <td>1.0</td>\n",
       "      <td>80.0</td>\n",
       "      <td>160.0</td>\n",
       "      <td>120.0</td>\n",
       "      <td>100.0</td>\n",
       "      <td>100.0</td>\n",
       "      <td>560.0</td>\n",
       "      <td>Sim</td>\n",
       "    </tr>\n",
       "    <tr>\n",
       "      <th>3</th>\n",
       "      <td>1,90E+11</td>\n",
       "      <td>Embu-Guaçu</td>\n",
       "      <td>17</td>\n",
       "      <td>F</td>\n",
       "      <td>1</td>\n",
       "      <td>parda</td>\n",
       "      <td>1</td>\n",
       "      <td>2</td>\n",
       "      <td>pública</td>\n",
       "      <td>NaN</td>\n",
       "      <td>...</td>\n",
       "      <td>419.2</td>\n",
       "      <td>Inglês</td>\n",
       "      <td>1.0</td>\n",
       "      <td>120.0</td>\n",
       "      <td>120.0</td>\n",
       "      <td>120.0</td>\n",
       "      <td>120.0</td>\n",
       "      <td>80.0</td>\n",
       "      <td>560.0</td>\n",
       "      <td>Sim</td>\n",
       "    </tr>\n",
       "    <tr>\n",
       "      <th>4</th>\n",
       "      <td>1,90E+11</td>\n",
       "      <td>Guarulhos</td>\n",
       "      <td>23</td>\n",
       "      <td>F</td>\n",
       "      <td>1</td>\n",
       "      <td>branca</td>\n",
       "      <td>1</td>\n",
       "      <td>1</td>\n",
       "      <td>não_respondeu</td>\n",
       "      <td>NaN</td>\n",
       "      <td>...</td>\n",
       "      <td>796.1</td>\n",
       "      <td>Inglês</td>\n",
       "      <td>1.0</td>\n",
       "      <td>160.0</td>\n",
       "      <td>200.0</td>\n",
       "      <td>180.0</td>\n",
       "      <td>180.0</td>\n",
       "      <td>160.0</td>\n",
       "      <td>880.0</td>\n",
       "      <td>Sim</td>\n",
       "    </tr>\n",
       "  </tbody>\n",
       "</table>\n",
       "<p>5 rows × 28 columns</p>\n",
       "</div>"
      ],
      "text/plain": [
       "  NU_INSCRICAO NO_MUNICIPIO_RESIDENCIA  IDADE SEXO  TP_ESTADO_CIVIL    RACA  \\\n",
       "0     1,90E+11            Santa Isabel     22    M                1   parda   \n",
       "1     1,90E+11               São Paulo     17    F                1   parda   \n",
       "2     1,90E+11   São Bernardo do Campo     19    M                1   parda   \n",
       "3     1,90E+11              Embu-Guaçu     17    F                1   parda   \n",
       "4     1,90E+11               Guarulhos     23    F                1  branca   \n",
       "\n",
       "   TP_NACIONALIDADE  TP_ST_CONCLUSAO         ESCOLA   CO_ESCOLA  ... NOTA_MT  \\\n",
       "0                 1                1  não_respondeu         NaN  ...   600.2   \n",
       "1                 1                2        privada  15567761.0  ...   731.8   \n",
       "2                 1                2        pública  35904958.0  ...   393.2   \n",
       "3                 1                2        pública         NaN  ...   419.2   \n",
       "4                 1                1  não_respondeu         NaN  ...   796.1   \n",
       "\n",
       "   TP_LINGUA  TP_STATUS_REDACAO  COMP1  COMP2  COMP3  COMP4  COMP5  \\\n",
       "0     Inglês                1.0  160.0  200.0  180.0  200.0  200.0   \n",
       "1     Inglês                1.0  160.0  120.0  200.0  200.0  200.0   \n",
       "2   Espanhol                1.0   80.0  160.0  120.0  100.0  100.0   \n",
       "3     Inglês                1.0  120.0  120.0  120.0  120.0   80.0   \n",
       "4     Inglês                1.0  160.0  200.0  180.0  180.0  160.0   \n",
       "\n",
       "   NOTA_REDACAO INTERNET  \n",
       "0         940.0      Sim  \n",
       "1         880.0      Não  \n",
       "2         560.0      Sim  \n",
       "3         560.0      Sim  \n",
       "4         880.0      Sim  \n",
       "\n",
       "[5 rows x 28 columns]"
      ]
     },
     "execution_count": 71,
     "metadata": {},
     "output_type": "execute_result"
    }
   ],
   "source": [
    "enem_sp = pd.read_csv('enem_2019_tratado.csv', encoding='iso-8859-1')\n",
    "print(enem_sp.shape)\n",
    "enem_sp.head()"
   ]
  },
  {
   "cell_type": "markdown",
   "metadata": {},
   "source": [
    "# <font color='red' style='font-size: 40px;'>1.0) Variáveis </font>"
   ]
  },
  {
   "cell_type": "markdown",
   "metadata": {},
   "source": [
    "> CONSULTAR: \n",
    "\n",
    "https://www.youtube.com/watch?v=J9WCaMQJeaY&list=PLDoqBsM6cBJaF_1v5o_svUOaKo_fMZ2mt&index=13&ab_channel=R%2CEstat%C3%ADsticaeAprendizadodeM%C3%A1quina"
   ]
  },
  {
   "cell_type": "markdown",
   "metadata": {},
   "source": [
    "### 1.1) Tipos de Variáveis \n",
    "    \n",
    ">A. Qualitavias - Categórias\n",
    "\n",
    "        1. Ordinais: categorias com Hierarquia. (Ex: Classificação de Filmes mais Assistidos, Grau de Escolaridade, Nível de Satisfação...)\n",
    "        2. Nominais: categorias sem Hierarquia. (Ex: Cor, Gênero, Raça, Títulos...)\n",
    "        \n",
    "        \n",
    ">B. Quantiativas - Numéricas\n",
    "    \n",
    "        1. Discretas: Valores inteiros ou enumeráveis, os quais são fixos e correspondem a um intervalo. (Ex: quantidade de pessoas numa sala, número de carros em um estacionamento...)\n",
    "        2. Contínuas: Valores reais, podendo assumir qualquer intervalo. (Ex: Renda, Tempo, Altura...)\n",
    "\n",
    "<img src='https://caelum-online-public.s3.amazonaws.com/1177-estatistica-parte1/01/img001.png' width='70%'>"
   ]
  },
  {
   "cell_type": "markdown",
   "metadata": {},
   "source": [
    "# <font color='red' style='font-size: 40px;'>2.0) População e Amostras </font>"
   ]
  },
  {
   "cell_type": "code",
   "execution_count": 72,
   "metadata": {},
   "outputs": [],
   "source": [
    "enem_campinas = enem_sp.loc[enem_sp['NO_MUNICIPIO_RESIDENCIA'] == 'Campinas']"
   ]
  },
  {
   "cell_type": "markdown",
   "metadata": {},
   "source": [
    "### 2.1) O que é População e Amostra?\n",
    "\n",
    ">1. População é o alvo do estudo. Basicamente, é o grupo que desejamos concluir algo sobre. \n",
    "    \n",
    ">2. Amostras são parte de uma população, selecionada usando alguma técnica que dê chances iguais a todos os elementos da população de serem selecionados.\n",
    "    \n",
    ">3. Censo é uma pesquisa com toda a população.\n",
    "    \n",
    "    Exemplo: Em uma pesquisa eleitoral, a População é o Povo Brasileiro, ao passo que a Amostra são indíviduos que foram selecionados com as mesmas chances que outros. A partir dessa Amostra, aplicamos Inferências para concluir informações sobre a População, ao passo que a Amostra tem o objetivo de ser uma representação da População."
   ]
  },
  {
   "cell_type": "markdown",
   "metadata": {},
   "source": [
    "### 2.2) Observação e Experimento\n",
    "\n",
    ">1. Observação: Estudo em que os elementos analisados não são afetados (pesquisa)\n",
    "    \n",
    ">2. Experimentos: Condições ou tratamentos são impostas a grupos, para avaliar o resultado. Baseia-se em grupos, como por exemplo um Grupo de Teste A, Grupo de Teste B e Grupo de Controle. Nos dois primeiros a vacina será testada, ao passo que o de Controle não. Após isso, pode-se avaliar a eficácia de determinada vacina ou algo do tipo e determinar efeitos de causa e consequência (Teste A/B)."
   ]
  },
  {
   "cell_type": "markdown",
   "metadata": {},
   "source": [
    "### 2.3) Por que Utilizamos Amostras e realizamos Inferências?\n",
    "\n",
    ">Na maioria dos casos, extrair dados de toda uma População é extremamente cara ou impossível, logo, Técnicas de Amostragem são utilizadas para, se feita corretamente, representar as mesmas características da população de onde foi retirada.\n",
    "    \n",
    ">Caso ela não represente, dizemos que ela é enviesada."
   ]
  },
  {
   "cell_type": "markdown",
   "metadata": {},
   "source": [
    "### 2.4) Preços e Riscos da Amostragem\n",
    "\n",
    ">Quando trabalha-se com Amostras e Inferência, espera-se que exista uma variação em relação a População. Essa variação não pode ser alta."
   ]
  },
  {
   "cell_type": "markdown",
   "metadata": {},
   "source": [
    "### 2.5|) Enviesamento\n",
    "\n",
    ">1. O que é: O Enviesamento ocorre quando subestimamos ou superestimamos o parâmetro da população.\n",
    "    \n",
    ">2. Causas: Pesquisa de pessoas próximas ou de fácil acesso, Pesquisas pela Internet, Não utilização de Mecanismos de Aleatoridade."
   ]
  },
  {
   "cell_type": "markdown",
   "metadata": {},
   "source": [
    "### 2.6) Principais Tipos de Amostras\n",
    "\n",
    ">Podem ser:\n",
    "        \n",
    "            A) Com Reposição: Um indivíduo selecionado para a Amostra é colocado de volta na população e volta a ter as mesmas chances de todo o resto da População. Ex: Testar se uma pessoa tem a Doença. Pode ser que na primeira Amostra ela não tenha a doença, mas em uma Amostra futura ela tenha pois a contraiu.\n",
    "            \n",
    "            B) Sem Reposição: Um indíviduo selecionado para a Amostra não faz mais parte da População, logo, não tem mais chance de ser selecionado novamente. Ex: Determinar o voto de uma pessoa, ao passo que não faz sentido coletarmos a opinião da mesma pessoa 2x.\n",
    "\n",
    "#### <font color=green>2.1.1) Amostragem Aleatória Simples</font>\n",
    "***\n",
    "    \n",
    ">1. Todos os elementos da população alvo do processo de amostragem, devem ter as mesmas chances de serem selecionados para fazerem parte da Amostra.\n",
    "\n",
    "    \n",
    "#### <font color=green>2.1.2) Amostragem Estratificada</font>\n",
    "***\n",
    "\n",
    ">1. É uma melhoria do processo de amostragem aleatória simples. Neste método é proposta a divisão da população em subgrupos de elementos com características similares, ou seja, grupos mais homogêneos. Com estes subgrupos separados, aplica-se a técnica de amostragem aleatória simples dentro de cada subgrupo individualmente.\n",
    "\n",
    ">2. As vezes as populações estão divididas nos chamados estratos, as quais são como se fossem Classes Categóricas como Sexo, Raça, etc.\n",
    "    \n",
    ">3. Nesse tipo de Amostragem, desejamos ter representações de Amostras para cada um desses Estratos, portanto, ela é uma Amostra Estratificada\n",
    "\n",
    "\n",
    "    \n",
    "    \n",
    "#### <font color=green>2.1.3) Amostragem por Conglomerados</font>\n",
    "\n",
    ">1. Também visa melhorar o critério de amostragem aleatória simples. Na amostragem por conglomerados são também criados subgrupos, porém não serão homogêneas como na amostragem estratificada. Na amostragem por conglomerados os subgrupos serão similares, mas heterogêneos; onde, em seguida, serão aplicadas a amostragem aleatória simples ou estratificada.\n",
    "    \n",
    ">2. Um exemplo bastante comum de aplicação deste tipo de técnica é na divisão da população em grupos territoriais, onde os elementos investigados terão características bastante variadas.\n",
    "\n",
    "\n",
    "#### <font color=green>2.1.4) Amostragem Sistemática</font>\n",
    "***\n",
    ">1. Nesse tipo de Amostragem, é escolhido um elemento aleatório, e a partir daí, a cada N elementos um novo membro é escolhido.\n",
    "    \n",
    ">2. Por exemplo, supondo que escolhemos, aleatoriamente, o Indivíduo Número 5. Após 5 Próximos Indivíduos, colocaríamos em nossa Amostra o Indivíduo Número 10, e assim sucessivamente.\n",
    "    \n",
    ">3. Muito utilizada quando não sabe-se o tamanho da População, fazendo assim uma Amostra Sistemática"
   ]
  },
  {
   "cell_type": "markdown",
   "metadata": {},
   "source": [
    "* Amostragem Simples"
   ]
  },
  {
   "cell_type": "code",
   "execution_count": 73,
   "metadata": {},
   "outputs": [
    {
     "name": "stdout",
     "output_type": "stream",
     "text": [
      "(2640, 28)\n"
     ]
    }
   ],
   "source": [
    "# Sample\n",
    "np.random.seed(1)\n",
    "amos_simples = enem_campinas.sample(frac = 0.20)\n",
    "print(amos_simples.shape)\n"
   ]
  },
  {
   "cell_type": "markdown",
   "metadata": {},
   "source": [
    "* Amostragem Sistemática"
   ]
  },
  {
   "cell_type": "code",
   "execution_count": 74,
   "metadata": {},
   "outputs": [
    {
     "name": "stdout",
     "output_type": "stream",
     "text": [
      "[  8 108 208 308 408]\n"
     ]
    },
    {
     "data": {
      "text/html": [
       "<div>\n",
       "<style scoped>\n",
       "    .dataframe tbody tr th:only-of-type {\n",
       "        vertical-align: middle;\n",
       "    }\n",
       "\n",
       "    .dataframe tbody tr th {\n",
       "        vertical-align: top;\n",
       "    }\n",
       "\n",
       "    .dataframe thead th {\n",
       "        text-align: right;\n",
       "    }\n",
       "</style>\n",
       "<table border=\"1\" class=\"dataframe\">\n",
       "  <thead>\n",
       "    <tr style=\"text-align: right;\">\n",
       "      <th></th>\n",
       "      <th>NU_INSCRICAO</th>\n",
       "      <th>NO_MUNICIPIO_RESIDENCIA</th>\n",
       "      <th>IDADE</th>\n",
       "      <th>SEXO</th>\n",
       "      <th>TP_ESTADO_CIVIL</th>\n",
       "      <th>RACA</th>\n",
       "      <th>TP_NACIONALIDADE</th>\n",
       "      <th>TP_ST_CONCLUSAO</th>\n",
       "      <th>ESCOLA</th>\n",
       "      <th>CO_ESCOLA</th>\n",
       "      <th>...</th>\n",
       "      <th>NOTA_MT</th>\n",
       "      <th>TP_LINGUA</th>\n",
       "      <th>TP_STATUS_REDACAO</th>\n",
       "      <th>COMP1</th>\n",
       "      <th>COMP2</th>\n",
       "      <th>COMP3</th>\n",
       "      <th>COMP4</th>\n",
       "      <th>COMP5</th>\n",
       "      <th>NOTA_REDACAO</th>\n",
       "      <th>INTERNET</th>\n",
       "    </tr>\n",
       "  </thead>\n",
       "  <tbody>\n",
       "    <tr>\n",
       "      <th>401</th>\n",
       "      <td>1,90E+11</td>\n",
       "      <td>Campinas</td>\n",
       "      <td>18</td>\n",
       "      <td>F</td>\n",
       "      <td>1</td>\n",
       "      <td>branca</td>\n",
       "      <td>1</td>\n",
       "      <td>1</td>\n",
       "      <td>não_respondeu</td>\n",
       "      <td>NaN</td>\n",
       "      <td>...</td>\n",
       "      <td>68.6</td>\n",
       "      <td>Inglês</td>\n",
       "      <td>1.0</td>\n",
       "      <td>160.0</td>\n",
       "      <td>160.0</td>\n",
       "      <td>180.0</td>\n",
       "      <td>160.0</td>\n",
       "      <td>200.0</td>\n",
       "      <td>860.0</td>\n",
       "      <td>Sim</td>\n",
       "    </tr>\n",
       "    <tr>\n",
       "      <th>5079</th>\n",
       "      <td>1,90E+11</td>\n",
       "      <td>Campinas</td>\n",
       "      <td>18</td>\n",
       "      <td>F</td>\n",
       "      <td>1</td>\n",
       "      <td>branca</td>\n",
       "      <td>1</td>\n",
       "      <td>2</td>\n",
       "      <td>pública</td>\n",
       "      <td>35018855.0</td>\n",
       "      <td>...</td>\n",
       "      <td>419.9</td>\n",
       "      <td>Inglês</td>\n",
       "      <td>1.0</td>\n",
       "      <td>140.0</td>\n",
       "      <td>120.0</td>\n",
       "      <td>120.0</td>\n",
       "      <td>120.0</td>\n",
       "      <td>140.0</td>\n",
       "      <td>640.0</td>\n",
       "      <td>Sim</td>\n",
       "    </tr>\n",
       "    <tr>\n",
       "      <th>9218</th>\n",
       "      <td>1,90E+11</td>\n",
       "      <td>Campinas</td>\n",
       "      <td>19</td>\n",
       "      <td>F</td>\n",
       "      <td>1</td>\n",
       "      <td>branca</td>\n",
       "      <td>1</td>\n",
       "      <td>1</td>\n",
       "      <td>não_respondeu</td>\n",
       "      <td>NaN</td>\n",
       "      <td>...</td>\n",
       "      <td>617.1</td>\n",
       "      <td>Inglês</td>\n",
       "      <td>1.0</td>\n",
       "      <td>120.0</td>\n",
       "      <td>120.0</td>\n",
       "      <td>120.0</td>\n",
       "      <td>120.0</td>\n",
       "      <td>120.0</td>\n",
       "      <td>600.0</td>\n",
       "      <td>Sim</td>\n",
       "    </tr>\n",
       "    <tr>\n",
       "      <th>13685</th>\n",
       "      <td>1,90E+11</td>\n",
       "      <td>Campinas</td>\n",
       "      <td>20</td>\n",
       "      <td>M</td>\n",
       "      <td>1</td>\n",
       "      <td>parda</td>\n",
       "      <td>1</td>\n",
       "      <td>1</td>\n",
       "      <td>não_respondeu</td>\n",
       "      <td>NaN</td>\n",
       "      <td>...</td>\n",
       "      <td>576.4</td>\n",
       "      <td>Inglês</td>\n",
       "      <td>1.0</td>\n",
       "      <td>160.0</td>\n",
       "      <td>200.0</td>\n",
       "      <td>180.0</td>\n",
       "      <td>200.0</td>\n",
       "      <td>180.0</td>\n",
       "      <td>920.0</td>\n",
       "      <td>Sim</td>\n",
       "    </tr>\n",
       "    <tr>\n",
       "      <th>18239</th>\n",
       "      <td>1,90E+11</td>\n",
       "      <td>Campinas</td>\n",
       "      <td>20</td>\n",
       "      <td>M</td>\n",
       "      <td>1</td>\n",
       "      <td>branca</td>\n",
       "      <td>1</td>\n",
       "      <td>1</td>\n",
       "      <td>não_respondeu</td>\n",
       "      <td>NaN</td>\n",
       "      <td>...</td>\n",
       "      <td>796.2</td>\n",
       "      <td>Inglês</td>\n",
       "      <td>1.0</td>\n",
       "      <td>160.0</td>\n",
       "      <td>200.0</td>\n",
       "      <td>200.0</td>\n",
       "      <td>200.0</td>\n",
       "      <td>200.0</td>\n",
       "      <td>960.0</td>\n",
       "      <td>Sim</td>\n",
       "    </tr>\n",
       "  </tbody>\n",
       "</table>\n",
       "<p>5 rows × 28 columns</p>\n",
       "</div>"
      ],
      "text/plain": [
       "      NU_INSCRICAO NO_MUNICIPIO_RESIDENCIA  IDADE SEXO  TP_ESTADO_CIVIL  \\\n",
       "401       1,90E+11                Campinas     18    F                1   \n",
       "5079      1,90E+11                Campinas     18    F                1   \n",
       "9218      1,90E+11                Campinas     19    F                1   \n",
       "13685     1,90E+11                Campinas     20    M                1   \n",
       "18239     1,90E+11                Campinas     20    M                1   \n",
       "\n",
       "         RACA  TP_NACIONALIDADE  TP_ST_CONCLUSAO         ESCOLA   CO_ESCOLA  \\\n",
       "401    branca                 1                1  não_respondeu         NaN   \n",
       "5079   branca                 1                2        pública  35018855.0   \n",
       "9218   branca                 1                1  não_respondeu         NaN   \n",
       "13685   parda                 1                1  não_respondeu         NaN   \n",
       "18239  branca                 1                1  não_respondeu         NaN   \n",
       "\n",
       "       ... NOTA_MT  TP_LINGUA  TP_STATUS_REDACAO  COMP1  COMP2  COMP3  COMP4  \\\n",
       "401    ...    68.6     Inglês                1.0  160.0  160.0  180.0  160.0   \n",
       "5079   ...   419.9     Inglês                1.0  140.0  120.0  120.0  120.0   \n",
       "9218   ...   617.1     Inglês                1.0  120.0  120.0  120.0  120.0   \n",
       "13685  ...   576.4     Inglês                1.0  160.0  200.0  180.0  200.0   \n",
       "18239  ...   796.2     Inglês                1.0  160.0  200.0  200.0  200.0   \n",
       "\n",
       "       COMP5  NOTA_REDACAO INTERNET  \n",
       "401    200.0         860.0      Sim  \n",
       "5079   140.0         640.0      Sim  \n",
       "9218   120.0         600.0      Sim  \n",
       "13685  180.0         920.0      Sim  \n",
       "18239  200.0         960.0      Sim  \n",
       "\n",
       "[5 rows x 28 columns]"
      ]
     },
     "execution_count": 74,
     "metadata": {},
     "output_type": "execute_result"
    }
   ],
   "source": [
    "np.random.seed(2)\n",
    "\n",
    "inicio = np.random.choice(10, 1) # Seleciona um número aleatório de 0 a 10, mas apenas 1 número\n",
    "\n",
    "amostra2 = np.arange(inicio, 13198, 100)\n",
    "print(amostra2[:5])\n",
    "\n",
    "amos_sistematica = enem_campinas.iloc[amostra2, :]\n",
    "amos_sistematica.head()\n",
    "\n"
   ]
  },
  {
   "cell_type": "code",
   "execution_count": 75,
   "metadata": {},
   "outputs": [
    {
     "name": "stdout",
     "output_type": "stream",
     "text": [
      "[115]\n",
      "[  8 123 238 353 468]\n"
     ]
    },
    {
     "data": {
      "text/html": [
       "<div>\n",
       "<style scoped>\n",
       "    .dataframe tbody tr th:only-of-type {\n",
       "        vertical-align: middle;\n",
       "    }\n",
       "\n",
       "    .dataframe tbody tr th {\n",
       "        vertical-align: top;\n",
       "    }\n",
       "\n",
       "    .dataframe thead th {\n",
       "        text-align: right;\n",
       "    }\n",
       "</style>\n",
       "<table border=\"1\" class=\"dataframe\">\n",
       "  <thead>\n",
       "    <tr style=\"text-align: right;\">\n",
       "      <th></th>\n",
       "      <th>NU_INSCRICAO</th>\n",
       "      <th>NO_MUNICIPIO_RESIDENCIA</th>\n",
       "      <th>IDADE</th>\n",
       "      <th>SEXO</th>\n",
       "      <th>TP_ESTADO_CIVIL</th>\n",
       "      <th>RACA</th>\n",
       "      <th>TP_NACIONALIDADE</th>\n",
       "      <th>TP_ST_CONCLUSAO</th>\n",
       "      <th>ESCOLA</th>\n",
       "      <th>CO_ESCOLA</th>\n",
       "      <th>...</th>\n",
       "      <th>NOTA_MT</th>\n",
       "      <th>TP_LINGUA</th>\n",
       "      <th>TP_STATUS_REDACAO</th>\n",
       "      <th>COMP1</th>\n",
       "      <th>COMP2</th>\n",
       "      <th>COMP3</th>\n",
       "      <th>COMP4</th>\n",
       "      <th>COMP5</th>\n",
       "      <th>NOTA_REDACAO</th>\n",
       "      <th>INTERNET</th>\n",
       "    </tr>\n",
       "  </thead>\n",
       "  <tbody>\n",
       "    <tr>\n",
       "      <th>401</th>\n",
       "      <td>1,90E+11</td>\n",
       "      <td>Campinas</td>\n",
       "      <td>18</td>\n",
       "      <td>F</td>\n",
       "      <td>1</td>\n",
       "      <td>branca</td>\n",
       "      <td>1</td>\n",
       "      <td>1</td>\n",
       "      <td>não_respondeu</td>\n",
       "      <td>NaN</td>\n",
       "      <td>...</td>\n",
       "      <td>68.6</td>\n",
       "      <td>Inglês</td>\n",
       "      <td>1.0</td>\n",
       "      <td>160.0</td>\n",
       "      <td>160.0</td>\n",
       "      <td>180.0</td>\n",
       "      <td>160.0</td>\n",
       "      <td>200.0</td>\n",
       "      <td>860.0</td>\n",
       "      <td>Sim</td>\n",
       "    </tr>\n",
       "    <tr>\n",
       "      <th>5738</th>\n",
       "      <td>1,90E+11</td>\n",
       "      <td>Campinas</td>\n",
       "      <td>38</td>\n",
       "      <td>F</td>\n",
       "      <td>1</td>\n",
       "      <td>preta</td>\n",
       "      <td>1</td>\n",
       "      <td>1</td>\n",
       "      <td>não_respondeu</td>\n",
       "      <td>NaN</td>\n",
       "      <td>...</td>\n",
       "      <td>407.9</td>\n",
       "      <td>Inglês</td>\n",
       "      <td>1.0</td>\n",
       "      <td>100.0</td>\n",
       "      <td>120.0</td>\n",
       "      <td>100.0</td>\n",
       "      <td>100.0</td>\n",
       "      <td>100.0</td>\n",
       "      <td>520.0</td>\n",
       "      <td>Não</td>\n",
       "    </tr>\n",
       "    <tr>\n",
       "      <th>10378</th>\n",
       "      <td>1,90E+11</td>\n",
       "      <td>Campinas</td>\n",
       "      <td>22</td>\n",
       "      <td>F</td>\n",
       "      <td>1</td>\n",
       "      <td>branca</td>\n",
       "      <td>1</td>\n",
       "      <td>1</td>\n",
       "      <td>não_respondeu</td>\n",
       "      <td>NaN</td>\n",
       "      <td>...</td>\n",
       "      <td>403.5</td>\n",
       "      <td>Espanhol</td>\n",
       "      <td>1.0</td>\n",
       "      <td>120.0</td>\n",
       "      <td>140.0</td>\n",
       "      <td>120.0</td>\n",
       "      <td>120.0</td>\n",
       "      <td>0.0</td>\n",
       "      <td>500.0</td>\n",
       "      <td>Sim</td>\n",
       "    </tr>\n",
       "    <tr>\n",
       "      <th>15235</th>\n",
       "      <td>1,90E+11</td>\n",
       "      <td>Campinas</td>\n",
       "      <td>17</td>\n",
       "      <td>F</td>\n",
       "      <td>1</td>\n",
       "      <td>branca</td>\n",
       "      <td>1</td>\n",
       "      <td>2</td>\n",
       "      <td>privada</td>\n",
       "      <td>NaN</td>\n",
       "      <td>...</td>\n",
       "      <td>723.3</td>\n",
       "      <td>Inglês</td>\n",
       "      <td>1.0</td>\n",
       "      <td>160.0</td>\n",
       "      <td>180.0</td>\n",
       "      <td>180.0</td>\n",
       "      <td>200.0</td>\n",
       "      <td>180.0</td>\n",
       "      <td>900.0</td>\n",
       "      <td>Sim</td>\n",
       "    </tr>\n",
       "    <tr>\n",
       "      <th>19932</th>\n",
       "      <td>1,90E+11</td>\n",
       "      <td>Campinas</td>\n",
       "      <td>17</td>\n",
       "      <td>F</td>\n",
       "      <td>1</td>\n",
       "      <td>branca</td>\n",
       "      <td>1</td>\n",
       "      <td>2</td>\n",
       "      <td>pública</td>\n",
       "      <td>35436012.0</td>\n",
       "      <td>...</td>\n",
       "      <td>51.3</td>\n",
       "      <td>Inglês</td>\n",
       "      <td>1.0</td>\n",
       "      <td>120.0</td>\n",
       "      <td>40.0</td>\n",
       "      <td>40.0</td>\n",
       "      <td>100.0</td>\n",
       "      <td>0.0</td>\n",
       "      <td>300.0</td>\n",
       "      <td>Sim</td>\n",
       "    </tr>\n",
       "  </tbody>\n",
       "</table>\n",
       "<p>5 rows × 28 columns</p>\n",
       "</div>"
      ],
      "text/plain": [
       "      NU_INSCRICAO NO_MUNICIPIO_RESIDENCIA  IDADE SEXO  TP_ESTADO_CIVIL  \\\n",
       "401       1,90E+11                Campinas     18    F                1   \n",
       "5738      1,90E+11                Campinas     38    F                1   \n",
       "10378     1,90E+11                Campinas     22    F                1   \n",
       "15235     1,90E+11                Campinas     17    F                1   \n",
       "19932     1,90E+11                Campinas     17    F                1   \n",
       "\n",
       "         RACA  TP_NACIONALIDADE  TP_ST_CONCLUSAO         ESCOLA   CO_ESCOLA  \\\n",
       "401    branca                 1                1  não_respondeu         NaN   \n",
       "5738    preta                 1                1  não_respondeu         NaN   \n",
       "10378  branca                 1                1  não_respondeu         NaN   \n",
       "15235  branca                 1                2        privada         NaN   \n",
       "19932  branca                 1                2        pública  35436012.0   \n",
       "\n",
       "       ... NOTA_MT  TP_LINGUA  TP_STATUS_REDACAO  COMP1  COMP2  COMP3  COMP4  \\\n",
       "401    ...    68.6     Inglês                1.0  160.0  160.0  180.0  160.0   \n",
       "5738   ...   407.9     Inglês                1.0  100.0  120.0  100.0  100.0   \n",
       "10378  ...   403.5   Espanhol                1.0  120.0  140.0  120.0  120.0   \n",
       "15235  ...   723.3     Inglês                1.0  160.0  180.0  180.0  200.0   \n",
       "19932  ...    51.3     Inglês                1.0  120.0   40.0   40.0  100.0   \n",
       "\n",
       "       COMP5  NOTA_REDACAO INTERNET  \n",
       "401    200.0         860.0      Sim  \n",
       "5738   100.0         520.0      Não  \n",
       "10378    0.0         500.0      Sim  \n",
       "15235  180.0         900.0      Sim  \n",
       "19932    0.0         300.0      Sim  \n",
       "\n",
       "[5 rows x 28 columns]"
      ]
     },
     "execution_count": 75,
     "metadata": {},
     "output_type": "execute_result"
    }
   ],
   "source": [
    "# Com Passo aleatório\n",
    "\n",
    "np.random.seed(2)\n",
    "\n",
    "inicio = np.random.choice(10, 1) # Seleciona um número aleatório de 0 a 10, mas apenas 1 número\n",
    "passo = np.random.randint(100, 150, 1)\n",
    "print(passo)\n",
    "\n",
    "amostra2 = np.arange(inicio, 13198, passo)\n",
    "print(amostra2[:5])\n",
    "\n",
    "amos_sistematica = enem_campinas.iloc[amostra2, :]\n",
    "amos_sistematica.head()"
   ]
  },
  {
   "cell_type": "markdown",
   "metadata": {},
   "source": [
    "* Amostragem Estratificada"
   ]
  },
  {
   "cell_type": "code",
   "execution_count": 76,
   "metadata": {},
   "outputs": [
    {
     "name": "stdout",
     "output_type": "stream",
     "text": [
      "(1126, 28)\n",
      "(548, 28)\n",
      "(226, 28)\n",
      "(42, 28)\n",
      "(31, 28)\n",
      "(7, 28)\n",
      "(1980, 28)\n"
     ]
    }
   ],
   "source": [
    "# Quantidade Pequena de Grupos\n",
    "\n",
    "branca = enem_campinas.loc[enem_campinas.RACA == 'branca'].sample(frac=0.15)\n",
    "print(branca.shape)\n",
    "\n",
    "parda = enem_campinas.loc[enem_campinas.RACA == 'parda'].sample(frac=0.15)\n",
    "print(parda.shape)\n",
    "\n",
    "preta = enem_campinas.loc[enem_campinas.RACA == 'preta'].sample(frac=0.15)\n",
    "print(preta.shape)\n",
    "\n",
    "amarela = enem_campinas.loc[enem_campinas.RACA == 'amarela'].sample(frac=0.15)\n",
    "print(amarela.shape)\n",
    "\n",
    "nao_declarado = enem_campinas.loc[enem_campinas.RACA == 'nao_declarado'].sample(frac=0.15)\n",
    "print(nao_declarado.shape)\n",
    "\n",
    "indigena = enem_campinas.loc[enem_campinas.RACA == 'indigena'].sample(frac=0.15)\n",
    "print(indigena.shape)\n",
    "\n",
    "amos_estra = pd.concat([branca, parda, preta, amarela, nao_declarado, indigena])\n",
    "print(amos_estra.shape)"
   ]
  },
  {
   "cell_type": "code",
   "execution_count": 77,
   "metadata": {},
   "outputs": [
    {
     "name": "stdout",
     "output_type": "stream",
     "text": [
      "(1980,)\n"
     ]
    },
    {
     "data": {
      "text/html": [
       "<div>\n",
       "<style scoped>\n",
       "    .dataframe tbody tr th:only-of-type {\n",
       "        vertical-align: middle;\n",
       "    }\n",
       "\n",
       "    .dataframe tbody tr th {\n",
       "        vertical-align: top;\n",
       "    }\n",
       "\n",
       "    .dataframe thead th {\n",
       "        text-align: right;\n",
       "    }\n",
       "</style>\n",
       "<table border=\"1\" class=\"dataframe\">\n",
       "  <thead>\n",
       "    <tr style=\"text-align: right;\">\n",
       "      <th></th>\n",
       "      <th>NU_INSCRICAO</th>\n",
       "      <th>NO_MUNICIPIO_RESIDENCIA</th>\n",
       "      <th>IDADE</th>\n",
       "      <th>SEXO</th>\n",
       "      <th>TP_ESTADO_CIVIL</th>\n",
       "      <th>RACA</th>\n",
       "      <th>TP_NACIONALIDADE</th>\n",
       "      <th>TP_ST_CONCLUSAO</th>\n",
       "      <th>ESCOLA</th>\n",
       "      <th>CO_ESCOLA</th>\n",
       "      <th>...</th>\n",
       "      <th>NOTA_MT</th>\n",
       "      <th>TP_LINGUA</th>\n",
       "      <th>TP_STATUS_REDACAO</th>\n",
       "      <th>COMP1</th>\n",
       "      <th>COMP2</th>\n",
       "      <th>COMP3</th>\n",
       "      <th>COMP4</th>\n",
       "      <th>COMP5</th>\n",
       "      <th>NOTA_REDACAO</th>\n",
       "      <th>INTERNET</th>\n",
       "    </tr>\n",
       "  </thead>\n",
       "  <tbody>\n",
       "    <tr>\n",
       "      <th>493707</th>\n",
       "      <td>1,90E+11</td>\n",
       "      <td>Campinas</td>\n",
       "      <td>17</td>\n",
       "      <td>F</td>\n",
       "      <td>1</td>\n",
       "      <td>branca</td>\n",
       "      <td>1</td>\n",
       "      <td>2</td>\n",
       "      <td>privada</td>\n",
       "      <td>35118084.0</td>\n",
       "      <td>...</td>\n",
       "      <td>398.8</td>\n",
       "      <td>Inglês</td>\n",
       "      <td>1.0</td>\n",
       "      <td>120.0</td>\n",
       "      <td>100.0</td>\n",
       "      <td>120.0</td>\n",
       "      <td>120.0</td>\n",
       "      <td>100.0</td>\n",
       "      <td>560.0</td>\n",
       "      <td>Sim</td>\n",
       "    </tr>\n",
       "    <tr>\n",
       "      <th>318544</th>\n",
       "      <td>1,90E+11</td>\n",
       "      <td>Campinas</td>\n",
       "      <td>19</td>\n",
       "      <td>F</td>\n",
       "      <td>1</td>\n",
       "      <td>parda</td>\n",
       "      <td>1</td>\n",
       "      <td>1</td>\n",
       "      <td>não_respondeu</td>\n",
       "      <td>NaN</td>\n",
       "      <td>...</td>\n",
       "      <td>396.9</td>\n",
       "      <td>Inglês</td>\n",
       "      <td>1.0</td>\n",
       "      <td>120.0</td>\n",
       "      <td>120.0</td>\n",
       "      <td>120.0</td>\n",
       "      <td>100.0</td>\n",
       "      <td>80.0</td>\n",
       "      <td>540.0</td>\n",
       "      <td>Sim</td>\n",
       "    </tr>\n",
       "    <tr>\n",
       "      <th>144385</th>\n",
       "      <td>1,90E+11</td>\n",
       "      <td>Campinas</td>\n",
       "      <td>19</td>\n",
       "      <td>M</td>\n",
       "      <td>1</td>\n",
       "      <td>branca</td>\n",
       "      <td>1</td>\n",
       "      <td>1</td>\n",
       "      <td>não_respondeu</td>\n",
       "      <td>NaN</td>\n",
       "      <td>...</td>\n",
       "      <td>672.2</td>\n",
       "      <td>Inglês</td>\n",
       "      <td>1.0</td>\n",
       "      <td>120.0</td>\n",
       "      <td>120.0</td>\n",
       "      <td>120.0</td>\n",
       "      <td>160.0</td>\n",
       "      <td>100.0</td>\n",
       "      <td>620.0</td>\n",
       "      <td>Sim</td>\n",
       "    </tr>\n",
       "  </tbody>\n",
       "</table>\n",
       "<p>3 rows × 28 columns</p>\n",
       "</div>"
      ],
      "text/plain": [
       "       NU_INSCRICAO NO_MUNICIPIO_RESIDENCIA  IDADE SEXO  TP_ESTADO_CIVIL  \\\n",
       "493707     1,90E+11                Campinas     17    F                1   \n",
       "318544     1,90E+11                Campinas     19    F                1   \n",
       "144385     1,90E+11                Campinas     19    M                1   \n",
       "\n",
       "          RACA  TP_NACIONALIDADE  TP_ST_CONCLUSAO         ESCOLA   CO_ESCOLA  \\\n",
       "493707  branca                 1                2        privada  35118084.0   \n",
       "318544   parda                 1                1  não_respondeu         NaN   \n",
       "144385  branca                 1                1  não_respondeu         NaN   \n",
       "\n",
       "        ... NOTA_MT  TP_LINGUA  TP_STATUS_REDACAO  COMP1  COMP2  COMP3  COMP4  \\\n",
       "493707  ...   398.8     Inglês                1.0  120.0  100.0  120.0  120.0   \n",
       "318544  ...   396.9     Inglês                1.0  120.0  120.0  120.0  100.0   \n",
       "144385  ...   672.2     Inglês                1.0  120.0  120.0  120.0  160.0   \n",
       "\n",
       "        COMP5  NOTA_REDACAO INTERNET  \n",
       "493707  100.0         560.0      Sim  \n",
       "318544   80.0         540.0      Sim  \n",
       "144385  100.0         620.0      Sim  \n",
       "\n",
       "[3 rows x 28 columns]"
      ]
     },
     "execution_count": 77,
     "metadata": {},
     "output_type": "execute_result"
    }
   ],
   "source": [
    "# Grandes Quantidades de Grupos\n",
    "from sklearn.model_selection import train_test_split\n",
    "x = enem_campinas.drop('RACA', axis = 1)\n",
    "y = enem_campinas['RACA']\n",
    "\n",
    "x_train, x_test, y_train, y_test = train_test_split(x, y, stratify = y, test_size = 0.15)\n",
    "\n",
    "print(y_test.shape)\n",
    "\n",
    "y_test.index\n",
    "amos_estra = enem_campinas.loc[y_test.index, :]\n",
    "amos_estra.head(3)"
   ]
  },
  {
   "cell_type": "markdown",
   "metadata": {},
   "source": [
    "# <font color='red' style='font-size: 40px;'> 3.0 Distribuição de Frequências </font>"
   ]
  },
  {
   "cell_type": "markdown",
   "metadata": {},
   "source": [
    "## Frequências e Distribuições de Frequências\n",
    "\n",
    "* Considerações:\n",
    "> 1. Frequência Absoluta: Quantidade de pessoas que tem determinada característica\n",
    "\n",
    "> 2. Frequência Relativa: Proporção de pessoas que tem determinada característica.\n",
    "\n",
    "> 3. Distribuição de Frequência: Uma distribuição de frequência nos fala quantas pessoas estão presentes em determinada classe.\n",
    "\n",
    "> 4. Lagura da Classe: A largura da classe é a distância entre classes. No exemplo, têm-se 7 classes e 6 distâncias entre classes.\n",
    "\n",
    "> 5. Amplitude: Amplitude é a diferença da entrada máxima pela entrada mínima. No exemplo, têm-se amplitude igual à 83 (90 - 7).\n",
    "\n",
    "> 6. Ponto médio: Ponto Médio é a soma do limite inferior com o superior dividido por 2.\n",
    "\n",
    "> 7. Frequência Acumulada: Soma das frequências relativas anteriores com a frequência da classe atual.\n",
    "\n",
    "<img src='./img1.png' width='70%'>\n",
    "\n",
    "* Histogramas:\n",
    "> 1. Histogramas: São representações gráficas de distribuições de frequência.\n",
    "\n",
    "<img src='./img2.png' width='70%'>\n",
    "<img src='./img196.png' width='70%'>\n",
    "\n",
    "* Polígonos de Frequência:\n",
    "\n",
    "> 1. Polígonos de Frequência: São novamente representações gráficas de distribuições de frequência, mas utilizam o ponto médio em sua construção.\n",
    "\n",
    "> 2. Note que no gráfico, a diferência entre cada valor do eixo X é 12. Após contruirmos o polígono com os valores de Ponto Médio e Frequência Absoluta, devemos fechá-lo nas extremidades subtraindo ou adicionando 12.\n",
    "\n",
    "<img src='./img3.png' width='70%'>\n",
    "\n",
    "* Ogiva:\n",
    "\n",
    "> 1. Ogivas:  São novamente representações gráficas de distribuições de frequência, mas utilizam a frequência acumulada em sua construção.\n",
    "\n",
    "<img src='./img4.png' width='70%'>\n",
    "\n",
    "* Gráfico de Pareto:\n",
    "\n",
    "> 1. Gráfico de Pareto: Utilizado para saber a pontuação de classes categóricas.\n",
    "\n",
    "<img src='./img5.png' width='70%'>"
   ]
  },
  {
   "cell_type": "code",
   "execution_count": 78,
   "metadata": {},
   "outputs": [
    {
     "name": "stdout",
     "output_type": "stream",
     "text": [
      "(8088, 28)\n"
     ]
    },
    {
     "data": {
      "text/html": [
       "<div>\n",
       "<style scoped>\n",
       "    .dataframe tbody tr th:only-of-type {\n",
       "        vertical-align: middle;\n",
       "    }\n",
       "\n",
       "    .dataframe tbody tr th {\n",
       "        vertical-align: top;\n",
       "    }\n",
       "\n",
       "    .dataframe thead th {\n",
       "        text-align: right;\n",
       "    }\n",
       "</style>\n",
       "<table border=\"1\" class=\"dataframe\">\n",
       "  <thead>\n",
       "    <tr style=\"text-align: right;\">\n",
       "      <th></th>\n",
       "      <th>NU_INSCRICAO</th>\n",
       "      <th>NO_MUNICIPIO_RESIDENCIA</th>\n",
       "      <th>IDADE</th>\n",
       "      <th>SEXO</th>\n",
       "      <th>TP_ESTADO_CIVIL</th>\n",
       "      <th>RACA</th>\n",
       "      <th>TP_NACIONALIDADE</th>\n",
       "      <th>TP_ST_CONCLUSAO</th>\n",
       "      <th>ESCOLA</th>\n",
       "      <th>CO_ESCOLA</th>\n",
       "      <th>...</th>\n",
       "      <th>NOTA_MT</th>\n",
       "      <th>TP_LINGUA</th>\n",
       "      <th>TP_STATUS_REDACAO</th>\n",
       "      <th>COMP1</th>\n",
       "      <th>COMP2</th>\n",
       "      <th>COMP3</th>\n",
       "      <th>COMP4</th>\n",
       "      <th>COMP5</th>\n",
       "      <th>NOTA_REDACAO</th>\n",
       "      <th>INTERNET</th>\n",
       "    </tr>\n",
       "  </thead>\n",
       "  <tbody>\n",
       "    <tr>\n",
       "      <th>42</th>\n",
       "      <td>1,90E+11</td>\n",
       "      <td>Sorocaba</td>\n",
       "      <td>27</td>\n",
       "      <td>F</td>\n",
       "      <td>1</td>\n",
       "      <td>branca</td>\n",
       "      <td>1</td>\n",
       "      <td>1</td>\n",
       "      <td>não_respondeu</td>\n",
       "      <td>NaN</td>\n",
       "      <td>...</td>\n",
       "      <td>49.1</td>\n",
       "      <td>Espanhol</td>\n",
       "      <td>1.0</td>\n",
       "      <td>140.0</td>\n",
       "      <td>40.0</td>\n",
       "      <td>40.0</td>\n",
       "      <td>140.0</td>\n",
       "      <td>40.0</td>\n",
       "      <td>400.0</td>\n",
       "      <td>Sim</td>\n",
       "    </tr>\n",
       "    <tr>\n",
       "      <th>192</th>\n",
       "      <td>1,90E+11</td>\n",
       "      <td>Sorocaba</td>\n",
       "      <td>34</td>\n",
       "      <td>M</td>\n",
       "      <td>1</td>\n",
       "      <td>branca</td>\n",
       "      <td>1</td>\n",
       "      <td>1</td>\n",
       "      <td>não_respondeu</td>\n",
       "      <td>NaN</td>\n",
       "      <td>...</td>\n",
       "      <td>751.3</td>\n",
       "      <td>Inglês</td>\n",
       "      <td>1.0</td>\n",
       "      <td>120.0</td>\n",
       "      <td>120.0</td>\n",
       "      <td>140.0</td>\n",
       "      <td>120.0</td>\n",
       "      <td>40.0</td>\n",
       "      <td>540.0</td>\n",
       "      <td>Sim</td>\n",
       "    </tr>\n",
       "    <tr>\n",
       "      <th>226</th>\n",
       "      <td>1,90E+11</td>\n",
       "      <td>Sorocaba</td>\n",
       "      <td>24</td>\n",
       "      <td>F</td>\n",
       "      <td>1</td>\n",
       "      <td>branca</td>\n",
       "      <td>1</td>\n",
       "      <td>1</td>\n",
       "      <td>não_respondeu</td>\n",
       "      <td>NaN</td>\n",
       "      <td>...</td>\n",
       "      <td>609.8</td>\n",
       "      <td>Inglês</td>\n",
       "      <td>1.0</td>\n",
       "      <td>100.0</td>\n",
       "      <td>40.0</td>\n",
       "      <td>80.0</td>\n",
       "      <td>80.0</td>\n",
       "      <td>0.0</td>\n",
       "      <td>300.0</td>\n",
       "      <td>Sim</td>\n",
       "    </tr>\n",
       "    <tr>\n",
       "      <th>358</th>\n",
       "      <td>1,90E+11</td>\n",
       "      <td>Sorocaba</td>\n",
       "      <td>22</td>\n",
       "      <td>F</td>\n",
       "      <td>1</td>\n",
       "      <td>branca</td>\n",
       "      <td>1</td>\n",
       "      <td>1</td>\n",
       "      <td>não_respondeu</td>\n",
       "      <td>NaN</td>\n",
       "      <td>...</td>\n",
       "      <td>587.8</td>\n",
       "      <td>Inglês</td>\n",
       "      <td>1.0</td>\n",
       "      <td>120.0</td>\n",
       "      <td>180.0</td>\n",
       "      <td>140.0</td>\n",
       "      <td>120.0</td>\n",
       "      <td>120.0</td>\n",
       "      <td>680.0</td>\n",
       "      <td>Sim</td>\n",
       "    </tr>\n",
       "    <tr>\n",
       "      <th>409</th>\n",
       "      <td>1,90E+11</td>\n",
       "      <td>Sorocaba</td>\n",
       "      <td>34</td>\n",
       "      <td>F</td>\n",
       "      <td>2</td>\n",
       "      <td>branca</td>\n",
       "      <td>1</td>\n",
       "      <td>1</td>\n",
       "      <td>não_respondeu</td>\n",
       "      <td>NaN</td>\n",
       "      <td>...</td>\n",
       "      <td>566.2</td>\n",
       "      <td>Espanhol</td>\n",
       "      <td>1.0</td>\n",
       "      <td>120.0</td>\n",
       "      <td>120.0</td>\n",
       "      <td>100.0</td>\n",
       "      <td>100.0</td>\n",
       "      <td>60.0</td>\n",
       "      <td>500.0</td>\n",
       "      <td>Sim</td>\n",
       "    </tr>\n",
       "  </tbody>\n",
       "</table>\n",
       "<p>5 rows × 28 columns</p>\n",
       "</div>"
      ],
      "text/plain": [
       "    NU_INSCRICAO NO_MUNICIPIO_RESIDENCIA  IDADE SEXO  TP_ESTADO_CIVIL    RACA  \\\n",
       "42      1,90E+11                Sorocaba     27    F                1  branca   \n",
       "192     1,90E+11                Sorocaba     34    M                1  branca   \n",
       "226     1,90E+11                Sorocaba     24    F                1  branca   \n",
       "358     1,90E+11                Sorocaba     22    F                1  branca   \n",
       "409     1,90E+11                Sorocaba     34    F                2  branca   \n",
       "\n",
       "     TP_NACIONALIDADE  TP_ST_CONCLUSAO         ESCOLA  CO_ESCOLA  ... NOTA_MT  \\\n",
       "42                  1                1  não_respondeu        NaN  ...    49.1   \n",
       "192                 1                1  não_respondeu        NaN  ...   751.3   \n",
       "226                 1                1  não_respondeu        NaN  ...   609.8   \n",
       "358                 1                1  não_respondeu        NaN  ...   587.8   \n",
       "409                 1                1  não_respondeu        NaN  ...   566.2   \n",
       "\n",
       "     TP_LINGUA  TP_STATUS_REDACAO  COMP1  COMP2  COMP3  COMP4  COMP5  \\\n",
       "42    Espanhol                1.0  140.0   40.0   40.0  140.0   40.0   \n",
       "192     Inglês                1.0  120.0  120.0  140.0  120.0   40.0   \n",
       "226     Inglês                1.0  100.0   40.0   80.0   80.0    0.0   \n",
       "358     Inglês                1.0  120.0  180.0  140.0  120.0  120.0   \n",
       "409   Espanhol                1.0  120.0  120.0  100.0  100.0   60.0   \n",
       "\n",
       "     NOTA_REDACAO INTERNET  \n",
       "42          400.0      Sim  \n",
       "192         540.0      Sim  \n",
       "226         300.0      Sim  \n",
       "358         680.0      Sim  \n",
       "409         500.0      Sim  \n",
       "\n",
       "[5 rows x 28 columns]"
      ]
     },
     "execution_count": 78,
     "metadata": {},
     "output_type": "execute_result"
    }
   ],
   "source": [
    "enem_sorocaba = enem_sp.loc[enem_sp.NO_MUNICIPIO_RESIDENCIA == 'Sorocaba']\n",
    "print(enem_sorocaba.shape)\n",
    "enem_sorocaba.head()"
   ]
  },
  {
   "cell_type": "code",
   "execution_count": 79,
   "metadata": {},
   "outputs": [
    {
     "data": {
      "text/html": [
       "<div>\n",
       "<style scoped>\n",
       "    .dataframe tbody tr th:only-of-type {\n",
       "        vertical-align: middle;\n",
       "    }\n",
       "\n",
       "    .dataframe tbody tr th {\n",
       "        vertical-align: top;\n",
       "    }\n",
       "\n",
       "    .dataframe thead th {\n",
       "        text-align: right;\n",
       "    }\n",
       "</style>\n",
       "<table border=\"1\" class=\"dataframe\">\n",
       "  <thead>\n",
       "    <tr style=\"text-align: right;\">\n",
       "      <th></th>\n",
       "      <th>Freq Absoluta</th>\n",
       "      <th>Freq Relativa</th>\n",
       "    </tr>\n",
       "  </thead>\n",
       "  <tbody>\n",
       "    <tr>\n",
       "      <th>14</th>\n",
       "      <td>1</td>\n",
       "      <td>0.012364</td>\n",
       "    </tr>\n",
       "    <tr>\n",
       "      <th>15</th>\n",
       "      <td>3</td>\n",
       "      <td>0.037092</td>\n",
       "    </tr>\n",
       "    <tr>\n",
       "      <th>16</th>\n",
       "      <td>8</td>\n",
       "      <td>0.098912</td>\n",
       "    </tr>\n",
       "    <tr>\n",
       "      <th>17</th>\n",
       "      <td>2993</td>\n",
       "      <td>37.005440</td>\n",
       "    </tr>\n",
       "    <tr>\n",
       "      <th>18</th>\n",
       "      <td>1558</td>\n",
       "      <td>19.263106</td>\n",
       "    </tr>\n",
       "  </tbody>\n",
       "</table>\n",
       "</div>"
      ],
      "text/plain": [
       "    Freq Absoluta  Freq Relativa\n",
       "14              1       0.012364\n",
       "15              3       0.037092\n",
       "16              8       0.098912\n",
       "17           2993      37.005440\n",
       "18           1558      19.263106"
      ]
     },
     "execution_count": 79,
     "metadata": {},
     "output_type": "execute_result"
    }
   ],
   "source": [
    "frequencias= pd.DataFrame(enem_sorocaba['IDADE'].value_counts()).sort_index(ascending = True).rename({'IDADE':'Freq Absoluta'}, axis = 1)\n",
    "frequencias['Freq Relativa'] = (frequencias['Freq Absoluta']/frequencias['Freq Absoluta'].sum())*100\n",
    "frequencias.head()\n",
    "\n",
    "\n"
   ]
  },
  {
   "cell_type": "markdown",
   "metadata": {},
   "source": [
    "* Matplotlib"
   ]
  },
  {
   "cell_type": "code",
   "execution_count": 80,
   "metadata": {},
   "outputs": [
    {
     "data": {
      "image/png": "[encoded data removed]",
      "text/plain": [
       "<Figure size 504x504 with 1 Axes>"
      ]
     },
     "metadata": {
      "needs_background": "light"
     },
     "output_type": "display_data"
    }
   ],
   "source": [
    "plt.figure(figsize=(7,7))\n",
    "plt.hist(enem_sorocaba.IDADE, bins = 8)\n",
    "plt.title('Distribuição de Idades - Enem SP 2019 - Sorocaba', fontsize = 15)\n",
    "plt.xlabel('Idades', fontsize = 15)\n",
    "plt.ylabel('Contagem', fontsize = 15)\n",
    "plt.show()"
   ]
  },
  {
   "cell_type": "code",
   "execution_count": 81,
   "metadata": {},
   "outputs": [
    {
     "data": {
      "image/png": "[encoded data removed]",
      "text/plain": [
       "<Figure size 504x504 with 1 Axes>"
      ]
     },
     "metadata": {
      "needs_background": "light"
     },
     "output_type": "display_data"
    }
   ],
   "source": [
    "plt.figure(figsize=(7,7))\n",
    "plt.hist(enem_sorocaba.IDADE, bins = 8, color= 'red', density = True)\n",
    "plt.title('Distribuição de Idades - Enem SP 2019 - Sorocaba', fontsize = 15)\n",
    "plt.xlabel('Idades', fontsize = 15)\n",
    "plt.ylabel('Frequência', fontsize = 15)\n",
    "plt.show()"
   ]
  },
  {
   "cell_type": "markdown",
   "metadata": {},
   "source": [
    "* Seaborn"
   ]
  },
  {
   "cell_type": "code",
   "execution_count": 82,
   "metadata": {},
   "outputs": [
    {
     "data": {
      "image/png": "[encoded data removed]",
      "text/plain": [
       "<Figure size 504x504 with 1 Axes>"
      ]
     },
     "metadata": {
      "needs_background": "light"
     },
     "output_type": "display_data"
    }
   ],
   "source": [
    "plt.figure(figsize=(7,7))\n",
    "sns.histplot(enem_sorocaba.IDADE, bins = 8, color = 'brown', kde = False)\n",
    "plt.title('Distribuição de Idades - Enem SP 2019 - Sorocaba', fontsize = 15)\n",
    "plt.xlabel('Idades', fontsize = 15)\n",
    "plt.ylabel('Contagem', fontsize = 15)\n",
    "plt.show()"
   ]
  },
  {
   "cell_type": "code",
   "execution_count": 83,
   "metadata": {},
   "outputs": [
    {
     "data": {
      "image/png": "[encoded data removed]",
      "text/plain": [
       "<Figure size 504x504 with 1 Axes>"
      ]
     },
     "metadata": {
      "needs_background": "light"
     },
     "output_type": "display_data"
    }
   ],
   "source": [
    "plt.figure(figsize=(7,7))\n",
    "sns.histplot(enem_sorocaba.IDADE, bins = 8, color = 'green', kde = True)\n",
    "plt.title('Distribuição de Idades - Enem SP 2019 - Sorocaba', fontsize = 15)\n",
    "plt.xlabel('Idades', fontsize = 15)\n",
    "plt.ylabel('Densidade', fontsize = 15)\n",
    "plt.show()"
   ]
  },
  {
   "cell_type": "code",
   "execution_count": 84,
   "metadata": {},
   "outputs": [
    {
     "data": {
      "image/png": "[encoded data removed]",
      "text/plain": [
       "<Figure size 504x504 with 1 Axes>"
      ]
     },
     "metadata": {
      "needs_background": "light"
     },
     "output_type": "display_data"
    }
   ],
   "source": [
    "plt.figure(figsize=(7,7))\n",
    "sns.histplot(enem_sorocaba.IDADE, bins = 8, color = 'orange', kde = False, stat='probability')\n",
    "plt.title('Distribuição de Idades - Enem SP 2019 - Sorocaba', fontsize = 15)\n",
    "plt.xlabel('Idades', fontsize = 15)\n",
    "plt.ylabel('Frequência Relativa', fontsize = 15)\n",
    "plt.show()"
   ]
  },
  {
   "cell_type": "markdown",
   "metadata": {},
   "source": [
    "# <font color='red' style='font-size: 40px;'> 4.0 Medidas de Tendência Central </font>"
   ]
  },
  {
   "cell_type": "markdown",
   "metadata": {},
   "source": [
    "> CONSULTAR: \n",
    "\n",
    "https://www.youtube.com/watch?v=ZT-24gPfC6g&list=PLDoqBsM6cBJaF_1v5o_svUOaKo_fMZ2mt&index=9&ab_channel=R%2CEstat%C3%ADsticaeAprendizadodeM%C3%A1quina\n",
    "\n",
    "### 4.1) Média\n",
    "\n",
    ">1. A Média é definida pela Soma dos Elementos / Quantidade de Elementos \n",
    "    \n",
    ">2. Muito sujeita a valores discrepantes, como Outliers\n",
    "\n",
    "#### Média populacional\n",
    "\n",
    "\n",
    "# $$\\mu = \\frac 1N\\sum_{i=1}^{N}X_i$$\n",
    "\n",
    "onde \n",
    "\n",
    "$N$ = número de observações da População (registros)\n",
    "\n",
    "$X_i$ = valor da i-ésima observação (registro)\n",
    "\n",
    "#### Média Amostral\n",
    "\n",
    "\n",
    "# $$\\bar{X} = \\frac 1n\\sum_{i=1}^{n}X_i$$\n",
    "\n",
    "onde \n",
    "\n",
    "$n$ = número de observações da Amostra (registros)\n",
    "\n",
    "$X_i$ = valor da i-ésima observação (registro)\n",
    "\n"
   ]
  },
  {
   "cell_type": "markdown",
   "metadata": {},
   "source": [
    "### 4.2) Média Ponderada\n",
    "\n",
    ">1. A Média Ponderada está relacionada a cada Elemento está sujeito a um Peso. \n",
    "    \n",
    ">2. Média Ponderada: soma(x1p1 + x2p2...+xnpn) / p1+p2+...pn\n",
    "\n",
    "#### Média ponderada populacional\n",
    "\n",
    "\n",
    "# $$\\mu = \\sum_{i=1}^{N} \\frac {X_i*W_i}{W_i}$$\n",
    "\n",
    "\n",
    "onde \n",
    "\n",
    "$N$ = número de observações da População (registros)\n",
    "\n",
    "$W$ = Peso de cada observação da população(registros)\n",
    "\n",
    "$X_i$ = valor da i-ésima observação (registro)\n",
    "\n",
    "#### Média ponderada Amostral\n",
    "\n",
    "\n",
    "# $$\\bar{X} = \\sum_{i=1}^{n} \\frac {X_i*w_i}{w_i}$$\n",
    "\n",
    "onde \n",
    "\n",
    "$n$ = número de observações da Amostra (registros)\n",
    "\n",
    "$w$ = Peso de cada observação da Amostra (registros)\n",
    "\n",
    "$X_i$ = valor da i-ésima observação (registro)"
   ]
  },
  {
   "cell_type": "markdown",
   "metadata": {},
   "source": [
    "### 4.3) Mediana\n",
    "\n",
    ">1. É o Valor Ao Centro dos Dados. Deve-se ordenar os valores em ordem crescente e calculá-la.\n",
    "    \n",
    ">2. Não está sujeita a valores discrepantes\n",
    "\n",
    "\n",
    ">3. Para obtermos a mediana de uma conjunto de dados devemos proceder da seguinte maneira:\n",
    "    1. Ordenar o conjunto de dados;\n",
    "    2. Identificar o número de observações (registros) do conjunto de dados (n);\n",
    "    3. Identicar o elemento mediano:\n",
    "    4. Obter a mediana:\n",
    "\n",
    "> Quando $n$ for ímpar:\n",
    "\n",
    "\n",
    "# $$Md = X_{Elemento_{Md}}$$\n",
    "\n",
    "> Quando $n$ for par:\n",
    "\n",
    "\n",
    "# $$Md = \\frac{X_{Elemento_{Md}} + X_{Elemento_{Md}+1}}2$$"
   ]
  },
  {
   "cell_type": "markdown",
   "metadata": {},
   "source": [
    "### 4.4) Relação Entre Média, Moda e Mediana\n",
    "\n",
    "<img src='https://caelum-online-public.s3.amazonaws.com/1177-estatistica-parte1/01/img004.png' width='80%'>"
   ]
  },
  {
   "cell_type": "code",
   "execution_count": 85,
   "metadata": {},
   "outputs": [
    {
     "data": {
      "text/plain": [
       "count    499940.000000\n",
       "mean         20.593387\n",
       "std           6.465291\n",
       "min          12.000000\n",
       "25%          17.000000\n",
       "50%          18.000000\n",
       "75%          21.000000\n",
       "max          91.000000\n",
       "Name: IDADE, dtype: float64"
      ]
     },
     "execution_count": 85,
     "metadata": {},
     "output_type": "execute_result"
    }
   ],
   "source": [
    "enem_sp.IDADE.describe()"
   ]
  },
  {
   "cell_type": "code",
   "execution_count": 86,
   "metadata": {},
   "outputs": [
    {
     "data": {
      "text/plain": [
       "0    17\n",
       "dtype: int64"
      ]
     },
     "execution_count": 86,
     "metadata": {},
     "output_type": "execute_result"
    }
   ],
   "source": [
    "enem_sp.IDADE.mode()"
   ]
  },
  {
   "cell_type": "markdown",
   "metadata": {},
   "source": [
    "# <font color='red' style='font-size: 40px;'> 5.0 Medidas de Dispersão </font>"
   ]
  },
  {
   "cell_type": "markdown",
   "metadata": {},
   "source": [
    "> CONSULTAR: \n",
    "\n",
    "https://www.youtube.com/watch?v=ZT-24gPfC6g&list=PLDoqBsM6cBJaF_1v5o_svUOaKo_fMZ2mt&index=9&ab_channel=R%2CEstat%C3%ADsticaeAprendizadodeM%C3%A1quina\n",
    "\n",
    "### 5.1) Variância\n",
    "\n",
    ">1. A variância é uma medida de dispersão que verifica a distância entre os valores da média aritmética, ou seja, a regularidade e variação desses dados.\n",
    "    \n",
    "### Variância populacional\n",
    "\n",
    "# $$\\sigma^2 = \\frac 1N\\sum_{i=1}^{N}(X_i-\\mu)^2$$\n",
    "\n",
    "\n",
    "### Variância amostral\n",
    "\n",
    "# $$S^2 = \\frac 1{n-1}\\sum_{i=1}^{n}(X_i-\\bar{X})^2$$\n",
    "\n",
    "### 5.2) Desvio Padrão\n",
    "\n",
    ">1. É a Raiz Quadrada da Variância. Ele também nos retorna a regularidade e variação dos Dados em relação a Média Aritmética. \n",
    "    \n",
    ">2. Quanto maior o Desvio Padrão, mais afastados os dados estão da média\n",
    "    \n",
    "#### Desvio padrão populacional\n",
    "\n",
    "# $$\\sigma = \\sqrt{\\frac 1n\\sum_{i=1}^{n}(X_i-\\mu)^2} \\Longrightarrow \\sigma = \\sqrt{\\sigma^2}$$\n",
    "\n",
    "#### Desvio padrão amostral\n",
    "\n",
    "# $$S = \\sqrt{\\frac 1{n-1}\\sum_{i=1}^{n}(X_i-\\bar{X})^2} \\Longrightarrow S = \\sqrt{S^2}$$\n",
    "\n",
    "#### Desvio padrão amostral para dados agrupados\n",
    "\n",
    "# $$S = \\sqrt{\\frac 1{n-1}\\sum_{i=1}^{n}(X_i-\\bar{X})^2}f \\Longrightarrow S = \\sqrt{S^2}$$\n",
    "\n",
    "* Sendo f a frequência absoluta de cada caso\n",
    "\n",
    "<img src='./img8.png' width='70%'>\n",
    "\n",
    "### 5.3) Amplitude\n",
    "\n",
    ">1. É a diferença entre o Maior Valor para o Menor Valor"
   ]
  },
  {
   "cell_type": "markdown",
   "metadata": {},
   "source": [
    "<img src='./img6.png' width='70%'>"
   ]
  },
  {
   "cell_type": "code",
   "execution_count": 87,
   "metadata": {},
   "outputs": [
    {
     "name": "stdout",
     "output_type": "stream",
     "text": [
      "33659.47050441108\n",
      "183.46517518158885\n",
      "132.98102283461475\n"
     ]
    }
   ],
   "source": [
    "print(enem_sp['NOTA_MT'].var()) # Variância\n",
    "print(enem_sp['NOTA_MT'].std()) # Desvio Padrão\n",
    "print(enem_sp['NOTA_MT'].mad()) # Desvio Absoluto (Amplitude)\n"
   ]
  },
  {
   "cell_type": "code",
   "execution_count": 88,
   "metadata": {},
   "outputs": [
    {
     "data": {
      "text/plain": [
       "count    499940.000000\n",
       "mean        497.594240\n",
       "std         183.465175\n",
       "min           0.000000\n",
       "25%         427.900000\n",
       "50%         511.800000\n",
       "75%         617.900000\n",
       "max         984.700000\n",
       "Name: NOTA_MT, dtype: float64"
      ]
     },
     "execution_count": 88,
     "metadata": {},
     "output_type": "execute_result"
    }
   ],
   "source": [
    "enem_sp['NOTA_MT'].describe()"
   ]
  },
  {
   "cell_type": "markdown",
   "metadata": {},
   "source": [
    "# <font color='red' style='font-size: 30px;'>6.0 Medidas Separatrizes  </font>\n",
    "<hr style='border: 2px solid red;'>"
   ]
  },
  {
   "cell_type": "markdown",
   "metadata": {},
   "source": [
    "> CONSULTAR: \n",
    "\n",
    "https://www.youtube.com/watch?v=ZT-24gPfC6g&list=PLDoqBsM6cBJaF_1v5o_svUOaKo_fMZ2mt&index=9&ab_channel=R%2CEstat%C3%ADsticaeAprendizadodeM%C3%A1quina"
   ]
  },
  {
   "cell_type": "markdown",
   "metadata": {},
   "source": [
    "### 6.1) Quartis, Percentis e Decis\n",
    "\n",
    ">1. Os quartis permitem dividir a distribuição em quatro partes iguais quanto ao número de elementos de cada uma.\n",
    "         1. Q1: 25% dos Valores\n",
    "         2. Q2: 50% dos Valores (mediana)\n",
    "         3. Q3: 75% dos Valores\n",
    "        \n",
    ">2. Os decis permitem dividir a distribuição em dez partes iguais.\n",
    "         1. Q1: 10% dos Valores\n",
    "         2. Q2: 20% dos Valores...\n",
    "         10. Q10: 100% dos Valores\n",
    "        \n",
    ">3. Os centis permitem dividir a distribuição em cem partes iguais.\n",
    "         1. Q1: 1% dos Valores\n",
    "         2. Q2: 2% dos Valores...\n",
    "         100. Q100: 100% dos Valores"
   ]
  },
  {
   "cell_type": "markdown",
   "metadata": {},
   "source": [
    "### 6.2) Box-Plot\n",
    "\n",
    ">1. O box plot dá uma idéia da posição, dispersão, assimetria, caudas e dados discrepantes (outliers). A posição central é dada pela mediana e a dispersão por $IIQ$ (Amplitude Interquartil). \n",
    "\n",
    ">2. As posições relativas de $Q1$, $Mediana$ e $Q3$ dão uma noção da simetria da distribuição. \n",
    "\n",
    ">3. Os comprimentos das cauda são dados pelas linhas que vão do retângulo aos valores remotos e pelos valores atípicos.\n",
    "\n",
    "<img src='https://caelum-online-public.s3.amazonaws.com/1177-estatistica-parte1/01/img005.png' width='65%'>\n",
    "<img src='./img197.png' width='70%'>\n",
    "\n"
   ]
  },
  {
   "cell_type": "markdown",
   "metadata": {},
   "source": [
    "### 6.3) Análise de Outliers"
   ]
  },
  {
   "cell_type": "markdown",
   "metadata": {},
   "source": [
    "<img src='./img10.png' width='70%'>"
   ]
  },
  {
   "cell_type": "code",
   "execution_count": 89,
   "metadata": {},
   "outputs": [
    {
     "name": "stdout",
     "output_type": "stream",
     "text": [
      "142.89999999999998\n",
      "0.0\n",
      "427.9\n",
      "511.8\n",
      "617.9\n",
      "984.7\n",
      "190.0\n",
      "902.9\n"
     ]
    }
   ],
   "source": [
    "# Outliers Inferiores\n",
    "print(enem_sp['NOTA_MT'].quantile(q = 0.25) - 1.5*(enem_sp['NOTA_MT'].quantile(q = 0.75) - enem_sp['NOTA_MT'].quantile(q = 0.25)))\n",
    "# Mínimo\n",
    "print(enem_sp['NOTA_MT'].min())\n",
    "# Primeiro Quartil\n",
    "print(enem_sp['NOTA_MT'].quantile(q = 0.25))\n",
    "# Segundo Quartil (Mediana)\n",
    "print(enem_sp['NOTA_MT'].quantile(q = 0.50))\n",
    "# Terceiro Quartil\n",
    "print(enem_sp['NOTA_MT'].quantile(q = 0.75))\n",
    "# Máximo\n",
    "print(enem_sp['NOTA_MT'].max())\n",
    "# Intervalo Interquartil (IQR)\n",
    "print(enem_sp['NOTA_MT'].quantile(q = 0.75) - enem_sp['NOTA_MT'].quantile(q = 0.25))\n",
    "# Outliers Superiores\n",
    "print(enem_sp['NOTA_MT'].quantile(q = 0.75) + 1.5*(enem_sp['NOTA_MT'].quantile(q = 0.75) - enem_sp['NOTA_MT'].quantile(q = 0.25)))"
   ]
  },
  {
   "cell_type": "markdown",
   "metadata": {},
   "source": [
    "* Matplotlib"
   ]
  },
  {
   "cell_type": "code",
   "execution_count": 90,
   "metadata": {},
   "outputs": [
    {
     "data": {
      "image/png": "[encoded data removed]",
      "text/plain": [
       "<Figure size 432x288 with 1 Axes>"
      ]
     },
     "metadata": {
      "needs_background": "light"
     },
     "output_type": "display_data"
    }
   ],
   "source": [
    "plt.boxplot(enem_sp.NOTA_MT)\n",
    "plt.show()"
   ]
  },
  {
   "cell_type": "markdown",
   "metadata": {},
   "source": [
    "* Seaborn"
   ]
  },
  {
   "cell_type": "code",
   "execution_count": 91,
   "metadata": {},
   "outputs": [
    {
     "data": {
      "text/plain": [
       "<AxesSubplot:xlabel='NOTA_MT', ylabel='RACA'>"
      ]
     },
     "execution_count": 91,
     "metadata": {},
     "output_type": "execute_result"
    },
    {
     "data": {
      "image/png": "[encoded data removed]",
      "text/plain": [
       "<Figure size 432x288 with 1 Axes>"
      ]
     },
     "metadata": {
      "needs_background": "light"
     },
     "output_type": "display_data"
    }
   ],
   "source": [
    "sns.boxplot(x ='NOTA_MT', y = 'RACA', data = enem_sp)"
   ]
  },
  {
   "cell_type": "markdown",
   "metadata": {},
   "source": [
    "# <font color='red' style='font-size: 30px;'>7.0 Análise Descritiva Bivariada   </font>\n",
    "<hr style='border: 2px solid red;'>"
   ]
  },
  {
   "cell_type": "markdown",
   "metadata": {},
   "source": [
    "## 7.1) Relacionamento entre Duas Variáveis Qualitativas \n",
    "\n",
    "### 1. Tipos de Representação\n",
    "\n",
    "<img src='./img177.png' width='70%'>\n",
    "\n",
    "<img src='./img178.png' width='70%'>\n",
    "\n",
    "### 2. Análise Gráfica \n",
    "\n",
    "<img src='./img179.png' width='70%'>\n",
    "<img src='./img180.png' width='70%'>\n",
    "<img src='./img181.png' width='70%'>\n",
    "\n",
    "### 3. Teste de Hipótese Utilizado\n",
    "\n",
    "<img src='./img182.png' width='70%'>\n",
    "<img src='./img183.png' width='70%'>\n",
    "\n"
   ]
  },
  {
   "cell_type": "markdown",
   "metadata": {},
   "source": [
    "## 7.2) Relacionamento entre Duas Variáveis Quantitativas \n",
    "\n",
    "### 1. Tipos de Representação\n",
    "\n",
    "<img src='./img184.png' width='70%'>\n",
    "\n",
    "### 2. Análise Gráfica\n",
    "\n",
    "<img src='./img185.png' width='70%'>\n",
    "<img src='./img186.png' width='70%'>\n",
    "<img src='./img187.png' width='70%'>\n",
    "<img src='./img188.png' width='70%'>\n",
    "<img src='./img189.png' width='70%'>\n",
    "<img src='./img190.png' width='70%'>\n",
    "\n",
    "### 3. Testes de Hipótese Utilizados\n",
    "\n",
    "> 1. Neste caso, utiliza-se os mais variavos Testes de Hipóteses, a depender da Distribuição de Probabilidade para cada uma das Variáveis. \n",
    "\n"
   ]
  },
  {
   "cell_type": "markdown",
   "metadata": {},
   "source": [
    "## 7.3) Relacionamento entre Uma Variável Qualitativa e Uma Variável Quantitativa \n",
    "\n",
    "### 1. Tipos de Representação\n",
    "\n",
    "<img src='./img194.png' width='70%'>\n",
    "\n",
    "### 2. Análise Gráfica\n",
    "\n",
    "<img src='./img195.png' width='70%'>\n",
    "<img src='./img196.png' width='70%'>\n",
    "<img src='./img197.png' width='70%'>\n",
    "<img src='./img198.png' width='70%'>\n",
    "\n"
   ]
  },
  {
   "cell_type": "markdown",
   "metadata": {},
   "source": [
    "\n",
    "# <font color='red' style='font-size: 30px;'>8.0 Boas Práticas de Storytelling    </font>\n",
    "<hr style='border: 2px solid red;'>\n",
    "\n",
    "> CONSULTAR: \n",
    "\n",
    "https://medium.com/ladies-that-ux-br/t%C3%A9cnicas-de-storytelling-d82a92b3029d\n",
    "\n",
    "https://medium.com/resumos-resenhas/storytelling-com-dados-resumo-fd63ebe4f704"
   ]
  }
 ],
 "metadata": {
  "interpreter": {
   "hash": "5a9a036f549c34521959f2e35c11282d59c2fa6997060d671aa6f29f1c44b680"
  },
  "kernelspec": {
   "display_name": "Python 3.9.7 ('base')",
   "language": "python",
   "name": "python3"
  },
  "language_info": {
   "codemirror_mode": {
    "name": "ipython",
    "version": 3
   },
   "file_extension": ".py",
   "mimetype": "text/x-python",
   "name": "python",
   "nbconvert_exporter": "python",
   "pygments_lexer": "ipython3",
   "version": "3.9.12"
  },
  "orig_nbformat": 4
 },
 "nbformat": 4,
 "nbformat_minor": 2
}
