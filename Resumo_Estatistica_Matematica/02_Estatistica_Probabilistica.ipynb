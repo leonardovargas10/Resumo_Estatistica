{
 "cells": [
  {
   "cell_type": "markdown",
   "metadata": {},
   "source": [
    "<h1 style='color: blue; font-size: 34px; font-weight: bold;'> Projeto Proposto \n",
    "</h1>\n",
    "\n",
    "<p style='font-size: 18px; line-height: 2; margin: 0px 0px; text-align: justify; text-indent: 0px;'>    \n",
    "<i> Este projeto baseia-se no Estudo das Técnicas de Estatística Probabilística. O intuito é analisar os resultados do ENEM no estado de São Paulo do ano de 2019.  </i>       \n",
    "</p>  \n",
    "\n",
    "> CONSULTAR:\n",
    "\n",
    "https://medium.com/turing-talks/turing-talks-15-fundamentos-de-probabilidade-para-machine-learning-73dd3202e4c5\n",
    "\n",
    "https://www.youtube.com/watch?v=qBigTkBLU6g&list=PLblh5JKOoLUK0FLuzwntyYI10UQFUhsY9&ab_channel=StatQuestwithJoshStarmer\n",
    "\n"
   ]
  },
  {
   "cell_type": "markdown",
   "metadata": {},
   "source": [
    "# <font color='red' style='font-size: 40px;'>Library and Data </font>"
   ]
  },
  {
   "cell_type": "code",
   "execution_count": 1,
   "metadata": {},
   "outputs": [],
   "source": [
    "# Convencionais\n",
    "import pandas as pd\n",
    "import numpy as np\n",
    "import matplotlib.pyplot as plt\n",
    "import seaborn as sns"
   ]
  },
  {
   "cell_type": "code",
   "execution_count": 2,
   "metadata": {},
   "outputs": [
    {
     "name": "stdout",
     "output_type": "stream",
     "text": [
      "(499940, 28)\n"
     ]
    },
    {
     "data": {
      "text/html": [
       "<div>\n",
       "<style scoped>\n",
       "    .dataframe tbody tr th:only-of-type {\n",
       "        vertical-align: middle;\n",
       "    }\n",
       "\n",
       "    .dataframe tbody tr th {\n",
       "        vertical-align: top;\n",
       "    }\n",
       "\n",
       "    .dataframe thead th {\n",
       "        text-align: right;\n",
       "    }\n",
       "</style>\n",
       "<table border=\"1\" class=\"dataframe\">\n",
       "  <thead>\n",
       "    <tr style=\"text-align: right;\">\n",
       "      <th></th>\n",
       "      <th>NU_INSCRICAO</th>\n",
       "      <th>NO_MUNICIPIO_RESIDENCIA</th>\n",
       "      <th>IDADE</th>\n",
       "      <th>SEXO</th>\n",
       "      <th>TP_ESTADO_CIVIL</th>\n",
       "      <th>RACA</th>\n",
       "      <th>TP_NACIONALIDADE</th>\n",
       "      <th>TP_ST_CONCLUSAO</th>\n",
       "      <th>ESCOLA</th>\n",
       "      <th>CO_ESCOLA</th>\n",
       "      <th>...</th>\n",
       "      <th>NOTA_MT</th>\n",
       "      <th>TP_LINGUA</th>\n",
       "      <th>TP_STATUS_REDACAO</th>\n",
       "      <th>COMP1</th>\n",
       "      <th>COMP2</th>\n",
       "      <th>COMP3</th>\n",
       "      <th>COMP4</th>\n",
       "      <th>COMP5</th>\n",
       "      <th>NOTA_REDACAO</th>\n",
       "      <th>INTERNET</th>\n",
       "    </tr>\n",
       "  </thead>\n",
       "  <tbody>\n",
       "    <tr>\n",
       "      <th>0</th>\n",
       "      <td>1,90E+11</td>\n",
       "      <td>Santa Isabel</td>\n",
       "      <td>22</td>\n",
       "      <td>M</td>\n",
       "      <td>1</td>\n",
       "      <td>parda</td>\n",
       "      <td>1</td>\n",
       "      <td>1</td>\n",
       "      <td>não_respondeu</td>\n",
       "      <td>NaN</td>\n",
       "      <td>...</td>\n",
       "      <td>600.2</td>\n",
       "      <td>Inglês</td>\n",
       "      <td>1.0</td>\n",
       "      <td>160.0</td>\n",
       "      <td>200.0</td>\n",
       "      <td>180.0</td>\n",
       "      <td>200.0</td>\n",
       "      <td>200.0</td>\n",
       "      <td>940.0</td>\n",
       "      <td>Sim</td>\n",
       "    </tr>\n",
       "    <tr>\n",
       "      <th>1</th>\n",
       "      <td>1,90E+11</td>\n",
       "      <td>São Paulo</td>\n",
       "      <td>17</td>\n",
       "      <td>F</td>\n",
       "      <td>1</td>\n",
       "      <td>parda</td>\n",
       "      <td>1</td>\n",
       "      <td>2</td>\n",
       "      <td>privada</td>\n",
       "      <td>15567761.0</td>\n",
       "      <td>...</td>\n",
       "      <td>731.8</td>\n",
       "      <td>Inglês</td>\n",
       "      <td>1.0</td>\n",
       "      <td>160.0</td>\n",
       "      <td>120.0</td>\n",
       "      <td>200.0</td>\n",
       "      <td>200.0</td>\n",
       "      <td>200.0</td>\n",
       "      <td>880.0</td>\n",
       "      <td>Não</td>\n",
       "    </tr>\n",
       "    <tr>\n",
       "      <th>2</th>\n",
       "      <td>1,90E+11</td>\n",
       "      <td>São Bernardo do Campo</td>\n",
       "      <td>19</td>\n",
       "      <td>M</td>\n",
       "      <td>1</td>\n",
       "      <td>parda</td>\n",
       "      <td>1</td>\n",
       "      <td>2</td>\n",
       "      <td>pública</td>\n",
       "      <td>35904958.0</td>\n",
       "      <td>...</td>\n",
       "      <td>393.2</td>\n",
       "      <td>Espanhol</td>\n",
       "      <td>1.0</td>\n",
       "      <td>80.0</td>\n",
       "      <td>160.0</td>\n",
       "      <td>120.0</td>\n",
       "      <td>100.0</td>\n",
       "      <td>100.0</td>\n",
       "      <td>560.0</td>\n",
       "      <td>Sim</td>\n",
       "    </tr>\n",
       "    <tr>\n",
       "      <th>3</th>\n",
       "      <td>1,90E+11</td>\n",
       "      <td>Embu-Guaçu</td>\n",
       "      <td>17</td>\n",
       "      <td>F</td>\n",
       "      <td>1</td>\n",
       "      <td>parda</td>\n",
       "      <td>1</td>\n",
       "      <td>2</td>\n",
       "      <td>pública</td>\n",
       "      <td>NaN</td>\n",
       "      <td>...</td>\n",
       "      <td>419.2</td>\n",
       "      <td>Inglês</td>\n",
       "      <td>1.0</td>\n",
       "      <td>120.0</td>\n",
       "      <td>120.0</td>\n",
       "      <td>120.0</td>\n",
       "      <td>120.0</td>\n",
       "      <td>80.0</td>\n",
       "      <td>560.0</td>\n",
       "      <td>Sim</td>\n",
       "    </tr>\n",
       "    <tr>\n",
       "      <th>4</th>\n",
       "      <td>1,90E+11</td>\n",
       "      <td>Guarulhos</td>\n",
       "      <td>23</td>\n",
       "      <td>F</td>\n",
       "      <td>1</td>\n",
       "      <td>branca</td>\n",
       "      <td>1</td>\n",
       "      <td>1</td>\n",
       "      <td>não_respondeu</td>\n",
       "      <td>NaN</td>\n",
       "      <td>...</td>\n",
       "      <td>796.1</td>\n",
       "      <td>Inglês</td>\n",
       "      <td>1.0</td>\n",
       "      <td>160.0</td>\n",
       "      <td>200.0</td>\n",
       "      <td>180.0</td>\n",
       "      <td>180.0</td>\n",
       "      <td>160.0</td>\n",
       "      <td>880.0</td>\n",
       "      <td>Sim</td>\n",
       "    </tr>\n",
       "  </tbody>\n",
       "</table>\n",
       "<p>5 rows × 28 columns</p>\n",
       "</div>"
      ],
      "text/plain": [
       "  NU_INSCRICAO NO_MUNICIPIO_RESIDENCIA  IDADE SEXO  TP_ESTADO_CIVIL    RACA  \\\n",
       "0     1,90E+11            Santa Isabel     22    M                1   parda   \n",
       "1     1,90E+11               São Paulo     17    F                1   parda   \n",
       "2     1,90E+11   São Bernardo do Campo     19    M                1   parda   \n",
       "3     1,90E+11              Embu-Guaçu     17    F                1   parda   \n",
       "4     1,90E+11               Guarulhos     23    F                1  branca   \n",
       "\n",
       "   TP_NACIONALIDADE  TP_ST_CONCLUSAO         ESCOLA   CO_ESCOLA  ... NOTA_MT  \\\n",
       "0                 1                1  não_respondeu         NaN  ...   600.2   \n",
       "1                 1                2        privada  15567761.0  ...   731.8   \n",
       "2                 1                2        pública  35904958.0  ...   393.2   \n",
       "3                 1                2        pública         NaN  ...   419.2   \n",
       "4                 1                1  não_respondeu         NaN  ...   796.1   \n",
       "\n",
       "   TP_LINGUA  TP_STATUS_REDACAO  COMP1  COMP2  COMP3  COMP4  COMP5  \\\n",
       "0     Inglês                1.0  160.0  200.0  180.0  200.0  200.0   \n",
       "1     Inglês                1.0  160.0  120.0  200.0  200.0  200.0   \n",
       "2   Espanhol                1.0   80.0  160.0  120.0  100.0  100.0   \n",
       "3     Inglês                1.0  120.0  120.0  120.0  120.0   80.0   \n",
       "4     Inglês                1.0  160.0  200.0  180.0  180.0  160.0   \n",
       "\n",
       "   NOTA_REDACAO INTERNET  \n",
       "0         940.0      Sim  \n",
       "1         880.0      Não  \n",
       "2         560.0      Sim  \n",
       "3         560.0      Sim  \n",
       "4         880.0      Sim  \n",
       "\n",
       "[5 rows x 28 columns]"
      ]
     },
     "execution_count": 2,
     "metadata": {},
     "output_type": "execute_result"
    }
   ],
   "source": [
    "enem_sp = pd.read_csv('enem_2019_tratado.csv', sep = ',', encoding='iso-8859-1')\n",
    "print(enem_sp.shape)\n",
    "enem_sp.head()"
   ]
  },
  {
   "cell_type": "code",
   "execution_count": 3,
   "metadata": {},
   "outputs": [
    {
     "name": "stdout",
     "output_type": "stream",
     "text": [
      "(15647, 28)\n",
      "(4171, 28)\n"
     ]
    }
   ],
   "source": [
    "enem_guarulhos = enem_sp.loc[enem_sp['NO_MUNICIPIO_RESIDENCIA'] == 'Guarulhos']\n",
    "print(enem_guarulhos.shape)\n",
    "enem_bauru = enem_sp.loc[enem_sp['NO_MUNICIPIO_RESIDENCIA'] == 'Bauru']\n",
    "print(enem_bauru.shape)"
   ]
  },
  {
   "cell_type": "markdown",
   "metadata": {},
   "source": [
    "# <font color='red' style='font-size: 40px;'>1.0) Conceitos Fundamentais </font>\n",
    "\n",
    "> CONSULTAR: \n",
    "\n",
    "https://medium.com/turing-talks/turing-talks-15-fundamentos-de-probabilidade-para-machine-learning-73dd3202e4c5\n",
    "\n",
    "https://www.youtube.com/watch?v=B1v9OeCTlu0&list=PLvxOuBpazmsOGOursPoofaHyz_1NpxbhA&ab_channel=jbstatistics"
   ]
  },
  {
   "cell_type": "markdown",
   "metadata": {},
   "source": [
    "## 1.1) Introdução \n",
    "\n",
    "<img src='./img199.png' width='70%'>\n",
    "<img src='./img200.png' width='70%'>\n",
    "\n"
   ]
  },
  {
   "cell_type": "markdown",
   "id": "4a89db60",
   "metadata": {},
   "source": [
    "## 1.2) Conceitos Probabilísticos\n",
    "\n",
    ">1. Experimento: O que está sendo estudado\n",
    "\n",
    "<img src='./img210.png' width='70%'>\n",
    "\n",
    ">2. Espaço Amostral: É o conjunto de TODOS os resultados possíveis do experimento.\n",
    "\n",
    "<img src='./img202.png' width='70%'>\n",
    "<img src='./img203.png' width='70%'>\n",
    "\n",
    ">3. Evento: É um conjunto de resulados de um experimento.\n",
    "\n",
    "<img src='./img204.png' width='70%'>\n",
    "<img src='./img205.png' width='70%'>\n",
    "<img src='./img206.png' width='70%'>\n",
    "<img src='./img11.png' width='70%'>\n",
    "\n",
    "> 4. Probabilidade: é um valor entre 0 e 1. A soma das probabilidades de todos os resultados possívies do experimento deve ser igual a 1.\n",
    "\n",
    "<img src='./img207.png' width='70%'>\n",
    "<img src='./img208.png' width='70%'>\n",
    "\n",
    ">5. Processos Determinísticos: São processos que não utilizam da Aleatoriedade. Dada uma mesma entrada, apresenta sempre a mesma saída.\n",
    "    \n",
    ">6. Processos Estocásticos: São processos que utilizam da Aleatoriedade. Dada uma mesma entrada, a saída pode variar.\n",
    "\n"
   ]
  },
  {
   "cell_type": "markdown",
   "metadata": {},
   "source": [
    "## 1.3) Lei dos Grandes Números\n",
    "\n",
    "> 1. As saídas de cada experimento parecem imprevisíveis, mas quando se analisa um grande número de experimentos, um padrão emerge.\n",
    "\n",
    "> 2. De acordo com a LGN, a média aritmética dos resultados da realização da mesma experiência repetidas vezes tende a se aproximar do valor esperado à medida que mais tentativas se sucederem. Em outras palavras, quanto mais tentativas são realizadas, mais a probabilidade da média aritmética dos resultados observados irá se aproximar da probabilidade real.\n",
    "\n",
    "> 3. Exemplo Cassino\n",
    "\n",
    "    Considere um caso particular de um jogo de roleta em um cassino. Embora o cassino possa perder dinheiro em uma única rodada de uma roleta, os seus ganhos tenderão a se aproximar de uma probabilidade da média aritmética dos resultados observados depois de um grande número de rodadas. De outra forma, qualquer série de vitórias de um apostador será superada pelos parâmetros do jogo depois de algumas rodadas.\n",
    "\n",
    "> 4. Exemplo Sorteio de Bolas\n",
    "\n",
    "    Imagine uma experiência com uma urna contendo bolas brancas e pretas em uma certa proporção. Imagine um sorteio de bolas da urna, em que uma pessoa retira uma bola de olhos fechados e outra pessoa anota a cor da bola e devolve a bola para a urna. Várias bolas são retiradas sucessivamente. Se a experiência for realizada repetidas vezes, a frequência relativa de bolas pretas sempre irá convergir para um determinado número. Esse número é a proporção de bolas pretas contidas na urna.\n",
    "\n",
    "    Se a urna tiver a mesma quantidade de bolas brancas e pretas, a porcentagem de vezes que as bolas pretas serão sorteadas irá convergir para o 50%. Do mesmo modo, se a urna tiver três bolas brancas e sete bolas pretas, a porcentagem de vezes que as bolas pretas serão sorteadas irá convergir para é 70%.\n",
    "\n",
    "> 5. Exemplo Lançamento de um Dado\n",
    "\n",
    "    Chamada de \"Primeiro Teorema Fundamental de Probabilidade\", a LGN é derivada da análise de jogos de azar como sorteio de bilhetes de loteria ou arremesso de dados. Um dado não viciado de seis lados pode cair 1, 2, 3, 4, 5 ou 6 em uma única jogada, todos com igual probabilidade. É possível calcular o valor médio de um lance de um dado não viciado de seis lados. Depois de várias jogadas, um a cada seis lances cairá 1, um a cada seis lances cairá 2 e assim por diante com todos os seis resultados possíveis.\n",
    "\n",
    "    Embora nenhum lado tenha o número 3,5 e nenhum lance resulte no valor 3,5, a LGN determina que a média dos lances de um dado não viciado de seis lados irá se aproximar cada vez mais de 3,5 depois de um grande número de jogadas.\n",
    "\n"
   ]
  },
  {
   "cell_type": "markdown",
   "metadata": {},
   "source": [
    "# <font color='red' style='font-size: 40px;'>2.0) Fórmulas </font>\n",
    "\n",
    "> CONSULTAR: \n",
    "\n",
    "https://www.youtube.com/watch?v=B1v9OeCTlu0&list=PLvxOuBpazmsOGOursPoofaHyz_1NpxbhA&ab_channel=jbstatistics"
   ]
  },
  {
   "cell_type": "markdown",
   "id": "f154a0e7",
   "metadata": {},
   "source": [
    "## 2.1) Probabilidade Clássica ou À Priori\n",
    "\n",
    "> CONSULTAR:\n",
    "\n",
    "https://www.youtube.com/watch?v=twlpc-HEVZ4&list=PLDoqBsM6cBJaF_1v5o_svUOaKo_fMZ2mt&index=5&ab_channel=R%2CEstat%C3%ADsticaeAprendizadodeM%C3%A1quina\n",
    "\n",
    "> A probabilidade de ocorrer o evento A.\n",
    "\n",
    "<img src='./img209.png' width='70%'>\n",
    "\n",
    "# $$P(A) = \\frac {N(A)}{N(E)}$$\n",
    "\n",
    "onde \n",
    "\n",
    "$P(A)$ = Probabilidade de Ocorrência de um Evento A\n",
    "\n",
    "$N(A)$ = Número de Eventos da Ocorrência\n",
    "\n",
    "$N(E)$ = Número de Eventos Possíveis \n"
   ]
  },
  {
   "cell_type": "code",
   "execution_count": 4,
   "metadata": {},
   "outputs": [
    {
     "name": "stdout",
     "output_type": "stream",
     "text": [
      "0.5\n"
     ]
    }
   ],
   "source": [
    "# EX: Probabilidade de sair um número par no lançamento de um dado:\n",
    "# A = {2, 4, 6} -> n(A) = 3\n",
    "# E = {1, 2, 3, 4, 5, 6} -> n(E) = 6\n",
    "\n",
    "P = 3/6 \n",
    "print(P)"
   ]
  },
  {
   "cell_type": "markdown",
   "metadata": {},
   "source": [
    "<img src='./img12.png' width='70%'>"
   ]
  },
  {
   "cell_type": "code",
   "execution_count": 5,
   "metadata": {},
   "outputs": [],
   "source": [
    "def probabilidade(A, E):\n",
    "    resultado = (A/E) * 100\n",
    "    print(f'{round(resultado, 2)} %')"
   ]
  },
  {
   "cell_type": "code",
   "execution_count": 6,
   "metadata": {},
   "outputs": [
    {
     "name": "stdout",
     "output_type": "stream",
     "text": [
      "3.13 %\n",
      "0.83 %\n"
     ]
    }
   ],
   "source": [
    "# Probabilidade de retirar um vestibulando de Guarulhos\n",
    "probabilidade(enem_guarulhos.shape[0], enem_sp.shape[0])\n",
    "\n",
    "# Probabilidade de retirar um vestibulando de Bauru\n",
    "probabilidade(enem_bauru.shape[0], enem_sp.shape[0])"
   ]
  },
  {
   "cell_type": "code",
   "execution_count": 7,
   "metadata": {},
   "outputs": [],
   "source": [
    "def probabilidade_nao_ocorrer(A, E):\n",
    "    resultado = (1-(A/E)) * 100\n",
    "    print(f'{round(resultado, 2)} %')"
   ]
  },
  {
   "cell_type": "code",
   "execution_count": 8,
   "metadata": {},
   "outputs": [
    {
     "name": "stdout",
     "output_type": "stream",
     "text": [
      "96.87 %\n",
      "99.17 %\n"
     ]
    }
   ],
   "source": [
    "# Probabilidade de não retirar um vestibulando de Guarulhos\n",
    "probabilidade_nao_ocorrer(enem_guarulhos.shape[0], enem_sp.shape[0])\n",
    "\n",
    "# Probabilidade de não retirar um vestibulando de Bauru\n",
    "probabilidade_nao_ocorrer(enem_bauru.shape[0], enem_sp.shape[0])"
   ]
  },
  {
   "cell_type": "markdown",
   "metadata": {},
   "source": [
    "## 2.2) Probabilidade da União de Eventos\n",
    "\n",
    "> CONSULTAR:\n",
    "\n",
    "https://www.youtube.com/watch?v=twlpc-HEVZ4&list=PLDoqBsM6cBJaF_1v5o_svUOaKo_fMZ2mt&index=5&ab_channel=R%2CEstat%C3%ADsticaeAprendizadodeM%C3%A1quina\n",
    "\n",
    "> A probabilidade de ocorrer o Evento A **ou** o Evento B é igual a probabilidade de ocorrer A **mais** a probabilidade de ocorrer B **menos** a probabilidade de ocorrer A **e** B.\n",
    "\n",
    "<img src='./img211.png' width='70%'>\n",
    "\n",
    "\n",
    "# $$P(AUB) = {P(A)}+{P(B)}-{P(A ∩ B)}$$\n",
    "\n",
    "onde \n",
    "\n",
    "P(A U B) = Probabilidade de ocorrer o Evento A ou o Evento B\n",
    "\n",
    "$P(A)$ = Probabilidade de Ocorrência de um Evento A\n",
    "\n",
    "$P(B)$ = Probabilidade de Ocorrência de um Evento B\n",
    "\n",
    "$P(A ∩ B)$ = Probabilidade de Ocorrência de um Evento A e um Evento B\n",
    "\n",
    "Se A e B forem mutuamente exclusivos, A ∩ B = 0"
   ]
  },
  {
   "cell_type": "code",
   "execution_count": 9,
   "metadata": {},
   "outputs": [
    {
     "data": {
      "text/plain": [
       "0.6"
      ]
     },
     "execution_count": 9,
     "metadata": {},
     "output_type": "execute_result"
    }
   ],
   "source": [
    "# Numa comunidade de 1000 habitantes, 400 são sócios de um clube A, 300 de um clube B e 100 de ambos. \n",
    "# Qual a probabilidade de uma pessoa escolhida ao acaso ser sócia de A ou de B?\n",
    "\n",
    "nE = 1000\n",
    "nA = 400\n",
    "nB = 300\n",
    "nA_e_B = 100\n",
    "\n",
    "PA = 400/1000\n",
    "PB = 300/1000\n",
    "PA_e_B = 100/1000\n",
    "\n",
    "PAB = PA + PB - PA_e_B\n",
    "PAB"
   ]
  },
  {
   "cell_type": "markdown",
   "metadata": {},
   "source": [
    "<img src='./img13.png' width='70%'>"
   ]
  },
  {
   "cell_type": "code",
   "execution_count": 10,
   "metadata": {},
   "outputs": [],
   "source": [
    "def probabilidade_uniao(A, B, E):\n",
    "    resultado = (A/E + B/E) * 100\n",
    "    print(f'{round(resultado, 2)} %')"
   ]
  },
  {
   "cell_type": "code",
   "execution_count": 11,
   "metadata": {},
   "outputs": [
    {
     "name": "stdout",
     "output_type": "stream",
     "text": [
      "3.96 %\n"
     ]
    }
   ],
   "source": [
    "# Probabilidade de não retirar um vestibulando de Guarulhos ou de Bauru\n",
    "probabilidade_uniao(enem_guarulhos.shape[0], enem_bauru.shape[0], enem_sp.shape[0])\n",
    "\n"
   ]
  },
  {
   "cell_type": "markdown",
   "metadata": {},
   "source": [
    "## 2.3) Probabilidade da Intersecção de Eventos\n",
    "\n",
    "> CONSULTAR:\n",
    "\n",
    "https://www.youtube.com/watch?v=twlpc-HEVZ4&list=PLDoqBsM6cBJaF_1v5o_svUOaKo_fMZ2mt&index=5&ab_channel=R%2CEstat%C3%ADsticaeAprendizadodeM%C3%A1quina\n",
    "\n",
    "> Se dois eventos, A e B, **são independentes entre si** (a ocorrência de um não influência na ocorrência do outro), a probabilidade de ocorrência de A **e** B é igual ao produto de cada um.\n",
    "\n",
    "<img src='./img213.png' width='70%'>\n",
    "\n",
    "\n",
    "# $$P(A∩B) = {P(A)}.{P(B)}$$\n",
    "\n",
    "onde \n",
    "\n",
    "$P(A ∩ B)$ = Probabilidade de Ocorrência de um Evento A e um Evento B\n",
    "\n",
    "$P(A)$ = Probabilidade de Ocorrência de um Evento A\n",
    "\n",
    "$P(B)$ = Probabilidade de Ocorrência de um Evento B\n",
    "\n",
    "\n",
    "Se A e B forem mutuamente exclusivos, A ∩ B = 0"
   ]
  },
  {
   "cell_type": "code",
   "execution_count": 12,
   "metadata": {},
   "outputs": [
    {
     "name": "stdout",
     "output_type": "stream",
     "text": [
      "0.16666666666666666\n"
     ]
    }
   ],
   "source": [
    "# Qual a probabilidade, num lançamento de um dado e uma moeda, de sair um número menor que 3 no dado e face cara na moeda?\n",
    "nEA = 6\n",
    "nEB = 2\n",
    "\n",
    "nA = 2\n",
    "nB = 1\n",
    "\n",
    "PA = 2/6\n",
    "PB = 1/2\n",
    "\n",
    "P_A_e_B = PA * PB\n",
    "print(P_A_e_B)"
   ]
  },
  {
   "cell_type": "code",
   "execution_count": 13,
   "metadata": {},
   "outputs": [],
   "source": [
    "def probabilidade_interseccao(A, B, E):\n",
    "    resultado = (A/E * B/E) * 100\n",
    "    print(f'{round(resultado, 2)} %')"
   ]
  },
  {
   "cell_type": "code",
   "execution_count": 14,
   "metadata": {},
   "outputs": [
    {
     "name": "stdout",
     "output_type": "stream",
     "text": [
      "0.03 %\n"
     ]
    }
   ],
   "source": [
    "# Probabilidade de não retirar um vestibulando de Guarulhos e de Bauru\n",
    "probabilidade_interseccao(enem_guarulhos.shape[0], enem_bauru.shape[0], enem_sp.shape[0])"
   ]
  },
  {
   "cell_type": "markdown",
   "metadata": {},
   "source": [
    "## 2.4) Probabilidade Condicional\n",
    "> CONSULTAR:\n",
    "\n",
    "https://www.youtube.com/watch?v=jLMT9_svAlA&list=PLDoqBsM6cBJaF_1v5o_svUOaKo_fMZ2mt&index=5&ab_channel=R%2CEstat%C3%ADsticaeAprendizadodeM%C3%A1quina\n",
    "\n",
    "> A probabilidade de ocorrer o Evento A **condicionada** ao Evento B. Ela é obrigatoriamente um evento dependente. A expressão \"dado que\" significa que estamos tratando de um Experimento baseado em Probabilidade Condicional.\n",
    "\n",
    "<img src='./img216.png' width='70%'>\n",
    "\n",
    "<img src='./img217.png' width='70%'>\n",
    "\n",
    "# $$P(A|B) = \\frac{n(A ∩ B)}{n(B)} = \\frac{P(A ∩ B)}{P(B)}$$\n",
    "\n",
    "onde \n",
    "\n",
    "P(A|B)  = Probabilidade de ocorrer o Evento A dado que ocorreu o Evento B\n",
    "\n",
    "$P(A ∩ B)$ = Probabilidade de Ocorrência de um Evento A e de um Evento B\n",
    "\n",
    "$P(B)$ = Probabilidade de Ocorrência de um Evento B\n"
   ]
  },
  {
   "cell_type": "code",
   "execution_count": 15,
   "metadata": {},
   "outputs": [
    {
     "name": "stdout",
     "output_type": "stream",
     "text": [
      "0.4\n"
     ]
    }
   ],
   "source": [
    "# Qual a probabilidade, num lançamento simultâneo de dois dados, aparecerem faces com números ímpares, com a condição de que a soma seja 8?\n",
    "\n",
    "B = {(2,6), (3,5), (4,4), (5,3), (6,2)}\n",
    "nB = 5 # 5 chances da Soma ser 8\n",
    "n_A_e_B = 2 # 2 chances dos números serem ímpares quando a Soma for 8\n",
    "\n",
    "P_A_cond_B = 2/5\n",
    "print(P_A_cond_B)"
   ]
  },
  {
   "cell_type": "markdown",
   "metadata": {},
   "source": [
    "<img src='./img14.png' width='70%'>\n",
    "\n",
    "<img src='./img15.png' width='70%'>"
   ]
  },
  {
   "cell_type": "code",
   "execution_count": 16,
   "metadata": {},
   "outputs": [],
   "source": [
    "def probabilidade_condicional(AB, B):\n",
    "    resultado = (AB / B) * 100\n",
    "    print(f'{round(resultado, 2)} %')"
   ]
  },
  {
   "cell_type": "code",
   "execution_count": 17,
   "metadata": {},
   "outputs": [
    {
     "name": "stdout",
     "output_type": "stream",
     "text": [
      "30.76 %\n"
     ]
    }
   ],
   "source": [
    "# Probabilidade de retirar uma mulher parda\n",
    "mulher = enem_sp.loc[enem_sp.SEXO == 'F']\n",
    "mulher_parda = mulher.loc[mulher.RACA == 'parda']\n",
    "probabilidade_condicional(mulher_parda.shape[0], mulher.shape[0])"
   ]
  },
  {
   "cell_type": "markdown",
   "metadata": {},
   "source": [
    "## 2.5) Lei da Probabilidade Total\n",
    "\n",
    "<img src='./img218.png' width='70%'>\n",
    "\n",
    "> 1. A lei da probabilidade total é usada quando você não sabe a probabilidade de um evento, mas conhece sua ocorrência em vários cenários disjuntos e a probabilidade de cada cenário.\n",
    "\n",
    "<img src='./img18.png' width='70%'>\n",
    "\n",
    "<img src='./img19.png' width='70%'>"
   ]
  },
  {
   "cell_type": "markdown",
   "metadata": {},
   "source": [
    "## 2.6) Teorema Bayesiano\n",
    "\n",
    "> CONSULTAR:\n",
    "\n",
    "https://www.youtube.com/watch?v=jLMT9_svAlA&list=PLDoqBsM6cBJaF_1v5o_svUOaKo_fMZ2mt&index=5&ab_channel=R%2CEstat%C3%ADsticaeAprendizadodeM%C3%A1quina\n",
    "\n",
    "<img src='./img219.png' width='70%'>\n",
    "\n",
    "<img src='./img220.png' width='70%'>\n",
    "\n",
    "<img src='./img20.png' width='70%'>\n",
    "\n",
    "<img src='./img21.png' width='70%'>\n",
    "\n",
    "* Suponhamos que temos um registro de um paciente com o vetor = [x1, x2, x3...] (Hipertensão, Colesterol Alto e Tosse).\n",
    "\n",
    "* Desejamos saber a Probabilidade deste paciente ser doente, dado as informações de nosso vetor -> P(C|data)\n",
    "\n",
    "* Temos que calcular a Probabilidade de , dado que o paciente é Doente, gerarmos um vetor com as mesmas características observadas no vetor deste paciente -> P(data|C)\n",
    "\n",
    "* Temos que calcular a Probabilidade de um indivíduo ser doente em toda nossa base de dados -> P(C)\n",
    "\n",
    "* Temos que calcular a Probabilidade de gerarmos um vetor com as mesmas características observadas no vetor deste paciente, mas agora considerando todas as hipóteses (Doentes e Não Doentes) -> P(data)\n",
    "\n",
    "<img src='./img22.png' width='70%'>\n",
    "\n",
    "# $$P(Bi|A) = \\frac {P(A|Bi).P(Bi)}{\\sum_{j}P(A|Bj).P(Bj)} , i = 1, 2...$$\n",
    "\n",
    "<img src='./img23.png' width='70%'>\n",
    "\n",
    "<img src='./img24.png' width='70%'>\n",
    "\n",
    "### Exemplo 1\n",
    "\n",
    "<img src='./img221.png' width='70%'>\n",
    "<img src='./img222.png' width='70%'>\n",
    "<img src='./img223.png' width='70%'>\n",
    "<img src='./img224.png' width='70%'>\n",
    "<img src='./img225.png' width='70%'>\n",
    "<img src='./img226.png' width='70%'>\n",
    "<img src='./img227.png' width='70%'>\n",
    "\n",
    "\n",
    "### Exemplo 2\n",
    "\n",
    "Para entender um pouco melhor como funciona o classificador, vamos a um exemplo rápido:\n",
    "\n",
    "Digamos que estamos trabalhando no diagnóstico de uma nova doença, e que fizemos testes em 100 pessoas distintas.\n",
    "\n",
    "Após coletarmos a análise, descobrimos que 20 pessoas possuíam a doença (20%) e 80 pessoas estavam saudáveis (80%), sendo que das pessoas que possuíam a doença, 90% receberam Positivo no teste da doença, e 30% das pessoas que não possuíam a doença também receberam o teste positivo.\n",
    "\n",
    "Listando esses dados de uma forma mais clara, temos:\n",
    "\n",
    "    100 pessoas realizaram o teste.\n",
    "    20% das pessoas que realizaram o teste possuíam a doença.\n",
    "    90% das pessoas que possuíam a doença, receberam positivo no teste.\n",
    "    30% das pessoas que não possuíam a doença, receberam positivo no teste.\n",
    "\n",
    "A pergunta neste caso seria: Se uma nova pessoa realizar o teste e receber um resultado positivo, qual a probabilidade de ela possuir a doença?\n",
    "\n",
    "**O algoritmo de Naive Bayes consiste em encontrar uma probabilidade a posteriori (possuir a doença, dado que recebeu um resultado positivo), multiplicando a probabilidade a priori (possuir a doença) pela probabilidade de “receber um resultado positivo, dado que tem a doença”.**\n",
    "\n",
    "Devemos também computar a probabilidade a posteriori da negação (Não possuir a doença, dado que recebeu um resultado Positivo).\n",
    "\n",
    "Ou seja:\n",
    "\n",
    "    P(doença|positivo) = 20% * 90%\n",
    "    P(doença|positivo) = 0,2 * 0,9\n",
    "    P(doença|positivo) = 0,18\n",
    "    P(não doença|positivo) = 80% * 30%\n",
    "    P(não doença|positivo) = 0,8 * 0,3\n",
    "    P(não doença|positivo) = 0,24\n",
    "\n",
    "Após isso precisamos normalizar os dados, para que a soma das duas probabilidades resulte 1 (100%).\n",
    "\n",
    "Para isso, dividimos o resultado pela soma das duas probabilidades.\n",
    "\n",
    "Exemplo:\n",
    "\n",
    "    P(doença|positivo) = 0,18/(0,18+0,24) = 0,4285\n",
    "    P(não doença|positivo) = 0,24/(0,18+0,24) = 0,5714\n",
    "    0,4285 + 0,5714 = 0,9999.. ou aproximadamente 1.\n",
    "\n",
    "A fórmula se apresenta desta maneira:\n",
    "\n",
    "# $P(A|B) = \\frac {P(B|A) P(A)} {P(B)} $\n",
    "\n",
    "Podemos concluir que se o resultado do teste da nova pessoa for positivo, ela possui aproximadamente 43% (0,4285) de chance de estar doente.\n",
    "\n",
    "\n",
    "\n"
   ]
  },
  {
   "cell_type": "markdown",
   "metadata": {},
   "source": [
    "# <font color='red' style='font-size: 40px;'>3.0) Eventos </font>"
   ]
  },
  {
   "cell_type": "markdown",
   "metadata": {},
   "source": [
    "## 3.1) Tipos de Eventos\n",
    "\n",
    "### Eventos Não Excludentes\n",
    "\n",
    ">1. Quando podem ocorrer ao mesmo tempo.\n",
    "\n",
    ">2. Exemplo: jogar um dado e ser 2 e par ao mesmo tempo\n",
    "\n",
    "\n",
    "\n",
    "### Eventos Excludentes\n",
    "\n",
    ">1. Quando não podem ocorrer ao mesmo tempo.\n",
    "\n",
    ">2. Exemplo: jogar um dado e ser 1 e par ao mesmo tempo\n",
    "\n",
    "### Eventos Independentes\n",
    "\n",
    ">1. Quando a ocorrência de um evento não afeta o outro.\n",
    "\n",
    ">2. Exemplo: Jogar um Dado e retirar a face 6. Veja que isso não depende de nada, apenas da própria Probabilidade de retirar a face 6.\n",
    "\n",
    "# $$P(A ∩ B) = {P(A)}.{P(B)}$$\n",
    "\n",
    "<img src='./img16.png' width='70%'>\n",
    "    \n",
    "    \n",
    "### Eventos Dependentes\n",
    "\n",
    ">1. Quando a ocorrência de um evento afeta o outro, ou seja, um tem que ocorrer para que o outro depois ocorra\n",
    "\n",
    ">2. Exemplo: Tirar Cartas sem Reposição. Suponha que desejamos saber a Probabilidade de retirarmos uma Dama de Paus após a retirada da primeira carta.\n",
    "\n",
    "# $$P(A ∩ B) != {P(A)}.{P(B)}$$\n",
    "\n",
    "<img src='./img17.png' width='70%'>"
   ]
  },
  {
   "cell_type": "markdown",
   "metadata": {},
   "source": [
    "### Exemplo \n",
    "\n",
    "<img src='./img213.png' width='70%'>\n"
   ]
  },
  {
   "cell_type": "markdown",
   "id": "d4522ba9",
   "metadata": {},
   "source": [
    "## 3.2) Quantidade de Eventos\n",
    "\n",
    "### Um único Evento\n",
    "\n",
    ">Soma-se as Probabilidades.\n",
    "     \n",
    "       Exemplo: Jogar um Dado e ser 1 ou par (eventos indepentes e excludentes): 1/6 + 3/6 = 4/6 \n",
    "       \n",
    ">Soma-se as Probabilidades, diminui-se as sobreposições.\n",
    "\n",
    "        Exemplo: Jogar um dado e ser 2 ou par (eventos independentes e não excludentes): 1/6 + 3/6 - 1/6 = 3/6\n",
    "        \n",
    "### Mais de Um Evento \n",
    "\n",
    "Multiplica-se as Probabilidades.\n",
    "    \n",
    "        Exemplo: Qual a probabilidade de jogar dois dados, e dar 1 e 6 (eventos independentes)?: 1/6 * 1/6 = 1/36\n",
    "        \n",
    "Multiplica-se as Probabilidades, diminui-se o Espaço Amostral.\n",
    "    \n",
    "        Exemplo: Com 6 cartas na mão(A, 2, 3, 4, 5, 6), qual a probabilidade de no primeiro evento tirar A e no segundo evento tirar 4 (eventos dependentes)?: 1/6 * 1/5 = 1/30\n",
    "\n",
    "\n",
    "\n"
   ]
  },
  {
   "cell_type": "markdown",
   "metadata": {},
   "source": [
    "## 3.3) Em Resumo\n",
    "\n",
    "<img src='./img214.png' width='70%'>\n",
    "<img src='./img215.png' width='70%'>"
   ]
  },
  {
   "cell_type": "markdown",
   "metadata": {},
   "source": [
    "# <font color='red' style='font-size: 40px;'> 4.0 Variáveis Aleatórias </font>"
   ]
  },
  {
   "cell_type": "markdown",
   "metadata": {},
   "source": [
    "## 4.1) O quem são Variáveis Aleatórias?\n",
    "\n",
    "<img src='./img228.png' width='70%'>\n",
    "<img src='./img229.png' width='70%'>\n",
    "\n",
    "## 4.2) Tipos de Variáveis Aleatórias\n",
    "\n",
    "<img src='./img230.png' width='70%'>\n",
    "\n"
   ]
  },
  {
   "cell_type": "markdown",
   "metadata": {},
   "source": [
    "# <font color='red' style='font-size: 40px;'> 5.0 Distribuição de Probabilidade Discreta </font>\n",
    "\n",
    "> CONSULTAR:\n",
    "\n",
    "https://www.youtube.com/watch?v=4F2dTdIGkdg&list=PLovxQRJ6ihin1WjwWkYUBcvZu4ewt_Qns&ab_channel=ProbabilidadeeEstat%C3%ADsticaUFRGS\n",
    "\n",
    "https://www.youtube.com/watch?v=oHcrna8Fk18&list=PLvxOuBpazmsNIHP5cz37oOPZx0JKyNszN&ab_channel=jbstatistics\n",
    "\n",
    "<img src='./img290.jpg' width='70%'>"
   ]
  },
  {
   "cell_type": "markdown",
   "metadata": {},
   "source": [
    "* Distribuições para Variáveis Discretas (Inteiras ou Enumeráveis)"
   ]
  },
  {
   "cell_type": "markdown",
   "metadata": {},
   "source": [
    "<img src='./img25.png' width='70%'>\n",
    "\n",
    "<img src='./img26.png' width='70%'>\n",
    "\n",
    "<img src='./img27.png' width='70%'>\n",
    "\n"
   ]
  },
  {
   "cell_type": "markdown",
   "metadata": {},
   "source": [
    "### Média de Variáveis Discretas (Esperança)\n",
    "# $$\\mu = \\sum x.P(x) = E(x)$$\n",
    "\n",
    "### Variância de Variáveis Discretas \n",
    "# $$\\sigma^2 = \\sum(X_i-\\mu)^2.P(x)$$\n",
    "\n",
    "### Desvio Padrão de Variáveis Discretas\n",
    "\n",
    "# $$\\sigma = \\sqrt \\sigma^2 $$"
   ]
  },
  {
   "cell_type": "markdown",
   "metadata": {},
   "source": [
    "## 5.1) Distribuição de Bernoulli\n",
    "\n",
    "> CONSULTAR: \n",
    "\n",
    "https://towardsdatascience.com/7-statistical-distributions-that-every-data-scientist-should-know-with-intuitive-explanations-bf967db81f0b\n",
    "\n",
    "https://www.youtube.com/watch?v=qcmcf5V2YBs&list=PLDoqBsM6cBJaF_1v5o_svUOaKo_fMZ2mt&index=2&ab_channel=R%2CEstat%C3%ADsticaeAprendizadodeM%C3%A1quina\n",
    "\n",
    "http://www.de.ufpb.br/~tarciana/MPIE/Aula7.pdf\n",
    "\n",
    "\n",
    "<img src='./img231.png' width='70%'>\n",
    "<img src='./img232.png' width='70%'>\n",
    "<img src='./img233.png' width='70%'>\n",
    "<img src='./img234.png' width='70%'>\n",
    "<img src='./img235.png' width='70%'>\n",
    "<img src='./img236.png' width='70%'>\n"
   ]
  },
  {
   "cell_type": "markdown",
   "metadata": {},
   "source": [
    "## 5.2) Distribuição Binomial\n",
    "\n",
    "> CONSULTAR: \n",
    "\n",
    "https://towardsdatascience.com/7-statistical-distributions-that-every-data-scientist-should-know-with-intuitive-explanations-bf967db81f0b\n",
    "\n",
    "https://www.youtube.com/watch?v=qcmcf5V2YBs&list=PLDoqBsM6cBJaF_1v5o_svUOaKo_fMZ2mt&index=2&ab_channel=R%2CEstat%C3%ADsticaeAprendizadodeM%C3%A1quina\n",
    "\n",
    "https://www.voitto.com.br/blog/artigo/distribuicao-binomial\n",
    "\n",
    "http://www.de.ufpb.br/~tarciana/MPIE/Aula7.pdf\n",
    "\n",
    "\n",
    "> 1. A Distribuição Binomial mede a Probabilidade de termos k sucessos em n ensaios.\n",
    "\n",
    "> 2. Um evento **binomial** é caracterizado pela possibilidade de ocorrência de apenas duas categorias. Exemplo: Verdadeiro ou falso; Cara ou coroa; Sucesso ou fracasso.\n",
    "\n",
    "> 3. Deve-se ter a realização de $n$ ensaios idênticos.\n",
    "\n",
    "> 4. Os ensaios são independentes.\n",
    "\n",
    "> 5. A probabilidade de sucesso deve ser a mesma em cada ensaio. \n",
    "\n",
    "<img src='./img237.png' width='70%'>\n",
    "<img src='./img238.png' width='70%'>\n",
    "<img src='./img239.png' width='70%'>\n",
    "<img src='./img240.png' width='70%'>\n",
    "\n",
    "### Fórmula para Probabilidade\n",
    "\n",
    "# $$P(k)=\\frac{n!}{k!(n - k)!} p^k q^{n-k} = \\binom{n}{k} p^k q^{n-k}$$\n",
    "\n",
    "Onde:\n",
    "\n",
    "$p$ = probabilidade de sucesso\n",
    "\n",
    "$q = (1 - p)$ = probabilidade de fracasso\n",
    "\n",
    "$n$ = número de eventos estudados\n",
    "\n",
    "$k$ = número de eventos desejados que tenham sucesso\n"
   ]
  },
  {
   "cell_type": "code",
   "execution_count": 18,
   "metadata": {},
   "outputs": [
    {
     "name": "stdout",
     "output_type": "stream",
     "text": [
      "0.13014261971434243\n"
     ]
    }
   ],
   "source": [
    "from scipy.stats import binom\n",
    "# Probabilidade de retirar 4 mulheres num total de 10 amostras\n",
    "mulher_enem = enem_sp.loc[enem_sp.SEXO == 'F']\n",
    "\n",
    "probabilidade = binom.pmf(4, 10, mulher_enem.shape[0]/enem_sp.shape[0]) \n",
    "print(probabilidade) "
   ]
  },
  {
   "cell_type": "code",
   "execution_count": 19,
   "metadata": {},
   "outputs": [
    {
     "name": "stdout",
     "output_type": "stream",
     "text": [
      "0.9998304692157152\n"
     ]
    }
   ],
   "source": [
    "# Probabilidade de retirar pelo menos 1 mulher num total de 10 amostras\n",
    "\n",
    "probabilidade = 1 - binom.pmf(0, 10, mulher_enem.shape[0]/enem_sp.shape[0]) \n",
    "print(probabilidade) "
   ]
  },
  {
   "cell_type": "code",
   "execution_count": 20,
   "metadata": {},
   "outputs": [
    {
     "name": "stdout",
     "output_type": "stream",
     "text": [
      "0.929117468512205\n",
      "0.929117468512205\n"
     ]
    }
   ],
   "source": [
    "# Probabilidade de retirar mais do que 3 mulher num total de 10 amostras\n",
    "\n",
    "probabilidade = 1-(binom.pmf(0, 10, mulher_enem.shape[0]/enem_sp.shape[0])+\n",
    "binom.pmf(1, 10, mulher_enem.shape[0]/enem_sp.shape[0])+\n",
    "binom.pmf(2, 10, mulher_enem.shape[0]/enem_sp.shape[0])+\n",
    "binom.pmf(3, 10, mulher_enem.shape[0]/enem_sp.shape[0])\n",
    ")\n",
    "print(probabilidade) \n",
    "\n",
    "probabilidade = 1 - binom.cdf(3, 10, mulher_enem.shape[0]/enem_sp.shape[0])\n",
    "print(probabilidade) "
   ]
  },
  {
   "cell_type": "code",
   "execution_count": null,
   "metadata": {},
   "outputs": [],
   "source": [
    "n = 10\n",
    "p = 2/10"
   ]
  },
  {
   "cell_type": "markdown",
   "metadata": {},
   "source": [
    "## 5.3) Distribuição de Poisson\n",
    "\n",
    "> CONSULTAR: \n",
    "\n",
    "https://towardsdatascience.com/7-statistical-distributions-that-every-data-scientist-should-know-with-intuitive-explanations-bf967db81f0b\n",
    "\n",
    "https://www.youtube.com/watch?v=qcmcf5V2YBs&list=PLDoqBsM6cBJaF_1v5o_svUOaKo_fMZ2mt&index=2&ab_channel=R%2CEstat%C3%ADsticaeAprendizadodeM%C3%A1quina\n",
    "\n",
    "https://www.voitto.com.br/blog/artigo/distribuicao-de-poisson\n",
    "\n",
    "https://www.inf.ufsc.br/~andre.zibetti/probabilidade/poisson.html\n",
    "\n",
    "> 1. A Distribuição de Poisson expressa a probabilidade de uma série de eventos ocorrerem num certo período de tempo se estes eventos ocorrem independentemente de quando ocorreu o último evento.\n",
    "\n",
    "> 2. É empregada para descrever o número de ocorrências num determinado intervalo (tempo, área, volume...).\n",
    "\n",
    "> 3. A probabilidade do evento ocorrer é a mesma em cada intervalo.\n",
    "\n",
    "> 4. Número de ocorrências nos intervalos são independentes.\n",
    "\n",
    "<img src='./img241.png' width='70%'>\n",
    "<img src='./img242.png' width='70%'>\n",
    "\n",
    "### Fórmula de Poisson\n",
    "\n",
    "# $$P(k) = \\frac{(\\mu)^ke^{-\\mu}}{k!}$$\n",
    "\n",
    "Onde:\n",
    "\n",
    "$e$ = constante cujo valor aproximado é 2,718281828459045\n",
    "\n",
    "$\\mu$ = representa o número médio de ocorrências em um determinado intervalo de tempo ou espaço (valor esperado)\n",
    "\n",
    "$k$ = número de sucessos no intervalo desejado\n"
   ]
  },
  {
   "cell_type": "code",
   "execution_count": 21,
   "id": "675f7754",
   "metadata": {},
   "outputs": [
    {
     "name": "stdout",
     "output_type": "stream",
     "text": [
      "0.05164885\n"
     ]
    }
   ],
   "source": [
    "# Um restaurante recebe em média 20 pedidos por hora. \n",
    "# Qual a chance de que, em determinada hora escolhida ao acaso, o restaurante receba 15 pedidos?\n",
    "\n",
    "from scipy.stats import poisson\n",
    "media = 20\n",
    "k = 15\n",
    "probabilidade = poisson.pmf(k, media)\n",
    "print('%0.8f' % probabilidade)\n",
    "# 5% de chance do restaurante receber 15 pedidos em uma hora aleatória"
   ]
  },
  {
   "cell_type": "code",
   "execution_count": 22,
   "metadata": {},
   "outputs": [
    {
     "name": "stdout",
     "output_type": "stream",
     "text": [
      "0.04458765\n"
     ]
    }
   ],
   "source": [
    "# 2. O número médio de clientes que entram em uma padaria por hora é igual a 20. \n",
    "# Obtenha a probabilidade de, na próxima hora, entrarem exatamente 25 clientes.\n",
    "\n",
    "media = 20\n",
    "k = 25\n",
    "probabilidade = (poisson.pmf(25, media))\n",
    "print('%0.8f' % probabilidade)"
   ]
  },
  {
   "cell_type": "code",
   "execution_count": 23,
   "metadata": {},
   "outputs": [
    {
     "name": "stdout",
     "output_type": "stream",
     "text": [
      "0.18044704431548356\n",
      "0.6766764161830635\n",
      "0.857123460498547\n",
      "0.14287653950145296\n"
     ]
    }
   ],
   "source": [
    "# 3. O número de acidentes de carros que ocorrem por dia é de 2 acidentes. \n",
    "    \n",
    "#     1) Qual a probabilidade de ocorrerem 3 em um determinado dia?\n",
    "    \n",
    "#     2) Qual a probabilidade de ocorrerem menos de 3 em um determinado dia?\n",
    "    \n",
    "#     3) Qual a probabilidade de ocorrerem 3 ou menos em um determinado dia?\n",
    "    \n",
    "#     4) Qual a probabilidade de ocorrerem mais de 3 em um determinado dia?\n",
    "\n",
    "# 1)\n",
    "media = 2\n",
    "k = 3\n",
    "probabilidade = (poisson.pmf(k, media))\n",
    "print(probabilidade)\n",
    "\n",
    "\n",
    "# 2)\n",
    "media = 2\n",
    "k0, k1 , k2 = 0, 1, 2\n",
    "contador = 0\n",
    "for k in range(3):\n",
    "    contador += (poisson.pmf(k, media))\n",
    "probabilidade = contador\n",
    "print(probabilidade)\n",
    "\n",
    "# 3)\n",
    "media = 2\n",
    "k = [0, 1, 2, 3]\n",
    "probabilidade = poisson.pmf(k, media).sum()\n",
    "print(probabilidade)\n",
    "\n",
    "# 4)\n",
    "\n",
    "media = 2\n",
    "k = [0, 1, 2, 3]\n",
    "probabilidade_3_ou_menos = poisson.pmf(k, media).sum()\n",
    "probabilidade_mais_de_3 = 1 - probabilidade_3_ou_menos\n",
    "print(probabilidade_mais_de_3)"
   ]
  },
  {
   "cell_type": "markdown",
   "metadata": {},
   "source": [
    "## 5.4) Distribuição Geométrica\n",
    "\n",
    "https://www.inf.ufsc.br/~andre.zibetti/probabilidade/geometrica.html\n",
    "\n",
    "> 1. Probabilidade de repetidas tentativas até que o sucesso ocorra.\n",
    "\n",
    "> 2. São tentativas independentes.\n",
    "\n",
    "> 3. A probabilidade de sucesso é constante para todas as tentativas\n",
    "\n",
    "* Fórmula da Probabilidade\n",
    "\n",
    "# $$ P(k) = p.q^{k-1}$$\n",
    "\n",
    "$p$ = Probabilidade de sucesso em uma tentativa\n",
    "\n",
    "$q$ = Probabilidade de fracasso em uma tentativa\n",
    "\n",
    "$k$ = Variável Aleatória que representa o número de falhas até o sucesso"
   ]
  },
  {
   "cell_type": "code",
   "execution_count": 24,
   "metadata": {},
   "outputs": [
    {
     "data": {
      "text/plain": [
       "0.042898029955685306"
      ]
     },
     "execution_count": 24,
     "metadata": {},
     "output_type": "execute_result"
    }
   ],
   "source": [
    "from scipy.stats import geom \n",
    "\n",
    "# Probabilidade de retirar 3 amostras e nenhuma ser mulher\n",
    "\n",
    "geom.pmf(4, mulher_enem.shape[0]/enem_sp.shape[0])"
   ]
  },
  {
   "cell_type": "markdown",
   "metadata": {},
   "source": [
    "# <font color='red' style='font-size: 40px;'> 6.0 Distribuição de Probabilidade Contínua </font>\n",
    "\n",
    "> CONSULTAR:\n",
    "\n",
    "https://www.youtube.com/watch?v=ec7vw9v2ogQ&list=PLovxQRJ6ihin1WjwWkYUBcvZu4ewt_Qns&index=2&ab_channel=ProbabilidadeeEstat%C3%ADsticaUFRGS\n",
    "\n",
    "https://www.youtube.com/playlist?app=desktop&list=PLvxOuBpazmsPDZGwqhhjE3KkLWnTD34R0&fbclid=PAAabtrVHDNSGuqVtx8rXdWe4qDQOXc9_UCth4__5Msv2D8c1KsRdpK7wB4VE\n",
    "\n",
    "<img src='./img290.jpg' width='70%'>"
   ]
  },
  {
   "cell_type": "markdown",
   "metadata": {},
   "source": [
    "* Distribuições para Variáveis Contínuas"
   ]
  },
  {
   "cell_type": "markdown",
   "metadata": {},
   "source": [
    "## 6.1) Distribuição Normal ou Gaussiana\n",
    "\n",
    "> CONSULTAR:\n",
    "\n",
    "https://towardsdatascience.com/7-statistical-distributions-that-every-data-scientist-should-know-with-intuitive-explanations-bf967db81f0b\n",
    "\n",
    "https://www.youtube.com/watch?v=3yxfy7-ck30&list=PLDoqBsM6cBJaF_1v5o_svUOaKo_fMZ2mt&index=2&ab_channel=R%2CEstat%C3%ADsticaeAprendizadodeM%C3%A1quina\n",
    "\n",
    "https://www.voitto.com.br/blog/artigo/distribuicao-normal\n",
    "\n",
    "<img src='./img243.png' width='70%'>\n",
    "\n",
    "<img src='./img244.png' width='70%'>\n",
    "\n",
    "<img src='./img245.png' width='70%'>\n",
    "\n",
    "<img src='./img246.png' width='70%'>\n",
    "\n",
    "<img src='./img247.png' width='70%'>\n",
    "\n",
    "<img src='./img248.png' width='70%'>\n",
    "\n",
    "<img src='./img249.png' width='70%'>\n"
   ]
  },
  {
   "cell_type": "markdown",
   "metadata": {},
   "source": [
    "### O que é?\n",
    "\n",
    ">1. A distribuição normal é uma das mais utilizadas em estatística. É uma distribuição contínua, onde a distribuição de frequências de uma variável quantitativa apresenta a forma de sino e é simétrica em relação a sua média.\n",
    "    \n",
    ">2. Ela pauta-se na busca de Probabilidades Contínuas (Intervalos), logo, não buscamos Probabilidades Discretas (Números Exatos).\n",
    "\n",
    ">3. É simétrica em torno da média;\n",
    "\n",
    ">4. A área sob a curva corresponde à proporção 1 ou 100%;\n",
    "\n",
    ">5. Os extremos da curva tendem ao infinito em ambas as direções e, teoricamente, jamais tocam o eixo $x$;\n",
    "\n",
    ">6. O desvio padrão define o achatamento e largura da distribuição. Curvas mais largas e mais achatadas apresentam valores maiores de desvio padrão;\n",
    "\n",
    ">7. A probabilidade sempre será igual à área sob a curva, delimitada pelos limites inferior e superior.\n",
    "    \n",
    "    \n",
    "<img src='./img32.png' width='40%'>\n",
    "<img src='./img29.jpg' width='50%'>\n",
    "\n",
    "\n",
    "# $$f(x) = \\frac{1}{\\sqrt{2\\pi\\sigma}}e^{-\\frac{1}{2}\\left(\\frac{x-\\mu}{\\sigma}\\right)^2}$$\n",
    "\n",
    "Onde:\n",
    "\n",
    "$x$ = variável normal\n",
    "\n",
    "$\\sigma$ = desvio padrão\n",
    "\n",
    "$\\mu$ = média\n",
    "\n",
    "### Propriedades de uma Distribuição Normal\n",
    "\n",
    "<img src='./img30.jpg' width='50%'>\n",
    "<img src='https://caelum-online-public.s3.amazonaws.com/1177-estatistica-parte1/01/img004.png' width='80%'>"
   ]
  },
  {
   "cell_type": "markdown",
   "metadata": {},
   "source": [
    "## 6.2) Distribuição Normal Padronizada\n",
    "\n",
    "### O que é\n",
    "\n",
    ">1. As tabelas padronizadas foram criadas para facilitar a obtenção dos valores das áreas sob a curva normal e eliminar a necessidade de solucionar integrais definidas.\n",
    "\n",
    ">2. Para consultarmos os valores em uma tabela padronizada basta transformarmos nossa variável em uma variável padronizada $Z$.\n",
    "\n",
    ">3. Esta variável $Z$ representa o afastamento em desvios padrões de um valor da variável original em relação à média.\n",
    "\n",
    ">4. A média é 0, o desvio padrão é 1 e a variância é 1.\n",
    "\n",
    "<img src='./img250.png' width='70%'>\n",
    "<img src='./img31.jpg' width='50%'>\n",
    "<img src='./img35.png' width='500%'>\n",
    "<img src='./img251.png' width='70%'>\n",
    "<img src='./img252.png' width='70%'>\n",
    "<img src='./img253.png' width='70%'>\n",
    "<img src='./img254.png' width='70%'>\n",
    "<img src='./img255.png' width='70%'>\n",
    "<img src='./img256.png' width='70%'>\n",
    "<img src='./img257.png' width='70%'>\n",
    "<img src='./img258.png' width='70%'>\n",
    "\n",
    "\n",
    "# $$Z = \\frac{x-\\mu}{\\sigma}$$\n",
    "\n",
    "Onde:\n",
    "\n",
    "$x$ = variável normal com média $\\mu$ e desvio padrão $\\sigma$. É a Probabilidade que estou buscando.\n",
    "\n",
    "$\\sigma$ = desvio padrão\n",
    "\n",
    "$\\mu$ = média\n",
    "\n",
    "### Como obter a probabilidade?\n",
    "\n",
    ">1. A probabilidade é obtida a partir da área sob a curva, delimitada pelos limites inferior e superior especificados. Um exemplo pode ser visto na figura abaixo.    \n",
    "\n",
    "> 2. Existem duas maneiras para sabermos a probabilidade: utilizando a Tabela Normal Padronizada ou códigos específicos de softwares.\n",
    "\n",
    "![alt text](https://caelum-online-public.s3.amazonaws.com/1178-estatistica-parte2/01/img002.png)   "
   ]
  },
  {
   "cell_type": "code",
   "execution_count": 25,
   "metadata": {},
   "outputs": [
    {
     "data": {
      "text/html": [
       "<div>\n",
       "<style scoped>\n",
       "    .dataframe tbody tr th:only-of-type {\n",
       "        vertical-align: middle;\n",
       "    }\n",
       "\n",
       "    .dataframe tbody tr th {\n",
       "        vertical-align: top;\n",
       "    }\n",
       "\n",
       "    .dataframe thead th {\n",
       "        text-align: right;\n",
       "    }\n",
       "</style>\n",
       "<table border=\"1\" class=\"dataframe\">\n",
       "  <thead>\n",
       "    <tr style=\"text-align: right;\">\n",
       "      <th>Z</th>\n",
       "      <th>0.00</th>\n",
       "      <th>0.01</th>\n",
       "      <th>0.02</th>\n",
       "      <th>0.03</th>\n",
       "      <th>0.04</th>\n",
       "      <th>0.05</th>\n",
       "      <th>0.06</th>\n",
       "      <th>0.07</th>\n",
       "      <th>0.08</th>\n",
       "      <th>0.09</th>\n",
       "    </tr>\n",
       "  </thead>\n",
       "  <tbody>\n",
       "    <tr>\n",
       "      <th>0.00</th>\n",
       "      <td>0.5000</td>\n",
       "      <td>0.5040</td>\n",
       "      <td>0.5080</td>\n",
       "      <td>0.5120</td>\n",
       "      <td>0.5160</td>\n",
       "      <td>0.5199</td>\n",
       "      <td>0.5239</td>\n",
       "      <td>0.5279</td>\n",
       "      <td>0.5319</td>\n",
       "      <td>0.5359</td>\n",
       "    </tr>\n",
       "    <tr>\n",
       "      <th>0.10</th>\n",
       "      <td>0.5398</td>\n",
       "      <td>0.5438</td>\n",
       "      <td>0.5478</td>\n",
       "      <td>0.5517</td>\n",
       "      <td>0.5557</td>\n",
       "      <td>0.5596</td>\n",
       "      <td>0.5636</td>\n",
       "      <td>0.5675</td>\n",
       "      <td>0.5714</td>\n",
       "      <td>0.5753</td>\n",
       "    </tr>\n",
       "    <tr>\n",
       "      <th>0.20</th>\n",
       "      <td>0.5793</td>\n",
       "      <td>0.5832</td>\n",
       "      <td>0.5871</td>\n",
       "      <td>0.5910</td>\n",
       "      <td>0.5948</td>\n",
       "      <td>0.5987</td>\n",
       "      <td>0.6026</td>\n",
       "      <td>0.6064</td>\n",
       "      <td>0.6103</td>\n",
       "      <td>0.6141</td>\n",
       "    </tr>\n",
       "    <tr>\n",
       "      <th>0.30</th>\n",
       "      <td>0.6179</td>\n",
       "      <td>0.6217</td>\n",
       "      <td>0.6255</td>\n",
       "      <td>0.6293</td>\n",
       "      <td>0.6331</td>\n",
       "      <td>0.6368</td>\n",
       "      <td>0.6406</td>\n",
       "      <td>0.6443</td>\n",
       "      <td>0.6480</td>\n",
       "      <td>0.6517</td>\n",
       "    </tr>\n",
       "    <tr>\n",
       "      <th>0.40</th>\n",
       "      <td>0.6554</td>\n",
       "      <td>0.6591</td>\n",
       "      <td>0.6628</td>\n",
       "      <td>0.6664</td>\n",
       "      <td>0.6700</td>\n",
       "      <td>0.6736</td>\n",
       "      <td>0.6772</td>\n",
       "      <td>0.6808</td>\n",
       "      <td>0.6844</td>\n",
       "      <td>0.6879</td>\n",
       "    </tr>\n",
       "    <tr>\n",
       "      <th>0.50</th>\n",
       "      <td>0.6915</td>\n",
       "      <td>0.6950</td>\n",
       "      <td>0.6985</td>\n",
       "      <td>0.7019</td>\n",
       "      <td>0.7054</td>\n",
       "      <td>0.7088</td>\n",
       "      <td>0.7123</td>\n",
       "      <td>0.7157</td>\n",
       "      <td>0.7190</td>\n",
       "      <td>0.7224</td>\n",
       "    </tr>\n",
       "    <tr>\n",
       "      <th>0.60</th>\n",
       "      <td>0.7257</td>\n",
       "      <td>0.7291</td>\n",
       "      <td>0.7324</td>\n",
       "      <td>0.7357</td>\n",
       "      <td>0.7389</td>\n",
       "      <td>0.7422</td>\n",
       "      <td>0.7454</td>\n",
       "      <td>0.7486</td>\n",
       "      <td>0.7517</td>\n",
       "      <td>0.7549</td>\n",
       "    </tr>\n",
       "    <tr>\n",
       "      <th>0.70</th>\n",
       "      <td>0.7580</td>\n",
       "      <td>0.7611</td>\n",
       "      <td>0.7642</td>\n",
       "      <td>0.7673</td>\n",
       "      <td>0.7704</td>\n",
       "      <td>0.7734</td>\n",
       "      <td>0.7764</td>\n",
       "      <td>0.7794</td>\n",
       "      <td>0.7823</td>\n",
       "      <td>0.7852</td>\n",
       "    </tr>\n",
       "    <tr>\n",
       "      <th>0.80</th>\n",
       "      <td>0.7881</td>\n",
       "      <td>0.7910</td>\n",
       "      <td>0.7939</td>\n",
       "      <td>0.7967</td>\n",
       "      <td>0.7995</td>\n",
       "      <td>0.8023</td>\n",
       "      <td>0.8051</td>\n",
       "      <td>0.8078</td>\n",
       "      <td>0.8106</td>\n",
       "      <td>0.8133</td>\n",
       "    </tr>\n",
       "    <tr>\n",
       "      <th>0.90</th>\n",
       "      <td>0.8159</td>\n",
       "      <td>0.8186</td>\n",
       "      <td>0.8212</td>\n",
       "      <td>0.8238</td>\n",
       "      <td>0.8264</td>\n",
       "      <td>0.8289</td>\n",
       "      <td>0.8315</td>\n",
       "      <td>0.8340</td>\n",
       "      <td>0.8365</td>\n",
       "      <td>0.8389</td>\n",
       "    </tr>\n",
       "    <tr>\n",
       "      <th>1.00</th>\n",
       "      <td>0.8413</td>\n",
       "      <td>0.8438</td>\n",
       "      <td>0.8461</td>\n",
       "      <td>0.8485</td>\n",
       "      <td>0.8508</td>\n",
       "      <td>0.8531</td>\n",
       "      <td>0.8554</td>\n",
       "      <td>0.8577</td>\n",
       "      <td>0.8599</td>\n",
       "      <td>0.8621</td>\n",
       "    </tr>\n",
       "    <tr>\n",
       "      <th>1.10</th>\n",
       "      <td>0.8643</td>\n",
       "      <td>0.8665</td>\n",
       "      <td>0.8686</td>\n",
       "      <td>0.8708</td>\n",
       "      <td>0.8729</td>\n",
       "      <td>0.8749</td>\n",
       "      <td>0.8770</td>\n",
       "      <td>0.8790</td>\n",
       "      <td>0.8810</td>\n",
       "      <td>0.8830</td>\n",
       "    </tr>\n",
       "    <tr>\n",
       "      <th>1.20</th>\n",
       "      <td>0.8849</td>\n",
       "      <td>0.8869</td>\n",
       "      <td>0.8888</td>\n",
       "      <td>0.8907</td>\n",
       "      <td>0.8925</td>\n",
       "      <td>0.8944</td>\n",
       "      <td>0.8962</td>\n",
       "      <td>0.8980</td>\n",
       "      <td>0.8997</td>\n",
       "      <td>0.9015</td>\n",
       "    </tr>\n",
       "    <tr>\n",
       "      <th>1.30</th>\n",
       "      <td>0.9032</td>\n",
       "      <td>0.9049</td>\n",
       "      <td>0.9066</td>\n",
       "      <td>0.9082</td>\n",
       "      <td>0.9099</td>\n",
       "      <td>0.9115</td>\n",
       "      <td>0.9131</td>\n",
       "      <td>0.9147</td>\n",
       "      <td>0.9162</td>\n",
       "      <td>0.9177</td>\n",
       "    </tr>\n",
       "    <tr>\n",
       "      <th>1.40</th>\n",
       "      <td>0.9192</td>\n",
       "      <td>0.9207</td>\n",
       "      <td>0.9222</td>\n",
       "      <td>0.9236</td>\n",
       "      <td>0.9251</td>\n",
       "      <td>0.9265</td>\n",
       "      <td>0.9279</td>\n",
       "      <td>0.9292</td>\n",
       "      <td>0.9306</td>\n",
       "      <td>0.9319</td>\n",
       "    </tr>\n",
       "    <tr>\n",
       "      <th>1.50</th>\n",
       "      <td>0.9332</td>\n",
       "      <td>0.9345</td>\n",
       "      <td>0.9357</td>\n",
       "      <td>0.9370</td>\n",
       "      <td>0.9382</td>\n",
       "      <td>0.9394</td>\n",
       "      <td>0.9406</td>\n",
       "      <td>0.9418</td>\n",
       "      <td>0.9429</td>\n",
       "      <td>0.9441</td>\n",
       "    </tr>\n",
       "    <tr>\n",
       "      <th>1.60</th>\n",
       "      <td>0.9452</td>\n",
       "      <td>0.9463</td>\n",
       "      <td>0.9474</td>\n",
       "      <td>0.9484</td>\n",
       "      <td>0.9495</td>\n",
       "      <td>0.9505</td>\n",
       "      <td>0.9515</td>\n",
       "      <td>0.9525</td>\n",
       "      <td>0.9535</td>\n",
       "      <td>0.9545</td>\n",
       "    </tr>\n",
       "    <tr>\n",
       "      <th>1.70</th>\n",
       "      <td>0.9554</td>\n",
       "      <td>0.9564</td>\n",
       "      <td>0.9573</td>\n",
       "      <td>0.9582</td>\n",
       "      <td>0.9591</td>\n",
       "      <td>0.9599</td>\n",
       "      <td>0.9608</td>\n",
       "      <td>0.9616</td>\n",
       "      <td>0.9625</td>\n",
       "      <td>0.9633</td>\n",
       "    </tr>\n",
       "    <tr>\n",
       "      <th>1.80</th>\n",
       "      <td>0.9641</td>\n",
       "      <td>0.9649</td>\n",
       "      <td>0.9656</td>\n",
       "      <td>0.9664</td>\n",
       "      <td>0.9671</td>\n",
       "      <td>0.9678</td>\n",
       "      <td>0.9686</td>\n",
       "      <td>0.9693</td>\n",
       "      <td>0.9699</td>\n",
       "      <td>0.9706</td>\n",
       "    </tr>\n",
       "    <tr>\n",
       "      <th>1.90</th>\n",
       "      <td>0.9713</td>\n",
       "      <td>0.9719</td>\n",
       "      <td>0.9726</td>\n",
       "      <td>0.9732</td>\n",
       "      <td>0.9738</td>\n",
       "      <td>0.9744</td>\n",
       "      <td>0.9750</td>\n",
       "      <td>0.9756</td>\n",
       "      <td>0.9761</td>\n",
       "      <td>0.9767</td>\n",
       "    </tr>\n",
       "    <tr>\n",
       "      <th>2.00</th>\n",
       "      <td>0.9772</td>\n",
       "      <td>0.9778</td>\n",
       "      <td>0.9783</td>\n",
       "      <td>0.9788</td>\n",
       "      <td>0.9793</td>\n",
       "      <td>0.9798</td>\n",
       "      <td>0.9803</td>\n",
       "      <td>0.9808</td>\n",
       "      <td>0.9812</td>\n",
       "      <td>0.9817</td>\n",
       "    </tr>\n",
       "    <tr>\n",
       "      <th>2.10</th>\n",
       "      <td>0.9821</td>\n",
       "      <td>0.9826</td>\n",
       "      <td>0.9830</td>\n",
       "      <td>0.9834</td>\n",
       "      <td>0.9838</td>\n",
       "      <td>0.9842</td>\n",
       "      <td>0.9846</td>\n",
       "      <td>0.9850</td>\n",
       "      <td>0.9854</td>\n",
       "      <td>0.9857</td>\n",
       "    </tr>\n",
       "    <tr>\n",
       "      <th>2.20</th>\n",
       "      <td>0.9861</td>\n",
       "      <td>0.9864</td>\n",
       "      <td>0.9868</td>\n",
       "      <td>0.9871</td>\n",
       "      <td>0.9875</td>\n",
       "      <td>0.9878</td>\n",
       "      <td>0.9881</td>\n",
       "      <td>0.9884</td>\n",
       "      <td>0.9887</td>\n",
       "      <td>0.9890</td>\n",
       "    </tr>\n",
       "    <tr>\n",
       "      <th>2.30</th>\n",
       "      <td>0.9893</td>\n",
       "      <td>0.9896</td>\n",
       "      <td>0.9898</td>\n",
       "      <td>0.9901</td>\n",
       "      <td>0.9904</td>\n",
       "      <td>0.9906</td>\n",
       "      <td>0.9909</td>\n",
       "      <td>0.9911</td>\n",
       "      <td>0.9913</td>\n",
       "      <td>0.9916</td>\n",
       "    </tr>\n",
       "    <tr>\n",
       "      <th>2.40</th>\n",
       "      <td>0.9918</td>\n",
       "      <td>0.9920</td>\n",
       "      <td>0.9922</td>\n",
       "      <td>0.9925</td>\n",
       "      <td>0.9927</td>\n",
       "      <td>0.9929</td>\n",
       "      <td>0.9931</td>\n",
       "      <td>0.9932</td>\n",
       "      <td>0.9934</td>\n",
       "      <td>0.9936</td>\n",
       "    </tr>\n",
       "    <tr>\n",
       "      <th>2.50</th>\n",
       "      <td>0.9938</td>\n",
       "      <td>0.9940</td>\n",
       "      <td>0.9941</td>\n",
       "      <td>0.9943</td>\n",
       "      <td>0.9945</td>\n",
       "      <td>0.9946</td>\n",
       "      <td>0.9948</td>\n",
       "      <td>0.9949</td>\n",
       "      <td>0.9951</td>\n",
       "      <td>0.9952</td>\n",
       "    </tr>\n",
       "    <tr>\n",
       "      <th>2.60</th>\n",
       "      <td>0.9953</td>\n",
       "      <td>0.9955</td>\n",
       "      <td>0.9956</td>\n",
       "      <td>0.9957</td>\n",
       "      <td>0.9959</td>\n",
       "      <td>0.9960</td>\n",
       "      <td>0.9961</td>\n",
       "      <td>0.9962</td>\n",
       "      <td>0.9963</td>\n",
       "      <td>0.9964</td>\n",
       "    </tr>\n",
       "    <tr>\n",
       "      <th>2.70</th>\n",
       "      <td>0.9965</td>\n",
       "      <td>0.9966</td>\n",
       "      <td>0.9967</td>\n",
       "      <td>0.9968</td>\n",
       "      <td>0.9969</td>\n",
       "      <td>0.9970</td>\n",
       "      <td>0.9971</td>\n",
       "      <td>0.9972</td>\n",
       "      <td>0.9973</td>\n",
       "      <td>0.9974</td>\n",
       "    </tr>\n",
       "    <tr>\n",
       "      <th>2.80</th>\n",
       "      <td>0.9974</td>\n",
       "      <td>0.9975</td>\n",
       "      <td>0.9976</td>\n",
       "      <td>0.9977</td>\n",
       "      <td>0.9977</td>\n",
       "      <td>0.9978</td>\n",
       "      <td>0.9979</td>\n",
       "      <td>0.9979</td>\n",
       "      <td>0.9980</td>\n",
       "      <td>0.9981</td>\n",
       "    </tr>\n",
       "    <tr>\n",
       "      <th>2.90</th>\n",
       "      <td>0.9981</td>\n",
       "      <td>0.9982</td>\n",
       "      <td>0.9982</td>\n",
       "      <td>0.9983</td>\n",
       "      <td>0.9984</td>\n",
       "      <td>0.9984</td>\n",
       "      <td>0.9985</td>\n",
       "      <td>0.9985</td>\n",
       "      <td>0.9986</td>\n",
       "      <td>0.9986</td>\n",
       "    </tr>\n",
       "    <tr>\n",
       "      <th>3.00</th>\n",
       "      <td>0.9987</td>\n",
       "      <td>0.9987</td>\n",
       "      <td>0.9987</td>\n",
       "      <td>0.9988</td>\n",
       "      <td>0.9988</td>\n",
       "      <td>0.9989</td>\n",
       "      <td>0.9989</td>\n",
       "      <td>0.9989</td>\n",
       "      <td>0.9990</td>\n",
       "      <td>0.9990</td>\n",
       "    </tr>\n",
       "    <tr>\n",
       "      <th>3.10</th>\n",
       "      <td>0.9990</td>\n",
       "      <td>0.9991</td>\n",
       "      <td>0.9991</td>\n",
       "      <td>0.9991</td>\n",
       "      <td>0.9992</td>\n",
       "      <td>0.9992</td>\n",
       "      <td>0.9992</td>\n",
       "      <td>0.9992</td>\n",
       "      <td>0.9993</td>\n",
       "      <td>0.9993</td>\n",
       "    </tr>\n",
       "    <tr>\n",
       "      <th>3.20</th>\n",
       "      <td>0.9993</td>\n",
       "      <td>0.9993</td>\n",
       "      <td>0.9994</td>\n",
       "      <td>0.9994</td>\n",
       "      <td>0.9994</td>\n",
       "      <td>0.9994</td>\n",
       "      <td>0.9994</td>\n",
       "      <td>0.9995</td>\n",
       "      <td>0.9995</td>\n",
       "      <td>0.9995</td>\n",
       "    </tr>\n",
       "    <tr>\n",
       "      <th>3.30</th>\n",
       "      <td>0.9995</td>\n",
       "      <td>0.9995</td>\n",
       "      <td>0.9995</td>\n",
       "      <td>0.9996</td>\n",
       "      <td>0.9996</td>\n",
       "      <td>0.9996</td>\n",
       "      <td>0.9996</td>\n",
       "      <td>0.9996</td>\n",
       "      <td>0.9996</td>\n",
       "      <td>0.9997</td>\n",
       "    </tr>\n",
       "    <tr>\n",
       "      <th>3.40</th>\n",
       "      <td>0.9997</td>\n",
       "      <td>0.9997</td>\n",
       "      <td>0.9997</td>\n",
       "      <td>0.9997</td>\n",
       "      <td>0.9997</td>\n",
       "      <td>0.9997</td>\n",
       "      <td>0.9997</td>\n",
       "      <td>0.9997</td>\n",
       "      <td>0.9997</td>\n",
       "      <td>0.9998</td>\n",
       "    </tr>\n",
       "    <tr>\n",
       "      <th>3.50</th>\n",
       "      <td>0.9998</td>\n",
       "      <td>0.9998</td>\n",
       "      <td>0.9998</td>\n",
       "      <td>0.9998</td>\n",
       "      <td>0.9998</td>\n",
       "      <td>0.9998</td>\n",
       "      <td>0.9998</td>\n",
       "      <td>0.9998</td>\n",
       "      <td>0.9998</td>\n",
       "      <td>0.9998</td>\n",
       "    </tr>\n",
       "    <tr>\n",
       "      <th>3.60</th>\n",
       "      <td>0.9998</td>\n",
       "      <td>0.9998</td>\n",
       "      <td>0.9999</td>\n",
       "      <td>0.9999</td>\n",
       "      <td>0.9999</td>\n",
       "      <td>0.9999</td>\n",
       "      <td>0.9999</td>\n",
       "      <td>0.9999</td>\n",
       "      <td>0.9999</td>\n",
       "      <td>0.9999</td>\n",
       "    </tr>\n",
       "    <tr>\n",
       "      <th>3.70</th>\n",
       "      <td>0.9999</td>\n",
       "      <td>0.9999</td>\n",
       "      <td>0.9999</td>\n",
       "      <td>0.9999</td>\n",
       "      <td>0.9999</td>\n",
       "      <td>0.9999</td>\n",
       "      <td>0.9999</td>\n",
       "      <td>0.9999</td>\n",
       "      <td>0.9999</td>\n",
       "      <td>0.9999</td>\n",
       "    </tr>\n",
       "    <tr>\n",
       "      <th>3.80</th>\n",
       "      <td>0.9999</td>\n",
       "      <td>0.9999</td>\n",
       "      <td>0.9999</td>\n",
       "      <td>0.9999</td>\n",
       "      <td>0.9999</td>\n",
       "      <td>0.9999</td>\n",
       "      <td>0.9999</td>\n",
       "      <td>0.9999</td>\n",
       "      <td>0.9999</td>\n",
       "      <td>0.9999</td>\n",
       "    </tr>\n",
       "    <tr>\n",
       "      <th>3.90</th>\n",
       "      <td>1.0000</td>\n",
       "      <td>1.0000</td>\n",
       "      <td>1.0000</td>\n",
       "      <td>1.0000</td>\n",
       "      <td>1.0000</td>\n",
       "      <td>1.0000</td>\n",
       "      <td>1.0000</td>\n",
       "      <td>1.0000</td>\n",
       "      <td>1.0000</td>\n",
       "      <td>1.0000</td>\n",
       "    </tr>\n",
       "  </tbody>\n",
       "</table>\n",
       "</div>"
      ],
      "text/plain": [
       "Z       0.00    0.01    0.02    0.03    0.04    0.05    0.06    0.07    0.08  \\\n",
       "0.00  0.5000  0.5040  0.5080  0.5120  0.5160  0.5199  0.5239  0.5279  0.5319   \n",
       "0.10  0.5398  0.5438  0.5478  0.5517  0.5557  0.5596  0.5636  0.5675  0.5714   \n",
       "0.20  0.5793  0.5832  0.5871  0.5910  0.5948  0.5987  0.6026  0.6064  0.6103   \n",
       "0.30  0.6179  0.6217  0.6255  0.6293  0.6331  0.6368  0.6406  0.6443  0.6480   \n",
       "0.40  0.6554  0.6591  0.6628  0.6664  0.6700  0.6736  0.6772  0.6808  0.6844   \n",
       "0.50  0.6915  0.6950  0.6985  0.7019  0.7054  0.7088  0.7123  0.7157  0.7190   \n",
       "0.60  0.7257  0.7291  0.7324  0.7357  0.7389  0.7422  0.7454  0.7486  0.7517   \n",
       "0.70  0.7580  0.7611  0.7642  0.7673  0.7704  0.7734  0.7764  0.7794  0.7823   \n",
       "0.80  0.7881  0.7910  0.7939  0.7967  0.7995  0.8023  0.8051  0.8078  0.8106   \n",
       "0.90  0.8159  0.8186  0.8212  0.8238  0.8264  0.8289  0.8315  0.8340  0.8365   \n",
       "1.00  0.8413  0.8438  0.8461  0.8485  0.8508  0.8531  0.8554  0.8577  0.8599   \n",
       "1.10  0.8643  0.8665  0.8686  0.8708  0.8729  0.8749  0.8770  0.8790  0.8810   \n",
       "1.20  0.8849  0.8869  0.8888  0.8907  0.8925  0.8944  0.8962  0.8980  0.8997   \n",
       "1.30  0.9032  0.9049  0.9066  0.9082  0.9099  0.9115  0.9131  0.9147  0.9162   \n",
       "1.40  0.9192  0.9207  0.9222  0.9236  0.9251  0.9265  0.9279  0.9292  0.9306   \n",
       "1.50  0.9332  0.9345  0.9357  0.9370  0.9382  0.9394  0.9406  0.9418  0.9429   \n",
       "1.60  0.9452  0.9463  0.9474  0.9484  0.9495  0.9505  0.9515  0.9525  0.9535   \n",
       "1.70  0.9554  0.9564  0.9573  0.9582  0.9591  0.9599  0.9608  0.9616  0.9625   \n",
       "1.80  0.9641  0.9649  0.9656  0.9664  0.9671  0.9678  0.9686  0.9693  0.9699   \n",
       "1.90  0.9713  0.9719  0.9726  0.9732  0.9738  0.9744  0.9750  0.9756  0.9761   \n",
       "2.00  0.9772  0.9778  0.9783  0.9788  0.9793  0.9798  0.9803  0.9808  0.9812   \n",
       "2.10  0.9821  0.9826  0.9830  0.9834  0.9838  0.9842  0.9846  0.9850  0.9854   \n",
       "2.20  0.9861  0.9864  0.9868  0.9871  0.9875  0.9878  0.9881  0.9884  0.9887   \n",
       "2.30  0.9893  0.9896  0.9898  0.9901  0.9904  0.9906  0.9909  0.9911  0.9913   \n",
       "2.40  0.9918  0.9920  0.9922  0.9925  0.9927  0.9929  0.9931  0.9932  0.9934   \n",
       "2.50  0.9938  0.9940  0.9941  0.9943  0.9945  0.9946  0.9948  0.9949  0.9951   \n",
       "2.60  0.9953  0.9955  0.9956  0.9957  0.9959  0.9960  0.9961  0.9962  0.9963   \n",
       "2.70  0.9965  0.9966  0.9967  0.9968  0.9969  0.9970  0.9971  0.9972  0.9973   \n",
       "2.80  0.9974  0.9975  0.9976  0.9977  0.9977  0.9978  0.9979  0.9979  0.9980   \n",
       "2.90  0.9981  0.9982  0.9982  0.9983  0.9984  0.9984  0.9985  0.9985  0.9986   \n",
       "3.00  0.9987  0.9987  0.9987  0.9988  0.9988  0.9989  0.9989  0.9989  0.9990   \n",
       "3.10  0.9990  0.9991  0.9991  0.9991  0.9992  0.9992  0.9992  0.9992  0.9993   \n",
       "3.20  0.9993  0.9993  0.9994  0.9994  0.9994  0.9994  0.9994  0.9995  0.9995   \n",
       "3.30  0.9995  0.9995  0.9995  0.9996  0.9996  0.9996  0.9996  0.9996  0.9996   \n",
       "3.40  0.9997  0.9997  0.9997  0.9997  0.9997  0.9997  0.9997  0.9997  0.9997   \n",
       "3.50  0.9998  0.9998  0.9998  0.9998  0.9998  0.9998  0.9998  0.9998  0.9998   \n",
       "3.60  0.9998  0.9998  0.9999  0.9999  0.9999  0.9999  0.9999  0.9999  0.9999   \n",
       "3.70  0.9999  0.9999  0.9999  0.9999  0.9999  0.9999  0.9999  0.9999  0.9999   \n",
       "3.80  0.9999  0.9999  0.9999  0.9999  0.9999  0.9999  0.9999  0.9999  0.9999   \n",
       "3.90  1.0000  1.0000  1.0000  1.0000  1.0000  1.0000  1.0000  1.0000  1.0000   \n",
       "\n",
       "Z       0.09  \n",
       "0.00  0.5359  \n",
       "0.10  0.5753  \n",
       "0.20  0.6141  \n",
       "0.30  0.6517  \n",
       "0.40  0.6879  \n",
       "0.50  0.7224  \n",
       "0.60  0.7549  \n",
       "0.70  0.7852  \n",
       "0.80  0.8133  \n",
       "0.90  0.8389  \n",
       "1.00  0.8621  \n",
       "1.10  0.8830  \n",
       "1.20  0.9015  \n",
       "1.30  0.9177  \n",
       "1.40  0.9319  \n",
       "1.50  0.9441  \n",
       "1.60  0.9545  \n",
       "1.70  0.9633  \n",
       "1.80  0.9706  \n",
       "1.90  0.9767  \n",
       "2.00  0.9817  \n",
       "2.10  0.9857  \n",
       "2.20  0.9890  \n",
       "2.30  0.9916  \n",
       "2.40  0.9936  \n",
       "2.50  0.9952  \n",
       "2.60  0.9964  \n",
       "2.70  0.9974  \n",
       "2.80  0.9981  \n",
       "2.90  0.9986  \n",
       "3.00  0.9990  \n",
       "3.10  0.9993  \n",
       "3.20  0.9995  \n",
       "3.30  0.9997  \n",
       "3.40  0.9998  \n",
       "3.50  0.9998  \n",
       "3.60  0.9999  \n",
       "3.70  0.9999  \n",
       "3.80  0.9999  \n",
       "3.90  1.0000  "
      ]
     },
     "execution_count": 25,
     "metadata": {},
     "output_type": "execute_result"
    }
   ],
   "source": [
    "from scipy.stats import norm\n",
    "\n",
    "tabela_normal_padronizada = pd.DataFrame(\n",
    "    [], \n",
    "    index=[\"{0:0.2f}\".format(i / 100) for i in range(0, 400, 10)],\n",
    "    columns = [\"{0:0.2f}\".format(i / 100) for i in range(0, 10)])\n",
    "\n",
    "for index in tabela_normal_padronizada.index:\n",
    "    for column in tabela_normal_padronizada.columns:\n",
    "        Z = np.round(float(index) + float(column), 2)\n",
    "        tabela_normal_padronizada.loc[index, column] = \"{0:0.4f}\".format(norm.cdf(Z))\n",
    "\n",
    "tabela_normal_padronizada.rename_axis('Z', axis = 'columns', inplace = True)\n",
    "\n",
    "tabela_normal_padronizada"
   ]
  },
  {
   "cell_type": "markdown",
   "metadata": {},
   "source": [
    "### Problema \n",
    "Em um estudo sobre as alturas dos moradores de uma cidade verificou-se que o conjunto de dados segue uma **distribuição aproximadamente normal**, com **média 1,70** e **desvio padrão de 0,1**. Com estas informações obtenha o seguinte conjunto de probabilidades:\n",
    "\n",
    "### **A.** probabilidade de uma pessoa, selecionada ao acaso, ter menos de 1,80 metros.\n",
    "\n",
    "<img style='float: left' src='https://caelum-online-public.s3.amazonaws.com/1178-estatistica-parte2/01/img004.png' width='350px'>"
   ]
  },
  {
   "cell_type": "code",
   "execution_count": 26,
   "metadata": {},
   "outputs": [
    {
     "data": {
      "text/plain": [
       "1.0000000000000009"
      ]
     },
     "execution_count": 26,
     "metadata": {},
     "output_type": "execute_result"
    }
   ],
   "source": [
    "media = 1.70\n",
    "desvio_padrao = 0.1\n",
    "z = (1.80 - media)/desvio_padrao\n",
    "z"
   ]
  },
  {
   "cell_type": "markdown",
   "metadata": {},
   "source": [
    "#### Solução 1 - Utilizando tabela\n",
    "\n",
    ">1. Para utilizar a tabela, devo ter mente o uso dos index e das colunas.\n",
    "    \n",
    ">2. Se meu z tivesse 1 casa decimal, ou seja, fosse 0.1 -> eu iria no index 0.1 e na coluna 0, pois somando os dois daria 0.1 \n",
    "    \n",
    ">3. Se meu z tivesse 2 casas decimais, ou seja, fosse 0.15 -> eu iria no index 0.1 e na coluna 0.05, pois somando os dois daria 0.15 \n",
    "    \n",
    ">4. Com isso, eu acharia a minha probabilidade através da tabela\n",
    "    \n",
    ">5. No caso atual, fui até o index 1 e na coluna 0, pois a soma da 1 que é igual ao valor do nosso z\n",
    "    \n",
    ">6. A partir disso, acho a probabilidade em questão"
   ]
  },
  {
   "cell_type": "code",
   "execution_count": 27,
   "metadata": {},
   "outputs": [
    {
     "data": {
      "text/plain": [
       "0.8413"
      ]
     },
     "execution_count": 27,
     "metadata": {},
     "output_type": "execute_result"
    }
   ],
   "source": [
    "probabilidade = 0.8413\n",
    "probabilidade"
   ]
  },
  {
   "cell_type": "markdown",
   "metadata": {},
   "source": [
    "#### Solução 2 - Utilizando Scipy"
   ]
  },
  {
   "cell_type": "code",
   "execution_count": 28,
   "metadata": {},
   "outputs": [
    {
     "data": {
      "text/plain": [
       "0.8413447460685431"
      ]
     },
     "execution_count": 28,
     "metadata": {},
     "output_type": "execute_result"
    }
   ],
   "source": [
    "from scipy.stats import norm\n",
    "norm.cdf(z)"
   ]
  },
  {
   "cell_type": "markdown",
   "metadata": {},
   "source": [
    "### **B.** probabilidade de uma pessoa, selecionada ao acaso, ter entre 1,60 metros e 1,80 metros.    \n",
    "\n",
    "<img style='float: left' src='https://caelum-online-public.s3.amazonaws.com/1178-estatistica-parte2/01/img005.png' width='350px'>"
   ]
  },
  {
   "cell_type": "markdown",
   "metadata": {},
   "source": [
    "#### Solução 1 - Utilizando tabela"
   ]
  },
  {
   "cell_type": "code",
   "execution_count": 29,
   "metadata": {},
   "outputs": [
    {
     "name": "stdout",
     "output_type": "stream",
     "text": [
      "1.0000000000000009\n",
      "0.0\n"
     ]
    }
   ],
   "source": [
    "media = 1.70\n",
    "desvio_padrao = 0.1\n",
    "\n",
    "z1 = (1.80 - media)/desvio_padrao\n",
    "print(z1)\n",
    "\n",
    "z2 = (1.70 - media)/desvio_padrao\n",
    "print(z2)"
   ]
  },
  {
   "cell_type": "code",
   "execution_count": 30,
   "metadata": {},
   "outputs": [
    {
     "name": "stdout",
     "output_type": "stream",
     "text": [
      "0.8413447460685431\n",
      "0.5\n"
     ]
    }
   ],
   "source": [
    "probabilidade_1 = norm.cdf(z1)\n",
    "print(probabilidade_1)\n",
    "\n",
    "probabilidade_2 = norm.cdf(z2)\n",
    "print(probabilidade_2)"
   ]
  },
  {
   "cell_type": "code",
   "execution_count": 31,
   "metadata": {},
   "outputs": [
    {
     "data": {
      "text/plain": [
       "0.6826894921370863"
      ]
     },
     "execution_count": 31,
     "metadata": {},
     "output_type": "execute_result"
    }
   ],
   "source": [
    "probabilidade_1_menos_2 = probabilidade_1 - probabilidade_2\n",
    "probabilidade_final = 2 * probabilidade_1_menos_2\n",
    "probabilidade_final"
   ]
  },
  {
   "cell_type": "markdown",
   "metadata": {},
   "source": [
    "#### Solução 2 - Utilizando Scipy"
   ]
  },
  {
   "cell_type": "code",
   "execution_count": 32,
   "metadata": {},
   "outputs": [
    {
     "name": "stdout",
     "output_type": "stream",
     "text": [
      "1.0000000000000009\n",
      "-0.9999999999999987\n"
     ]
    }
   ],
   "source": [
    "z_superior = (1.80 - media)/desvio_padrao\n",
    "z_inferior = (1.60 - media)/desvio_padrao\n",
    "print(z_superior)\n",
    "print(z_inferior)"
   ]
  },
  {
   "cell_type": "code",
   "execution_count": 33,
   "metadata": {},
   "outputs": [
    {
     "name": "stdout",
     "output_type": "stream",
     "text": [
      "0.6826894921370863\n",
      "0.6826894921370857\n"
     ]
    }
   ],
   "source": [
    "probabilidade = norm.cdf(z_superior) - (1 - norm.cdf(z_superior)) #O gráfico é simétrico\n",
    "print(probabilidade)\n",
    "\n",
    "probabilidade = norm.cdf(z_superior) - (norm.cdf(z_inferior)) \n",
    "print(probabilidade)"
   ]
  },
  {
   "cell_type": "markdown",
   "metadata": {},
   "source": [
    "### **C.** probabilidade de uma pessoa, selecionada ao acaso, ter mais de 1,90 metros.\n",
    "\n",
    "<img style='float: left' src='https://caelum-online-public.s3.amazonaws.com/1178-estatistica-parte2/01/img006.png' width='350px'>"
   ]
  },
  {
   "cell_type": "markdown",
   "metadata": {},
   "source": [
    "#### Solução 1 - Utilizando tabela"
   ]
  },
  {
   "cell_type": "code",
   "execution_count": 34,
   "metadata": {},
   "outputs": [
    {
     "data": {
      "text/plain": [
       "0.023299999999999987"
      ]
     },
     "execution_count": 34,
     "metadata": {},
     "output_type": "execute_result"
    }
   ],
   "source": [
    "probabilidade = 1 - 0.9767\n",
    "probabilidade"
   ]
  },
  {
   "cell_type": "markdown",
   "metadata": {},
   "source": [
    "#### Solução 2 - Utilizando Scipy"
   ]
  },
  {
   "cell_type": "code",
   "execution_count": 35,
   "metadata": {},
   "outputs": [
    {
     "name": "stdout",
     "output_type": "stream",
     "text": [
      "0.15865525393145685\n",
      "0.15865525393145685\n"
     ]
    }
   ],
   "source": [
    "probabilidade = 1 - norm.cdf(z)\n",
    "print(probabilidade)\n",
    "\n",
    "probabilidade = norm.cdf(-z) # Se eu passar um valor negativo, o método cdf entende que quero a probabilidade contrária\n",
    "print(probabilidade)"
   ]
  },
  {
   "cell_type": "markdown",
   "metadata": {},
   "source": [
    "## 6.3) Distribuição Binomial - Correção pela continuidade\n",
    "\n",
    "<img src='./img33.png' width='70%'>\n",
    "<img src='./img34.png' width='70%'>\n",
    "\n",
    "### Média\n",
    "\n",
    "# $$\\mu ={n}{p}$$\n",
    "\n",
    "### Desvio Padrão\n",
    "\n",
    "# $$\\sigma = \\sqrt{{n}{p}{q}}$$\n",
    "\n",
    "Onde:\n",
    "\n",
    "$n$ = número de tentativas\n",
    "\n",
    "$p$ = probabilidade de sucesso\n",
    "\n",
    "$q$ = probabilidade de fracasso"
   ]
  },
  {
   "cell_type": "markdown",
   "metadata": {},
   "source": [
    "## 6.4) Distribuição Exponencial \n",
    "\n",
    "> CONSULTAR:\n",
    "\n",
    "https://towardsdatascience.com/7-statistical-distributions-that-every-data-scientist-should-know-with-intuitive-explanations-bf967db81f0b\n",
    "\n",
    "<img src='./img259.png' width='70%'>\n",
    "<img src='./img260.png' width='70%'>"
   ]
  },
  {
   "cell_type": "markdown",
   "metadata": {},
   "source": [
    "## 6.5) Testes de Normalidade\n",
    "\n",
    "> 1. O intuito é testar se nossa amostra segue uma Distribuição Normal ou não."
   ]
  },
  {
   "cell_type": "code",
   "execution_count": 36,
   "metadata": {},
   "outputs": [],
   "source": [
    "enem_tupa = enem_sp.loc[enem_sp.NO_MUNICIPIO_RESIDENCIA == 'Tupã']"
   ]
  },
  {
   "cell_type": "markdown",
   "metadata": {},
   "source": [
    "### Histograma"
   ]
  },
  {
   "cell_type": "code",
   "execution_count": 37,
   "metadata": {},
   "outputs": [
    {
     "data": {
      "image/png": "[encoded data removed]",
      "text/plain": [
       "<Figure size 720x576 with 1 Axes>"
      ]
     },
     "metadata": {
      "needs_background": "light"
     },
     "output_type": "display_data"
    },
    {
     "data": {
      "image/png": "[encoded data removed]",
      "text/plain": [
       "<Figure size 720x576 with 1 Axes>"
      ]
     },
     "metadata": {
      "needs_background": "light"
     },
     "output_type": "display_data"
    }
   ],
   "source": [
    "plt.figure(figsize = (10,8))\n",
    "plt.subplot(2, 2, 1)\n",
    "sns.histplot(enem_sp, x = 'NOTA_REDACAO', bins= 32, kde = 32, color = 'orange', stat = 'probability')\n",
    "plt.title('Distribuição de Notas de Redação São Paulo', fontsize = 15)\n",
    "plt.xlabel('Nota Redação')\n",
    "plt.ylabel('Contagem')\n",
    "plt.show()\n",
    "\n",
    "plt.figure(figsize = (10,8))\n",
    "plt.subplot(2, 2, 2)\n",
    "sns.histplot(enem_tupa, x = 'NOTA_REDACAO', bins= 32, kde = 32, color = 'orange', stat = 'probability')\n",
    "plt.title('Distribuição de Notas de Redação Tupã', fontsize = 15)\n",
    "plt.xlabel('Nota Redação')\n",
    "plt.ylabel('Contagem')\n",
    "plt.show()"
   ]
  },
  {
   "cell_type": "markdown",
   "metadata": {},
   "source": [
    "* Veja que aparentemente a Distribuição de São Paulo (população) é Normal, ao passo que a Distribuição de Tupã (amostra) aparenta não ser"
   ]
  },
  {
   "cell_type": "markdown",
   "metadata": {},
   "source": [
    "* Veja que olhando o Histograma, São Paulo parecia ser normal e Tupã não.\n",
    "\n",
    "* Vendo agora um teste matemático de QQPlot, perceba como os dados se adequam muito mais à reta quando se trata Tupã, ou seja, matematicamente São Paulo não segue uma Distribuição Normal, mas Tupã segue."
   ]
  },
  {
   "cell_type": "markdown",
   "metadata": {},
   "source": [
    "### QQPlot"
   ]
  },
  {
   "cell_type": "code",
   "execution_count": 38,
   "metadata": {},
   "outputs": [
    {
     "data": {
      "image/png": "[encoded data removed]",
      "text/plain": [
       "<Figure size 720x576 with 1 Axes>"
      ]
     },
     "metadata": {
      "needs_background": "light"
     },
     "output_type": "display_data"
    },
    {
     "data": {
      "image/png": "[encoded data removed]",
      "text/plain": [
       "<Figure size 720x576 with 1 Axes>"
      ]
     },
     "metadata": {
      "needs_background": "light"
     },
     "output_type": "display_data"
    }
   ],
   "source": [
    "import scipy.stats as stats\n",
    "\n",
    "plt.figure(figsize = (10,8))\n",
    "plt.subplot(2, 2, 1)\n",
    "stats.probplot(enem_sp['NOTA_REDACAO'], dist = 'norm', plot = plt)\n",
    "plt.title('Normal QQPlot São Paulo')\n",
    "plt.show()\n",
    "\n",
    "plt.figure(figsize = (10,8))\n",
    "plt.subplot(2, 2, 2)\n",
    "stats.probplot(enem_tupa['NOTA_REDACAO'], dist = 'norm', plot = plt)\n",
    "plt.title('Normal QQPlot Tupã')\n",
    "plt.show()"
   ]
  },
  {
   "cell_type": "markdown",
   "metadata": {},
   "source": [
    "### Teste de Shapiro-Wilk (Limite de 5000 amostras)\n",
    "\n",
    "> 1. Critérios:\n",
    "\n",
    "* Nível de Significância de 0.05 ou 5% (MAIS UTILIZADO)\n",
    "\n",
    "Quando pvalue > 0.05 (Distribuição Normal)"
   ]
  },
  {
   "cell_type": "code",
   "execution_count": 39,
   "metadata": {},
   "outputs": [
    {
     "name": "stdout",
     "output_type": "stream",
     "text": [
      " São Paulo: ShapiroResult(statistic=0.9648149609565735, pvalue=0.0)\n",
      " Tupã: ShapiroResult(statistic=0.9733085632324219, pvalue=3.542090354358152e-08)\n"
     ]
    },
    {
     "name": "stderr",
     "output_type": "stream",
     "text": [
      "c:\\Users\\leova\\anaconda3\\lib\\site-packages\\scipy\\stats\\morestats.py:1760: UserWarning: p-value may not be accurate for N > 5000.\n",
      "  warnings.warn(\"p-value may not be accurate for N > 5000.\")\n"
     ]
    }
   ],
   "source": [
    "print(f' São Paulo: {stats.shapiro(enem_sp.NOTA_REDACAO)}')\n",
    "print(f' Tupã: {stats.shapiro(enem_tupa.NOTA_REDACAO)}')"
   ]
  },
  {
   "cell_type": "markdown",
   "metadata": {},
   "source": [
    "* O Teste de Shaipiro-Wilk não funciona para São Paulo, pois temos um número muito maior do que 5000 amostras.\n",
    "\n",
    "* Para Tupã, o Teste de Shaipiro-Wilk negou a hipótese de que as Notas de Redação seguem uma Distribuição Normal"
   ]
  },
  {
   "cell_type": "markdown",
   "metadata": {},
   "source": [
    "### Teste de Kolmogorov_Smirnov\n",
    "\n",
    "> 1. Critérios:\n",
    "\n",
    "* Nível de Significância de 0.05 ou 5% (MAIS UTILIZADO)\n",
    "\n",
    "Quando pvalue > 0.05 (Distribuição Normal)"
   ]
  },
  {
   "cell_type": "code",
   "execution_count": 40,
   "metadata": {},
   "outputs": [
    {
     "name": "stdout",
     "output_type": "stream",
     "text": [
      "(0.0831243667968013, 0.0009999999999998899)\n",
      "(0.053966451207192984, 0.0020401155999012818)\n"
     ]
    }
   ],
   "source": [
    "import statsmodels\n",
    "from statsmodels.stats.diagnostic import lilliefors\n",
    "\n",
    "print(statsmodels.stats.diagnostic.lilliefors(enem_sp.NOTA_REDACAO, dist = 'norm'))\n",
    "print(statsmodels.stats.diagnostic.lilliefors(enem_tupa.NOTA_REDACAO, dist = 'norm'))\n"
   ]
  },
  {
   "cell_type": "markdown",
   "metadata": {},
   "source": [
    "* Confirmamos pelo Teste de Kolmogorov_Smirnov que a Distribução de Notas de Redação de São Paulo e Tupã não seguem a Distribuição Normal"
   ]
  },
  {
   "cell_type": "markdown",
   "metadata": {},
   "source": [
    "# <font color='red' style='font-size: 40px;'> 7.0 Como escolher a Melhor Distribuição? </font>"
   ]
  },
  {
   "cell_type": "markdown",
   "metadata": {},
   "source": [
    "**A priori**\n",
    "\n",
    "As distribuições de probabilidade, também conhecidas como modelos ou lei de probabilidade, são muito úteis em modelagem e problemas que exijam uma inferência a partir de uma amostra coletada. Traduzindo, elas facilitam muito a sua vida na hora de tomar uma decisão.\n",
    "\n",
    "No entanto, dentre tantas uma pergunta frequente é qual distribuição de probabilidade devo utilizar baseado nos dados que eu tenho? Para a maioria dos casos o fenômeno define sua distribuição, basta verificar qual a natureza da sua variável que está sendo analisada, mas também temos ferramentas para definir qual distribuição utilizar baseado em informações extraídas de nossa amostra.\n",
    "\n",
    "Vejamos então algumas situações e quais são as distribuições mais adequadas para cada caso.\n",
    "\n",
    "### 7.1) Quando estou trabalhando com dados de contagem\n",
    "\n",
    "Se você está estudando a contagem de algum evento, como número de peças produzidas, número de folhas por ramo, quantas formigas em um formigueiro e exemplos similares, então provavelmente o uso de uma Poisson para modelar a probabilidade deste evento seja adequado. Por exemplo, se eu quero estudar a produção de café de determinada plantação, coleto dados de quantos grãos foram coletados de cada pé e calculo uma média de quantos grãos cada pé produziu. Com isso é possível verificar, por exemplo, qual a probabilidade de um pé produzir uma quantidade de grãos duas vezes acima da média.\n",
    "\n",
    "Mas atenção, para utilizar a distribuição de Poisson uma das condições necessárias é que a média e a variância de sua amostra sejam próximas, caso contrário o modelo de Poisson não é adequado. Quando temos média e variância muito distantes, é recomendado utilizar uma Binomial Negativa para lidar com essa dispersão maior dos dados.\n",
    "\n",
    "### 7.2) Quando estou trabalhando com eventos binários\n",
    "\n",
    "Antes de tudo é preciso especificar o que são eventos binários. Eventos com apenas duas possibilidades são eventos binários. Por exemplo, o resultado do lançamento de uma moeda só pode ser cara ou coroa. Outro exemplo é considerar respostas do tipo “sim” e “não” como eventos binários, como a resposta à pergunta “Você já experimentou o novo suco de maracujá desta marca?”.\n",
    "\n",
    "A distribuição a se utilizar neste caso depende muito de como você deseja analisar estes dados. Se seu interesse é verificar, por exemplo, quantas caras eu posso obter em um número específico de lançamentos, daí utilizamos o modelo Binomial. Se você deseja saber quantas caras em sequência eu consigo obter até sair a primeira coroa, daí utilizamos o modelo Geométrico.\n",
    "\n",
    "No exemplo do suco de maracujá mencionado acima, se entrevistamos, suponha, 100 pessoas e estamos interessados em saber quantas já experimentaram o novo suco de maracujá, então temos que trabalhar com uma binomial. O outro caso é mais raro, mas se o interesse é saber quantas pessoas respondem “não” até eu encontrar a primeira que já experimentou o suco, então este tipo de evento é caracterizado pela distribuição geométrica.\n",
    "\n",
    "### 7.3) Quando estou trabalhando com médias ou dados numéricos contínuos\n",
    "\n",
    "Este é talvez o caso mais comum. Primeiramente é preciso deixar claro o que são dados numéricos contínuos. Grosseiramente falando é quando o que estou medindo admite vírgula. Por exemplo, sua altura pode ser 1,69 ou 1,92, números que podem conter casas decimais. Porém, ao contar o número de pessoas em uma festa não é possível obter 893,2 pessoas porque número de pessoas são números inteiros: 1, 2, 3, 4, 5, etc.\n",
    "\n",
    "Entendido o que são dados contínuos, em geral trabalhamos com a média de alguma variável de interesse. Por exemplo, estamos sempre interessados no custo médio, risco médio, altura média, rendimento médio, média de gols, média de vendas e muitas outras coisas que podemos listar infinitamente aqui. Em estatística há um teorema muito poderoso que diz que a média de qualquer coisa tem distribuição que pode ser aproximada por uma normal sob certas condições. A efeito de curiosidade, essas condições são independência e um número grande de observações. Por isso que a distribuição Normal é tão enfatizada e valorizada nos cursos de estatística.\n",
    "\n",
    "De fato, a distribuição Normal é a mais apropriada quando trabalhamos com dados contínuos, principalmente se o interesse é a média de alguma variável. Porém é preciso verificar se os dados realmente são normais antes de iniciar qualquer análise. Para isso, veja aqui nosso guia.\n",
    "\n",
    "### 7.4) E se eu não souber com o que estou trabalhando?!\n",
    "\n",
    "Isso pode ser a maioria dos casos. Na verdade, nunca sabemos. Quem nos diz são os dados que você coletou. Na prática o que fazemos é supor alguma distribuição e depois verificar se essa distribuição é adequada. Por exemplo, se vou trabalhar com contagem vou supor que meus dados tem distribuição Poisson, mas não posso deixar de verificar se a média e a variância dos dados estão próximas. Depois com o tempo fica mais fácil de fazer essas suposições, mas é sempre importante verificar.\n",
    "\n",
    "### 7.5) Como verificar a distribuição dos seus dados?\n",
    "\n",
    "A primeira coisa que deve ser analisada é o tipo de variável: se for discreta (contagem) ou contínua (números que admitem vírgula). Essas duas categorias possuem distribuições específicas de sua natureza, como vimos nos parágrafos anteriores. Depois podemos olhar o histograma de seus dados. A forma do histograma lhe dá muitas informações importantes para poder decidir qual distribuição utilizar. Por fim, podemos utilizar o qq-plot para verificar com maior precisão se estamos supondo a distribuição correta. Para ver um exemplo de como verificar se uma distribuição é Normal, clique aqui."
   ]
  },
  {
   "cell_type": "code",
   "execution_count": null,
   "metadata": {},
   "outputs": [],
   "source": []
  }
 ],
 "metadata": {
  "interpreter": {
   "hash": "5a9a036f549c34521959f2e35c11282d59c2fa6997060d671aa6f29f1c44b680"
  },
  "kernelspec": {
   "display_name": "Python 3.9.7 ('base')",
   "language": "python",
   "name": "python3"
  },
  "language_info": {
   "codemirror_mode": {
    "name": "ipython",
    "version": 3
   },
   "file_extension": ".py",
   "mimetype": "text/x-python",
   "name": "python",
   "nbconvert_exporter": "python",
   "pygments_lexer": "ipython3",
   "version": "3.9.12 (main, Apr  4 2022, 05:22:27) [MSC v.1916 64 bit (AMD64)]"
  },
  "orig_nbformat": 4
 },
 "nbformat": 4,
 "nbformat_minor": 2
}
