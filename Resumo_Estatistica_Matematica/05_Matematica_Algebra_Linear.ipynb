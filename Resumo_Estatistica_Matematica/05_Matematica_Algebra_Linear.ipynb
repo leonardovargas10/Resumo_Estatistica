{
 "cells": [
  {
   "cell_type": "markdown",
   "metadata": {},
   "source": [
    "<h1 style='color: blue; font-size: 34px; font-weight: bold;'> Projeto Proposto \n",
    "</h1>\n",
    "\n",
    "<p style='font-size: 18px; line-height: 2; margin: 0px 0px; text-align: justify; text-indent: 0px;'>    \n",
    "<i> Este projeto baseia-se no Estudo das Técnicas de Álgebra Linear. </i>       \n",
    "</p>  "
   ]
  },
  {
   "cell_type": "markdown",
   "metadata": {},
   "source": [
    "# <font color='red' style='font-size: 40px;'>Library and Data </font>"
   ]
  },
  {
   "cell_type": "code",
   "execution_count": 1,
   "metadata": {},
   "outputs": [],
   "source": [
    "# Convencionais\n",
    "import pandas as pd\n",
    "import numpy as np\n",
    "import matplotlib.pyplot as plt\n",
    "import seaborn as sns\n",
    "sns.set_palette('Accent')\n",
    "sns.set_style('darkgrid')"
   ]
  },
  {
   "cell_type": "markdown",
   "metadata": {},
   "source": [
    "# <font color='red' style='font-size: 40px;'> 1.0 Introdução a Álgebra Linear </font>"
   ]
  },
  {
   "cell_type": "markdown",
   "metadata": {},
   "source": [
    "## 1.1) O que é Álgebra Linear?\n",
    "\n",
    "> 1. Campo da matemática que trabalha com euqações lineares e funções lineares que são representadas através de matrizes e vetores.\n",
    "\n",
    "> 2. Indispensável para aplicações de modelagens matemáticas e com dados.\n",
    "\n",
    "> 3. Melhora o entendimento de Conceitos e Estatísticos, facilitando o entendimento e amnipulação dos Modelos de Machine Learning e Deep Learning.\n",
    "\n",
    "> 4. Permite realizar múltiplas operações de maneiras simples e computacionalmente eficiente.\n",
    "\n",
    "## 1.2) Conteúdos Principais\n",
    "\n",
    "> 1. Sistemas de Equações Lineares\n",
    "\n",
    "> 2. Vetores\n",
    "\n",
    "> 3. Matrizes\n",
    "\n",
    "> 4. Determinantes\n",
    "\n",
    "> 5. Espaços Vetoriais\n",
    "\n",
    "> 6. Transformações Lineares\n",
    "\n",
    "> 7. Autovalores e Autovetores\n",
    "\n",
    "## 1.3) Importância da Álgebra Linear para Machine Learning\n",
    "\n",
    "> 1. Selecionar o algoritmo certo para dar considerações à precisão, tempo de treinamento, complexidade do modelo, número de parâmetros e número de recursos.\n",
    "\n",
    "> 2. Entender a matemática que está por trás dos algoritmos.\n",
    "\n",
    "> 3. Escolher configurações de parâmetros e estratégias de validação.\n",
    "\n",
    "> 4. Aplicação direta em regressões lineares múltiplas, séries temporais, redes neurais artificiais, árvores de decisões, PCA, tratamento de imagens...\n",
    "\n",
    "> 5. Estimar o intervalo de confiança correto e a incerteza do Modelo.\n",
    "\n",
    "> 6. As Matrizes são apenas uma forma natural de representar dados multivariados.\n",
    "\n",
    "> 7. Transforma equações de resoluções complexaas em equações matriciais e vetores simples, de fáceis resoluções.\n",
    "\n",
    "> 8. Muitas técnicas estatísticas são baseadas em operadores abstratos, espaços vetoriais, produtos internos..."
   ]
  },
  {
   "cell_type": "markdown",
   "metadata": {},
   "source": [
    "# <font color='red' style='font-size: 40px;'> 1.0 Vetores </font>"
   ]
  },
  {
   "cell_type": "markdown",
   "metadata": {},
   "source": [
    "## 1.1) O que são vetores?\n",
    "\n",
    "> 1. São a representação matemática de uma grandeza vetorial.\n",
    "\n",
    "> 2. Grandezas Escalares: Grandezas que necessitam apenas do seu valor para serem representadas. Exemplo: Tempo, Massa, Temperatura...\n",
    "\n",
    "> 3. Grandezas Vetoriais: Grandezas com Módulo, Direção e Sentindo. Exemplo: Força, Velocidade, Aceleração...\n",
    "\n",
    "- Módulo: valor absoluto, intensidade ou tamanho\n",
    "\n",
    "- Direção: horizontal, vertical, inclinada com determinado ângulo\n",
    "\n",
    "- Sentido: direita, esquerda, para baixo, para cima, norte, sul, leste, oeste\n",
    "\n",
    "<img src = './img84.png' width = '70%'>\n",
    "\n",
    "## 1.2) Soma Vetorial Geometricamente\n",
    "\n",
    "> 1. Quando somamos grandezas vetoriais, devemos manter sua direção e seu sentido.\n",
    "\n",
    "<img src = './img85.png' width = '70%'>\n",
    "\n",
    "<img src = './img86.png' width = '70%'>\n",
    "\n",
    "## 1.3) Decomposição Vetorial\n",
    "\n",
    "> 1. Decomposição Vetorial significa encontrar as Componentes que definem o Vetor no Plano Cartesiano.\n",
    "\n",
    "<img src = './img87.png' width = '70%'>\n",
    "\n",
    "\n",
    "## 1.4) Vetores no $R^n$\n",
    "\n",
    "> 1. Podemos utilizar representações vetoriais para N componentes.\n",
    "\n",
    "<img src = './img88.png' width = '70%'>\n",
    "\n",
    "## 1.5) Propriedades de Vetores\n",
    "\n",
    "<img src = './img89.png' width = '70%'>\n",
    "\n",
    "<img src = './img90.png' width = '70%'>\n",
    "\n",
    "\n",
    "## 1.6) Distância e Norma no $R^n$\n",
    "\n",
    "> 1. Distância: Distância entre dois Vetores\n",
    "\n",
    "> 2. Norma: Distância da Origem até o Vetor\n",
    "\n",
    "<img src = './img91.png' width = '70%'>\n",
    "\n",
    "<img src = './img92.png' width = '70%'>\n",
    "\n",
    "<img src = './img93.png' width = '70%'>\n",
    "\n",
    "\n",
    "\n"
   ]
  },
  {
   "cell_type": "markdown",
   "metadata": {},
   "source": [
    "## 1.7) Cálculo com Vetores "
   ]
  },
  {
   "cell_type": "markdown",
   "metadata": {},
   "source": [
    "### Criação dos Vetores "
   ]
  },
  {
   "cell_type": "code",
   "execution_count": 2,
   "metadata": {},
   "outputs": [
    {
     "name": "stdout",
     "output_type": "stream",
     "text": [
      "<class 'numpy.ndarray'> <class 'numpy.ndarray'>\n"
     ]
    }
   ],
   "source": [
    "u = np.array([2, -4, 1])\n",
    "v = np.array([3, 2, -5])\n",
    "\n",
    "print(type(u), type(v))"
   ]
  },
  {
   "cell_type": "markdown",
   "metadata": {},
   "source": [
    "### Soma "
   ]
  },
  {
   "cell_type": "code",
   "execution_count": 3,
   "metadata": {},
   "outputs": [
    {
     "data": {
      "text/plain": [
       "array([ 5, -2, -4])"
      ]
     },
     "execution_count": 3,
     "metadata": {},
     "output_type": "execute_result"
    }
   ],
   "source": [
    "soma = u + v\n",
    "soma "
   ]
  },
  {
   "cell_type": "markdown",
   "metadata": {},
   "source": [
    "### Produto Interno "
   ]
  },
  {
   "cell_type": "code",
   "execution_count": 4,
   "metadata": {},
   "outputs": [
    {
     "name": "stdout",
     "output_type": "stream",
     "text": [
      "-7\n"
     ]
    }
   ],
   "source": [
    "prod_int = 0 \n",
    "for i in range (len(u)):\n",
    "    prod_int = prod_int + (u[i]*v[i])\n",
    "    i = i + 1\n",
    "\n",
    "print(prod_int)\n"
   ]
  },
  {
   "cell_type": "markdown",
   "metadata": {},
   "source": [
    "### Multiplicação por um Escalar "
   ]
  },
  {
   "cell_type": "code",
   "execution_count": 5,
   "metadata": {},
   "outputs": [
    {
     "name": "stdout",
     "output_type": "stream",
     "text": [
      "[ 10 -20   5] [ 15  10 -25]\n"
     ]
    }
   ],
   "source": [
    "mult1 = 5 * u \n",
    "mult2 = 5 * v\n",
    "\n",
    "print(mult1, mult2) "
   ]
  },
  {
   "cell_type": "markdown",
   "metadata": {},
   "source": [
    "### Distância entre vetores "
   ]
  },
  {
   "cell_type": "code",
   "execution_count": 6,
   "metadata": {},
   "outputs": [
    {
     "data": {
      "text/plain": [
       "8.54400374531753"
      ]
     },
     "execution_count": 6,
     "metadata": {},
     "output_type": "execute_result"
    }
   ],
   "source": [
    "def dist(vetor1, vetor):\n",
    "    soma = 0\n",
    "    for i in range(len(vetor1)):\n",
    "        soma = soma + ((u[i] - v[i]) ** 2)\n",
    "        i = i + 1\n",
    "    distancia = np.sqrt(soma)\n",
    "    return distancia \n",
    "dist(u, v)"
   ]
  },
  {
   "cell_type": "markdown",
   "metadata": {},
   "source": [
    "### Norma "
   ]
  },
  {
   "cell_type": "code",
   "execution_count": 7,
   "metadata": {},
   "outputs": [
    {
     "name": "stdout",
     "output_type": "stream",
     "text": [
      "4.58257569495584\n",
      "6.164414002968976\n"
     ]
    }
   ],
   "source": [
    "print(np.linalg.norm(u))\n",
    "print(np.linalg.norm(v))"
   ]
  },
  {
   "cell_type": "markdown",
   "metadata": {},
   "source": [
    "### Representação Geométirca "
   ]
  },
  {
   "cell_type": "code",
   "execution_count": 8,
   "metadata": {},
   "outputs": [
    {
     "name": "stdout",
     "output_type": "stream",
     "text": [
      "[2, 10]\n"
     ]
    }
   ],
   "source": [
    "m = np.array([4, 5])\n",
    "p = np.array([-2, 5])\n",
    "\n",
    "soma = []\n",
    "\n",
    "for i in range(len(m)):\n",
    "    soma.append(m[i]+p[i])\n",
    "    i = i + 1\n",
    "print(soma)"
   ]
  },
  {
   "cell_type": "code",
   "execution_count": 9,
   "metadata": {},
   "outputs": [
    {
     "data": {
      "image/png": "[encoded data removed]",
      "text/plain": [
       "<Figure size 432x288 with 1 Axes>"
      ]
     },
     "metadata": {},
     "output_type": "display_data"
    }
   ],
   "source": [
    "v = np.array([m, p, soma])\n",
    "origin = np.array([[0, 0, 0],[0, 0, 0]]) # origem dos vetores\n",
    "\n",
    "plt.quiver(*origin, v[:, 0], v[:, 1], color = ['r', 'b', 'y'], scale = 35)\n",
    "plt.show()"
   ]
  },
  {
   "cell_type": "markdown",
   "metadata": {},
   "source": [
    "# <font color='red' style='font-size: 40px;'> 2.0 Matrizes </font>"
   ]
  },
  {
   "cell_type": "markdown",
   "metadata": {},
   "source": [
    "## 2.1) O que é uma Matriz?\n",
    "\n",
    "> 1. Matriz é um conjunto de elementos cuja disposição é dada em M linhas e N colunas.\n",
    "\n",
    "> 2. A notação é dada por $A_{ij}$\n",
    "\n",
    "<img src = './img94.png' width = '70%'>"
   ]
  },
  {
   "cell_type": "markdown",
   "metadata": {},
   "source": [
    "## 2.2) Tipos de Matriz\n",
    "\n",
    "> 1. Matriz Quadrada: Número de Linhas é igual ao número de colunas \n",
    "\n",
    "<img src = './img95.png' width = '70%'>\n",
    "\n",
    "> 2. Matriz Linha e Matriz Coluna: Possuem apenas uma linha ou uma coluna, ou seja, são vetores. \n",
    "\n",
    "<img src = './img96.png' width = '70%'>\n",
    "\n",
    "> 3. Matriz Nula: Todos elementos iguais a Zero.\n",
    "\n",
    "<img src = './img97.png' width = '70%'>\n",
    "\n",
    "> 4. Matriz Oposta: Todos os sinais são opostos entre os elementos das matrizes.\n",
    "\n",
    "<img src = './img98.png' width = '70%'>\n",
    "\n",
    "> 5. Matriz Transposta: Linhas são transformadas em colunas ordenadamente \n",
    "\n",
    "<img src = './img99.png' width = '70%'>\n",
    "\n",
    "> 6. Matriz Identidade: Matriz quadrada cujos elementos da diagonal principal são iguais a 1 e o restante são iguais a zero. \n",
    "\n",
    "<img src = './img100.png' width = '70%'>\n",
    "\n",
    "> 7. Matriz Diagonal: Matriz quadrada cujos elementos da diagonal principal são diferentes de zero e o restante são iguais a zero.\n",
    "\n",
    "<img src = './img101.png' width = '70%'>\n",
    "\n",
    "> 8. Matriz Triangular: Elementos acima ou abaixo da diagonal principal são preenchidos com zeros.\n",
    "\n",
    "<img src = './img102.png' width = '70%'>\n",
    "\n",
    "> 9. Matriz Simétrica: Ocorre um \"espelhamento\" na parte superior com a parte inferior à diagonal principal \n",
    "\n",
    "<img src = './img103.png' width = '70%'>\n",
    "\n",
    "> 10. Matriz Inversa: Uma matriuz quadrada A é inversível se existe a matriz B tal que A.B = B.A = I, onde I é a identidade.\n",
    "\n",
    "<img src = './img109.png' width = '70%'>\n",
    "\n",
    "\n"
   ]
  },
  {
   "cell_type": "markdown",
   "metadata": {},
   "source": [
    "### Tipos de Matrizes "
   ]
  },
  {
   "cell_type": "markdown",
   "metadata": {},
   "source": [
    "* Criação de uma Matriz "
   ]
  },
  {
   "cell_type": "code",
   "execution_count": 64,
   "metadata": {},
   "outputs": [
    {
     "name": "stdout",
     "output_type": "stream",
     "text": [
      "<class 'list'>\n",
      "<class 'numpy.ndarray'>\n",
      "[[ 1 -2  3]\n",
      " [-4  5  6]\n",
      " [ 7  8 -9]]\n"
     ]
    }
   ],
   "source": [
    "# Não usar np.matrix pois a função acabará no futuro\n",
    "\n",
    "matriz = [\n",
    "    [1,-2,3],\n",
    "    [-4,5,6],\n",
    "    [7,8,-9]\n",
    "]\n",
    "print(type(matriz))\n",
    "\n",
    "matriz1 = np.array(matriz)\n",
    "print(type(matriz1))\n",
    "print(matriz1)"
   ]
  },
  {
   "cell_type": "markdown",
   "metadata": {},
   "source": [
    "* Matriz somente com número 1 "
   ]
  },
  {
   "cell_type": "code",
   "execution_count": 11,
   "metadata": {},
   "outputs": [
    {
     "data": {
      "text/plain": [
       "array([[1., 1., 1.],\n",
       "       [1., 1., 1.]])"
      ]
     },
     "execution_count": 11,
     "metadata": {},
     "output_type": "execute_result"
    }
   ],
   "source": [
    "matriz2 = np.ones((2, 3))\n",
    "matriz2"
   ]
  },
  {
   "cell_type": "markdown",
   "metadata": {},
   "source": [
    "* Matriz Nula "
   ]
  },
  {
   "cell_type": "code",
   "execution_count": 12,
   "metadata": {},
   "outputs": [
    {
     "data": {
      "text/plain": [
       "array([[0., 0., 0., 0.],\n",
       "       [0., 0., 0., 0.],\n",
       "       [0., 0., 0., 0.],\n",
       "       [0., 0., 0., 0.],\n",
       "       [0., 0., 0., 0.]])"
      ]
     },
     "execution_count": 12,
     "metadata": {},
     "output_type": "execute_result"
    }
   ],
   "source": [
    "matriz0 = np.zeros([5, 4])\n",
    "matriz0 "
   ]
  },
  {
   "cell_type": "markdown",
   "metadata": {},
   "source": [
    "* Matriz Diagonal "
   ]
  },
  {
   "cell_type": "code",
   "execution_count": 13,
   "metadata": {},
   "outputs": [
    {
     "data": {
      "text/plain": [
       "array([[ 2,  0,  0,  0,  0],\n",
       "       [ 0,  4,  0,  0,  0],\n",
       "       [ 0,  0,  6,  0,  0],\n",
       "       [ 0,  0,  0,  8,  0],\n",
       "       [ 0,  0,  0,  0, 10]])"
      ]
     },
     "execution_count": 13,
     "metadata": {},
     "output_type": "execute_result"
    }
   ],
   "source": [
    "matriz3 = np.diag((2, 4, 6, 8, 10))\n",
    "matriz3 "
   ]
  },
  {
   "cell_type": "markdown",
   "metadata": {},
   "source": [
    "* Matriz Identidade \n"
   ]
  },
  {
   "cell_type": "code",
   "execution_count": 14,
   "metadata": {},
   "outputs": [
    {
     "data": {
      "text/plain": [
       "array([[1., 0., 0.],\n",
       "       [0., 1., 0.],\n",
       "       [0., 0., 1.]])"
      ]
     },
     "execution_count": 14,
     "metadata": {},
     "output_type": "execute_result"
    }
   ],
   "source": [
    "matriz4 = np.identity((3))\n",
    "matriz4"
   ]
  },
  {
   "cell_type": "markdown",
   "metadata": {},
   "source": [
    "* Matriz Transposta "
   ]
  },
  {
   "cell_type": "code",
   "execution_count": 15,
   "metadata": {},
   "outputs": [
    {
     "name": "stdout",
     "output_type": "stream",
     "text": [
      "[[ 1 -2  3]\n",
      " [-4  5  6]\n",
      " [ 7  8 -9]]\n"
     ]
    }
   ],
   "source": [
    "print(matriz1)"
   ]
  },
  {
   "cell_type": "code",
   "execution_count": 16,
   "metadata": {},
   "outputs": [
    {
     "data": {
      "text/plain": [
       "array([[ 1, -4,  7],\n",
       "       [-2,  5,  8],\n",
       "       [ 3,  6, -9]])"
      ]
     },
     "execution_count": 16,
     "metadata": {},
     "output_type": "execute_result"
    }
   ],
   "source": [
    "matriz5 = np.array(matriz1).T\n",
    "matriz5 "
   ]
  },
  {
   "cell_type": "markdown",
   "metadata": {},
   "source": [
    "* Matriz Oposta "
   ]
  },
  {
   "cell_type": "code",
   "execution_count": 17,
   "metadata": {},
   "outputs": [
    {
     "name": "stdout",
     "output_type": "stream",
     "text": [
      "[[ 1 -2  3]\n",
      " [-4  5  6]\n",
      " [ 7  8 -9]]\n"
     ]
    }
   ],
   "source": [
    "print(matriz1)"
   ]
  },
  {
   "cell_type": "code",
   "execution_count": 18,
   "metadata": {},
   "outputs": [
    {
     "data": {
      "text/plain": [
       "array([[-1,  2, -3],\n",
       "       [ 4, -5, -6],\n",
       "       [-7, -8,  9]])"
      ]
     },
     "execution_count": 18,
     "metadata": {},
     "output_type": "execute_result"
    }
   ],
   "source": [
    "matriz6 = -matriz1 \n",
    "matriz6 "
   ]
  },
  {
   "cell_type": "markdown",
   "metadata": {},
   "source": [
    "* Matriz Linha e Matriz Coluna "
   ]
  },
  {
   "cell_type": "code",
   "execution_count": 19,
   "metadata": {},
   "outputs": [
    {
     "name": "stdout",
     "output_type": "stream",
     "text": [
      "[[2 3 4 5]]\n",
      "\n",
      "[[2]\n",
      " [3]\n",
      " [4]\n",
      " [5]]\n"
     ]
    }
   ],
   "source": [
    "linha = np.array([[2, 3, 4, 5]])\n",
    "print(linha)\n",
    "print()\n",
    "coluna = np.array([[2], [3], [4], [5]])\n",
    "print(coluna)"
   ]
  },
  {
   "cell_type": "markdown",
   "metadata": {},
   "source": [
    "* Matriz Inversa "
   ]
  },
  {
   "cell_type": "code",
   "execution_count": 20,
   "metadata": {},
   "outputs": [
    {
     "data": {
      "text/plain": [
       "array([[1, 0],\n",
       "       [0, 1]])"
      ]
     },
     "execution_count": 20,
     "metadata": {},
     "output_type": "execute_result"
    }
   ],
   "source": [
    "matrizA = np.array([\n",
    "    [2, 5],\n",
    "    [1,3]\n",
    "])\n",
    "\n",
    "matrizB = np.array([\n",
    "    [3, -5],\n",
    "    [-1, 2]\n",
    "])\n",
    "\n",
    "mult = np.dot(matrizA, matrizB)\n",
    "mult "
   ]
  },
  {
   "cell_type": "markdown",
   "metadata": {},
   "source": [
    "> 1. Se o resultado da multipliacação das matrizes for uma matriz identidade, significa que a matrizB é a inversa da matrizA "
   ]
  },
  {
   "cell_type": "code",
   "execution_count": 21,
   "metadata": {},
   "outputs": [
    {
     "name": "stdout",
     "output_type": "stream",
     "text": [
      "Inversa da Matriz A\n"
     ]
    },
    {
     "data": {
      "text/plain": [
       "array([[ 3., -5.],\n",
       "       [-1.,  2.]])"
      ]
     },
     "metadata": {},
     "output_type": "display_data"
    },
    {
     "name": "stdout",
     "output_type": "stream",
     "text": [
      "\n",
      "Inversa da Matriz B\n"
     ]
    },
    {
     "data": {
      "text/plain": [
       "array([[2., 5.],\n",
       "       [1., 3.]])"
      ]
     },
     "metadata": {},
     "output_type": "display_data"
    }
   ],
   "source": [
    "matriz_inv = np.linalg.inv(matrizA) \n",
    "print('Inversa da Matriz A')\n",
    "display(matriz_inv )\n",
    "print()\n",
    "matriz_inv = np.linalg.inv(matrizB) \n",
    "print('Inversa da Matriz B')\n",
    "display(matriz_inv )"
   ]
  },
  {
   "cell_type": "code",
   "execution_count": 22,
   "metadata": {},
   "outputs": [
    {
     "name": "stdout",
     "output_type": "stream",
     "text": [
      "Inversa da Matriz C\n"
     ]
    },
    {
     "data": {
      "text/plain": [
       "array([[ 1., -0.,  2.],\n",
       "       [ 2., -1.,  3.],\n",
       "       [ 4.,  1.,  8.]])"
      ]
     },
     "metadata": {},
     "output_type": "display_data"
    },
    {
     "name": "stdout",
     "output_type": "stream",
     "text": [
      "\n",
      "Inversa da Matriz D\n"
     ]
    },
    {
     "data": {
      "text/plain": [
       "array([[-4.50359963e+15,  9.00719925e+15, -4.50359963e+15],\n",
       "       [ 9.00719925e+15, -1.80143985e+16,  9.00719925e+15],\n",
       "       [-4.50359963e+15,  9.00719925e+15, -4.50359963e+15]])"
      ]
     },
     "metadata": {},
     "output_type": "display_data"
    }
   ],
   "source": [
    "matrizC = np.array([\n",
    "    [-11, 2, 2],\n",
    "    [-4, 0, 1],\n",
    "    [6, -1, -1]\n",
    "])\n",
    "\n",
    "matrizD = np.array([\n",
    "    [1, 2, 3],\n",
    "    [4, 5, 6],\n",
    "    [7, 8, 9]\n",
    "])\n",
    "\n",
    "matriz_inv = np.linalg.inv(matrizC) \n",
    "print('Inversa da Matriz C')\n",
    "display(matriz_inv )\n",
    "print()\n",
    "matriz_inv = np.linalg.inv(matrizD) \n",
    "print('Inversa da Matriz D')\n",
    "display(matriz_inv )"
   ]
  },
  {
   "cell_type": "markdown",
   "metadata": {},
   "source": [
    "> 1. Note que o cálculo da inversa da Matriz D não foi possível. Isso porque o Determinante da Matriz D é 0, ou seja, ela não possui Inversa. "
   ]
  },
  {
   "cell_type": "markdown",
   "metadata": {},
   "source": [
    "### Manipulação de Matrizes "
   ]
  },
  {
   "cell_type": "code",
   "execution_count": 23,
   "metadata": {},
   "outputs": [
    {
     "data": {
      "text/plain": [
       "array([[ 1, -2,  3],\n",
       "       [-4,  5,  6],\n",
       "       [ 7,  8, -9]])"
      ]
     },
     "execution_count": 23,
     "metadata": {},
     "output_type": "execute_result"
    }
   ],
   "source": [
    "matriz7 = matriz1.copy()\n",
    "matriz7 "
   ]
  },
  {
   "cell_type": "code",
   "execution_count": 24,
   "metadata": {},
   "outputs": [
    {
     "name": "stdout",
     "output_type": "stream",
     "text": [
      "1\n",
      "\n",
      "6\n",
      "\n",
      "[[ 1 -2  3]\n",
      " [-4  5  6]\n",
      " [ 7  8 -9]]\n",
      "\n",
      "[ 1 -4]\n",
      "\n",
      "[[ 1 -2]\n",
      " [-4  5]]\n",
      "\n",
      "[ 8 -9]\n"
     ]
    }
   ],
   "source": [
    "print(matriz7[0,0])\n",
    "print()\n",
    "print(matriz7[1, 2])\n",
    "print()\n",
    "print(matriz7[:])\n",
    "print()\n",
    "print(matriz7[:2, 0])\n",
    "print()\n",
    "print(matriz7[:2, :2])\n",
    "print()\n",
    "print(matriz7[2, 1:3])\n"
   ]
  },
  {
   "cell_type": "markdown",
   "metadata": {},
   "source": [
    "## 2.4) Operações com Matrizes \n",
    "\n",
    "> 1. Adição: Somar ordenadamente segundo as respectivas posições. As matrizes tem que ter o mesmo tamanho. \n",
    "    \n",
    "#### Propriedades:\n",
    "\n",
    "- COMUTATIVA:\n",
    "\n",
    "A+B = B+A\n",
    "    \n",
    "- ASSOCIATIVA:\n",
    "\n",
    "(A+B)+C = A+(B+C)\n",
    "\n",
    "<img src = './img104.png' width = '70%'>\n",
    "\n",
    "> 2. Subtração: Subtrair ordenadamente segundo as respectivas posições. As matrizes tem que ter o mesmo tamanho. \n",
    "\n",
    "#### Propriedades:\n",
    "\n",
    "A - B = - (B - A)\n",
    "\n",
    "<img src = './img105.png' width = '70%'>\n",
    "\n",
    "> 3. Multiplicação por um Escalar: Multiplicação de um escalar por uma Matriz. \n",
    "\n",
    "#### Propriedades:\n",
    "\n",
    "c(A+B) = cA + cB\n",
    "\n",
    "(c+d)A = cA + dA\n",
    "\n",
    "<img src = './img106.png' width = '70%'>\n",
    "\n",
    "> 4. Multiplicação de Matrizes: Só é possível realizar a multiplicação entre multiplicação quando **o número de colunas da primeira matriz é igual ao número de linhas da segunda matriz**. Propriedades:\n",
    "\n",
    "#### Propriedades I:\n",
    "    1) Só é possível multiplicar duas matrizes se o número de colunas da primeira for igual ao número de linhas da segunda\n",
    "    2) A matriz resultante terá a mesma quantidade de linhas da primeira e de colunas da segunda\n",
    "    3) A ordem importa!\n",
    "\n",
    "#### Propriedades II:\n",
    "    1) Associativa: A(BC) = (AB)C\n",
    "    2) Distributiva à direita: (A+B)C = AC + BC\n",
    "    3) Distribuiva à esquerda: A(B+C) = AB + AC\n",
    "\n",
    "<img src = './img107.png' width = '70%'>\n",
    "\n",
    "<img src = './img108.png' width = '70%'>\n",
    "\n",
    "\n",
    "\n",
    "\n"
   ]
  },
  {
   "cell_type": "markdown",
   "metadata": {},
   "source": [
    "### Criação de Matrizes "
   ]
  },
  {
   "cell_type": "code",
   "execution_count": 25,
   "metadata": {},
   "outputs": [],
   "source": [
    "matrizA = np.array([\n",
    "        [2, -3],\n",
    "        [4, -6],\n",
    "        [6, 9]\n",
    "    ])\n",
    "\n",
    "matrizB = np.array([\n",
    "    [1,7],\n",
    "    [-3,4],\n",
    "    [5,-8]\n",
    "])"
   ]
  },
  {
   "cell_type": "markdown",
   "metadata": {},
   "source": [
    "* Soma de Matrizes "
   ]
  },
  {
   "cell_type": "code",
   "execution_count": 26,
   "metadata": {},
   "outputs": [
    {
     "data": {
      "text/plain": [
       "array([[ 3,  4],\n",
       "       [ 1, -2],\n",
       "       [11,  1]])"
      ]
     },
     "execution_count": 26,
     "metadata": {},
     "output_type": "execute_result"
    }
   ],
   "source": [
    "matrizA + matrizB "
   ]
  },
  {
   "cell_type": "code",
   "execution_count": 27,
   "metadata": {},
   "outputs": [
    {
     "data": {
      "text/plain": [
       "array([[ 3,  4],\n",
       "       [ 1, -2],\n",
       "       [11,  1]])"
      ]
     },
     "execution_count": 27,
     "metadata": {},
     "output_type": "execute_result"
    }
   ],
   "source": [
    "matrizB + matrizA "
   ]
  },
  {
   "cell_type": "markdown",
   "metadata": {},
   "source": [
    "* Subtração de Matizes "
   ]
  },
  {
   "cell_type": "code",
   "execution_count": 28,
   "metadata": {},
   "outputs": [
    {
     "data": {
      "text/plain": [
       "array([[  1, -10],\n",
       "       [  7, -10],\n",
       "       [  1,  17]])"
      ]
     },
     "execution_count": 28,
     "metadata": {},
     "output_type": "execute_result"
    }
   ],
   "source": [
    "matrizA - matrizB \n"
   ]
  },
  {
   "cell_type": "code",
   "execution_count": 29,
   "metadata": {},
   "outputs": [
    {
     "data": {
      "text/plain": [
       "array([[ -1,  10],\n",
       "       [ -7,  10],\n",
       "       [ -1, -17]])"
      ]
     },
     "execution_count": 29,
     "metadata": {},
     "output_type": "execute_result"
    }
   ],
   "source": [
    "matrizB - matrizA "
   ]
  },
  {
   "cell_type": "markdown",
   "metadata": {},
   "source": [
    "* Multiplicação por um Escalar"
   ]
  },
  {
   "cell_type": "code",
   "execution_count": 30,
   "metadata": {},
   "outputs": [
    {
     "data": {
      "text/plain": [
       "array([[ 2, -3],\n",
       "       [ 4, -6],\n",
       "       [ 6,  9]])"
      ]
     },
     "execution_count": 30,
     "metadata": {},
     "output_type": "execute_result"
    }
   ],
   "source": [
    "matrizA "
   ]
  },
  {
   "cell_type": "code",
   "execution_count": 31,
   "metadata": {},
   "outputs": [
    {
     "data": {
      "text/plain": [
       "array([[  4,  -6],\n",
       "       [  8, -12],\n",
       "       [ 12,  18]])"
      ]
     },
     "execution_count": 31,
     "metadata": {},
     "output_type": "execute_result"
    }
   ],
   "source": [
    "2 * matrizA "
   ]
  },
  {
   "cell_type": "markdown",
   "metadata": {},
   "source": [
    "* Multiplicação de Matrizes "
   ]
  },
  {
   "cell_type": "code",
   "execution_count": 73,
   "metadata": {},
   "outputs": [
    {
     "name": "stdout",
     "output_type": "stream",
     "text": [
      "[[2 1]\n",
      " [3 4]\n",
      " [5 6]]\n",
      "\n",
      "[[ 7  8  0]\n",
      " [10  5 -2]]\n"
     ]
    }
   ],
   "source": [
    "matrizC = np.array([\n",
    "    [2,1],\n",
    "    [3,4],\n",
    "    [5,6]\n",
    "])\n",
    "print(matrizC)\n",
    "print()\n",
    "\n",
    "matrizD = np.array([\n",
    "    [7, 8, 0],\n",
    "    [10, 5, -2]\n",
    "])\n",
    "print(matrizD)"
   ]
  },
  {
   "cell_type": "code",
   "execution_count": 74,
   "metadata": {},
   "outputs": [
    {
     "data": {
      "text/plain": [
       "array([[ 24,  21,  -2],\n",
       "       [ 61,  44,  -8],\n",
       "       [ 95,  70, -12]])"
      ]
     },
     "execution_count": 74,
     "metadata": {},
     "output_type": "execute_result"
    }
   ],
   "source": [
    "# Não podemos fazer matrizC * matrizD \n",
    "np.dot(matrizC, matrizD)"
   ]
  },
  {
   "cell_type": "code",
   "execution_count": 75,
   "metadata": {},
   "outputs": [
    {
     "data": {
      "text/plain": [
       "array([[38, 39],\n",
       "       [25, 18]])"
      ]
     },
     "execution_count": 75,
     "metadata": {},
     "output_type": "execute_result"
    }
   ],
   "source": [
    "np.dot(matrizD, matrizC)"
   ]
  },
  {
   "cell_type": "code",
   "execution_count": 77,
   "metadata": {},
   "outputs": [
    {
     "data": {
      "text/plain": [
       "array([[ 24,  21,  -2],\n",
       "       [ 61,  44,  -8],\n",
       "       [ 95,  70, -12]])"
      ]
     },
     "execution_count": 77,
     "metadata": {},
     "output_type": "execute_result"
    }
   ],
   "source": [
    "matrizE = np.dot(matrizC, matrizD)\n",
    "matrizE "
   ]
  },
  {
   "cell_type": "code",
   "execution_count": 79,
   "metadata": {},
   "outputs": [
    {
     "data": {
      "text/plain": [
       "array([[1., 0., 0.],\n",
       "       [0., 1., 0.],\n",
       "       [0., 0., 1.]])"
      ]
     },
     "execution_count": 79,
     "metadata": {},
     "output_type": "execute_result"
    }
   ],
   "source": [
    "np.identity(3)"
   ]
  },
  {
   "cell_type": "code",
   "execution_count": 80,
   "metadata": {},
   "outputs": [
    {
     "data": {
      "text/plain": [
       "array([[ 24.,  21.,  -2.],\n",
       "       [ 61.,  44.,  -8.],\n",
       "       [ 95.,  70., -12.]])"
      ]
     },
     "execution_count": 80,
     "metadata": {},
     "output_type": "execute_result"
    }
   ],
   "source": [
    "np.dot(matrizE, np.identity(3))"
   ]
  },
  {
   "cell_type": "markdown",
   "metadata": {},
   "source": [
    "## 2.5) Determinantes \n",
    "\n",
    "> 1. Expressão Matemática que envolve os termos da Matriz. Objetiva determinar se a matriz é inversível (determinante tem que ser diferente de zero) e se um sistema linear tem solução ou não.\n",
    "\n",
    "> 2. Determinante para Matriz Quadrada 2x2\n",
    "\n",
    "<img src = './img110.png' width = '70%'>\n",
    "\n",
    "> 3. Determinante para Matriz Quadrada 3x3\n",
    "\n",
    "<img src = './img111.png' width = '70%'>\n",
    "\n",
    "> 4. Teorema de Laplace: Cálculo de Determinantes de qualquer Matriz Quadrada\n",
    "\n",
    "<img src = './img112.png' width = '70%'>\n",
    "\n",
    "<img src = './img113.png' width = '70%'>\n",
    "\n",
    "<img src = './img114.png' width = '70%'>\n",
    "\n",
    "<img src = './img115.png' width = '70%'>\n",
    "\n",
    "\n"
   ]
  },
  {
   "cell_type": "markdown",
   "metadata": {},
   "source": [
    "* Determinantes "
   ]
  },
  {
   "cell_type": "code",
   "execution_count": 35,
   "metadata": {},
   "outputs": [
    {
     "data": {
      "text/plain": [
       "-22.000000000000004"
      ]
     },
     "execution_count": 35,
     "metadata": {},
     "output_type": "execute_result"
    }
   ],
   "source": [
    "matriz = np.array([\n",
    "    [1, 3, 2],\n",
    "    [4, 2, 4],\n",
    "    [3, 1, 5]\n",
    "])\n",
    "\n",
    "det = np.linalg.det(matriz)\n",
    "det"
   ]
  },
  {
   "cell_type": "code",
   "execution_count": 36,
   "metadata": {},
   "outputs": [
    {
     "data": {
      "text/plain": [
       "-21.999999999999996"
      ]
     },
     "execution_count": 36,
     "metadata": {},
     "output_type": "execute_result"
    }
   ],
   "source": [
    "import scipy as sp \n",
    "from scipy import linalg \n",
    "\n",
    "det = sp.linalg.det(matriz)\n",
    "det"
   ]
  },
  {
   "cell_type": "markdown",
   "metadata": {},
   "source": [
    "# <font color='red' style='font-size: 40px;'> 3.0 Sistemas Lineares  </font>"
   ]
  },
  {
   "cell_type": "markdown",
   "metadata": {},
   "source": [
    "## 3.1) Equações\n",
    "\n",
    "> 1. Uma equação é uma expressão matemática composta por uma igualdade e pelo menos uma incógnita. \n",
    "\n",
    "## 3.2) Tipos de Equações\n",
    "\n",
    "> 1. Equações Polinomiais: Incógnitas na equação normal\n",
    "\n",
    "## $ 4_x - 3 = 0$\n",
    "\n",
    "## $ 2_{x^2} + 3_x - 2 = 15 $\n",
    "\n",
    "## $ x^3 - 4_{x^2} - 10 = 0 $\n",
    "\n",
    "> 2. Equações Exponenciais: Incógnitas no Expoente\n",
    "\n",
    "## $2^{4x-3} = 4^{x+2} $\n",
    "\n",
    "## $e^{3x-2} = e^{x} $\n",
    "\n",
    "> 3. Equações Logarítmicas: Incógnitas envolvidas em Logarítmos\n",
    "\n",
    "## $ log (2x-4) = 10 $\n",
    "\n",
    "## $ log_x (4-x) = 3 $\n",
    "\n",
    "## $ log_3 (x+4) = x $\n",
    "\n",
    "> 4. Equações Racionais: Incógnitas no Denominador\n",
    "\n",
    "## $ \\frac {4} {x-2} + \\frac {5} {x+3} = 25 $\n",
    "\n",
    "> 5. Equações Irracionais: Incógnitas no Radicando\n",
    "\n",
    "## $ \\sqrt {x-2} = 32 $\n",
    "\n",
    "> 6. Equações Trigonométricas: Incógnitas no argumento da função trigonométrica\n",
    "\n",
    "## $ sen(x) = 0.5 $\n",
    "\n",
    "## $ cos(x) = tg(y-2) + sen(4y) $\n",
    "\n",
    "> 7. Equações Diferenciais: Incógnitas são funções envolvidas em derivadas e diferenciais\n",
    "\n",
    "## $ \\frac {{d^2}y} {{dx}^2} + \\frac {dy} {dx} + xy = 0 $"
   ]
  },
  {
   "cell_type": "markdown",
   "metadata": {},
   "source": [
    "## 3.3) Equação Linear \n",
    "\n",
    "> 1. Equações Lineares\n",
    "\n",
    "<img src = './img116.png' width = '70%'>\n",
    "\n",
    "<img src = './img117.png' width = '70%'>\n",
    "\n",
    "<img src = './img118.png' width = '70%'>\n",
    "\n",
    "<img src = './img119.png' width = '70%'>\n",
    "\n",
    "\n",
    "\n",
    "\n",
    "\n",
    "\n"
   ]
  },
  {
   "cell_type": "markdown",
   "metadata": {},
   "source": [
    "## 3.4) Sistemas de Equações Linares\n",
    "\n",
    "> 1. Sistemas de Equações Lineares \n",
    "\n",
    "<img src = './img120.png' width = '70%'>\n",
    "\n",
    "> 2. Resolução de um Sistema Linear 2x2\n",
    "\n",
    "<img src = './img121.png' width = '70%'>\n",
    "\n",
    "<img src = './img122.png' width = '70%'>\n",
    "\n",
    "<img src = './img123.png' width = '70%'>\n",
    "\n",
    "> 3. Resolução de um Sistema Linear 3x3\n",
    "\n",
    "<img src = './img124.png' width = '70%'>\n",
    "\n",
    "<img src = './img125.png' width = '70%'>"
   ]
  },
  {
   "cell_type": "markdown",
   "metadata": {},
   "source": [
    "## 3.5) Regra de Cramer\n",
    "\n",
    "> 1. Toda equação linear pode ser escrita em forma de matriz, e isso facilita muito o desenvolvimento de códigos computacionais. \n",
    "\n",
    "<img src = './img126.png' width = '70%'>\n",
    "\n",
    "<img src = './img127.png' width = '70%'>\n",
    "\n",
    "<img src = './img128.png' width = '70%'>\n",
    "\n",
    "<img src = './img129.png' width = '70%'>"
   ]
  },
  {
   "cell_type": "markdown",
   "metadata": {},
   "source": [
    "### Regra de Cramer \n",
    "\n",
    "## ![image.png](data:image/png;base64,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)"
   ]
  },
  {
   "cell_type": "code",
   "execution_count": 37,
   "metadata": {},
   "outputs": [
    {
     "name": "stdout",
     "output_type": "stream",
     "text": [
      "O valor de x é: 1.0\n",
      "O valor de y é: 2.0\n",
      "O valor de z é: -1.0\n"
     ]
    }
   ],
   "source": [
    "import numpy as np \n",
    "import scipy as sp \n",
    "from scipy import linalg \n",
    "\n",
    "# matriz dos coeficientes\n",
    "matriz = np.array([\n",
    "    [1, 2, 3],\n",
    "    [2, -1, 1],\n",
    "    [-2, -3, 3]\n",
    "])\n",
    "\n",
    "# vetor das constantes\n",
    "vetor = np.array([2, -1, -11])\n",
    "\n",
    "def cramer3(A,v):\n",
    "    # Calculando o Determinante de A\n",
    "    det = sp.linalg.det(np.array([A[:, 0],A[:,1],A[:,2]]).T)\n",
    "    if det != 0:\n",
    "        detx = sp.linalg.det(np.array([v[:], A[:, 1], A[:,2]]).T)\n",
    "        dety = sp.linalg.det(np.array([A[:,0], v[:], A[:,2]]).T)\n",
    "        detz = sp.linalg.det(np.array([A[:,0], A[:, 1], v[:]]).T)\n",
    "\n",
    "        x = detx/det \n",
    "        y = dety/det \n",
    "        z = detz/det\n",
    "        print(f'O valor de x é: {x}')\n",
    "        print(f'O valor de y é: {y}')\n",
    "        print(f'O valor de z é: {z}')\n",
    "    else:\n",
    "        print('Determinante da Matriz dos Coeficentes é Nula')\n",
    "\n",
    "cramer3(matriz, vetor)\n"
   ]
  },
  {
   "cell_type": "markdown",
   "metadata": {},
   "source": [
    "## 3.6) Método da Eliminação de Gauss - Escalonamento \n",
    "\n",
    "> 1. Aplicações: \n",
    "\n",
    "- Pode substituir as outras técnicas de resolução. \n",
    "\n",
    "- Quando o determinante for nulo na regra de Cramer. \n",
    "\n",
    "- Para situações onde têm-se mais equações do que incógnitas. \n",
    "\n",
    "> 2. Procedimento\n",
    "\n",
    "<img src = './img130.png' width = '70%'>\n",
    "\n",
    "<img src = './img131.png' width = '70%'>\n",
    "\n",
    "<img src = './img132.png' width = '70%'>\n",
    "\n",
    "<img src = './img133.png' width = '70%'>\n",
    "\n",
    "<img src = './img134.png' width = '70%'>\n",
    "\n",
    "<img src = './img135.png' width = '70%'>"
   ]
  },
  {
   "cell_type": "markdown",
   "metadata": {},
   "source": [
    "## 3.7) Estimativa dos Mínimos Quadrados \n",
    "\n",
    "> 1. Relembrando\n",
    "\n",
    "<img src = './img136.png' width = '70%'>\n",
    "\n",
    "<img src = './img137.png' width = '70%'>\n",
    "\n",
    "<img src = './img138.png' width = '70%'>\n",
    "\n",
    "<img src = './img139.png' width = '70%'>\n",
    "\n",
    "> 2. Dedudação da Estimativa dos Mínimos Quadrados:\n",
    "\n",
    "- O objetivo da Estimativa dos Mínimos Quadrados é descobrirmos as incógnitas/coeficientes com a menor variância possível no Erro, ou seja, com a melhor Estimativa possível e menor Erro possível. É através desse método que calculamos os coeficientes de uma Regressão Linear\n",
    "\n",
    "<img src = './img140.png' width = '70%'>\n",
    "\n",
    "<img src = './img141.png' width = '70%'>\n",
    "\n",
    "<img src = './img142.png' width = '70%'>"
   ]
  },
  {
   "cell_type": "markdown",
   "metadata": {},
   "source": [
    "### Estimativa Por Mínimos Quadrados "
   ]
  },
  {
   "cell_type": "code",
   "execution_count": 38,
   "metadata": {},
   "outputs": [],
   "source": [
    "import pandas as pd \n",
    "import numpy as np \n",
    "import scipy as sp"
   ]
  },
  {
   "cell_type": "markdown",
   "metadata": {},
   "source": [
    "* Análise Inicial "
   ]
  },
  {
   "cell_type": "code",
   "execution_count": 39,
   "metadata": {},
   "outputs": [
    {
     "name": "stdout",
     "output_type": "stream",
     "text": [
      "(25, 3)\n",
      "inicio_estudo         int64\n",
      "tempo_estudo_dia      int64\n",
      "nota                float64\n",
      "dtype: object\n"
     ]
    },
    {
     "data": {
      "text/html": [
       "<div>\n",
       "<style scoped>\n",
       "    .dataframe tbody tr th:only-of-type {\n",
       "        vertical-align: middle;\n",
       "    }\n",
       "\n",
       "    .dataframe tbody tr th {\n",
       "        vertical-align: top;\n",
       "    }\n",
       "\n",
       "    .dataframe thead th {\n",
       "        text-align: right;\n",
       "    }\n",
       "</style>\n",
       "<table border=\"1\" class=\"dataframe\">\n",
       "  <thead>\n",
       "    <tr style=\"text-align: right;\">\n",
       "      <th></th>\n",
       "      <th>inicio_estudo</th>\n",
       "      <th>tempo_estudo_dia</th>\n",
       "      <th>nota</th>\n",
       "    </tr>\n",
       "  </thead>\n",
       "  <tbody>\n",
       "    <tr>\n",
       "      <th>0</th>\n",
       "      <td>5</td>\n",
       "      <td>120</td>\n",
       "      <td>8.1</td>\n",
       "    </tr>\n",
       "    <tr>\n",
       "      <th>1</th>\n",
       "      <td>13</td>\n",
       "      <td>90</td>\n",
       "      <td>6.8</td>\n",
       "    </tr>\n",
       "    <tr>\n",
       "      <th>2</th>\n",
       "      <td>20</td>\n",
       "      <td>120</td>\n",
       "      <td>7.0</td>\n",
       "    </tr>\n",
       "    <tr>\n",
       "      <th>3</th>\n",
       "      <td>28</td>\n",
       "      <td>60</td>\n",
       "      <td>7.4</td>\n",
       "    </tr>\n",
       "    <tr>\n",
       "      <th>4</th>\n",
       "      <td>20</td>\n",
       "      <td>150</td>\n",
       "      <td>9.3</td>\n",
       "    </tr>\n",
       "  </tbody>\n",
       "</table>\n",
       "</div>"
      ],
      "text/plain": [
       "   inicio_estudo  tempo_estudo_dia  nota\n",
       "0              5               120   8.1\n",
       "1             13                90   6.8\n",
       "2             20               120   7.0\n",
       "3             28                60   7.4\n",
       "4             20               150   9.3"
      ]
     },
     "execution_count": 39,
     "metadata": {},
     "output_type": "execute_result"
    }
   ],
   "source": [
    "nota = pd.read_excel('concurso.xlsx')\n",
    "print(nota.shape)\n",
    "print(nota.dtypes)\n",
    "nota.head()"
   ]
  },
  {
   "cell_type": "markdown",
   "metadata": {},
   "source": [
    "> 1. 5x + 120.y = 8.1 \n",
    "\n",
    "> 2. 13x + 90.y = 6.8\n",
    "\n",
    "> 3. 20x + 120.y = 7.0\n",
    "\n",
    "> 4. 28x + 60.y = 7.4\n",
    "\n",
    "> 5. 20x + 150.y = 9.3\n",
    "\n",
    "> 6. E assim por diante...\n",
    "\n",
    "- Nesse caso, note que temos um problema Superdeterminado (mais equações do que incógnitas). Por conta disso, utilizaremos a Estimativa dos Mínimos Quadrados para calcularmos X e Y, obtendo assim a menor variância possível e, consequentemente, diminuindo os Erros ao máximo e deixando a melhor Estimativa possível."
   ]
  },
  {
   "cell_type": "markdown",
   "metadata": {},
   "source": [
    "* Valores Missing "
   ]
  },
  {
   "cell_type": "code",
   "execution_count": 40,
   "metadata": {},
   "outputs": [
    {
     "data": {
      "text/plain": [
       "inicio_estudo       0\n",
       "tempo_estudo_dia    0\n",
       "nota                0\n",
       "dtype: int64"
      ]
     },
     "execution_count": 40,
     "metadata": {},
     "output_type": "execute_result"
    }
   ],
   "source": [
    "nota.isnull().sum()"
   ]
  },
  {
   "cell_type": "markdown",
   "metadata": {},
   "source": [
    "* Criação da Matriz dos Coeficientes "
   ]
  },
  {
   "cell_type": "code",
   "execution_count": 41,
   "metadata": {},
   "outputs": [
    {
     "data": {
      "text/html": [
       "<div>\n",
       "<style scoped>\n",
       "    .dataframe tbody tr th:only-of-type {\n",
       "        vertical-align: middle;\n",
       "    }\n",
       "\n",
       "    .dataframe tbody tr th {\n",
       "        vertical-align: top;\n",
       "    }\n",
       "\n",
       "    .dataframe thead th {\n",
       "        text-align: right;\n",
       "    }\n",
       "</style>\n",
       "<table border=\"1\" class=\"dataframe\">\n",
       "  <thead>\n",
       "    <tr style=\"text-align: right;\">\n",
       "      <th></th>\n",
       "      <th>inicio_estudo</th>\n",
       "      <th>tempo_estudo_dia</th>\n",
       "    </tr>\n",
       "  </thead>\n",
       "  <tbody>\n",
       "    <tr>\n",
       "      <th>0</th>\n",
       "      <td>5</td>\n",
       "      <td>120</td>\n",
       "    </tr>\n",
       "    <tr>\n",
       "      <th>1</th>\n",
       "      <td>13</td>\n",
       "      <td>90</td>\n",
       "    </tr>\n",
       "    <tr>\n",
       "      <th>2</th>\n",
       "      <td>20</td>\n",
       "      <td>120</td>\n",
       "    </tr>\n",
       "    <tr>\n",
       "      <th>3</th>\n",
       "      <td>28</td>\n",
       "      <td>60</td>\n",
       "    </tr>\n",
       "    <tr>\n",
       "      <th>4</th>\n",
       "      <td>20</td>\n",
       "      <td>150</td>\n",
       "    </tr>\n",
       "  </tbody>\n",
       "</table>\n",
       "</div>"
      ],
      "text/plain": [
       "   inicio_estudo  tempo_estudo_dia\n",
       "0              5               120\n",
       "1             13                90\n",
       "2             20               120\n",
       "3             28                60\n",
       "4             20               150"
      ]
     },
     "metadata": {},
     "output_type": "display_data"
    },
    {
     "name": "stdout",
     "output_type": "stream",
     "text": [
      "<class 'numpy.ndarray'>\n",
      "[[  5 120]\n",
      " [ 13  90]\n",
      " [ 20 120]\n",
      " [ 28  60]\n",
      " [ 20 150]]\n"
     ]
    }
   ],
   "source": [
    "A = nota.drop(columns = ['nota'])\n",
    "display(A.head())\n",
    "A = A.values\n",
    "print(type(A))\n",
    "print(A[:5])"
   ]
  },
  {
   "cell_type": "markdown",
   "metadata": {},
   "source": [
    "* Criação da Matriz das Constantes "
   ]
  },
  {
   "cell_type": "code",
   "execution_count": 42,
   "metadata": {},
   "outputs": [
    {
     "data": {
      "text/html": [
       "<div>\n",
       "<style scoped>\n",
       "    .dataframe tbody tr th:only-of-type {\n",
       "        vertical-align: middle;\n",
       "    }\n",
       "\n",
       "    .dataframe tbody tr th {\n",
       "        vertical-align: top;\n",
       "    }\n",
       "\n",
       "    .dataframe thead th {\n",
       "        text-align: right;\n",
       "    }\n",
       "</style>\n",
       "<table border=\"1\" class=\"dataframe\">\n",
       "  <thead>\n",
       "    <tr style=\"text-align: right;\">\n",
       "      <th></th>\n",
       "      <th>nota</th>\n",
       "    </tr>\n",
       "  </thead>\n",
       "  <tbody>\n",
       "    <tr>\n",
       "      <th>0</th>\n",
       "      <td>8.1</td>\n",
       "    </tr>\n",
       "    <tr>\n",
       "      <th>1</th>\n",
       "      <td>6.8</td>\n",
       "    </tr>\n",
       "    <tr>\n",
       "      <th>2</th>\n",
       "      <td>7.0</td>\n",
       "    </tr>\n",
       "    <tr>\n",
       "      <th>3</th>\n",
       "      <td>7.4</td>\n",
       "    </tr>\n",
       "    <tr>\n",
       "      <th>4</th>\n",
       "      <td>9.3</td>\n",
       "    </tr>\n",
       "  </tbody>\n",
       "</table>\n",
       "</div>"
      ],
      "text/plain": [
       "   nota\n",
       "0   8.1\n",
       "1   6.8\n",
       "2   7.0\n",
       "3   7.4\n",
       "4   9.3"
      ]
     },
     "metadata": {},
     "output_type": "display_data"
    },
    {
     "name": "stdout",
     "output_type": "stream",
     "text": [
      "<class 'numpy.ndarray'>\n",
      "[[8.1]\n",
      " [6.8]\n",
      " [7. ]\n",
      " [7.4]\n",
      " [9.3]]\n"
     ]
    }
   ],
   "source": [
    "b = nota.drop(columns = ['inicio_estudo', 'tempo_estudo_dia'])\n",
    "display(b.head())\n",
    "b = b.values\n",
    "print(type(b))\n",
    "print(b[:5])"
   ]
  },
  {
   "cell_type": "markdown",
   "metadata": {},
   "source": [
    "* Estimativa por Mínimos Quadrados\n",
    "\n",
    "# $ x^{->}= (A^{T}A)^{-1}A^{T}b$"
   ]
  },
  {
   "cell_type": "code",
   "execution_count": 43,
   "metadata": {},
   "outputs": [
    {
     "data": {
      "text/plain": [
       "array([[  5,  13,  20,  28,  20,  24,  18,   8,   2,  12,  15,   9,   6,\n",
       "          4,   8,  12,  10,   3,  15,   9,  24,   5,   7,  12,   2],\n",
       "       [120,  90, 120,  60, 150, 150,  60, 120, 240,  90,  90, 120, 180,\n",
       "         90, 150, 120, 180,  90, 180,  90, 120, 150, 120, 180,  90]],\n",
       "      dtype=int64)"
      ]
     },
     "execution_count": 43,
     "metadata": {},
     "output_type": "execute_result"
    }
   ],
   "source": [
    "# Transposta da Matriz A\n",
    "At = np.array(A).T \n",
    "At "
   ]
  },
  {
   "cell_type": "code",
   "execution_count": 44,
   "metadata": {},
   "outputs": [
    {
     "data": {
      "text/plain": [
       "array([[  4669,  34950],\n",
       "       [ 34950, 441900]], dtype=int64)"
      ]
     },
     "execution_count": 44,
     "metadata": {},
     "output_type": "execute_result"
    }
   ],
   "source": [
    "# Multiplicação da Transposta de A pela Matriz A\n",
    "AtA = np.dot(At, A)\n",
    "AtA"
   ]
  },
  {
   "cell_type": "code",
   "execution_count": 45,
   "metadata": {},
   "outputs": [
    {
     "data": {
      "text/plain": [
       "array([[ 5.24991072e-04, -4.15216971e-05],\n",
       "       [-4.15216971e-05,  5.54691857e-06]])"
      ]
     },
     "execution_count": 45,
     "metadata": {},
     "output_type": "execute_result"
    }
   ],
   "source": [
    "# Inversa da Matriz Calculada Anteriormente\n",
    "inv = np.linalg.inv(AtA)\n",
    "inv"
   ]
  },
  {
   "cell_type": "code",
   "execution_count": 46,
   "metadata": {},
   "outputs": [
    {
     "data": {
      "text/plain": [
       "array([[ 2305.9],\n",
       "       [24726. ]])"
      ]
     },
     "execution_count": 46,
     "metadata": {},
     "output_type": "execute_result"
    }
   ],
   "source": [
    "# Multipliacação da Transposta de A pelo Vetor b\n",
    "Atb = np.dot(At, b)\n",
    "Atb "
   ]
  },
  {
   "cell_type": "code",
   "execution_count": 47,
   "metadata": {},
   "outputs": [
    {
     "data": {
      "text/plain": [
       "array([[0.18391143],\n",
       "       [0.04140823]])"
      ]
     },
     "execution_count": 47,
     "metadata": {},
     "output_type": "execute_result"
    }
   ],
   "source": [
    "# Finalizando o X\n",
    "x = np.dot(inv, Atb)\n",
    "x"
   ]
  },
  {
   "cell_type": "markdown",
   "metadata": {},
   "source": [
    "> 1. nota = 0.1839.inicio_estudo + 0.0414.tempo_estudo_dia"
   ]
  },
  {
   "cell_type": "code",
   "execution_count": 48,
   "metadata": {},
   "outputs": [
    {
     "data": {
      "text/html": [
       "<div>\n",
       "<style scoped>\n",
       "    .dataframe tbody tr th:only-of-type {\n",
       "        vertical-align: middle;\n",
       "    }\n",
       "\n",
       "    .dataframe tbody tr th {\n",
       "        vertical-align: top;\n",
       "    }\n",
       "\n",
       "    .dataframe thead th {\n",
       "        text-align: right;\n",
       "    }\n",
       "</style>\n",
       "<table border=\"1\" class=\"dataframe\">\n",
       "  <thead>\n",
       "    <tr style=\"text-align: right;\">\n",
       "      <th></th>\n",
       "      <th>inicio_estudo</th>\n",
       "      <th>tempo_estudo_dia</th>\n",
       "      <th>nota</th>\n",
       "      <th>previsao</th>\n",
       "    </tr>\n",
       "  </thead>\n",
       "  <tbody>\n",
       "    <tr>\n",
       "      <th>0</th>\n",
       "      <td>5</td>\n",
       "      <td>120</td>\n",
       "      <td>8.1</td>\n",
       "      <td>5.888544</td>\n",
       "    </tr>\n",
       "    <tr>\n",
       "      <th>1</th>\n",
       "      <td>13</td>\n",
       "      <td>90</td>\n",
       "      <td>6.8</td>\n",
       "      <td>6.117589</td>\n",
       "    </tr>\n",
       "    <tr>\n",
       "      <th>2</th>\n",
       "      <td>20</td>\n",
       "      <td>120</td>\n",
       "      <td>7.0</td>\n",
       "      <td>8.647216</td>\n",
       "    </tr>\n",
       "    <tr>\n",
       "      <th>3</th>\n",
       "      <td>28</td>\n",
       "      <td>60</td>\n",
       "      <td>7.4</td>\n",
       "      <td>7.634014</td>\n",
       "    </tr>\n",
       "    <tr>\n",
       "      <th>4</th>\n",
       "      <td>20</td>\n",
       "      <td>150</td>\n",
       "      <td>9.3</td>\n",
       "      <td>9.889463</td>\n",
       "    </tr>\n",
       "  </tbody>\n",
       "</table>\n",
       "</div>"
      ],
      "text/plain": [
       "   inicio_estudo  tempo_estudo_dia  nota  previsao\n",
       "0              5               120   8.1  5.888544\n",
       "1             13                90   6.8  6.117589\n",
       "2             20               120   7.0  8.647216\n",
       "3             28                60   7.4  7.634014\n",
       "4             20               150   9.3  9.889463"
      ]
     },
     "execution_count": 48,
     "metadata": {},
     "output_type": "execute_result"
    }
   ],
   "source": [
    "resultado = nota \n",
    "resultado['previsao'] = resultado['inicio_estudo']*x[0] + resultado['tempo_estudo_dia']*x[1]\n",
    "resultado.head()"
   ]
  },
  {
   "cell_type": "code",
   "execution_count": 49,
   "metadata": {},
   "outputs": [
    {
     "data": {
      "text/plain": [
       "1.582360299982678"
      ]
     },
     "execution_count": 49,
     "metadata": {},
     "output_type": "execute_result"
    }
   ],
   "source": [
    "# Erro Médio Absoluto (MAE)\n",
    "from sklearn.metrics import mean_absolute_error\n",
    "\n",
    "mean_absolute_error(resultado.nota, resultado.previsao)"
   ]
  },
  {
   "cell_type": "code",
   "execution_count": 50,
   "metadata": {},
   "outputs": [
    {
     "data": {
      "text/html": [
       "<div>\n",
       "<style scoped>\n",
       "    .dataframe tbody tr th:only-of-type {\n",
       "        vertical-align: middle;\n",
       "    }\n",
       "\n",
       "    .dataframe tbody tr th {\n",
       "        vertical-align: top;\n",
       "    }\n",
       "\n",
       "    .dataframe thead th {\n",
       "        text-align: right;\n",
       "    }\n",
       "</style>\n",
       "<table border=\"1\" class=\"dataframe\">\n",
       "  <thead>\n",
       "    <tr style=\"text-align: right;\">\n",
       "      <th></th>\n",
       "      <th>inicio_estudo</th>\n",
       "      <th>tempo_estudo_dia</th>\n",
       "      <th>nota</th>\n",
       "      <th>previsao</th>\n",
       "      <th>erro_abs</th>\n",
       "    </tr>\n",
       "  </thead>\n",
       "  <tbody>\n",
       "    <tr>\n",
       "      <th>0</th>\n",
       "      <td>5</td>\n",
       "      <td>120</td>\n",
       "      <td>8.1</td>\n",
       "      <td>5.888544</td>\n",
       "      <td>2.211456</td>\n",
       "    </tr>\n",
       "    <tr>\n",
       "      <th>1</th>\n",
       "      <td>13</td>\n",
       "      <td>90</td>\n",
       "      <td>6.8</td>\n",
       "      <td>6.117589</td>\n",
       "      <td>0.682411</td>\n",
       "    </tr>\n",
       "    <tr>\n",
       "      <th>2</th>\n",
       "      <td>20</td>\n",
       "      <td>120</td>\n",
       "      <td>7.0</td>\n",
       "      <td>8.647216</td>\n",
       "      <td>1.647216</td>\n",
       "    </tr>\n",
       "    <tr>\n",
       "      <th>3</th>\n",
       "      <td>28</td>\n",
       "      <td>60</td>\n",
       "      <td>7.4</td>\n",
       "      <td>7.634014</td>\n",
       "      <td>0.234014</td>\n",
       "    </tr>\n",
       "    <tr>\n",
       "      <th>4</th>\n",
       "      <td>20</td>\n",
       "      <td>150</td>\n",
       "      <td>9.3</td>\n",
       "      <td>9.889463</td>\n",
       "      <td>0.589463</td>\n",
       "    </tr>\n",
       "  </tbody>\n",
       "</table>\n",
       "</div>"
      ],
      "text/plain": [
       "   inicio_estudo  tempo_estudo_dia  nota  previsao  erro_abs\n",
       "0              5               120   8.1  5.888544  2.211456\n",
       "1             13                90   6.8  6.117589  0.682411\n",
       "2             20               120   7.0  8.647216  1.647216\n",
       "3             28                60   7.4  7.634014  0.234014\n",
       "4             20               150   9.3  9.889463  0.589463"
      ]
     },
     "metadata": {},
     "output_type": "display_data"
    },
    {
     "name": "stdout",
     "output_type": "stream",
     "text": [
      "MAE na Mão: 1.582360299982678\n"
     ]
    }
   ],
   "source": [
    "resultado['erro_abs'] = abs(resultado.nota - resultado.previsao)\n",
    "display(resultado.head())\n",
    "print(f'MAE na Mão: {resultado.erro_abs.mean()}')"
   ]
  },
  {
   "cell_type": "markdown",
   "metadata": {},
   "source": [
    "> 1. Agora, temos a Modelagem Matemática com Estimativa dos Mínimos Quadrados pronta.\n",
    "\n",
    "> 2. Entretanto, há um problema: Se uma pessoa que não estudou absolutamente nada prestar a prova, muito provavelmente ela não iria zerar. Nosso Modelo Matemático afirma que caso o inicio_estudo e o tempo_estudo_dia sejam 0, a nota será 0, e na realidade isso dificilmente aconteceria. \n",
    "\n",
    "> 3. Para corrigir essa previsão, podemos realizar uma regressão linear múltipla. O Intercepto da Regressão Linear, além do Erro, melhoram muito o nosso resultado, pois o caso acima não teria uma nota 0 caso a situação descrita acontecesse."
   ]
  },
  {
   "cell_type": "markdown",
   "metadata": {},
   "source": [
    "### Regressão Linear Múltipla \n",
    "\n",
    "<img  src='reg_01.jpg' width='600px'>\n",
    "\n",
    "<img  src='reg_02.jpg' width='600px'>"
   ]
  },
  {
   "cell_type": "markdown",
   "metadata": {},
   "source": [
    "* Criação do DataFrame"
   ]
  },
  {
   "cell_type": "code",
   "execution_count": 51,
   "metadata": {},
   "outputs": [
    {
     "data": {
      "text/html": [
       "<div>\n",
       "<style scoped>\n",
       "    .dataframe tbody tr th:only-of-type {\n",
       "        vertical-align: middle;\n",
       "    }\n",
       "\n",
       "    .dataframe tbody tr th {\n",
       "        vertical-align: top;\n",
       "    }\n",
       "\n",
       "    .dataframe thead th {\n",
       "        text-align: right;\n",
       "    }\n",
       "</style>\n",
       "<table border=\"1\" class=\"dataframe\">\n",
       "  <thead>\n",
       "    <tr style=\"text-align: right;\">\n",
       "      <th></th>\n",
       "      <th>inicio_estudo</th>\n",
       "      <th>tempo_estudo_dia</th>\n",
       "      <th>nota</th>\n",
       "      <th>previsao</th>\n",
       "      <th>erro_abs</th>\n",
       "    </tr>\n",
       "  </thead>\n",
       "  <tbody>\n",
       "    <tr>\n",
       "      <th>0</th>\n",
       "      <td>5</td>\n",
       "      <td>120</td>\n",
       "      <td>8.1</td>\n",
       "      <td>5.888544</td>\n",
       "      <td>2.211456</td>\n",
       "    </tr>\n",
       "    <tr>\n",
       "      <th>1</th>\n",
       "      <td>13</td>\n",
       "      <td>90</td>\n",
       "      <td>6.8</td>\n",
       "      <td>6.117589</td>\n",
       "      <td>0.682411</td>\n",
       "    </tr>\n",
       "    <tr>\n",
       "      <th>2</th>\n",
       "      <td>20</td>\n",
       "      <td>120</td>\n",
       "      <td>7.0</td>\n",
       "      <td>8.647216</td>\n",
       "      <td>1.647216</td>\n",
       "    </tr>\n",
       "    <tr>\n",
       "      <th>3</th>\n",
       "      <td>28</td>\n",
       "      <td>60</td>\n",
       "      <td>7.4</td>\n",
       "      <td>7.634014</td>\n",
       "      <td>0.234014</td>\n",
       "    </tr>\n",
       "    <tr>\n",
       "      <th>4</th>\n",
       "      <td>20</td>\n",
       "      <td>150</td>\n",
       "      <td>9.3</td>\n",
       "      <td>9.889463</td>\n",
       "      <td>0.589463</td>\n",
       "    </tr>\n",
       "  </tbody>\n",
       "</table>\n",
       "</div>"
      ],
      "text/plain": [
       "   inicio_estudo  tempo_estudo_dia  nota  previsao  erro_abs\n",
       "0              5               120   8.1  5.888544  2.211456\n",
       "1             13                90   6.8  6.117589  0.682411\n",
       "2             20               120   7.0  8.647216  1.647216\n",
       "3             28                60   7.4  7.634014  0.234014\n",
       "4             20               150   9.3  9.889463  0.589463"
      ]
     },
     "execution_count": 51,
     "metadata": {},
     "output_type": "execute_result"
    }
   ],
   "source": [
    "resultado.head()"
   ]
  },
  {
   "cell_type": "code",
   "execution_count": 52,
   "metadata": {},
   "outputs": [
    {
     "data": {
      "text/html": [
       "<div>\n",
       "<style scoped>\n",
       "    .dataframe tbody tr th:only-of-type {\n",
       "        vertical-align: middle;\n",
       "    }\n",
       "\n",
       "    .dataframe tbody tr th {\n",
       "        vertical-align: top;\n",
       "    }\n",
       "\n",
       "    .dataframe thead th {\n",
       "        text-align: right;\n",
       "    }\n",
       "</style>\n",
       "<table border=\"1\" class=\"dataframe\">\n",
       "  <thead>\n",
       "    <tr style=\"text-align: right;\">\n",
       "      <th></th>\n",
       "      <th>inicio_estudo</th>\n",
       "      <th>tempo_estudo_dia</th>\n",
       "    </tr>\n",
       "  </thead>\n",
       "  <tbody>\n",
       "    <tr>\n",
       "      <th>0</th>\n",
       "      <td>5</td>\n",
       "      <td>120</td>\n",
       "    </tr>\n",
       "    <tr>\n",
       "      <th>1</th>\n",
       "      <td>13</td>\n",
       "      <td>90</td>\n",
       "    </tr>\n",
       "    <tr>\n",
       "      <th>2</th>\n",
       "      <td>20</td>\n",
       "      <td>120</td>\n",
       "    </tr>\n",
       "    <tr>\n",
       "      <th>3</th>\n",
       "      <td>28</td>\n",
       "      <td>60</td>\n",
       "    </tr>\n",
       "    <tr>\n",
       "      <th>4</th>\n",
       "      <td>20</td>\n",
       "      <td>150</td>\n",
       "    </tr>\n",
       "  </tbody>\n",
       "</table>\n",
       "</div>"
      ],
      "text/plain": [
       "   inicio_estudo  tempo_estudo_dia\n",
       "0              5               120\n",
       "1             13                90\n",
       "2             20               120\n",
       "3             28                60\n",
       "4             20               150"
      ]
     },
     "execution_count": 52,
     "metadata": {},
     "output_type": "execute_result"
    }
   ],
   "source": [
    "B = resultado.drop(columns = ['nota', 'previsao', 'erro_abs'])\n",
    "B.head()"
   ]
  },
  {
   "cell_type": "markdown",
   "metadata": {},
   "source": [
    "* Criação da Coluna Unidade\n",
    "\n",
    "> 1. Ela será utilizada na criação do Intercepto, pois na Multipliacação de Matrizes o 1 não altera o resultado, sendo importante para a criação do Intercepto."
   ]
  },
  {
   "cell_type": "code",
   "execution_count": 53,
   "metadata": {},
   "outputs": [
    {
     "data": {
      "text/html": [
       "<div>\n",
       "<style scoped>\n",
       "    .dataframe tbody tr th:only-of-type {\n",
       "        vertical-align: middle;\n",
       "    }\n",
       "\n",
       "    .dataframe tbody tr th {\n",
       "        vertical-align: top;\n",
       "    }\n",
       "\n",
       "    .dataframe thead th {\n",
       "        text-align: right;\n",
       "    }\n",
       "</style>\n",
       "<table border=\"1\" class=\"dataframe\">\n",
       "  <thead>\n",
       "    <tr style=\"text-align: right;\">\n",
       "      <th></th>\n",
       "      <th>unidade</th>\n",
       "      <th>inicio_estudo</th>\n",
       "      <th>tempo_estudo_dia</th>\n",
       "    </tr>\n",
       "  </thead>\n",
       "  <tbody>\n",
       "    <tr>\n",
       "      <th>0</th>\n",
       "      <td>1</td>\n",
       "      <td>5</td>\n",
       "      <td>120</td>\n",
       "    </tr>\n",
       "    <tr>\n",
       "      <th>1</th>\n",
       "      <td>1</td>\n",
       "      <td>13</td>\n",
       "      <td>90</td>\n",
       "    </tr>\n",
       "    <tr>\n",
       "      <th>2</th>\n",
       "      <td>1</td>\n",
       "      <td>20</td>\n",
       "      <td>120</td>\n",
       "    </tr>\n",
       "    <tr>\n",
       "      <th>3</th>\n",
       "      <td>1</td>\n",
       "      <td>28</td>\n",
       "      <td>60</td>\n",
       "    </tr>\n",
       "    <tr>\n",
       "      <th>4</th>\n",
       "      <td>1</td>\n",
       "      <td>20</td>\n",
       "      <td>150</td>\n",
       "    </tr>\n",
       "  </tbody>\n",
       "</table>\n",
       "</div>"
      ],
      "text/plain": [
       "   unidade  inicio_estudo  tempo_estudo_dia\n",
       "0        1              5               120\n",
       "1        1             13                90\n",
       "2        1             20               120\n",
       "3        1             28                60\n",
       "4        1             20               150"
      ]
     },
     "execution_count": 53,
     "metadata": {},
     "output_type": "execute_result"
    }
   ],
   "source": [
    "B = B.assign(unidade = 1)\n",
    "B = B[['unidade', 'inicio_estudo', 'tempo_estudo_dia']]\n",
    "B.head()"
   ]
  },
  {
   "cell_type": "markdown",
   "metadata": {},
   "source": [
    "* Estimativa por Mínimos Quadrados\n",
    "\n",
    "# $ x^{->}= (B^{T}B)^{-1}B^{T}b$"
   ]
  },
  {
   "cell_type": "code",
   "execution_count": 54,
   "metadata": {},
   "outputs": [
    {
     "data": {
      "text/plain": [
       "array([[  1,   1,   1,   1,   1,   1,   1,   1,   1,   1,   1,   1,   1,\n",
       "          1,   1,   1,   1,   1,   1,   1,   1,   1,   1,   1,   1],\n",
       "       [  5,  13,  20,  28,  20,  24,  18,   8,   2,  12,  15,   9,   6,\n",
       "          4,   8,  12,  10,   3,  15,   9,  24,   5,   7,  12,   2],\n",
       "       [120,  90, 120,  60, 150, 150,  60, 120, 240,  90,  90, 120, 180,\n",
       "         90, 150, 120, 180,  90, 180,  90, 120, 150, 120, 180,  90]],\n",
       "      dtype=int64)"
      ]
     },
     "execution_count": 54,
     "metadata": {},
     "output_type": "execute_result"
    }
   ],
   "source": [
    "Bt = np.array(B).T \n",
    "Bt"
   ]
  },
  {
   "cell_type": "code",
   "execution_count": 55,
   "metadata": {},
   "outputs": [
    {
     "data": {
      "text/plain": [
       "array([[6.48712882e+00],\n",
       "       [4.13304622e-02],\n",
       "       [6.44273496e-03]])"
      ]
     },
     "execution_count": 55,
     "metadata": {},
     "output_type": "execute_result"
    }
   ],
   "source": [
    "x2 = np.dot(np.dot(np.linalg.inv(np.dot(Bt,B)), Bt), b)\n",
    "x2"
   ]
  },
  {
   "cell_type": "markdown",
   "metadata": {},
   "source": [
    "> 1. nota = 6.4871 + 0.0413.inicio_estudo + 0.00644.tempo_estudo_dia"
   ]
  },
  {
   "cell_type": "code",
   "execution_count": 56,
   "metadata": {},
   "outputs": [
    {
     "data": {
      "text/html": [
       "<div>\n",
       "<style scoped>\n",
       "    .dataframe tbody tr th:only-of-type {\n",
       "        vertical-align: middle;\n",
       "    }\n",
       "\n",
       "    .dataframe tbody tr th {\n",
       "        vertical-align: top;\n",
       "    }\n",
       "\n",
       "    .dataframe thead th {\n",
       "        text-align: right;\n",
       "    }\n",
       "</style>\n",
       "<table border=\"1\" class=\"dataframe\">\n",
       "  <thead>\n",
       "    <tr style=\"text-align: right;\">\n",
       "      <th></th>\n",
       "      <th>inicio_estudo</th>\n",
       "      <th>tempo_estudo_dia</th>\n",
       "      <th>nota</th>\n",
       "      <th>previsao</th>\n",
       "      <th>erro_abs</th>\n",
       "      <th>previsao2</th>\n",
       "    </tr>\n",
       "  </thead>\n",
       "  <tbody>\n",
       "    <tr>\n",
       "      <th>0</th>\n",
       "      <td>5</td>\n",
       "      <td>120</td>\n",
       "      <td>8.1</td>\n",
       "      <td>5.888544</td>\n",
       "      <td>2.211456</td>\n",
       "      <td>7.466909</td>\n",
       "    </tr>\n",
       "    <tr>\n",
       "      <th>1</th>\n",
       "      <td>13</td>\n",
       "      <td>90</td>\n",
       "      <td>6.8</td>\n",
       "      <td>6.117589</td>\n",
       "      <td>0.682411</td>\n",
       "      <td>7.604271</td>\n",
       "    </tr>\n",
       "    <tr>\n",
       "      <th>2</th>\n",
       "      <td>20</td>\n",
       "      <td>120</td>\n",
       "      <td>7.0</td>\n",
       "      <td>8.647216</td>\n",
       "      <td>1.647216</td>\n",
       "      <td>8.086866</td>\n",
       "    </tr>\n",
       "    <tr>\n",
       "      <th>3</th>\n",
       "      <td>28</td>\n",
       "      <td>60</td>\n",
       "      <td>7.4</td>\n",
       "      <td>7.634014</td>\n",
       "      <td>0.234014</td>\n",
       "      <td>8.030946</td>\n",
       "    </tr>\n",
       "    <tr>\n",
       "      <th>4</th>\n",
       "      <td>20</td>\n",
       "      <td>150</td>\n",
       "      <td>9.3</td>\n",
       "      <td>9.889463</td>\n",
       "      <td>0.589463</td>\n",
       "      <td>8.280148</td>\n",
       "    </tr>\n",
       "  </tbody>\n",
       "</table>\n",
       "</div>"
      ],
      "text/plain": [
       "   inicio_estudo  tempo_estudo_dia  nota  previsao  erro_abs  previsao2\n",
       "0              5               120   8.1  5.888544  2.211456   7.466909\n",
       "1             13                90   6.8  6.117589  0.682411   7.604271\n",
       "2             20               120   7.0  8.647216  1.647216   8.086866\n",
       "3             28                60   7.4  7.634014  0.234014   8.030946\n",
       "4             20               150   9.3  9.889463  0.589463   8.280148"
      ]
     },
     "execution_count": 56,
     "metadata": {},
     "output_type": "execute_result"
    }
   ],
   "source": [
    "resultado['previsao2'] = x2[0] + resultado['inicio_estudo']*x2[1] + resultado['tempo_estudo_dia']*x2[2]\n",
    "resultado.head()"
   ]
  },
  {
   "cell_type": "code",
   "execution_count": 57,
   "metadata": {},
   "outputs": [
    {
     "name": "stdout",
     "output_type": "stream",
     "text": [
      "MAE com Sklearn: 0.6362742744691549\n"
     ]
    },
    {
     "data": {
      "text/html": [
       "<div>\n",
       "<style scoped>\n",
       "    .dataframe tbody tr th:only-of-type {\n",
       "        vertical-align: middle;\n",
       "    }\n",
       "\n",
       "    .dataframe tbody tr th {\n",
       "        vertical-align: top;\n",
       "    }\n",
       "\n",
       "    .dataframe thead th {\n",
       "        text-align: right;\n",
       "    }\n",
       "</style>\n",
       "<table border=\"1\" class=\"dataframe\">\n",
       "  <thead>\n",
       "    <tr style=\"text-align: right;\">\n",
       "      <th></th>\n",
       "      <th>inicio_estudo</th>\n",
       "      <th>tempo_estudo_dia</th>\n",
       "      <th>nota</th>\n",
       "      <th>previsao</th>\n",
       "      <th>erro_abs</th>\n",
       "      <th>previsao2</th>\n",
       "    </tr>\n",
       "  </thead>\n",
       "  <tbody>\n",
       "    <tr>\n",
       "      <th>0</th>\n",
       "      <td>5</td>\n",
       "      <td>120</td>\n",
       "      <td>8.1</td>\n",
       "      <td>5.888544</td>\n",
       "      <td>0.633091</td>\n",
       "      <td>7.466909</td>\n",
       "    </tr>\n",
       "    <tr>\n",
       "      <th>1</th>\n",
       "      <td>13</td>\n",
       "      <td>90</td>\n",
       "      <td>6.8</td>\n",
       "      <td>6.117589</td>\n",
       "      <td>0.804271</td>\n",
       "      <td>7.604271</td>\n",
       "    </tr>\n",
       "    <tr>\n",
       "      <th>2</th>\n",
       "      <td>20</td>\n",
       "      <td>120</td>\n",
       "      <td>7.0</td>\n",
       "      <td>8.647216</td>\n",
       "      <td>1.086866</td>\n",
       "      <td>8.086866</td>\n",
       "    </tr>\n",
       "    <tr>\n",
       "      <th>3</th>\n",
       "      <td>28</td>\n",
       "      <td>60</td>\n",
       "      <td>7.4</td>\n",
       "      <td>7.634014</td>\n",
       "      <td>0.630946</td>\n",
       "      <td>8.030946</td>\n",
       "    </tr>\n",
       "    <tr>\n",
       "      <th>4</th>\n",
       "      <td>20</td>\n",
       "      <td>150</td>\n",
       "      <td>9.3</td>\n",
       "      <td>9.889463</td>\n",
       "      <td>1.019852</td>\n",
       "      <td>8.280148</td>\n",
       "    </tr>\n",
       "  </tbody>\n",
       "</table>\n",
       "</div>"
      ],
      "text/plain": [
       "   inicio_estudo  tempo_estudo_dia  nota  previsao  erro_abs  previsao2\n",
       "0              5               120   8.1  5.888544  0.633091   7.466909\n",
       "1             13                90   6.8  6.117589  0.804271   7.604271\n",
       "2             20               120   7.0  8.647216  1.086866   8.086866\n",
       "3             28                60   7.4  7.634014  0.630946   8.030946\n",
       "4             20               150   9.3  9.889463  1.019852   8.280148"
      ]
     },
     "metadata": {},
     "output_type": "display_data"
    },
    {
     "name": "stdout",
     "output_type": "stream",
     "text": [
      "MAE na Mão: 0.6362742744691551\n"
     ]
    }
   ],
   "source": [
    "# Erro Médio Absoluto (MAE)\n",
    "from sklearn.metrics import mean_absolute_error\n",
    "\n",
    "mae = mean_absolute_error(resultado.nota, resultado.previsao2)\n",
    "print(f'MAE com Sklearn: {mae}')\n",
    "\n",
    "resultado['erro_abs'] = abs(resultado.nota - resultado.previsao2)\n",
    "display(resultado.head())\n",
    "print(f'MAE na Mão: {resultado.erro_abs.mean()}')"
   ]
  },
  {
   "cell_type": "markdown",
   "metadata": {},
   "source": [
    "> 1. A previsão de Regressão Linear foi melhor, pois o MAE foi menor. "
   ]
  },
  {
   "cell_type": "markdown",
   "metadata": {},
   "source": [
    "# <font color='red' style='font-size: 40px;'> 4.0 Transformação Linear, Autovetores e Autovalores </font>"
   ]
  },
  {
   "cell_type": "markdown",
   "metadata": {},
   "source": [
    "## 4.1) Transformação Linear \n",
    "\n",
    "> 1. Transformação Linear é uma associação de cada elemento de um conjunto a um único elemento de outro conjunto.\n",
    "\n",
    "<img src='./img143.png' width='70%px'>\n",
    "\n",
    "<img src='./img144.png' width='70%px'>\n",
    "\n",
    "<img src='./img145.png' width='70%px'>\n",
    "\n",
    "> 2. Homotetia: Segmentos Homólogos, ou seja, proporções iguais.\n",
    "\n",
    "<img src='./img146.png' width='70%px'>\n",
    "\n",
    "> 3. Translação: Movimento que mantém todas as suas propriedades geométricas (tamanho, ângulo e distâncias).\n",
    "\n",
    "<img src='./img147.png' width='70%px'>\n",
    "\n",
    "> 4. Rotação: Giro ao redor de um eixo de rotação.\n",
    "\n",
    "<img src='./img148.png' width='70%px'>\n",
    "\n",
    "> 5. Reflexão ou Simetria: Posições opostas a um refeencial.\n",
    "\n",
    "<img src='./img149.png' width='70%px'>\n",
    "\n",
    "> 6. Cisalhamento: Transformação que altera a forma geométrica do corpo ou a direção do vetor.\n",
    "\n",
    "<img src='./img150.png' width='70%px'>\n",
    "\n",
    "> 7. Alongamento, dilatação ou contração: Deformação por aumento ou diminuição de comprimento ou largura.\n",
    "\n",
    "<img src='./img151.png' width='70%px'>\n",
    "\n",
    "> 8. Transformação Lineares Inversas: Reverte a transformação à sua forma original.\n",
    "\n",
    "<img src='./img152.png' width='70%px'>"
   ]
  },
  {
   "cell_type": "markdown",
   "metadata": {},
   "source": [
    "## 4.2) Autovetores e Autovalores "
   ]
  },
  {
   "cell_type": "markdown",
   "metadata": {},
   "source": [
    "> 1. Tendo uma Transformação Linear (T), então um vetor (v) não nulo é um autovetor de T se existir um número (escalar) $\\lambda$, tal que:\n",
    "\n",
    "<img src='./img153.png' width='70%px'>\n",
    "\n",
    "<img src='./img154.png' width='70%px'>\n",
    "\n",
    "> 2. Cálculo para encontrar Autovalores e Autovetores:\n",
    "\n",
    "<img src='./img155.png' width='70%px'>\n",
    "\n",
    "<img src='./img156.png' width='70%px'>\n",
    "\n",
    "> 3. Graficamente:\n",
    "\n",
    "<img src='./img157.png' width='70%px'>\n",
    "\n",
    "> 4. Regras:\n",
    "\n",
    "<img src='./img158.png' width='70%px'>\n"
   ]
  },
  {
   "cell_type": "markdown",
   "metadata": {},
   "source": [
    "# <font color='red' style='font-size: 40px;'> 5.0 Fundamentos da Análise dos Componentes Principais (PCA) </font>"
   ]
  },
  {
   "cell_type": "markdown",
   "metadata": {},
   "source": [
    "## 5.1) Fundamentos\n",
    "> 1. É uma técnica estatística que transforma um conjunto de variáveis originais em outro conjunto de variáveis de mesma dimensão, sem serem correlacionadas e que expliquem melhor a variância dos dados. \n",
    "\n",
    "> 2. Cada componente principal é uma combinação linear de todas as variáveis originais.\n",
    "\n",
    "> 3. Pode ser utilizada para geração de índices e agrupamento de indivíduos conforme suas variâncias.\n",
    "\n",
    "> 4. Os componentes principais de um conjunto de dados num espaço multidimensional podem ser determinados pelos autovetores da matriz de covariância dos dados, os quais representam as variâncias dos componentes principais.\n",
    "\n",
    "> 5. É utilizada uma proporção como referência para determinar quais componentes principais explicam a maioria da variabilidade nos dados.\n",
    "\n",
    "> 6. Quanto maior a proporção, maior a capacidade do componente principal explicar a variabilidade.\n",
    "\n",
    "## 5.2) Matriz de Covariância\n",
    "\n",
    "> 1. A covariância, ou variância conjunta, é a medida do grau de interdependência (ou inter-relação) numérica entre duas variáveis. É definida da seguinte maneira:\n",
    "\n",
    "### Interpretação da Covariância \n",
    "\n",
    "#### Covariância populacional\n",
    "\n",
    "# $$\\sigma_{xy} = \\frac 1n\\sum_{i=1}^{n}(X_i-\\mu_x)(Y_i-\\mu_y)$$\n",
    "\n",
    "#### Covariância amostral\n",
    "\n",
    "# $$S_{xy} = \\frac 1{n-1}\\sum_{i=1}^{n}(X_i-\\bar{X})(Y_i-\\bar{Y})$$\n",
    "\n",
    "> 2. Valor de $S_{xy}$ positivo indica uma associação linear positiva entre x e y, ou seja, à medida que o valor de x aumenta, o valor de y também aumenta. Neste caso, podemos ver na figura abaixo que os pontos que têm a maior influência sobre $S_{xy}$ devem estar nos quadrantes I e III.\n",
    "\n",
    "> 3. Se o valor de $S_{xy}$ for negativo temos um indicativo de associação linear negativa entre x e y, ou seja, à medida que x aumenta, o valor de y diminui. Neste caso, podemos ver na figura abaixo que os pontos que têm a maior influência sobre $S_{xy}$ devem estar nos quadrantes II e IV.\n",
    "\n",
    "> 4. Finalmente, se os pontos estiverem uniformemente distribuídos pelos quadrantes, o valor de $S_{xy}$ se aproximará de zero, indicando que não existe nenhuma associação linear entre x e y.\n",
    "\n",
    "<img src=\"https://caelum-online-public.s3.amazonaws.com/1273-estatistica-parte4/01/img026.png\" width=50%>\n",
    "\n",
    "### Matriz De Covariância\n",
    "\n",
    "<img src='./img159.png' width='70%px'>\n",
    "\n",
    "<img src='./img160.png' width='70%px'>\n",
    "\n",
    "<img src='./img161.png' width='70%px'>\n",
    "\n",
    "## 5.3) Comparativo entre Dados com e sem PCA:\n",
    "\n",
    "<img src='./img162.png' width='70%px'>\n",
    "\n",
    "## 5.4) Etapas para Análise dos Componentes Principais (PCA)\n",
    "\n",
    "\n",
    "<img src='./img163.png' width='70%px'>"
   ]
  },
  {
   "cell_type": "markdown",
   "metadata": {},
   "source": [
    "## 5.5) Criando uma PCA em Python "
   ]
  },
  {
   "cell_type": "markdown",
   "metadata": {},
   "source": [
    "### Análise Inicial"
   ]
  },
  {
   "cell_type": "code",
   "execution_count": 58,
   "metadata": {},
   "outputs": [
    {
     "name": "stdout",
     "output_type": "stream",
     "text": [
      "(22, 3)\n",
      "amostra      int64\n",
      "A          float64\n",
      "B          float64\n",
      "dtype: object\n"
     ]
    },
    {
     "data": {
      "text/html": [
       "<div>\n",
       "<style scoped>\n",
       "    .dataframe tbody tr th:only-of-type {\n",
       "        vertical-align: middle;\n",
       "    }\n",
       "\n",
       "    .dataframe tbody tr th {\n",
       "        vertical-align: top;\n",
       "    }\n",
       "\n",
       "    .dataframe thead th {\n",
       "        text-align: right;\n",
       "    }\n",
       "</style>\n",
       "<table border=\"1\" class=\"dataframe\">\n",
       "  <thead>\n",
       "    <tr style=\"text-align: right;\">\n",
       "      <th></th>\n",
       "      <th>amostra</th>\n",
       "      <th>A</th>\n",
       "      <th>B</th>\n",
       "    </tr>\n",
       "  </thead>\n",
       "  <tbody>\n",
       "    <tr>\n",
       "      <th>0</th>\n",
       "      <td>1</td>\n",
       "      <td>9.9</td>\n",
       "      <td>9.7</td>\n",
       "    </tr>\n",
       "    <tr>\n",
       "      <th>1</th>\n",
       "      <td>2</td>\n",
       "      <td>10.2</td>\n",
       "      <td>10.5</td>\n",
       "    </tr>\n",
       "    <tr>\n",
       "      <th>2</th>\n",
       "      <td>3</td>\n",
       "      <td>10.0</td>\n",
       "      <td>10.7</td>\n",
       "    </tr>\n",
       "    <tr>\n",
       "      <th>3</th>\n",
       "      <td>4</td>\n",
       "      <td>10.4</td>\n",
       "      <td>9.8</td>\n",
       "    </tr>\n",
       "    <tr>\n",
       "      <th>4</th>\n",
       "      <td>5</td>\n",
       "      <td>9.7</td>\n",
       "      <td>10.0</td>\n",
       "    </tr>\n",
       "  </tbody>\n",
       "</table>\n",
       "</div>"
      ],
      "text/plain": [
       "   amostra     A     B\n",
       "0        1   9.9   9.7\n",
       "1        2  10.2  10.5\n",
       "2        3  10.0  10.7\n",
       "3        4  10.4   9.8\n",
       "4        5   9.7  10.0"
      ]
     },
     "execution_count": 58,
     "metadata": {},
     "output_type": "execute_result"
    }
   ],
   "source": [
    "massa = pd.read_csv('inspecao.csv', sep = ';')\n",
    "print(massa.shape)\n",
    "print(massa.dtypes)\n",
    "massa.head()"
   ]
  },
  {
   "cell_type": "markdown",
   "metadata": {},
   "source": [
    "### Valores Missing "
   ]
  },
  {
   "cell_type": "code",
   "execution_count": 59,
   "metadata": {},
   "outputs": [
    {
     "name": "stdout",
     "output_type": "stream",
     "text": [
      "amostra    0\n",
      "A          0\n",
      "B          1\n",
      "dtype: int64\n",
      "amostra    0\n",
      "A          0\n",
      "B          0\n",
      "dtype: int64\n"
     ]
    }
   ],
   "source": [
    "print(massa.isnull().sum())\n",
    "massa = massa.dropna()\n",
    "print(massa.isnull().sum())"
   ]
  },
  {
   "cell_type": "markdown",
   "metadata": {},
   "source": [
    "### Criação da Matriz de Covariância "
   ]
  },
  {
   "cell_type": "code",
   "execution_count": 60,
   "metadata": {},
   "outputs": [
    {
     "data": {
      "text/plain": [
       "array([[ 9.9,  9.7],\n",
       "       [10.2, 10.5],\n",
       "       [10. , 10.7],\n",
       "       [10.4,  9.8],\n",
       "       [ 9.7, 10. ],\n",
       "       [ 9.7, 10.1],\n",
       "       [11.7, 11.5],\n",
       "       [11. , 10.8],\n",
       "       [ 8.7,  8.8],\n",
       "       [ 9.5,  9.3],\n",
       "       [10.1,  9.4],\n",
       "       [ 9.6,  9.6],\n",
       "       [10.5, 10.4],\n",
       "       [ 9.2,  9. ],\n",
       "       [11.3, 11.6],\n",
       "       [10.1,  9.8],\n",
       "       [ 8.5,  9.2],\n",
       "       [ 9.6, 10. ],\n",
       "       [10.3,  9.5],\n",
       "       [10.5,  9.8],\n",
       "       [ 9.3,  9.9]])"
      ]
     },
     "execution_count": 60,
     "metadata": {},
     "output_type": "execute_result"
    }
   ],
   "source": [
    "matriz = massa.drop(columns = ['amostra'])\n",
    "matriz = matriz.values \n",
    "matriz "
   ]
  },
  {
   "cell_type": "code",
   "execution_count": 61,
   "metadata": {},
   "outputs": [
    {
     "data": {
      "text/plain": [
       "array([[0.61090476, 0.47271429],\n",
       "       [0.47271429, 0.54514286]])"
      ]
     },
     "execution_count": 61,
     "metadata": {},
     "output_type": "execute_result"
    }
   ],
   "source": [
    "matriz_cov = np.cov(matriz.T)\n",
    "matriz_cov"
   ]
  },
  {
   "cell_type": "markdown",
   "metadata": {},
   "source": [
    "### Autovalores e Autovetores da Matriz de Covariância"
   ]
  },
  {
   "cell_type": "code",
   "execution_count": 62,
   "metadata": {},
   "outputs": [
    {
     "name": "stdout",
     "output_type": "stream",
     "text": [
      "O Autovalor 1.052 está associado aos Autovetores 0.731 0.682\n",
      "O Autovalor 0.104 está associado aos Autovetores -0.682 0.731\n"
     ]
    }
   ],
   "source": [
    "autovalor, autovetor = np.linalg.eig(matriz_cov)\n",
    "\n",
    "print(f'O Autovalor {round(autovalor[0], 3)} está associado aos Autovetores {round(autovetor[0][0], 3)} {round(autovetor[1][0], 3)}')\n",
    "print(f'O Autovalor {round(autovalor[1], 3)} está associado aos Autovetores {round(autovetor[0][1], 3)} {round(autovetor[1][1], 3)}')"
   ]
  },
  {
   "cell_type": "markdown",
   "metadata": {},
   "source": [
    "### Taxa de Variância Explicada (EVR)"
   ]
  },
  {
   "cell_type": "code",
   "execution_count": 63,
   "metadata": {},
   "outputs": [
    {
     "data": {
      "text/plain": [
       "array([0.90989356, 0.09010644])"
      ]
     },
     "execution_count": 63,
     "metadata": {},
     "output_type": "execute_result"
    }
   ],
   "source": [
    "EVR = autovalor/np.sum(autovalor)\n",
    "EVR"
   ]
  },
  {
   "cell_type": "markdown",
   "metadata": {},
   "source": [
    "> 1. O autovalor 1.052 explica aproximadamente 90% da variância desses dados. \n",
    "\n",
    "> 2. Os componentes principais, neste caso, serão os autovetores 0.731 e 0.682"
   ]
  }
 ],
 "metadata": {
  "kernelspec": {
   "display_name": "Python 3.9.7 ('base')",
   "language": "python",
   "name": "python3"
  },
  "language_info": {
   "codemirror_mode": {
    "name": "ipython",
    "version": 3
   },
   "file_extension": ".py",
   "mimetype": "text/x-python",
   "name": "python",
   "nbconvert_exporter": "python",
   "pygments_lexer": "ipython3",
   "version": "3.9.12"
  },
  "orig_nbformat": 4,
  "vscode": {
   "interpreter": {
    "hash": "5a9a036f549c34521959f2e35c11282d59c2fa6997060d671aa6f29f1c44b680"
   }
  }
 },
 "nbformat": 4,
 "nbformat_minor": 2
}
