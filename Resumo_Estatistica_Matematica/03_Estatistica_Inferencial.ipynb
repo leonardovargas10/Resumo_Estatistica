{
 "cells": [
  {
   "cell_type": "markdown",
   "metadata": {},
   "source": [
    "<h1 style='color: blue; font-size: 34px; font-weight: bold;'> Projeto Proposto \n",
    "</h1>\n",
    "\n",
    "<p style='font-size: 18px; line-height: 2; margin: 0px 0px; text-align: justify; text-indent: 0px;'>    \n",
    "<i> Este projeto baseia-se no Estudo das Técnicas de Estatística Inferencial. O intuito é analisar os resultados do ENEM no estado de São Paulo do ano de 2019.  </i>       \n",
    "</p>  \n",
    "\n",
    "> CONSULTAR:\n",
    "\n",
    "https://www.youtube.com/watch?v=qBigTkBLU6g&list=PLblh5JKOoLUK0FLuzwntyYI10UQFUhsY9&ab_channel=StatQuestwithJoshStarmer"
   ]
  },
  {
   "cell_type": "markdown",
   "metadata": {},
   "source": [
    "# <font color='red' style='font-size: 40px;'>Library and Data </font>"
   ]
  },
  {
   "cell_type": "code",
   "execution_count": 1,
   "metadata": {},
   "outputs": [],
   "source": [
    "# Convencionais\n",
    "import pandas as pd\n",
    "import numpy as np\n",
    "import matplotlib.pyplot as plt\n",
    "import seaborn as sns"
   ]
  },
  {
   "cell_type": "code",
   "execution_count": 2,
   "metadata": {},
   "outputs": [
    {
     "name": "stdout",
     "output_type": "stream",
     "text": [
      "(499940, 28)\n"
     ]
    },
    {
     "data": {
      "text/html": [
       "<div>\n",
       "<style scoped>\n",
       "    .dataframe tbody tr th:only-of-type {\n",
       "        vertical-align: middle;\n",
       "    }\n",
       "\n",
       "    .dataframe tbody tr th {\n",
       "        vertical-align: top;\n",
       "    }\n",
       "\n",
       "    .dataframe thead th {\n",
       "        text-align: right;\n",
       "    }\n",
       "</style>\n",
       "<table border=\"1\" class=\"dataframe\">\n",
       "  <thead>\n",
       "    <tr style=\"text-align: right;\">\n",
       "      <th></th>\n",
       "      <th>NU_INSCRICAO</th>\n",
       "      <th>NO_MUNICIPIO_RESIDENCIA</th>\n",
       "      <th>IDADE</th>\n",
       "      <th>SEXO</th>\n",
       "      <th>TP_ESTADO_CIVIL</th>\n",
       "      <th>RACA</th>\n",
       "      <th>TP_NACIONALIDADE</th>\n",
       "      <th>TP_ST_CONCLUSAO</th>\n",
       "      <th>ESCOLA</th>\n",
       "      <th>CO_ESCOLA</th>\n",
       "      <th>...</th>\n",
       "      <th>NOTA_MT</th>\n",
       "      <th>TP_LINGUA</th>\n",
       "      <th>TP_STATUS_REDACAO</th>\n",
       "      <th>COMP1</th>\n",
       "      <th>COMP2</th>\n",
       "      <th>COMP3</th>\n",
       "      <th>COMP4</th>\n",
       "      <th>COMP5</th>\n",
       "      <th>NOTA_REDACAO</th>\n",
       "      <th>INTERNET</th>\n",
       "    </tr>\n",
       "  </thead>\n",
       "  <tbody>\n",
       "    <tr>\n",
       "      <th>0</th>\n",
       "      <td>1,90E+11</td>\n",
       "      <td>Santa Isabel</td>\n",
       "      <td>22</td>\n",
       "      <td>M</td>\n",
       "      <td>1</td>\n",
       "      <td>parda</td>\n",
       "      <td>1</td>\n",
       "      <td>1</td>\n",
       "      <td>não_respondeu</td>\n",
       "      <td>NaN</td>\n",
       "      <td>...</td>\n",
       "      <td>600.2</td>\n",
       "      <td>Inglês</td>\n",
       "      <td>1.0</td>\n",
       "      <td>160.0</td>\n",
       "      <td>200.0</td>\n",
       "      <td>180.0</td>\n",
       "      <td>200.0</td>\n",
       "      <td>200.0</td>\n",
       "      <td>940.0</td>\n",
       "      <td>Sim</td>\n",
       "    </tr>\n",
       "    <tr>\n",
       "      <th>1</th>\n",
       "      <td>1,90E+11</td>\n",
       "      <td>São Paulo</td>\n",
       "      <td>17</td>\n",
       "      <td>F</td>\n",
       "      <td>1</td>\n",
       "      <td>parda</td>\n",
       "      <td>1</td>\n",
       "      <td>2</td>\n",
       "      <td>privada</td>\n",
       "      <td>15567761.0</td>\n",
       "      <td>...</td>\n",
       "      <td>731.8</td>\n",
       "      <td>Inglês</td>\n",
       "      <td>1.0</td>\n",
       "      <td>160.0</td>\n",
       "      <td>120.0</td>\n",
       "      <td>200.0</td>\n",
       "      <td>200.0</td>\n",
       "      <td>200.0</td>\n",
       "      <td>880.0</td>\n",
       "      <td>Não</td>\n",
       "    </tr>\n",
       "    <tr>\n",
       "      <th>2</th>\n",
       "      <td>1,90E+11</td>\n",
       "      <td>São Bernardo do Campo</td>\n",
       "      <td>19</td>\n",
       "      <td>M</td>\n",
       "      <td>1</td>\n",
       "      <td>parda</td>\n",
       "      <td>1</td>\n",
       "      <td>2</td>\n",
       "      <td>pública</td>\n",
       "      <td>35904958.0</td>\n",
       "      <td>...</td>\n",
       "      <td>393.2</td>\n",
       "      <td>Espanhol</td>\n",
       "      <td>1.0</td>\n",
       "      <td>80.0</td>\n",
       "      <td>160.0</td>\n",
       "      <td>120.0</td>\n",
       "      <td>100.0</td>\n",
       "      <td>100.0</td>\n",
       "      <td>560.0</td>\n",
       "      <td>Sim</td>\n",
       "    </tr>\n",
       "    <tr>\n",
       "      <th>3</th>\n",
       "      <td>1,90E+11</td>\n",
       "      <td>Embu-Guaçu</td>\n",
       "      <td>17</td>\n",
       "      <td>F</td>\n",
       "      <td>1</td>\n",
       "      <td>parda</td>\n",
       "      <td>1</td>\n",
       "      <td>2</td>\n",
       "      <td>pública</td>\n",
       "      <td>NaN</td>\n",
       "      <td>...</td>\n",
       "      <td>419.2</td>\n",
       "      <td>Inglês</td>\n",
       "      <td>1.0</td>\n",
       "      <td>120.0</td>\n",
       "      <td>120.0</td>\n",
       "      <td>120.0</td>\n",
       "      <td>120.0</td>\n",
       "      <td>80.0</td>\n",
       "      <td>560.0</td>\n",
       "      <td>Sim</td>\n",
       "    </tr>\n",
       "    <tr>\n",
       "      <th>4</th>\n",
       "      <td>1,90E+11</td>\n",
       "      <td>Guarulhos</td>\n",
       "      <td>23</td>\n",
       "      <td>F</td>\n",
       "      <td>1</td>\n",
       "      <td>branca</td>\n",
       "      <td>1</td>\n",
       "      <td>1</td>\n",
       "      <td>não_respondeu</td>\n",
       "      <td>NaN</td>\n",
       "      <td>...</td>\n",
       "      <td>796.1</td>\n",
       "      <td>Inglês</td>\n",
       "      <td>1.0</td>\n",
       "      <td>160.0</td>\n",
       "      <td>200.0</td>\n",
       "      <td>180.0</td>\n",
       "      <td>180.0</td>\n",
       "      <td>160.0</td>\n",
       "      <td>880.0</td>\n",
       "      <td>Sim</td>\n",
       "    </tr>\n",
       "  </tbody>\n",
       "</table>\n",
       "<p>5 rows × 28 columns</p>\n",
       "</div>"
      ],
      "text/plain": [
       "  NU_INSCRICAO NO_MUNICIPIO_RESIDENCIA  IDADE SEXO  TP_ESTADO_CIVIL    RACA  \\\n",
       "0     1,90E+11            Santa Isabel     22    M                1   parda   \n",
       "1     1,90E+11               São Paulo     17    F                1   parda   \n",
       "2     1,90E+11   São Bernardo do Campo     19    M                1   parda   \n",
       "3     1,90E+11              Embu-Guaçu     17    F                1   parda   \n",
       "4     1,90E+11               Guarulhos     23    F                1  branca   \n",
       "\n",
       "   TP_NACIONALIDADE  TP_ST_CONCLUSAO         ESCOLA   CO_ESCOLA  ... NOTA_MT  \\\n",
       "0                 1                1  não_respondeu         NaN  ...   600.2   \n",
       "1                 1                2        privada  15567761.0  ...   731.8   \n",
       "2                 1                2        pública  35904958.0  ...   393.2   \n",
       "3                 1                2        pública         NaN  ...   419.2   \n",
       "4                 1                1  não_respondeu         NaN  ...   796.1   \n",
       "\n",
       "   TP_LINGUA  TP_STATUS_REDACAO  COMP1  COMP2  COMP3  COMP4  COMP5  \\\n",
       "0     Inglês                1.0  160.0  200.0  180.0  200.0  200.0   \n",
       "1     Inglês                1.0  160.0  120.0  200.0  200.0  200.0   \n",
       "2   Espanhol                1.0   80.0  160.0  120.0  100.0  100.0   \n",
       "3     Inglês                1.0  120.0  120.0  120.0  120.0   80.0   \n",
       "4     Inglês                1.0  160.0  200.0  180.0  180.0  160.0   \n",
       "\n",
       "   NOTA_REDACAO INTERNET  \n",
       "0         940.0      Sim  \n",
       "1         880.0      Não  \n",
       "2         560.0      Sim  \n",
       "3         560.0      Sim  \n",
       "4         880.0      Sim  \n",
       "\n",
       "[5 rows x 28 columns]"
      ]
     },
     "execution_count": 2,
     "metadata": {},
     "output_type": "execute_result"
    }
   ],
   "source": [
    "enem_sp = pd.read_csv('enem_2019_tratado.csv', sep = ',', encoding='iso-8859-1')\n",
    "print(enem_sp.shape)\n",
    "enem_sp.head()"
   ]
  },
  {
   "cell_type": "markdown",
   "metadata": {},
   "source": [
    "# <font color='red' style='font-size: 40px;'>1.0 Conceitos Fundamentais </font>"
   ]
  },
  {
   "cell_type": "markdown",
   "metadata": {},
   "source": [
    "## Para que Serve a Estatística Inferencial?\n",
    "\n",
    "> 1. A Estatística Inferencial utiliza uma **amostra aleatória** dos dados **coletados** de uma **população** para descrever e fazer inferências sobre a população.\n",
    "\n",
    "> 2. São importantes quando não é conveniente ou possível examinar cada membro da uma população inteira.\n",
    "\n",
    "> 3. O objetivo é obter uma afirmação acerca de uma população com base numa amostra."
   ]
  },
  {
   "cell_type": "markdown",
   "metadata": {},
   "source": [
    "# <font color='red' style='font-size: 40px;'>2.0 Teorema do Limite Central </font>\n",
    "\n",
    "> CONSULTAR:\n",
    "\n",
    "https://www.youtube.com/watch?v=UeKpLxrX8Mc&list=PLovxQRJ6ihin1WjwWkYUBcvZu4ewt_Qns&index=3&ab_channel=ProbabilidadeeEstat%C3%ADsticaUFRGS"
   ]
  },
  {
   "cell_type": "markdown",
   "metadata": {},
   "source": [
    "> 1. O **Teorema do Limite Central** afirma que, com o **aumento do tamanho da amostra, a distribuição das médias amostrais se aproxima de uma distribuição normal com média igual à média da população** e **desvio padrão igual ao desvio padrão da variável original dividido pela raiz quadrada do tamanho da amostra**. Este fato é assegurado para **n maior ou igual a 30.**\n",
    "\n",
    "> 2. Quanto mais assimétrica for minha Distribuição, mais amostras eu preciso para que ela se aproximar de uma Distribuição Normal.\n",
    "\n",
    "### Média das Amostras\n",
    "\n",
    "# $$\\mu\\bar{x} = \\mu$$\n",
    "\n",
    "### Variância da Amostra\n",
    "\n",
    "# $${\\sigma\\bar{x}}^2 = \\frac{\\sigma^2}{{n}}$$\n",
    "\n",
    "### Desvio Padrão da Amostra\n",
    "\n",
    "# $$\\sigma\\bar{x} = \\frac{\\sigma}{\\sqrt{n}}$$\n",
    "\n",
    "$\\mu$ = média\n",
    "\n",
    "$\\sigma$ = desvio padrão\n",
    "\n",
    "$\\sigma^2$ = variância\n",
    "\n",
    ">2. Independentemente de como os dados estão distribuídos, suas médias estarão normalmente distribuídas."
   ]
  },
  {
   "cell_type": "markdown",
   "metadata": {},
   "source": [
    "# <font color='red' style='font-size: 40px;'>3.0 Intervalo de Confiança </font>\n",
    "\n",
    "> CONSULTAR:\n",
    "\n",
    "https://www.youtube.com/watch?v=Cwi5uAYF0pM&list=PLovxQRJ6ihin1WjwWkYUBcvZu4ewt_Qns&index=4&ab_channel=ProbabilidadeeEstat%C3%ADsticaUFRGS"
   ]
  },
  {
   "cell_type": "markdown",
   "metadata": {},
   "source": [
    "### 3.1) Níveis de Confiança e Significância\n",
    "\n",
    "> 1. O **nível de confiança** ($1 - \\alpha$) representa a **probabilidade** de acerto da estimativa, logo, ele representa o **grau de confiabilidade do resultado da estimativa estar dentro de determinado intervalo**. De forma complementar o **nível de significância** ($\\alpha$) expressa a probabilidade de erro da estimativa.\n",
    "\n",
    "> 2. Quando fixamos em uma pesquisa um **nível de confiança** de 95%, por exemplo, estamos assumindo que existe uma probabilidade de 95% dos resultados da pesquisa representarem bem a realidade, ou seja, estarem corretos.\n",
    "\n",
    "> 3. O **nível de confiança** de uma estimativa pode ser obtido a partir da área sob a curva normal como ilustrado na figura abaixo.\n",
    "\n",
    "![alt text](https://caelum-online-public.s3.amazonaws.com/1178-estatistica-parte2/01/img007.png)"
   ]
  },
  {
   "cell_type": "markdown",
   "metadata": {},
   "source": [
    "# <font color='red' style='font-size: 40px;'>4.0 Distribuição Normal Padronizada Z</font>"
   ]
  },
  {
   "cell_type": "markdown",
   "metadata": {},
   "source": [
    "## 4.1) Distribuição Normal Padronizada\n",
    "\n",
    ">1. As tabelas padronizadas foram criadas para facilitar a obtenção dos valores das áreas sob a curva normal e eliminar a necessidade de solucionar integrais definidas.\n",
    "\n",
    ">2. Para consultarmos os valores em uma tabela padronizada basta transformarmos nossa variável em uma variável padronizada $Z$.\n",
    "\n",
    ">3. Esta variável $Z$ representa o afastamento em desvios padrões de um valor da variável original em relação à média.\n",
    "\n",
    ">4. A média é 0, o desvio padrão é 1 e a variância é 1.\n",
    "\n",
    "<img src='./img250.png' width='70%'>\n",
    "<img src='./img31.jpg' width='50%'>\n",
    "<img src='./img35.png' width='500%'>\n",
    "<img src='./img251.png' width='70%'>\n",
    "<img src='./img252.png' width='70%'>\n",
    "<img src='./img253.png' width='70%'>\n",
    "<img src='./img254.png' width='70%'>\n",
    "<img src='./img255.png' width='70%'>\n",
    "<img src='./img256.png' width='70%'>\n",
    "<img src='./img257.png' width='70%'>\n",
    "<img src='./img258.png' width='70%'>\n",
    "\n",
    "# $$Z = \\frac{x-\\mu}{\\sigma}$$\n",
    "\n",
    "Onde:\n",
    "\n",
    "$x$ = variável normal com média $\\mu$ e desvio padrão $\\sigma$. É a Probabilidade que estou buscando.\n",
    "\n",
    "$\\sigma$ = desvio padrão\n",
    "\n",
    "$\\mu$ = média\n"
   ]
  },
  {
   "cell_type": "markdown",
   "metadata": {},
   "source": [
    "## 4.2) Intervalos de Confiança para Distribuição Normal Padronizada Z\n",
    "\n",
    "> 1. O **Intervalo de Confiança representa o Intervalo que nossos Resultados devem seguir baseado no Nível de Confiança proposto, ou seja, é o Intervalo baseado em uma Margem de Erro.** \n",
    "\n",
    "> 2. O **erro inferencial** é definido pelo **desvio padrão das médias amostrais**  $\\sigma \\bar{x}$ e pelo **nível de confiança** determinado para o processo. \n",
    "\n",
    "# $$e = z \\frac{\\sigma}{\\sqrt{n}}$$\n",
    "\n",
    "> 3. O **Intervalo de Confiança para a Média Populacional (desvio padrão populacional conhecido):**\n",
    "\n",
    "## $$\\mu = \\bar{x} \\pm z\\frac{\\sigma}{\\sqrt{n}}$$\n",
    "\n",
    "> 4. O **Intervalo de Confiança para a Média Amostral (desvio padrão populacional desconhecido):**\n",
    "\n",
    "## $$\\mu = \\bar{x} \\pm z\\frac{s}{\\sqrt{n}}$$\n",
    "\n",
    "> 5. O **Tamanho mínimo para Amostragem:**\n",
    "\n",
    "# $$n = ({\\frac {z\\sigma}{e}})^2$$\n",
    "\n",
    "onde: \n",
    "\n",
    "$\\mu$ = média com intervalo de confiança\n",
    "\n",
    "$\\sigma$ = desvio padrão\n",
    "\n",
    "$\\bar{x}$ = média do problema\n",
    "\n",
    "$z$ = Variável Z de probabilidade\n",
    "\n",
    "> 6. **Exemplo Gráfico**\n",
    "\n",
    "![alt text](https://caelum-online-public.s3.amazonaws.com/1178-estatistica-parte2/01/img008.png)\n",
    "\n"
   ]
  },
  {
   "cell_type": "code",
   "execution_count": 3,
   "metadata": {},
   "outputs": [
    {
     "data": {
      "text/html": [
       "<div>\n",
       "<style scoped>\n",
       "    .dataframe tbody tr th:only-of-type {\n",
       "        vertical-align: middle;\n",
       "    }\n",
       "\n",
       "    .dataframe tbody tr th {\n",
       "        vertical-align: top;\n",
       "    }\n",
       "\n",
       "    .dataframe thead th {\n",
       "        text-align: right;\n",
       "    }\n",
       "</style>\n",
       "<table border=\"1\" class=\"dataframe\">\n",
       "  <thead>\n",
       "    <tr style=\"text-align: right;\">\n",
       "      <th>Z</th>\n",
       "      <th>0.00</th>\n",
       "      <th>0.01</th>\n",
       "      <th>0.02</th>\n",
       "      <th>0.03</th>\n",
       "      <th>0.04</th>\n",
       "      <th>0.05</th>\n",
       "      <th>0.06</th>\n",
       "      <th>0.07</th>\n",
       "      <th>0.08</th>\n",
       "      <th>0.09</th>\n",
       "    </tr>\n",
       "  </thead>\n",
       "  <tbody>\n",
       "    <tr>\n",
       "      <th>0.00</th>\n",
       "      <td>0.5000</td>\n",
       "      <td>0.5040</td>\n",
       "      <td>0.5080</td>\n",
       "      <td>0.5120</td>\n",
       "      <td>0.5160</td>\n",
       "      <td>0.5199</td>\n",
       "      <td>0.5239</td>\n",
       "      <td>0.5279</td>\n",
       "      <td>0.5319</td>\n",
       "      <td>0.5359</td>\n",
       "    </tr>\n",
       "    <tr>\n",
       "      <th>0.10</th>\n",
       "      <td>0.5398</td>\n",
       "      <td>0.5438</td>\n",
       "      <td>0.5478</td>\n",
       "      <td>0.5517</td>\n",
       "      <td>0.5557</td>\n",
       "      <td>0.5596</td>\n",
       "      <td>0.5636</td>\n",
       "      <td>0.5675</td>\n",
       "      <td>0.5714</td>\n",
       "      <td>0.5753</td>\n",
       "    </tr>\n",
       "    <tr>\n",
       "      <th>0.20</th>\n",
       "      <td>0.5793</td>\n",
       "      <td>0.5832</td>\n",
       "      <td>0.5871</td>\n",
       "      <td>0.5910</td>\n",
       "      <td>0.5948</td>\n",
       "      <td>0.5987</td>\n",
       "      <td>0.6026</td>\n",
       "      <td>0.6064</td>\n",
       "      <td>0.6103</td>\n",
       "      <td>0.6141</td>\n",
       "    </tr>\n",
       "    <tr>\n",
       "      <th>0.30</th>\n",
       "      <td>0.6179</td>\n",
       "      <td>0.6217</td>\n",
       "      <td>0.6255</td>\n",
       "      <td>0.6293</td>\n",
       "      <td>0.6331</td>\n",
       "      <td>0.6368</td>\n",
       "      <td>0.6406</td>\n",
       "      <td>0.6443</td>\n",
       "      <td>0.6480</td>\n",
       "      <td>0.6517</td>\n",
       "    </tr>\n",
       "    <tr>\n",
       "      <th>0.40</th>\n",
       "      <td>0.6554</td>\n",
       "      <td>0.6591</td>\n",
       "      <td>0.6628</td>\n",
       "      <td>0.6664</td>\n",
       "      <td>0.6700</td>\n",
       "      <td>0.6736</td>\n",
       "      <td>0.6772</td>\n",
       "      <td>0.6808</td>\n",
       "      <td>0.6844</td>\n",
       "      <td>0.6879</td>\n",
       "    </tr>\n",
       "    <tr>\n",
       "      <th>0.50</th>\n",
       "      <td>0.6915</td>\n",
       "      <td>0.6950</td>\n",
       "      <td>0.6985</td>\n",
       "      <td>0.7019</td>\n",
       "      <td>0.7054</td>\n",
       "      <td>0.7088</td>\n",
       "      <td>0.7123</td>\n",
       "      <td>0.7157</td>\n",
       "      <td>0.7190</td>\n",
       "      <td>0.7224</td>\n",
       "    </tr>\n",
       "    <tr>\n",
       "      <th>0.60</th>\n",
       "      <td>0.7257</td>\n",
       "      <td>0.7291</td>\n",
       "      <td>0.7324</td>\n",
       "      <td>0.7357</td>\n",
       "      <td>0.7389</td>\n",
       "      <td>0.7422</td>\n",
       "      <td>0.7454</td>\n",
       "      <td>0.7486</td>\n",
       "      <td>0.7517</td>\n",
       "      <td>0.7549</td>\n",
       "    </tr>\n",
       "    <tr>\n",
       "      <th>0.70</th>\n",
       "      <td>0.7580</td>\n",
       "      <td>0.7611</td>\n",
       "      <td>0.7642</td>\n",
       "      <td>0.7673</td>\n",
       "      <td>0.7704</td>\n",
       "      <td>0.7734</td>\n",
       "      <td>0.7764</td>\n",
       "      <td>0.7794</td>\n",
       "      <td>0.7823</td>\n",
       "      <td>0.7852</td>\n",
       "    </tr>\n",
       "    <tr>\n",
       "      <th>0.80</th>\n",
       "      <td>0.7881</td>\n",
       "      <td>0.7910</td>\n",
       "      <td>0.7939</td>\n",
       "      <td>0.7967</td>\n",
       "      <td>0.7995</td>\n",
       "      <td>0.8023</td>\n",
       "      <td>0.8051</td>\n",
       "      <td>0.8078</td>\n",
       "      <td>0.8106</td>\n",
       "      <td>0.8133</td>\n",
       "    </tr>\n",
       "    <tr>\n",
       "      <th>0.90</th>\n",
       "      <td>0.8159</td>\n",
       "      <td>0.8186</td>\n",
       "      <td>0.8212</td>\n",
       "      <td>0.8238</td>\n",
       "      <td>0.8264</td>\n",
       "      <td>0.8289</td>\n",
       "      <td>0.8315</td>\n",
       "      <td>0.8340</td>\n",
       "      <td>0.8365</td>\n",
       "      <td>0.8389</td>\n",
       "    </tr>\n",
       "    <tr>\n",
       "      <th>1.00</th>\n",
       "      <td>0.8413</td>\n",
       "      <td>0.8438</td>\n",
       "      <td>0.8461</td>\n",
       "      <td>0.8485</td>\n",
       "      <td>0.8508</td>\n",
       "      <td>0.8531</td>\n",
       "      <td>0.8554</td>\n",
       "      <td>0.8577</td>\n",
       "      <td>0.8599</td>\n",
       "      <td>0.8621</td>\n",
       "    </tr>\n",
       "    <tr>\n",
       "      <th>1.10</th>\n",
       "      <td>0.8643</td>\n",
       "      <td>0.8665</td>\n",
       "      <td>0.8686</td>\n",
       "      <td>0.8708</td>\n",
       "      <td>0.8729</td>\n",
       "      <td>0.8749</td>\n",
       "      <td>0.8770</td>\n",
       "      <td>0.8790</td>\n",
       "      <td>0.8810</td>\n",
       "      <td>0.8830</td>\n",
       "    </tr>\n",
       "    <tr>\n",
       "      <th>1.20</th>\n",
       "      <td>0.8849</td>\n",
       "      <td>0.8869</td>\n",
       "      <td>0.8888</td>\n",
       "      <td>0.8907</td>\n",
       "      <td>0.8925</td>\n",
       "      <td>0.8944</td>\n",
       "      <td>0.8962</td>\n",
       "      <td>0.8980</td>\n",
       "      <td>0.8997</td>\n",
       "      <td>0.9015</td>\n",
       "    </tr>\n",
       "    <tr>\n",
       "      <th>1.30</th>\n",
       "      <td>0.9032</td>\n",
       "      <td>0.9049</td>\n",
       "      <td>0.9066</td>\n",
       "      <td>0.9082</td>\n",
       "      <td>0.9099</td>\n",
       "      <td>0.9115</td>\n",
       "      <td>0.9131</td>\n",
       "      <td>0.9147</td>\n",
       "      <td>0.9162</td>\n",
       "      <td>0.9177</td>\n",
       "    </tr>\n",
       "    <tr>\n",
       "      <th>1.40</th>\n",
       "      <td>0.9192</td>\n",
       "      <td>0.9207</td>\n",
       "      <td>0.9222</td>\n",
       "      <td>0.9236</td>\n",
       "      <td>0.9251</td>\n",
       "      <td>0.9265</td>\n",
       "      <td>0.9279</td>\n",
       "      <td>0.9292</td>\n",
       "      <td>0.9306</td>\n",
       "      <td>0.9319</td>\n",
       "    </tr>\n",
       "    <tr>\n",
       "      <th>1.50</th>\n",
       "      <td>0.9332</td>\n",
       "      <td>0.9345</td>\n",
       "      <td>0.9357</td>\n",
       "      <td>0.9370</td>\n",
       "      <td>0.9382</td>\n",
       "      <td>0.9394</td>\n",
       "      <td>0.9406</td>\n",
       "      <td>0.9418</td>\n",
       "      <td>0.9429</td>\n",
       "      <td>0.9441</td>\n",
       "    </tr>\n",
       "    <tr>\n",
       "      <th>1.60</th>\n",
       "      <td>0.9452</td>\n",
       "      <td>0.9463</td>\n",
       "      <td>0.9474</td>\n",
       "      <td>0.9484</td>\n",
       "      <td>0.9495</td>\n",
       "      <td>0.9505</td>\n",
       "      <td>0.9515</td>\n",
       "      <td>0.9525</td>\n",
       "      <td>0.9535</td>\n",
       "      <td>0.9545</td>\n",
       "    </tr>\n",
       "    <tr>\n",
       "      <th>1.70</th>\n",
       "      <td>0.9554</td>\n",
       "      <td>0.9564</td>\n",
       "      <td>0.9573</td>\n",
       "      <td>0.9582</td>\n",
       "      <td>0.9591</td>\n",
       "      <td>0.9599</td>\n",
       "      <td>0.9608</td>\n",
       "      <td>0.9616</td>\n",
       "      <td>0.9625</td>\n",
       "      <td>0.9633</td>\n",
       "    </tr>\n",
       "    <tr>\n",
       "      <th>1.80</th>\n",
       "      <td>0.9641</td>\n",
       "      <td>0.9649</td>\n",
       "      <td>0.9656</td>\n",
       "      <td>0.9664</td>\n",
       "      <td>0.9671</td>\n",
       "      <td>0.9678</td>\n",
       "      <td>0.9686</td>\n",
       "      <td>0.9693</td>\n",
       "      <td>0.9699</td>\n",
       "      <td>0.9706</td>\n",
       "    </tr>\n",
       "    <tr>\n",
       "      <th>1.90</th>\n",
       "      <td>0.9713</td>\n",
       "      <td>0.9719</td>\n",
       "      <td>0.9726</td>\n",
       "      <td>0.9732</td>\n",
       "      <td>0.9738</td>\n",
       "      <td>0.9744</td>\n",
       "      <td>0.9750</td>\n",
       "      <td>0.9756</td>\n",
       "      <td>0.9761</td>\n",
       "      <td>0.9767</td>\n",
       "    </tr>\n",
       "    <tr>\n",
       "      <th>2.00</th>\n",
       "      <td>0.9772</td>\n",
       "      <td>0.9778</td>\n",
       "      <td>0.9783</td>\n",
       "      <td>0.9788</td>\n",
       "      <td>0.9793</td>\n",
       "      <td>0.9798</td>\n",
       "      <td>0.9803</td>\n",
       "      <td>0.9808</td>\n",
       "      <td>0.9812</td>\n",
       "      <td>0.9817</td>\n",
       "    </tr>\n",
       "    <tr>\n",
       "      <th>2.10</th>\n",
       "      <td>0.9821</td>\n",
       "      <td>0.9826</td>\n",
       "      <td>0.9830</td>\n",
       "      <td>0.9834</td>\n",
       "      <td>0.9838</td>\n",
       "      <td>0.9842</td>\n",
       "      <td>0.9846</td>\n",
       "      <td>0.9850</td>\n",
       "      <td>0.9854</td>\n",
       "      <td>0.9857</td>\n",
       "    </tr>\n",
       "    <tr>\n",
       "      <th>2.20</th>\n",
       "      <td>0.9861</td>\n",
       "      <td>0.9864</td>\n",
       "      <td>0.9868</td>\n",
       "      <td>0.9871</td>\n",
       "      <td>0.9875</td>\n",
       "      <td>0.9878</td>\n",
       "      <td>0.9881</td>\n",
       "      <td>0.9884</td>\n",
       "      <td>0.9887</td>\n",
       "      <td>0.9890</td>\n",
       "    </tr>\n",
       "    <tr>\n",
       "      <th>2.30</th>\n",
       "      <td>0.9893</td>\n",
       "      <td>0.9896</td>\n",
       "      <td>0.9898</td>\n",
       "      <td>0.9901</td>\n",
       "      <td>0.9904</td>\n",
       "      <td>0.9906</td>\n",
       "      <td>0.9909</td>\n",
       "      <td>0.9911</td>\n",
       "      <td>0.9913</td>\n",
       "      <td>0.9916</td>\n",
       "    </tr>\n",
       "    <tr>\n",
       "      <th>2.40</th>\n",
       "      <td>0.9918</td>\n",
       "      <td>0.9920</td>\n",
       "      <td>0.9922</td>\n",
       "      <td>0.9925</td>\n",
       "      <td>0.9927</td>\n",
       "      <td>0.9929</td>\n",
       "      <td>0.9931</td>\n",
       "      <td>0.9932</td>\n",
       "      <td>0.9934</td>\n",
       "      <td>0.9936</td>\n",
       "    </tr>\n",
       "    <tr>\n",
       "      <th>2.50</th>\n",
       "      <td>0.9938</td>\n",
       "      <td>0.9940</td>\n",
       "      <td>0.9941</td>\n",
       "      <td>0.9943</td>\n",
       "      <td>0.9945</td>\n",
       "      <td>0.9946</td>\n",
       "      <td>0.9948</td>\n",
       "      <td>0.9949</td>\n",
       "      <td>0.9951</td>\n",
       "      <td>0.9952</td>\n",
       "    </tr>\n",
       "    <tr>\n",
       "      <th>2.60</th>\n",
       "      <td>0.9953</td>\n",
       "      <td>0.9955</td>\n",
       "      <td>0.9956</td>\n",
       "      <td>0.9957</td>\n",
       "      <td>0.9959</td>\n",
       "      <td>0.9960</td>\n",
       "      <td>0.9961</td>\n",
       "      <td>0.9962</td>\n",
       "      <td>0.9963</td>\n",
       "      <td>0.9964</td>\n",
       "    </tr>\n",
       "    <tr>\n",
       "      <th>2.70</th>\n",
       "      <td>0.9965</td>\n",
       "      <td>0.9966</td>\n",
       "      <td>0.9967</td>\n",
       "      <td>0.9968</td>\n",
       "      <td>0.9969</td>\n",
       "      <td>0.9970</td>\n",
       "      <td>0.9971</td>\n",
       "      <td>0.9972</td>\n",
       "      <td>0.9973</td>\n",
       "      <td>0.9974</td>\n",
       "    </tr>\n",
       "    <tr>\n",
       "      <th>2.80</th>\n",
       "      <td>0.9974</td>\n",
       "      <td>0.9975</td>\n",
       "      <td>0.9976</td>\n",
       "      <td>0.9977</td>\n",
       "      <td>0.9977</td>\n",
       "      <td>0.9978</td>\n",
       "      <td>0.9979</td>\n",
       "      <td>0.9979</td>\n",
       "      <td>0.9980</td>\n",
       "      <td>0.9981</td>\n",
       "    </tr>\n",
       "    <tr>\n",
       "      <th>2.90</th>\n",
       "      <td>0.9981</td>\n",
       "      <td>0.9982</td>\n",
       "      <td>0.9982</td>\n",
       "      <td>0.9983</td>\n",
       "      <td>0.9984</td>\n",
       "      <td>0.9984</td>\n",
       "      <td>0.9985</td>\n",
       "      <td>0.9985</td>\n",
       "      <td>0.9986</td>\n",
       "      <td>0.9986</td>\n",
       "    </tr>\n",
       "    <tr>\n",
       "      <th>3.00</th>\n",
       "      <td>0.9987</td>\n",
       "      <td>0.9987</td>\n",
       "      <td>0.9987</td>\n",
       "      <td>0.9988</td>\n",
       "      <td>0.9988</td>\n",
       "      <td>0.9989</td>\n",
       "      <td>0.9989</td>\n",
       "      <td>0.9989</td>\n",
       "      <td>0.9990</td>\n",
       "      <td>0.9990</td>\n",
       "    </tr>\n",
       "    <tr>\n",
       "      <th>3.10</th>\n",
       "      <td>0.9990</td>\n",
       "      <td>0.9991</td>\n",
       "      <td>0.9991</td>\n",
       "      <td>0.9991</td>\n",
       "      <td>0.9992</td>\n",
       "      <td>0.9992</td>\n",
       "      <td>0.9992</td>\n",
       "      <td>0.9992</td>\n",
       "      <td>0.9993</td>\n",
       "      <td>0.9993</td>\n",
       "    </tr>\n",
       "    <tr>\n",
       "      <th>3.20</th>\n",
       "      <td>0.9993</td>\n",
       "      <td>0.9993</td>\n",
       "      <td>0.9994</td>\n",
       "      <td>0.9994</td>\n",
       "      <td>0.9994</td>\n",
       "      <td>0.9994</td>\n",
       "      <td>0.9994</td>\n",
       "      <td>0.9995</td>\n",
       "      <td>0.9995</td>\n",
       "      <td>0.9995</td>\n",
       "    </tr>\n",
       "    <tr>\n",
       "      <th>3.30</th>\n",
       "      <td>0.9995</td>\n",
       "      <td>0.9995</td>\n",
       "      <td>0.9995</td>\n",
       "      <td>0.9996</td>\n",
       "      <td>0.9996</td>\n",
       "      <td>0.9996</td>\n",
       "      <td>0.9996</td>\n",
       "      <td>0.9996</td>\n",
       "      <td>0.9996</td>\n",
       "      <td>0.9997</td>\n",
       "    </tr>\n",
       "    <tr>\n",
       "      <th>3.40</th>\n",
       "      <td>0.9997</td>\n",
       "      <td>0.9997</td>\n",
       "      <td>0.9997</td>\n",
       "      <td>0.9997</td>\n",
       "      <td>0.9997</td>\n",
       "      <td>0.9997</td>\n",
       "      <td>0.9997</td>\n",
       "      <td>0.9997</td>\n",
       "      <td>0.9997</td>\n",
       "      <td>0.9998</td>\n",
       "    </tr>\n",
       "    <tr>\n",
       "      <th>3.50</th>\n",
       "      <td>0.9998</td>\n",
       "      <td>0.9998</td>\n",
       "      <td>0.9998</td>\n",
       "      <td>0.9998</td>\n",
       "      <td>0.9998</td>\n",
       "      <td>0.9998</td>\n",
       "      <td>0.9998</td>\n",
       "      <td>0.9998</td>\n",
       "      <td>0.9998</td>\n",
       "      <td>0.9998</td>\n",
       "    </tr>\n",
       "    <tr>\n",
       "      <th>3.60</th>\n",
       "      <td>0.9998</td>\n",
       "      <td>0.9998</td>\n",
       "      <td>0.9999</td>\n",
       "      <td>0.9999</td>\n",
       "      <td>0.9999</td>\n",
       "      <td>0.9999</td>\n",
       "      <td>0.9999</td>\n",
       "      <td>0.9999</td>\n",
       "      <td>0.9999</td>\n",
       "      <td>0.9999</td>\n",
       "    </tr>\n",
       "    <tr>\n",
       "      <th>3.70</th>\n",
       "      <td>0.9999</td>\n",
       "      <td>0.9999</td>\n",
       "      <td>0.9999</td>\n",
       "      <td>0.9999</td>\n",
       "      <td>0.9999</td>\n",
       "      <td>0.9999</td>\n",
       "      <td>0.9999</td>\n",
       "      <td>0.9999</td>\n",
       "      <td>0.9999</td>\n",
       "      <td>0.9999</td>\n",
       "    </tr>\n",
       "    <tr>\n",
       "      <th>3.80</th>\n",
       "      <td>0.9999</td>\n",
       "      <td>0.9999</td>\n",
       "      <td>0.9999</td>\n",
       "      <td>0.9999</td>\n",
       "      <td>0.9999</td>\n",
       "      <td>0.9999</td>\n",
       "      <td>0.9999</td>\n",
       "      <td>0.9999</td>\n",
       "      <td>0.9999</td>\n",
       "      <td>0.9999</td>\n",
       "    </tr>\n",
       "    <tr>\n",
       "      <th>3.90</th>\n",
       "      <td>1.0000</td>\n",
       "      <td>1.0000</td>\n",
       "      <td>1.0000</td>\n",
       "      <td>1.0000</td>\n",
       "      <td>1.0000</td>\n",
       "      <td>1.0000</td>\n",
       "      <td>1.0000</td>\n",
       "      <td>1.0000</td>\n",
       "      <td>1.0000</td>\n",
       "      <td>1.0000</td>\n",
       "    </tr>\n",
       "  </tbody>\n",
       "</table>\n",
       "</div>"
      ],
      "text/plain": [
       "Z       0.00    0.01    0.02    0.03    0.04    0.05    0.06    0.07    0.08  \\\n",
       "0.00  0.5000  0.5040  0.5080  0.5120  0.5160  0.5199  0.5239  0.5279  0.5319   \n",
       "0.10  0.5398  0.5438  0.5478  0.5517  0.5557  0.5596  0.5636  0.5675  0.5714   \n",
       "0.20  0.5793  0.5832  0.5871  0.5910  0.5948  0.5987  0.6026  0.6064  0.6103   \n",
       "0.30  0.6179  0.6217  0.6255  0.6293  0.6331  0.6368  0.6406  0.6443  0.6480   \n",
       "0.40  0.6554  0.6591  0.6628  0.6664  0.6700  0.6736  0.6772  0.6808  0.6844   \n",
       "0.50  0.6915  0.6950  0.6985  0.7019  0.7054  0.7088  0.7123  0.7157  0.7190   \n",
       "0.60  0.7257  0.7291  0.7324  0.7357  0.7389  0.7422  0.7454  0.7486  0.7517   \n",
       "0.70  0.7580  0.7611  0.7642  0.7673  0.7704  0.7734  0.7764  0.7794  0.7823   \n",
       "0.80  0.7881  0.7910  0.7939  0.7967  0.7995  0.8023  0.8051  0.8078  0.8106   \n",
       "0.90  0.8159  0.8186  0.8212  0.8238  0.8264  0.8289  0.8315  0.8340  0.8365   \n",
       "1.00  0.8413  0.8438  0.8461  0.8485  0.8508  0.8531  0.8554  0.8577  0.8599   \n",
       "1.10  0.8643  0.8665  0.8686  0.8708  0.8729  0.8749  0.8770  0.8790  0.8810   \n",
       "1.20  0.8849  0.8869  0.8888  0.8907  0.8925  0.8944  0.8962  0.8980  0.8997   \n",
       "1.30  0.9032  0.9049  0.9066  0.9082  0.9099  0.9115  0.9131  0.9147  0.9162   \n",
       "1.40  0.9192  0.9207  0.9222  0.9236  0.9251  0.9265  0.9279  0.9292  0.9306   \n",
       "1.50  0.9332  0.9345  0.9357  0.9370  0.9382  0.9394  0.9406  0.9418  0.9429   \n",
       "1.60  0.9452  0.9463  0.9474  0.9484  0.9495  0.9505  0.9515  0.9525  0.9535   \n",
       "1.70  0.9554  0.9564  0.9573  0.9582  0.9591  0.9599  0.9608  0.9616  0.9625   \n",
       "1.80  0.9641  0.9649  0.9656  0.9664  0.9671  0.9678  0.9686  0.9693  0.9699   \n",
       "1.90  0.9713  0.9719  0.9726  0.9732  0.9738  0.9744  0.9750  0.9756  0.9761   \n",
       "2.00  0.9772  0.9778  0.9783  0.9788  0.9793  0.9798  0.9803  0.9808  0.9812   \n",
       "2.10  0.9821  0.9826  0.9830  0.9834  0.9838  0.9842  0.9846  0.9850  0.9854   \n",
       "2.20  0.9861  0.9864  0.9868  0.9871  0.9875  0.9878  0.9881  0.9884  0.9887   \n",
       "2.30  0.9893  0.9896  0.9898  0.9901  0.9904  0.9906  0.9909  0.9911  0.9913   \n",
       "2.40  0.9918  0.9920  0.9922  0.9925  0.9927  0.9929  0.9931  0.9932  0.9934   \n",
       "2.50  0.9938  0.9940  0.9941  0.9943  0.9945  0.9946  0.9948  0.9949  0.9951   \n",
       "2.60  0.9953  0.9955  0.9956  0.9957  0.9959  0.9960  0.9961  0.9962  0.9963   \n",
       "2.70  0.9965  0.9966  0.9967  0.9968  0.9969  0.9970  0.9971  0.9972  0.9973   \n",
       "2.80  0.9974  0.9975  0.9976  0.9977  0.9977  0.9978  0.9979  0.9979  0.9980   \n",
       "2.90  0.9981  0.9982  0.9982  0.9983  0.9984  0.9984  0.9985  0.9985  0.9986   \n",
       "3.00  0.9987  0.9987  0.9987  0.9988  0.9988  0.9989  0.9989  0.9989  0.9990   \n",
       "3.10  0.9990  0.9991  0.9991  0.9991  0.9992  0.9992  0.9992  0.9992  0.9993   \n",
       "3.20  0.9993  0.9993  0.9994  0.9994  0.9994  0.9994  0.9994  0.9995  0.9995   \n",
       "3.30  0.9995  0.9995  0.9995  0.9996  0.9996  0.9996  0.9996  0.9996  0.9996   \n",
       "3.40  0.9997  0.9997  0.9997  0.9997  0.9997  0.9997  0.9997  0.9997  0.9997   \n",
       "3.50  0.9998  0.9998  0.9998  0.9998  0.9998  0.9998  0.9998  0.9998  0.9998   \n",
       "3.60  0.9998  0.9998  0.9999  0.9999  0.9999  0.9999  0.9999  0.9999  0.9999   \n",
       "3.70  0.9999  0.9999  0.9999  0.9999  0.9999  0.9999  0.9999  0.9999  0.9999   \n",
       "3.80  0.9999  0.9999  0.9999  0.9999  0.9999  0.9999  0.9999  0.9999  0.9999   \n",
       "3.90  1.0000  1.0000  1.0000  1.0000  1.0000  1.0000  1.0000  1.0000  1.0000   \n",
       "\n",
       "Z       0.09  \n",
       "0.00  0.5359  \n",
       "0.10  0.5753  \n",
       "0.20  0.6141  \n",
       "0.30  0.6517  \n",
       "0.40  0.6879  \n",
       "0.50  0.7224  \n",
       "0.60  0.7549  \n",
       "0.70  0.7852  \n",
       "0.80  0.8133  \n",
       "0.90  0.8389  \n",
       "1.00  0.8621  \n",
       "1.10  0.8830  \n",
       "1.20  0.9015  \n",
       "1.30  0.9177  \n",
       "1.40  0.9319  \n",
       "1.50  0.9441  \n",
       "1.60  0.9545  \n",
       "1.70  0.9633  \n",
       "1.80  0.9706  \n",
       "1.90  0.9767  \n",
       "2.00  0.9817  \n",
       "2.10  0.9857  \n",
       "2.20  0.9890  \n",
       "2.30  0.9916  \n",
       "2.40  0.9936  \n",
       "2.50  0.9952  \n",
       "2.60  0.9964  \n",
       "2.70  0.9974  \n",
       "2.80  0.9981  \n",
       "2.90  0.9986  \n",
       "3.00  0.9990  \n",
       "3.10  0.9993  \n",
       "3.20  0.9995  \n",
       "3.30  0.9997  \n",
       "3.40  0.9998  \n",
       "3.50  0.9998  \n",
       "3.60  0.9999  \n",
       "3.70  0.9999  \n",
       "3.80  0.9999  \n",
       "3.90  1.0000  "
      ]
     },
     "execution_count": 3,
     "metadata": {},
     "output_type": "execute_result"
    }
   ],
   "source": [
    "from scipy.stats import norm\n",
    "\n",
    "tabela_normal_padronizada = pd.DataFrame(\n",
    "    [], \n",
    "    index=[\"{0:0.2f}\".format(i / 100) for i in range(0, 400, 10)],\n",
    "    columns = [\"{0:0.2f}\".format(i / 100) for i in range(0, 10)])\n",
    "\n",
    "for index in tabela_normal_padronizada.index:\n",
    "    for column in tabela_normal_padronizada.columns:\n",
    "        Z = np.round(float(index) + float(column), 2)\n",
    "        tabela_normal_padronizada.loc[index, column] = \"{0:0.4f}\".format(norm.cdf(Z))\n",
    "\n",
    "tabela_normal_padronizada.rename_axis('Z', axis = 'columns', inplace = True)\n",
    "\n",
    "tabela_normal_padronizada"
   ]
  },
  {
   "cell_type": "code",
   "execution_count": 4,
   "metadata": {},
   "outputs": [
    {
     "name": "stdout",
     "output_type": "stream",
     "text": [
      "Dividindo a Probabilidade em 2 partes: 0.475\n",
      "Somando o resultado ao resto da probabilidade: 0.975\n",
      "Utilizando a Tabela Z: 1.96\n"
     ]
    },
    {
     "data": {
      "text/plain": [
       "1.959963984540054"
      ]
     },
     "execution_count": 4,
     "metadata": {},
     "output_type": "execute_result"
    }
   ],
   "source": [
    "print(f'Dividindo a Probabilidade em 2 partes: {0.95/2}')\n",
    "print(f'Somando o resultado ao resto da probabilidade: { 0.5 + (0.95/2)}')\n",
    "print(f'Utilizando a Tabela Z: {1.9 + 0.06}')\n",
    "\n",
    "z = norm.ppf(0.975) #Eu passo a probabilidade e ele me retorna o z\n",
    "z"
   ]
  },
  {
   "cell_type": "markdown",
   "metadata": {},
   "source": [
    "> 7. Exemplo:\n",
    "\n",
    "  * O gerente de um setor de uma empresa multinacional deseja estimar a idade média de todos os funcionários de um setor em todas as suas filiais. Em uma amostragem de 70 funcionários, a idade média encontrada foi de 26 anos. Considere a população normalmente distribuída e que o desvio padrão seja de 5 anos. Construa um intervalo de confiança de 90% para a média de idade da população de todos os funcionários."
   ]
  },
  {
   "cell_type": "code",
   "execution_count": 5,
   "metadata": {},
   "outputs": [
    {
     "data": {
      "text/plain": [
       "(25.02, 26.98)"
      ]
     },
     "execution_count": 5,
     "metadata": {},
     "output_type": "execute_result"
    }
   ],
   "source": [
    "intervalo_media_inferior = 26 - 1.645*(5/np.sqrt(70))\n",
    "intervalo_media_superior = 26 + 1.645*(5/np.sqrt(70))\n",
    "media_com_confianca = (round(intervalo_media_inferior, 2), round(intervalo_media_superior, 2))\n",
    "media_com_confianca"
   ]
  },
  {
   "cell_type": "markdown",
   "metadata": {},
   "source": [
    "> 8. Exemplo:\n",
    "\n",
    "* Do exemplo anterior, quantos funcionários, no mínimo, devem ser consultados para o gerente ficar 95% confiante dentro de uma margem de erro de 1 ano?."
   ]
  },
  {
   "cell_type": "code",
   "execution_count": 6,
   "metadata": {},
   "outputs": [
    {
     "name": "stdout",
     "output_type": "stream",
     "text": [
      "95.0625\n"
     ]
    }
   ],
   "source": [
    "n = np.power((1.95*5/1), (2))\n",
    "print(n)"
   ]
  },
  {
   "cell_type": "markdown",
   "metadata": {},
   "source": [
    "## 4.3) Compensação\n",
    "\n",
    "> 1. Quanto Maior o Nível de Confiança, maior o Erro Padrão (As chances da minha amostra estarem dentro do intervalo torna-se maior)\n",
    "\n",
    "> 2. Quanto Maior o Tamanho da Amostra, menor será o Erro Padrão (Com mais elementos, significa que mais Testes serão feitos e a tendência é que o Erro torne-se menor, ao passo que a chance do efeito ao acaso é reduzida por ter mais amostras)"
   ]
  },
  {
   "cell_type": "markdown",
   "metadata": {},
   "source": [
    "# <font color='red' style='font-size: 40px;'>5.0 Distribuição T-Student</font>"
   ]
  },
  {
   "cell_type": "markdown",
   "metadata": {},
   "source": [
    "### 5.1) Distribuição T de Student\n",
    "\n",
    "* Normalmente não se conhece o desvio padrão populacional, então, para se determinar um intervalo de confiança, utiliza-se a distribuição t, mas só pode ser utilizada somente se a variável aleatória tiver distribuição aproximadamente normal.\n",
    "\n",
    "> 1. Utilizada quando a amostra é pequena (menor que 30)\n",
    "\n",
    "> 2. Não se conhece o desvio padrão da população\n",
    "\n",
    "> 3. Tendência maior de encontrar valores nas caudas (cauda maiores)\n",
    "\n",
    "> 4. Se n >= 30, se assemelha a uma Distribuição Normal\n",
    "\n",
    "> 5. Grau de Liberdade: corresponde ao tamanho da amostra (n-1)\n",
    "\n",
    "> 6. O **erro inferencial** é definido pelo **desvio padrão das médias amostrais**  $\\sigma \\bar{x}$ e pelo **nível de confiança** determinado para o processo. \n",
    "\n",
    "# $$e = t \\frac{\\sigma}{\\sqrt{n}}$$\n",
    "\n",
    "> 7. O **Intervalo de Confiança para a Média Amostral :**\n",
    "\n",
    "## $$\\mu = \\bar{x} \\pm t\\frac{s}{\\sqrt{n}}$$\n",
    "\n",
    "onde:\n",
    "\n",
    "$\\mu$ = média com intervalo de confiança\n",
    "\n",
    "$\\sigma$ = desvio padrão\n",
    "\n",
    "$\\bar{x}$ = média do problema\n",
    "\n",
    "$t$ = Variável t de probabilidade\n"
   ]
  },
  {
   "cell_type": "code",
   "execution_count": 7,
   "metadata": {},
   "outputs": [
    {
     "data": {
      "text/html": [
       "<div>\n",
       "<style scoped>\n",
       "    .dataframe tbody tr th:only-of-type {\n",
       "        vertical-align: middle;\n",
       "    }\n",
       "\n",
       "    .dataframe tbody tr th {\n",
       "        vertical-align: top;\n",
       "    }\n",
       "\n",
       "    .dataframe thead tr th {\n",
       "        text-align: left;\n",
       "    }\n",
       "</style>\n",
       "<table border=\"1\" class=\"dataframe\">\n",
       "  <thead>\n",
       "    <tr>\n",
       "      <th></th>\n",
       "      <th>Bicaudal</th>\n",
       "      <th>0.100</th>\n",
       "      <th>0.090</th>\n",
       "      <th>0.080</th>\n",
       "      <th>0.070</th>\n",
       "      <th>0.060</th>\n",
       "      <th>0.050</th>\n",
       "      <th>0.040</th>\n",
       "      <th>0.030</th>\n",
       "      <th>0.020</th>\n",
       "      <th>0.010</th>\n",
       "    </tr>\n",
       "    <tr>\n",
       "      <th></th>\n",
       "      <th>Unicaudal</th>\n",
       "      <th>0.050</th>\n",
       "      <th>0.045</th>\n",
       "      <th>0.040</th>\n",
       "      <th>0.035</th>\n",
       "      <th>0.030</th>\n",
       "      <th>0.025</th>\n",
       "      <th>0.020</th>\n",
       "      <th>0.015</th>\n",
       "      <th>0.010</th>\n",
       "      <th>0.005</th>\n",
       "    </tr>\n",
       "  </thead>\n",
       "  <tbody>\n",
       "    <tr>\n",
       "      <th rowspan=\"30\" valign=\"top\">Graus de Liberdade (n - 1)</th>\n",
       "      <th>1</th>\n",
       "      <td>6.313752</td>\n",
       "      <td>7.026366</td>\n",
       "      <td>7.915815</td>\n",
       "      <td>9.057887</td>\n",
       "      <td>10.578895</td>\n",
       "      <td>12.706205</td>\n",
       "      <td>15.894545</td>\n",
       "      <td>21.204949</td>\n",
       "      <td>31.820516</td>\n",
       "      <td>63.656741</td>\n",
       "    </tr>\n",
       "    <tr>\n",
       "      <th>2</th>\n",
       "      <td>2.919986</td>\n",
       "      <td>3.103977</td>\n",
       "      <td>3.319764</td>\n",
       "      <td>3.578247</td>\n",
       "      <td>3.896425</td>\n",
       "      <td>4.302653</td>\n",
       "      <td>4.848732</td>\n",
       "      <td>5.642778</td>\n",
       "      <td>6.964557</td>\n",
       "      <td>9.924843</td>\n",
       "    </tr>\n",
       "    <tr>\n",
       "      <th>3</th>\n",
       "      <td>2.353363</td>\n",
       "      <td>2.470807</td>\n",
       "      <td>2.605427</td>\n",
       "      <td>2.762599</td>\n",
       "      <td>2.95051</td>\n",
       "      <td>3.182446</td>\n",
       "      <td>3.481909</td>\n",
       "      <td>3.896046</td>\n",
       "      <td>4.540703</td>\n",
       "      <td>5.840909</td>\n",
       "    </tr>\n",
       "    <tr>\n",
       "      <th>4</th>\n",
       "      <td>2.131847</td>\n",
       "      <td>2.2261</td>\n",
       "      <td>2.332873</td>\n",
       "      <td>2.455892</td>\n",
       "      <td>2.600762</td>\n",
       "      <td>2.776445</td>\n",
       "      <td>2.998528</td>\n",
       "      <td>3.29763</td>\n",
       "      <td>3.746947</td>\n",
       "      <td>4.604095</td>\n",
       "    </tr>\n",
       "    <tr>\n",
       "      <th>5</th>\n",
       "      <td>2.015048</td>\n",
       "      <td>2.097837</td>\n",
       "      <td>2.190958</td>\n",
       "      <td>2.297392</td>\n",
       "      <td>2.421585</td>\n",
       "      <td>2.570582</td>\n",
       "      <td>2.756509</td>\n",
       "      <td>3.002875</td>\n",
       "      <td>3.36493</td>\n",
       "      <td>4.032143</td>\n",
       "    </tr>\n",
       "    <tr>\n",
       "      <th>6</th>\n",
       "      <td>1.94318</td>\n",
       "      <td>2.019201</td>\n",
       "      <td>2.104306</td>\n",
       "      <td>2.201059</td>\n",
       "      <td>2.313263</td>\n",
       "      <td>2.446912</td>\n",
       "      <td>2.612242</td>\n",
       "      <td>2.828928</td>\n",
       "      <td>3.142668</td>\n",
       "      <td>3.707428</td>\n",
       "    </tr>\n",
       "    <tr>\n",
       "      <th>7</th>\n",
       "      <td>1.894579</td>\n",
       "      <td>1.966153</td>\n",
       "      <td>2.046011</td>\n",
       "      <td>2.136453</td>\n",
       "      <td>2.240879</td>\n",
       "      <td>2.364624</td>\n",
       "      <td>2.516752</td>\n",
       "      <td>2.714573</td>\n",
       "      <td>2.997952</td>\n",
       "      <td>3.499483</td>\n",
       "    </tr>\n",
       "    <tr>\n",
       "      <th>8</th>\n",
       "      <td>1.859548</td>\n",
       "      <td>1.927986</td>\n",
       "      <td>2.004152</td>\n",
       "      <td>2.090166</td>\n",
       "      <td>2.189155</td>\n",
       "      <td>2.306004</td>\n",
       "      <td>2.448985</td>\n",
       "      <td>2.633814</td>\n",
       "      <td>2.896459</td>\n",
       "      <td>3.355387</td>\n",
       "    </tr>\n",
       "    <tr>\n",
       "      <th>9</th>\n",
       "      <td>1.833113</td>\n",
       "      <td>1.899222</td>\n",
       "      <td>1.972653</td>\n",
       "      <td>2.055395</td>\n",
       "      <td>2.150375</td>\n",
       "      <td>2.262157</td>\n",
       "      <td>2.398441</td>\n",
       "      <td>2.573804</td>\n",
       "      <td>2.821438</td>\n",
       "      <td>3.249836</td>\n",
       "    </tr>\n",
       "    <tr>\n",
       "      <th>10</th>\n",
       "      <td>1.812461</td>\n",
       "      <td>1.876774</td>\n",
       "      <td>1.948099</td>\n",
       "      <td>2.028327</td>\n",
       "      <td>2.120234</td>\n",
       "      <td>2.228139</td>\n",
       "      <td>2.359315</td>\n",
       "      <td>2.527484</td>\n",
       "      <td>2.763769</td>\n",
       "      <td>3.169273</td>\n",
       "    </tr>\n",
       "    <tr>\n",
       "      <th>11</th>\n",
       "      <td>1.795885</td>\n",
       "      <td>1.858772</td>\n",
       "      <td>1.928427</td>\n",
       "      <td>2.006663</td>\n",
       "      <td>2.096139</td>\n",
       "      <td>2.200985</td>\n",
       "      <td>2.32814</td>\n",
       "      <td>2.490664</td>\n",
       "      <td>2.718079</td>\n",
       "      <td>3.105807</td>\n",
       "    </tr>\n",
       "    <tr>\n",
       "      <th>12</th>\n",
       "      <td>1.782288</td>\n",
       "      <td>1.844015</td>\n",
       "      <td>1.912313</td>\n",
       "      <td>1.988934</td>\n",
       "      <td>2.076441</td>\n",
       "      <td>2.178813</td>\n",
       "      <td>2.302722</td>\n",
       "      <td>2.4607</td>\n",
       "      <td>2.680998</td>\n",
       "      <td>3.05454</td>\n",
       "    </tr>\n",
       "    <tr>\n",
       "      <th>13</th>\n",
       "      <td>1.770933</td>\n",
       "      <td>1.8317</td>\n",
       "      <td>1.898874</td>\n",
       "      <td>1.974158</td>\n",
       "      <td>2.060038</td>\n",
       "      <td>2.160369</td>\n",
       "      <td>2.281604</td>\n",
       "      <td>2.435845</td>\n",
       "      <td>2.650309</td>\n",
       "      <td>3.012276</td>\n",
       "    </tr>\n",
       "    <tr>\n",
       "      <th>14</th>\n",
       "      <td>1.76131</td>\n",
       "      <td>1.821267</td>\n",
       "      <td>1.887496</td>\n",
       "      <td>1.961656</td>\n",
       "      <td>2.046169</td>\n",
       "      <td>2.144787</td>\n",
       "      <td>2.263781</td>\n",
       "      <td>2.414898</td>\n",
       "      <td>2.624494</td>\n",
       "      <td>2.976843</td>\n",
       "    </tr>\n",
       "    <tr>\n",
       "      <th>15</th>\n",
       "      <td>1.75305</td>\n",
       "      <td>1.812316</td>\n",
       "      <td>1.877739</td>\n",
       "      <td>1.95094</td>\n",
       "      <td>2.034289</td>\n",
       "      <td>2.13145</td>\n",
       "      <td>2.24854</td>\n",
       "      <td>2.397005</td>\n",
       "      <td>2.60248</td>\n",
       "      <td>2.946713</td>\n",
       "    </tr>\n",
       "    <tr>\n",
       "      <th>16</th>\n",
       "      <td>1.745884</td>\n",
       "      <td>1.804553</td>\n",
       "      <td>1.869279</td>\n",
       "      <td>1.941654</td>\n",
       "      <td>2.024</td>\n",
       "      <td>2.119905</td>\n",
       "      <td>2.235358</td>\n",
       "      <td>2.381545</td>\n",
       "      <td>2.583487</td>\n",
       "      <td>2.920782</td>\n",
       "    </tr>\n",
       "    <tr>\n",
       "      <th>17</th>\n",
       "      <td>1.739607</td>\n",
       "      <td>1.797755</td>\n",
       "      <td>1.861875</td>\n",
       "      <td>1.93353</td>\n",
       "      <td>2.015002</td>\n",
       "      <td>2.109816</td>\n",
       "      <td>2.223845</td>\n",
       "      <td>2.368055</td>\n",
       "      <td>2.566934</td>\n",
       "      <td>2.898231</td>\n",
       "    </tr>\n",
       "    <tr>\n",
       "      <th>18</th>\n",
       "      <td>1.734064</td>\n",
       "      <td>1.791754</td>\n",
       "      <td>1.85534</td>\n",
       "      <td>1.926362</td>\n",
       "      <td>2.007067</td>\n",
       "      <td>2.100922</td>\n",
       "      <td>2.213703</td>\n",
       "      <td>2.35618</td>\n",
       "      <td>2.55238</td>\n",
       "      <td>2.87844</td>\n",
       "    </tr>\n",
       "    <tr>\n",
       "      <th>19</th>\n",
       "      <td>1.729133</td>\n",
       "      <td>1.786417</td>\n",
       "      <td>1.84953</td>\n",
       "      <td>1.919992</td>\n",
       "      <td>2.000017</td>\n",
       "      <td>2.093024</td>\n",
       "      <td>2.204701</td>\n",
       "      <td>2.345648</td>\n",
       "      <td>2.539483</td>\n",
       "      <td>2.860935</td>\n",
       "    </tr>\n",
       "    <tr>\n",
       "      <th>20</th>\n",
       "      <td>1.724718</td>\n",
       "      <td>1.78164</td>\n",
       "      <td>1.844331</td>\n",
       "      <td>1.914292</td>\n",
       "      <td>1.993713</td>\n",
       "      <td>2.085963</td>\n",
       "      <td>2.196658</td>\n",
       "      <td>2.336242</td>\n",
       "      <td>2.527977</td>\n",
       "      <td>2.84534</td>\n",
       "    </tr>\n",
       "    <tr>\n",
       "      <th>21</th>\n",
       "      <td>1.720743</td>\n",
       "      <td>1.777339</td>\n",
       "      <td>1.839651</td>\n",
       "      <td>1.909164</td>\n",
       "      <td>1.988041</td>\n",
       "      <td>2.079614</td>\n",
       "      <td>2.189427</td>\n",
       "      <td>2.327792</td>\n",
       "      <td>2.517648</td>\n",
       "      <td>2.83136</td>\n",
       "    </tr>\n",
       "    <tr>\n",
       "      <th>22</th>\n",
       "      <td>1.717144</td>\n",
       "      <td>1.773447</td>\n",
       "      <td>1.835417</td>\n",
       "      <td>1.904524</td>\n",
       "      <td>1.982911</td>\n",
       "      <td>2.073873</td>\n",
       "      <td>2.182893</td>\n",
       "      <td>2.32016</td>\n",
       "      <td>2.508325</td>\n",
       "      <td>2.818756</td>\n",
       "    </tr>\n",
       "    <tr>\n",
       "      <th>23</th>\n",
       "      <td>1.713872</td>\n",
       "      <td>1.769907</td>\n",
       "      <td>1.831567</td>\n",
       "      <td>1.900307</td>\n",
       "      <td>1.978249</td>\n",
       "      <td>2.068658</td>\n",
       "      <td>2.176958</td>\n",
       "      <td>2.313231</td>\n",
       "      <td>2.499867</td>\n",
       "      <td>2.807336</td>\n",
       "    </tr>\n",
       "    <tr>\n",
       "      <th>24</th>\n",
       "      <td>1.710882</td>\n",
       "      <td>1.766675</td>\n",
       "      <td>1.828051</td>\n",
       "      <td>1.896457</td>\n",
       "      <td>1.973994</td>\n",
       "      <td>2.063899</td>\n",
       "      <td>2.171545</td>\n",
       "      <td>2.306913</td>\n",
       "      <td>2.492159</td>\n",
       "      <td>2.79694</td>\n",
       "    </tr>\n",
       "    <tr>\n",
       "      <th>25</th>\n",
       "      <td>1.708141</td>\n",
       "      <td>1.763711</td>\n",
       "      <td>1.824828</td>\n",
       "      <td>1.892928</td>\n",
       "      <td>1.970095</td>\n",
       "      <td>2.059539</td>\n",
       "      <td>2.166587</td>\n",
       "      <td>2.30113</td>\n",
       "      <td>2.485107</td>\n",
       "      <td>2.787436</td>\n",
       "    </tr>\n",
       "    <tr>\n",
       "      <th>26</th>\n",
       "      <td>1.705618</td>\n",
       "      <td>1.760983</td>\n",
       "      <td>1.821863</td>\n",
       "      <td>1.889682</td>\n",
       "      <td>1.966509</td>\n",
       "      <td>2.055529</td>\n",
       "      <td>2.162029</td>\n",
       "      <td>2.295815</td>\n",
       "      <td>2.47863</td>\n",
       "      <td>2.778715</td>\n",
       "    </tr>\n",
       "    <tr>\n",
       "      <th>27</th>\n",
       "      <td>1.703288</td>\n",
       "      <td>1.758466</td>\n",
       "      <td>1.819126</td>\n",
       "      <td>1.886686</td>\n",
       "      <td>1.9632</td>\n",
       "      <td>2.051831</td>\n",
       "      <td>2.157825</td>\n",
       "      <td>2.290914</td>\n",
       "      <td>2.47266</td>\n",
       "      <td>2.770683</td>\n",
       "    </tr>\n",
       "    <tr>\n",
       "      <th>28</th>\n",
       "      <td>1.701131</td>\n",
       "      <td>1.756134</td>\n",
       "      <td>1.816592</td>\n",
       "      <td>1.883912</td>\n",
       "      <td>1.960136</td>\n",
       "      <td>2.048407</td>\n",
       "      <td>2.153935</td>\n",
       "      <td>2.28638</td>\n",
       "      <td>2.46714</td>\n",
       "      <td>2.763262</td>\n",
       "    </tr>\n",
       "    <tr>\n",
       "      <th>29</th>\n",
       "      <td>1.699127</td>\n",
       "      <td>1.753968</td>\n",
       "      <td>1.814238</td>\n",
       "      <td>1.881336</td>\n",
       "      <td>1.957293</td>\n",
       "      <td>2.04523</td>\n",
       "      <td>2.150325</td>\n",
       "      <td>2.282175</td>\n",
       "      <td>2.462021</td>\n",
       "      <td>2.756386</td>\n",
       "    </tr>\n",
       "    <tr>\n",
       "      <th>30</th>\n",
       "      <td>1.697261</td>\n",
       "      <td>1.751952</td>\n",
       "      <td>1.812047</td>\n",
       "      <td>1.878938</td>\n",
       "      <td>1.954645</td>\n",
       "      <td>2.042272</td>\n",
       "      <td>2.146966</td>\n",
       "      <td>2.278262</td>\n",
       "      <td>2.457262</td>\n",
       "      <td>2.749996</td>\n",
       "    </tr>\n",
       "  </tbody>\n",
       "</table>\n",
       "</div>"
      ],
      "text/plain": [
       "Bicaudal                          0.100     0.090     0.080     0.070  \\\n",
       "Unicaudal                         0.050     0.045     0.040     0.035   \n",
       "Graus de Liberdade (n - 1) 1   6.313752  7.026366  7.915815  9.057887   \n",
       "                           2   2.919986  3.103977  3.319764  3.578247   \n",
       "                           3   2.353363  2.470807  2.605427  2.762599   \n",
       "                           4   2.131847    2.2261  2.332873  2.455892   \n",
       "                           5   2.015048  2.097837  2.190958  2.297392   \n",
       "                           6    1.94318  2.019201  2.104306  2.201059   \n",
       "                           7   1.894579  1.966153  2.046011  2.136453   \n",
       "                           8   1.859548  1.927986  2.004152  2.090166   \n",
       "                           9   1.833113  1.899222  1.972653  2.055395   \n",
       "                           10  1.812461  1.876774  1.948099  2.028327   \n",
       "                           11  1.795885  1.858772  1.928427  2.006663   \n",
       "                           12  1.782288  1.844015  1.912313  1.988934   \n",
       "                           13  1.770933    1.8317  1.898874  1.974158   \n",
       "                           14   1.76131  1.821267  1.887496  1.961656   \n",
       "                           15   1.75305  1.812316  1.877739   1.95094   \n",
       "                           16  1.745884  1.804553  1.869279  1.941654   \n",
       "                           17  1.739607  1.797755  1.861875   1.93353   \n",
       "                           18  1.734064  1.791754   1.85534  1.926362   \n",
       "                           19  1.729133  1.786417   1.84953  1.919992   \n",
       "                           20  1.724718   1.78164  1.844331  1.914292   \n",
       "                           21  1.720743  1.777339  1.839651  1.909164   \n",
       "                           22  1.717144  1.773447  1.835417  1.904524   \n",
       "                           23  1.713872  1.769907  1.831567  1.900307   \n",
       "                           24  1.710882  1.766675  1.828051  1.896457   \n",
       "                           25  1.708141  1.763711  1.824828  1.892928   \n",
       "                           26  1.705618  1.760983  1.821863  1.889682   \n",
       "                           27  1.703288  1.758466  1.819126  1.886686   \n",
       "                           28  1.701131  1.756134  1.816592  1.883912   \n",
       "                           29  1.699127  1.753968  1.814238  1.881336   \n",
       "                           30  1.697261  1.751952  1.812047  1.878938   \n",
       "\n",
       "Bicaudal                           0.060      0.050      0.040      0.030  \\\n",
       "Unicaudal                          0.030      0.025      0.020      0.015   \n",
       "Graus de Liberdade (n - 1) 1   10.578895  12.706205  15.894545  21.204949   \n",
       "                           2    3.896425   4.302653   4.848732   5.642778   \n",
       "                           3     2.95051   3.182446   3.481909   3.896046   \n",
       "                           4    2.600762   2.776445   2.998528    3.29763   \n",
       "                           5    2.421585   2.570582   2.756509   3.002875   \n",
       "                           6    2.313263   2.446912   2.612242   2.828928   \n",
       "                           7    2.240879   2.364624   2.516752   2.714573   \n",
       "                           8    2.189155   2.306004   2.448985   2.633814   \n",
       "                           9    2.150375   2.262157   2.398441   2.573804   \n",
       "                           10   2.120234   2.228139   2.359315   2.527484   \n",
       "                           11   2.096139   2.200985    2.32814   2.490664   \n",
       "                           12   2.076441   2.178813   2.302722     2.4607   \n",
       "                           13   2.060038   2.160369   2.281604   2.435845   \n",
       "                           14   2.046169   2.144787   2.263781   2.414898   \n",
       "                           15   2.034289    2.13145    2.24854   2.397005   \n",
       "                           16      2.024   2.119905   2.235358   2.381545   \n",
       "                           17   2.015002   2.109816   2.223845   2.368055   \n",
       "                           18   2.007067   2.100922   2.213703    2.35618   \n",
       "                           19   2.000017   2.093024   2.204701   2.345648   \n",
       "                           20   1.993713   2.085963   2.196658   2.336242   \n",
       "                           21   1.988041   2.079614   2.189427   2.327792   \n",
       "                           22   1.982911   2.073873   2.182893    2.32016   \n",
       "                           23   1.978249   2.068658   2.176958   2.313231   \n",
       "                           24   1.973994   2.063899   2.171545   2.306913   \n",
       "                           25   1.970095   2.059539   2.166587    2.30113   \n",
       "                           26   1.966509   2.055529   2.162029   2.295815   \n",
       "                           27     1.9632   2.051831   2.157825   2.290914   \n",
       "                           28   1.960136   2.048407   2.153935    2.28638   \n",
       "                           29   1.957293    2.04523   2.150325   2.282175   \n",
       "                           30   1.954645   2.042272   2.146966   2.278262   \n",
       "\n",
       "Bicaudal                           0.020      0.010  \n",
       "Unicaudal                          0.010      0.005  \n",
       "Graus de Liberdade (n - 1) 1   31.820516  63.656741  \n",
       "                           2    6.964557   9.924843  \n",
       "                           3    4.540703   5.840909  \n",
       "                           4    3.746947   4.604095  \n",
       "                           5     3.36493   4.032143  \n",
       "                           6    3.142668   3.707428  \n",
       "                           7    2.997952   3.499483  \n",
       "                           8    2.896459   3.355387  \n",
       "                           9    2.821438   3.249836  \n",
       "                           10   2.763769   3.169273  \n",
       "                           11   2.718079   3.105807  \n",
       "                           12   2.680998    3.05454  \n",
       "                           13   2.650309   3.012276  \n",
       "                           14   2.624494   2.976843  \n",
       "                           15    2.60248   2.946713  \n",
       "                           16   2.583487   2.920782  \n",
       "                           17   2.566934   2.898231  \n",
       "                           18    2.55238    2.87844  \n",
       "                           19   2.539483   2.860935  \n",
       "                           20   2.527977    2.84534  \n",
       "                           21   2.517648    2.83136  \n",
       "                           22   2.508325   2.818756  \n",
       "                           23   2.499867   2.807336  \n",
       "                           24   2.492159    2.79694  \n",
       "                           25   2.485107   2.787436  \n",
       "                           26    2.47863   2.778715  \n",
       "                           27    2.47266   2.770683  \n",
       "                           28    2.46714   2.763262  \n",
       "                           29   2.462021   2.756386  \n",
       "                           30   2.457262   2.749996  "
      ]
     },
     "execution_count": 7,
     "metadata": {},
     "output_type": "execute_result"
    }
   ],
   "source": [
    "from scipy.stats import t as t_student\n",
    "\n",
    "tabela_t_student = pd.DataFrame(\n",
    "    [],\n",
    "    index = [i for i in range (1, 31)],\n",
    "    columns = [i / 100 for i in range (10, 0, -1)]\n",
    ")\n",
    "\n",
    "for index in tabela_t_student.index:\n",
    "    for column in tabela_t_student.columns:\n",
    "        tabela_t_student.loc[index, column] = t_student.ppf(1 - float(column) / 2, index)\n",
    "\n",
    "index = [('Graus de Liberdade (n - 1)', i) for i in range(1,31)]\n",
    "tabela_t_student.index = pd.MultiIndex.from_tuples(index)\n",
    "columns = [(\"{0:0.3f}\".format(i/100), \"{0:0.3f}\".format(i/100/2)) for i in range(10, 0, -1)]\n",
    "tabela_t_student.columns = pd.MultiIndex.from_tuples(columns)\n",
    "\n",
    "tabela_t_student.rename_axis(['Bicaudal', 'Unicaudal'], axis = 1, inplace = True)\n",
    "tabela_t_student"
   ]
  },
  {
   "cell_type": "markdown",
   "metadata": {},
   "source": [
    "> 1. Exemplo\n",
    "\n",
    " * Na aferição do comprimento do papel higiênico de uma empresa durante sua produção, foram analisados 30 rolos e foi constadado que o comprimento médio era de 30,3 m com desvio padrão de 0,5m. Determine um intervalo de confiança de 95% para o comprimento médio, considerando que os comprimentos sejam normalmente distribuídos."
   ]
  },
  {
   "cell_type": "code",
   "execution_count": 8,
   "metadata": {},
   "outputs": [
    {
     "name": "stdout",
     "output_type": "stream",
     "text": [
      "(30.113317894983656, 30.486682105016346)\n"
     ]
    }
   ],
   "source": [
    "media = 30.30\n",
    "t = 2.045\n",
    "desvio_padrao_amostral = 0.5\n",
    "n = 30\n",
    "\n",
    "intervalo_media = (media - (t*desvio_padrao_amostral/np.sqrt(n)), media + (t*desvio_padrao_amostral/np.sqrt(n)))\n",
    "print(intervalo_media)"
   ]
  },
  {
   "cell_type": "markdown",
   "metadata": {},
   "source": [
    "# <font color='red' style='font-size: 40px;'>6.0 Distribuição Chi-Quadrado</font>"
   ]
  },
  {
   "cell_type": "markdown",
   "metadata": {},
   "source": [
    "> 1. São distribuições assimétricas positivas. \n",
    "\n",
    "> 2. Quando os graus de liberdade são de 30 ou mais, a distribuição qui-quadrado pode ser razoavelmente aproximada por uma distribuição normal.\n",
    "\n",
    "> 3. A distribuição qui-quadrado é utilizada quando estamos analisando a variância de uma amostra quando essa amostra é provenente de uma população normalmente distribuída.\n",
    "\n",
    "<img src ='./img37.png' width = 70%>\n",
    "\n",
    "## Chi-Quadrado\n",
    "\n",
    "## $$X^2 = \\frac {(n-1)s^2}{\\sigma^2}$$\n",
    "\n",
    "## Intervalo de Confiança para Variância\n",
    "\n",
    "## $$\\sigma^2 = \\pm \\frac {(n-1)s^2}{X^2}$$\n",
    "\n",
    " sendo $${X_R^2} = \\frac {1-c}{2}$$ $${X_L^2} = \\frac {1+c}{2}$$\n",
    "\n",
    "## Intervalo de Confiança para Desvio Padrão\n",
    "\n",
    "## $$\\sigma = \\pm \\sqrt \\frac {(n-1)s^2}{X^2}$$\n",
    "\n",
    "sendo $${X_R^2} = \\frac {1-c}{2}$$ $${X_L^2} = \\frac {1+c}{2}$$\n",
    "\n",
    "onde:\n",
    "\n",
    "$\\mu$ = média com intervalo de confiança\n",
    "\n",
    "$\\sigma$ = desvio padrão\n",
    "\n",
    "$\\bar{x}$ = média do problema\n",
    "\n",
    "$c$ = Variável c de probabilidade"
   ]
  },
  {
   "cell_type": "code",
   "execution_count": 9,
   "metadata": {},
   "outputs": [
    {
     "data": {
      "text/html": [
       "<div>\n",
       "<style scoped>\n",
       "    .dataframe tbody tr th:only-of-type {\n",
       "        vertical-align: middle;\n",
       "    }\n",
       "\n",
       "    .dataframe tbody tr th {\n",
       "        vertical-align: top;\n",
       "    }\n",
       "\n",
       "    .dataframe thead th {\n",
       "        text-align: right;\n",
       "    }\n",
       "</style>\n",
       "<table border=\"1\" class=\"dataframe\">\n",
       "  <thead>\n",
       "    <tr style=\"text-align: right;\">\n",
       "      <th>p</th>\n",
       "      <th>0.005</th>\n",
       "      <th>0.010</th>\n",
       "      <th>0.025</th>\n",
       "      <th>0.050</th>\n",
       "      <th>0.100</th>\n",
       "      <th>0.250</th>\n",
       "      <th>0.500</th>\n",
       "      <th>0.750</th>\n",
       "      <th>0.900</th>\n",
       "      <th>0.975</th>\n",
       "      <th>0.950</th>\n",
       "      <th>0.990</th>\n",
       "      <th>0.995</th>\n",
       "    </tr>\n",
       "    <tr>\n",
       "      <th>Graus de Liberdade (n - 1)</th>\n",
       "      <th></th>\n",
       "      <th></th>\n",
       "      <th></th>\n",
       "      <th></th>\n",
       "      <th></th>\n",
       "      <th></th>\n",
       "      <th></th>\n",
       "      <th></th>\n",
       "      <th></th>\n",
       "      <th></th>\n",
       "      <th></th>\n",
       "      <th></th>\n",
       "      <th></th>\n",
       "    </tr>\n",
       "  </thead>\n",
       "  <tbody>\n",
       "    <tr>\n",
       "      <th>1</th>\n",
       "      <td>0.0000</td>\n",
       "      <td>0.0002</td>\n",
       "      <td>0.0010</td>\n",
       "      <td>0.0039</td>\n",
       "      <td>0.0158</td>\n",
       "      <td>0.1015</td>\n",
       "      <td>0.4549</td>\n",
       "      <td>1.3233</td>\n",
       "      <td>2.7055</td>\n",
       "      <td>5.0239</td>\n",
       "      <td>3.8415</td>\n",
       "      <td>6.6349</td>\n",
       "      <td>7.8794</td>\n",
       "    </tr>\n",
       "    <tr>\n",
       "      <th>2</th>\n",
       "      <td>0.0100</td>\n",
       "      <td>0.0201</td>\n",
       "      <td>0.0506</td>\n",
       "      <td>0.1026</td>\n",
       "      <td>0.2107</td>\n",
       "      <td>0.5754</td>\n",
       "      <td>1.3863</td>\n",
       "      <td>2.7726</td>\n",
       "      <td>4.6052</td>\n",
       "      <td>7.3778</td>\n",
       "      <td>5.9915</td>\n",
       "      <td>9.2103</td>\n",
       "      <td>10.5966</td>\n",
       "    </tr>\n",
       "    <tr>\n",
       "      <th>3</th>\n",
       "      <td>0.0717</td>\n",
       "      <td>0.1148</td>\n",
       "      <td>0.2158</td>\n",
       "      <td>0.3518</td>\n",
       "      <td>0.5844</td>\n",
       "      <td>1.2125</td>\n",
       "      <td>2.3660</td>\n",
       "      <td>4.1083</td>\n",
       "      <td>6.2514</td>\n",
       "      <td>9.3484</td>\n",
       "      <td>7.8147</td>\n",
       "      <td>11.3449</td>\n",
       "      <td>12.8382</td>\n",
       "    </tr>\n",
       "    <tr>\n",
       "      <th>4</th>\n",
       "      <td>0.2070</td>\n",
       "      <td>0.2971</td>\n",
       "      <td>0.4844</td>\n",
       "      <td>0.7107</td>\n",
       "      <td>1.0636</td>\n",
       "      <td>1.9226</td>\n",
       "      <td>3.3567</td>\n",
       "      <td>5.3853</td>\n",
       "      <td>7.7794</td>\n",
       "      <td>11.1433</td>\n",
       "      <td>9.4877</td>\n",
       "      <td>13.2767</td>\n",
       "      <td>14.8603</td>\n",
       "    </tr>\n",
       "    <tr>\n",
       "      <th>5</th>\n",
       "      <td>0.4117</td>\n",
       "      <td>0.5543</td>\n",
       "      <td>0.8312</td>\n",
       "      <td>1.1455</td>\n",
       "      <td>1.6103</td>\n",
       "      <td>2.6746</td>\n",
       "      <td>4.3515</td>\n",
       "      <td>6.6257</td>\n",
       "      <td>9.2364</td>\n",
       "      <td>12.8325</td>\n",
       "      <td>11.0705</td>\n",
       "      <td>15.0863</td>\n",
       "      <td>16.7496</td>\n",
       "    </tr>\n",
       "    <tr>\n",
       "      <th>6</th>\n",
       "      <td>0.6757</td>\n",
       "      <td>0.8721</td>\n",
       "      <td>1.2373</td>\n",
       "      <td>1.6354</td>\n",
       "      <td>2.2041</td>\n",
       "      <td>3.4546</td>\n",
       "      <td>5.3481</td>\n",
       "      <td>7.8408</td>\n",
       "      <td>10.6446</td>\n",
       "      <td>14.4494</td>\n",
       "      <td>12.5916</td>\n",
       "      <td>16.8119</td>\n",
       "      <td>18.5476</td>\n",
       "    </tr>\n",
       "    <tr>\n",
       "      <th>7</th>\n",
       "      <td>0.9893</td>\n",
       "      <td>1.2390</td>\n",
       "      <td>1.6899</td>\n",
       "      <td>2.1673</td>\n",
       "      <td>2.8331</td>\n",
       "      <td>4.2549</td>\n",
       "      <td>6.3458</td>\n",
       "      <td>9.0371</td>\n",
       "      <td>12.0170</td>\n",
       "      <td>16.0128</td>\n",
       "      <td>14.0671</td>\n",
       "      <td>18.4753</td>\n",
       "      <td>20.2777</td>\n",
       "    </tr>\n",
       "    <tr>\n",
       "      <th>8</th>\n",
       "      <td>1.3444</td>\n",
       "      <td>1.6465</td>\n",
       "      <td>2.1797</td>\n",
       "      <td>2.7326</td>\n",
       "      <td>3.4895</td>\n",
       "      <td>5.0706</td>\n",
       "      <td>7.3441</td>\n",
       "      <td>10.2189</td>\n",
       "      <td>13.3616</td>\n",
       "      <td>17.5345</td>\n",
       "      <td>15.5073</td>\n",
       "      <td>20.0902</td>\n",
       "      <td>21.9550</td>\n",
       "    </tr>\n",
       "    <tr>\n",
       "      <th>9</th>\n",
       "      <td>1.7349</td>\n",
       "      <td>2.0879</td>\n",
       "      <td>2.7004</td>\n",
       "      <td>3.3251</td>\n",
       "      <td>4.1682</td>\n",
       "      <td>5.8988</td>\n",
       "      <td>8.3428</td>\n",
       "      <td>11.3888</td>\n",
       "      <td>14.6837</td>\n",
       "      <td>19.0228</td>\n",
       "      <td>16.9190</td>\n",
       "      <td>21.6660</td>\n",
       "      <td>23.5894</td>\n",
       "    </tr>\n",
       "    <tr>\n",
       "      <th>10</th>\n",
       "      <td>2.1559</td>\n",
       "      <td>2.5582</td>\n",
       "      <td>3.2470</td>\n",
       "      <td>3.9403</td>\n",
       "      <td>4.8652</td>\n",
       "      <td>6.7372</td>\n",
       "      <td>9.3418</td>\n",
       "      <td>12.5489</td>\n",
       "      <td>15.9872</td>\n",
       "      <td>20.4832</td>\n",
       "      <td>18.3070</td>\n",
       "      <td>23.2093</td>\n",
       "      <td>25.1882</td>\n",
       "    </tr>\n",
       "    <tr>\n",
       "      <th>11</th>\n",
       "      <td>2.6032</td>\n",
       "      <td>3.0535</td>\n",
       "      <td>3.8157</td>\n",
       "      <td>4.5748</td>\n",
       "      <td>5.5778</td>\n",
       "      <td>7.5841</td>\n",
       "      <td>10.3410</td>\n",
       "      <td>13.7007</td>\n",
       "      <td>17.2750</td>\n",
       "      <td>21.9200</td>\n",
       "      <td>19.6751</td>\n",
       "      <td>24.7250</td>\n",
       "      <td>26.7568</td>\n",
       "    </tr>\n",
       "    <tr>\n",
       "      <th>12</th>\n",
       "      <td>3.0738</td>\n",
       "      <td>3.5706</td>\n",
       "      <td>4.4038</td>\n",
       "      <td>5.2260</td>\n",
       "      <td>6.3038</td>\n",
       "      <td>8.4384</td>\n",
       "      <td>11.3403</td>\n",
       "      <td>14.8454</td>\n",
       "      <td>18.5493</td>\n",
       "      <td>23.3367</td>\n",
       "      <td>21.0261</td>\n",
       "      <td>26.2170</td>\n",
       "      <td>28.2995</td>\n",
       "    </tr>\n",
       "    <tr>\n",
       "      <th>13</th>\n",
       "      <td>3.5650</td>\n",
       "      <td>4.1069</td>\n",
       "      <td>5.0088</td>\n",
       "      <td>5.8919</td>\n",
       "      <td>7.0415</td>\n",
       "      <td>9.2991</td>\n",
       "      <td>12.3398</td>\n",
       "      <td>15.9839</td>\n",
       "      <td>19.8119</td>\n",
       "      <td>24.7356</td>\n",
       "      <td>22.3620</td>\n",
       "      <td>27.6882</td>\n",
       "      <td>29.8195</td>\n",
       "    </tr>\n",
       "    <tr>\n",
       "      <th>14</th>\n",
       "      <td>4.0747</td>\n",
       "      <td>4.6604</td>\n",
       "      <td>5.6287</td>\n",
       "      <td>6.5706</td>\n",
       "      <td>7.7895</td>\n",
       "      <td>10.1653</td>\n",
       "      <td>13.3393</td>\n",
       "      <td>17.1169</td>\n",
       "      <td>21.0641</td>\n",
       "      <td>26.1189</td>\n",
       "      <td>23.6848</td>\n",
       "      <td>29.1412</td>\n",
       "      <td>31.3193</td>\n",
       "    </tr>\n",
       "    <tr>\n",
       "      <th>15</th>\n",
       "      <td>4.6009</td>\n",
       "      <td>5.2293</td>\n",
       "      <td>6.2621</td>\n",
       "      <td>7.2609</td>\n",
       "      <td>8.5468</td>\n",
       "      <td>11.0365</td>\n",
       "      <td>14.3389</td>\n",
       "      <td>18.2451</td>\n",
       "      <td>22.3071</td>\n",
       "      <td>27.4884</td>\n",
       "      <td>24.9958</td>\n",
       "      <td>30.5779</td>\n",
       "      <td>32.8013</td>\n",
       "    </tr>\n",
       "    <tr>\n",
       "      <th>16</th>\n",
       "      <td>5.1422</td>\n",
       "      <td>5.8122</td>\n",
       "      <td>6.9077</td>\n",
       "      <td>7.9616</td>\n",
       "      <td>9.3122</td>\n",
       "      <td>11.9122</td>\n",
       "      <td>15.3385</td>\n",
       "      <td>19.3689</td>\n",
       "      <td>23.5418</td>\n",
       "      <td>28.8454</td>\n",
       "      <td>26.2962</td>\n",
       "      <td>31.9999</td>\n",
       "      <td>34.2672</td>\n",
       "    </tr>\n",
       "    <tr>\n",
       "      <th>17</th>\n",
       "      <td>5.6972</td>\n",
       "      <td>6.4078</td>\n",
       "      <td>7.5642</td>\n",
       "      <td>8.6718</td>\n",
       "      <td>10.0852</td>\n",
       "      <td>12.7919</td>\n",
       "      <td>16.3382</td>\n",
       "      <td>20.4887</td>\n",
       "      <td>24.7690</td>\n",
       "      <td>30.1910</td>\n",
       "      <td>27.5871</td>\n",
       "      <td>33.4087</td>\n",
       "      <td>35.7185</td>\n",
       "    </tr>\n",
       "    <tr>\n",
       "      <th>18</th>\n",
       "      <td>6.2648</td>\n",
       "      <td>7.0149</td>\n",
       "      <td>8.2307</td>\n",
       "      <td>9.3905</td>\n",
       "      <td>10.8649</td>\n",
       "      <td>13.6753</td>\n",
       "      <td>17.3379</td>\n",
       "      <td>21.6049</td>\n",
       "      <td>25.9894</td>\n",
       "      <td>31.5264</td>\n",
       "      <td>28.8693</td>\n",
       "      <td>34.8053</td>\n",
       "      <td>37.1565</td>\n",
       "    </tr>\n",
       "    <tr>\n",
       "      <th>19</th>\n",
       "      <td>6.8440</td>\n",
       "      <td>7.6327</td>\n",
       "      <td>8.9065</td>\n",
       "      <td>10.1170</td>\n",
       "      <td>11.6509</td>\n",
       "      <td>14.5620</td>\n",
       "      <td>18.3377</td>\n",
       "      <td>22.7178</td>\n",
       "      <td>27.2036</td>\n",
       "      <td>32.8523</td>\n",
       "      <td>30.1435</td>\n",
       "      <td>36.1909</td>\n",
       "      <td>38.5823</td>\n",
       "    </tr>\n",
       "    <tr>\n",
       "      <th>20</th>\n",
       "      <td>7.4338</td>\n",
       "      <td>8.2604</td>\n",
       "      <td>9.5908</td>\n",
       "      <td>10.8508</td>\n",
       "      <td>12.4426</td>\n",
       "      <td>15.4518</td>\n",
       "      <td>19.3374</td>\n",
       "      <td>23.8277</td>\n",
       "      <td>28.4120</td>\n",
       "      <td>34.1696</td>\n",
       "      <td>31.4104</td>\n",
       "      <td>37.5662</td>\n",
       "      <td>39.9968</td>\n",
       "    </tr>\n",
       "    <tr>\n",
       "      <th>21</th>\n",
       "      <td>8.0337</td>\n",
       "      <td>8.8972</td>\n",
       "      <td>10.2829</td>\n",
       "      <td>11.5913</td>\n",
       "      <td>13.2396</td>\n",
       "      <td>16.3444</td>\n",
       "      <td>20.3372</td>\n",
       "      <td>24.9348</td>\n",
       "      <td>29.6151</td>\n",
       "      <td>35.4789</td>\n",
       "      <td>32.6706</td>\n",
       "      <td>38.9322</td>\n",
       "      <td>41.4011</td>\n",
       "    </tr>\n",
       "    <tr>\n",
       "      <th>22</th>\n",
       "      <td>8.6427</td>\n",
       "      <td>9.5425</td>\n",
       "      <td>10.9823</td>\n",
       "      <td>12.3380</td>\n",
       "      <td>14.0415</td>\n",
       "      <td>17.2396</td>\n",
       "      <td>21.3370</td>\n",
       "      <td>26.0393</td>\n",
       "      <td>30.8133</td>\n",
       "      <td>36.7807</td>\n",
       "      <td>33.9244</td>\n",
       "      <td>40.2894</td>\n",
       "      <td>42.7957</td>\n",
       "    </tr>\n",
       "    <tr>\n",
       "      <th>23</th>\n",
       "      <td>9.2604</td>\n",
       "      <td>10.1957</td>\n",
       "      <td>11.6886</td>\n",
       "      <td>13.0905</td>\n",
       "      <td>14.8480</td>\n",
       "      <td>18.1373</td>\n",
       "      <td>22.3369</td>\n",
       "      <td>27.1413</td>\n",
       "      <td>32.0069</td>\n",
       "      <td>38.0756</td>\n",
       "      <td>35.1725</td>\n",
       "      <td>41.6384</td>\n",
       "      <td>44.1813</td>\n",
       "    </tr>\n",
       "    <tr>\n",
       "      <th>24</th>\n",
       "      <td>9.8862</td>\n",
       "      <td>10.8564</td>\n",
       "      <td>12.4012</td>\n",
       "      <td>13.8484</td>\n",
       "      <td>15.6587</td>\n",
       "      <td>19.0373</td>\n",
       "      <td>23.3367</td>\n",
       "      <td>28.2412</td>\n",
       "      <td>33.1962</td>\n",
       "      <td>39.3641</td>\n",
       "      <td>36.4150</td>\n",
       "      <td>42.9798</td>\n",
       "      <td>45.5585</td>\n",
       "    </tr>\n",
       "    <tr>\n",
       "      <th>25</th>\n",
       "      <td>10.5197</td>\n",
       "      <td>11.5240</td>\n",
       "      <td>13.1197</td>\n",
       "      <td>14.6114</td>\n",
       "      <td>16.4734</td>\n",
       "      <td>19.9393</td>\n",
       "      <td>24.3366</td>\n",
       "      <td>29.3389</td>\n",
       "      <td>34.3816</td>\n",
       "      <td>40.6465</td>\n",
       "      <td>37.6525</td>\n",
       "      <td>44.3141</td>\n",
       "      <td>46.9279</td>\n",
       "    </tr>\n",
       "    <tr>\n",
       "      <th>26</th>\n",
       "      <td>11.1602</td>\n",
       "      <td>12.1981</td>\n",
       "      <td>13.8439</td>\n",
       "      <td>15.3792</td>\n",
       "      <td>17.2919</td>\n",
       "      <td>20.8434</td>\n",
       "      <td>25.3365</td>\n",
       "      <td>30.4346</td>\n",
       "      <td>35.5632</td>\n",
       "      <td>41.9232</td>\n",
       "      <td>38.8851</td>\n",
       "      <td>45.6417</td>\n",
       "      <td>48.2899</td>\n",
       "    </tr>\n",
       "    <tr>\n",
       "      <th>27</th>\n",
       "      <td>11.8076</td>\n",
       "      <td>12.8785</td>\n",
       "      <td>14.5734</td>\n",
       "      <td>16.1514</td>\n",
       "      <td>18.1139</td>\n",
       "      <td>21.7494</td>\n",
       "      <td>26.3363</td>\n",
       "      <td>31.5284</td>\n",
       "      <td>36.7412</td>\n",
       "      <td>43.1945</td>\n",
       "      <td>40.1133</td>\n",
       "      <td>46.9629</td>\n",
       "      <td>49.6449</td>\n",
       "    </tr>\n",
       "    <tr>\n",
       "      <th>28</th>\n",
       "      <td>12.4613</td>\n",
       "      <td>13.5647</td>\n",
       "      <td>15.3079</td>\n",
       "      <td>16.9279</td>\n",
       "      <td>18.9392</td>\n",
       "      <td>22.6572</td>\n",
       "      <td>27.3362</td>\n",
       "      <td>32.6205</td>\n",
       "      <td>37.9159</td>\n",
       "      <td>44.4608</td>\n",
       "      <td>41.3371</td>\n",
       "      <td>48.2782</td>\n",
       "      <td>50.9934</td>\n",
       "    </tr>\n",
       "    <tr>\n",
       "      <th>29</th>\n",
       "      <td>13.1211</td>\n",
       "      <td>14.2565</td>\n",
       "      <td>16.0471</td>\n",
       "      <td>17.7084</td>\n",
       "      <td>19.7677</td>\n",
       "      <td>23.5666</td>\n",
       "      <td>28.3361</td>\n",
       "      <td>33.7109</td>\n",
       "      <td>39.0875</td>\n",
       "      <td>45.7223</td>\n",
       "      <td>42.5570</td>\n",
       "      <td>49.5879</td>\n",
       "      <td>52.3356</td>\n",
       "    </tr>\n",
       "    <tr>\n",
       "      <th>30</th>\n",
       "      <td>13.7867</td>\n",
       "      <td>14.9535</td>\n",
       "      <td>16.7908</td>\n",
       "      <td>18.4927</td>\n",
       "      <td>20.5992</td>\n",
       "      <td>24.4776</td>\n",
       "      <td>29.3360</td>\n",
       "      <td>34.7997</td>\n",
       "      <td>40.2560</td>\n",
       "      <td>46.9792</td>\n",
       "      <td>43.7730</td>\n",
       "      <td>50.8922</td>\n",
       "      <td>53.6720</td>\n",
       "    </tr>\n",
       "  </tbody>\n",
       "</table>\n",
       "</div>"
      ],
      "text/plain": [
       "p                             0.005    0.010    0.025    0.050    0.100  \\\n",
       "Graus de Liberdade (n - 1)                                                \n",
       "1                            0.0000   0.0002   0.0010   0.0039   0.0158   \n",
       "2                            0.0100   0.0201   0.0506   0.1026   0.2107   \n",
       "3                            0.0717   0.1148   0.2158   0.3518   0.5844   \n",
       "4                            0.2070   0.2971   0.4844   0.7107   1.0636   \n",
       "5                            0.4117   0.5543   0.8312   1.1455   1.6103   \n",
       "6                            0.6757   0.8721   1.2373   1.6354   2.2041   \n",
       "7                            0.9893   1.2390   1.6899   2.1673   2.8331   \n",
       "8                            1.3444   1.6465   2.1797   2.7326   3.4895   \n",
       "9                            1.7349   2.0879   2.7004   3.3251   4.1682   \n",
       "10                           2.1559   2.5582   3.2470   3.9403   4.8652   \n",
       "11                           2.6032   3.0535   3.8157   4.5748   5.5778   \n",
       "12                           3.0738   3.5706   4.4038   5.2260   6.3038   \n",
       "13                           3.5650   4.1069   5.0088   5.8919   7.0415   \n",
       "14                           4.0747   4.6604   5.6287   6.5706   7.7895   \n",
       "15                           4.6009   5.2293   6.2621   7.2609   8.5468   \n",
       "16                           5.1422   5.8122   6.9077   7.9616   9.3122   \n",
       "17                           5.6972   6.4078   7.5642   8.6718  10.0852   \n",
       "18                           6.2648   7.0149   8.2307   9.3905  10.8649   \n",
       "19                           6.8440   7.6327   8.9065  10.1170  11.6509   \n",
       "20                           7.4338   8.2604   9.5908  10.8508  12.4426   \n",
       "21                           8.0337   8.8972  10.2829  11.5913  13.2396   \n",
       "22                           8.6427   9.5425  10.9823  12.3380  14.0415   \n",
       "23                           9.2604  10.1957  11.6886  13.0905  14.8480   \n",
       "24                           9.8862  10.8564  12.4012  13.8484  15.6587   \n",
       "25                          10.5197  11.5240  13.1197  14.6114  16.4734   \n",
       "26                          11.1602  12.1981  13.8439  15.3792  17.2919   \n",
       "27                          11.8076  12.8785  14.5734  16.1514  18.1139   \n",
       "28                          12.4613  13.5647  15.3079  16.9279  18.9392   \n",
       "29                          13.1211  14.2565  16.0471  17.7084  19.7677   \n",
       "30                          13.7867  14.9535  16.7908  18.4927  20.5992   \n",
       "\n",
       "p                             0.250    0.500    0.750    0.900    0.975  \\\n",
       "Graus de Liberdade (n - 1)                                                \n",
       "1                            0.1015   0.4549   1.3233   2.7055   5.0239   \n",
       "2                            0.5754   1.3863   2.7726   4.6052   7.3778   \n",
       "3                            1.2125   2.3660   4.1083   6.2514   9.3484   \n",
       "4                            1.9226   3.3567   5.3853   7.7794  11.1433   \n",
       "5                            2.6746   4.3515   6.6257   9.2364  12.8325   \n",
       "6                            3.4546   5.3481   7.8408  10.6446  14.4494   \n",
       "7                            4.2549   6.3458   9.0371  12.0170  16.0128   \n",
       "8                            5.0706   7.3441  10.2189  13.3616  17.5345   \n",
       "9                            5.8988   8.3428  11.3888  14.6837  19.0228   \n",
       "10                           6.7372   9.3418  12.5489  15.9872  20.4832   \n",
       "11                           7.5841  10.3410  13.7007  17.2750  21.9200   \n",
       "12                           8.4384  11.3403  14.8454  18.5493  23.3367   \n",
       "13                           9.2991  12.3398  15.9839  19.8119  24.7356   \n",
       "14                          10.1653  13.3393  17.1169  21.0641  26.1189   \n",
       "15                          11.0365  14.3389  18.2451  22.3071  27.4884   \n",
       "16                          11.9122  15.3385  19.3689  23.5418  28.8454   \n",
       "17                          12.7919  16.3382  20.4887  24.7690  30.1910   \n",
       "18                          13.6753  17.3379  21.6049  25.9894  31.5264   \n",
       "19                          14.5620  18.3377  22.7178  27.2036  32.8523   \n",
       "20                          15.4518  19.3374  23.8277  28.4120  34.1696   \n",
       "21                          16.3444  20.3372  24.9348  29.6151  35.4789   \n",
       "22                          17.2396  21.3370  26.0393  30.8133  36.7807   \n",
       "23                          18.1373  22.3369  27.1413  32.0069  38.0756   \n",
       "24                          19.0373  23.3367  28.2412  33.1962  39.3641   \n",
       "25                          19.9393  24.3366  29.3389  34.3816  40.6465   \n",
       "26                          20.8434  25.3365  30.4346  35.5632  41.9232   \n",
       "27                          21.7494  26.3363  31.5284  36.7412  43.1945   \n",
       "28                          22.6572  27.3362  32.6205  37.9159  44.4608   \n",
       "29                          23.5666  28.3361  33.7109  39.0875  45.7223   \n",
       "30                          24.4776  29.3360  34.7997  40.2560  46.9792   \n",
       "\n",
       "p                             0.950    0.990    0.995  \n",
       "Graus de Liberdade (n - 1)                             \n",
       "1                            3.8415   6.6349   7.8794  \n",
       "2                            5.9915   9.2103  10.5966  \n",
       "3                            7.8147  11.3449  12.8382  \n",
       "4                            9.4877  13.2767  14.8603  \n",
       "5                           11.0705  15.0863  16.7496  \n",
       "6                           12.5916  16.8119  18.5476  \n",
       "7                           14.0671  18.4753  20.2777  \n",
       "8                           15.5073  20.0902  21.9550  \n",
       "9                           16.9190  21.6660  23.5894  \n",
       "10                          18.3070  23.2093  25.1882  \n",
       "11                          19.6751  24.7250  26.7568  \n",
       "12                          21.0261  26.2170  28.2995  \n",
       "13                          22.3620  27.6882  29.8195  \n",
       "14                          23.6848  29.1412  31.3193  \n",
       "15                          24.9958  30.5779  32.8013  \n",
       "16                          26.2962  31.9999  34.2672  \n",
       "17                          27.5871  33.4087  35.7185  \n",
       "18                          28.8693  34.8053  37.1565  \n",
       "19                          30.1435  36.1909  38.5823  \n",
       "20                          31.4104  37.5662  39.9968  \n",
       "21                          32.6706  38.9322  41.4011  \n",
       "22                          33.9244  40.2894  42.7957  \n",
       "23                          35.1725  41.6384  44.1813  \n",
       "24                          36.4150  42.9798  45.5585  \n",
       "25                          37.6525  44.3141  46.9279  \n",
       "26                          38.8851  45.6417  48.2899  \n",
       "27                          40.1133  46.9629  49.6449  \n",
       "28                          41.3371  48.2782  50.9934  \n",
       "29                          42.5570  49.5879  52.3356  \n",
       "30                          43.7730  50.8922  53.6720  "
      ]
     },
     "execution_count": 9,
     "metadata": {},
     "output_type": "execute_result"
    }
   ],
   "source": [
    "from scipy.stats import chi\n",
    "\n",
    "tabela_t_chi_2 = pd.DataFrame(\n",
    "    [],\n",
    "    index = [ i for i in range(1,31)],\n",
    "    columns = [0.005, 0.01, 0.025, 0.05, 0.1, 0.25, 0.5, 0.75, 0.9, 0.975, .95, 0.99, 0.995]\n",
    ")\n",
    "\n",
    "for index in tabela_t_chi_2.index:\n",
    "    for column in tabela_t_chi_2.columns:\n",
    "        tabela_t_chi_2.loc[index, column] = \"{0:0.4f}\".format(chi.ppf(float(column), index) ** 2)\n",
    "        \n",
    "tabela_t_chi_2.index.name = 'Graus de Liberdade (n - 1)'\n",
    "tabela_t_chi_2.rename_axis(['p'], axis = 1, inplace = True)\n",
    "\n",
    "tabela_t_chi_2"
   ]
  },
  {
   "cell_type": "markdown",
   "metadata": {},
   "source": [
    "> 1. Exemplo\n",
    "\n",
    "* No controle da massa de 30 amostras de um recipiente de alumínio, foi determinado um desvio padrão de 15g. Supondo distribuição normal, determine intervalos de confiança de 99% para a variância e o desvio padrão populacional."
   ]
  },
  {
   "cell_type": "code",
   "execution_count": 10,
   "metadata": {},
   "outputs": [
    {
     "name": "stdout",
     "output_type": "stream",
     "text": [
      "0.0050000000000000044 0.995\n",
      "(497.33231707317077, 124.68947066692147)\n"
     ]
    }
   ],
   "source": [
    "n = 30\n",
    "desvio_padrao_amostral = 15\n",
    "c = 0.99\n",
    "xr = (1-c)/2\n",
    "xl = (1+c)/2\n",
    "\n",
    "print(xr, xl)\n",
    "\n",
    "tabela_xr, tabela_xl = 13.12, 52.33\n",
    "\n",
    "variancia = (((n-1)*np.power(desvio_padrao_amostral, 2))/tabela_xr, ((n-1)*np.power(desvio_padrao_amostral, 2))/tabela_xl)\n",
    "print(variancia)"
   ]
  },
  {
   "cell_type": "markdown",
   "metadata": {},
   "source": [
    "# <font color='red' style='font-size: 40px;'>7.0 Testes de Hipóteses </font>\n",
    "\n",
    "> CONSULTAR: \n",
    "\n",
    "https://medium.com/@anwarhermuche/teste-de-hip%C3%B3teses-defini%C3%A7%C3%A3o-erros-e-p-valor-9bf8c9f547e9\n",
    "\n",
    "https://medium.com/data-hackers/o-que-realmente-um-teste-de-hip%C3%B3teses-quer-nos-dizer-b82801b03529\n",
    "\n",
    "https://medium.com/analytics-vidhya/a-beginners-guide-to-hypothesis-testing-f34d6332c1cc\n",
    "\n",
    "https://towardsdatascience.com/everything-you-need-to-know-about-hypothesis-testing-part-i-4de9abebbc8a\n",
    "\n",
    "https://medium.com/towards-data-science/everything-you-need-to-know-about-hypothesis-testing-part-ii-f0526be27b7d\n",
    "\n",
    "https://www.youtube.com/watch?v=gbk5SJBtfjg&list=PLovxQRJ6ihil5XSpdTO_Y5COpN03Hu7Dx&ab_channel=ProbabilidadeeEstat%C3%ADsticaUFRGS\n",
    "\n",
    "https://www.youtube.com/watch?v=tTeMYuS87oU&list=PLvxOuBpazmsNo893xlpXNfMzVpRBjDH67&ab_channel=jbstatistics"
   ]
  },
  {
   "cell_type": "markdown",
   "metadata": {},
   "source": [
    "## 7.1) Tipos de Teste\n",
    "\n",
    "Testes Paramétricos:\n",
    "> 1. **Requer que os dados estejam em conformidade com alguma Distribuição de Probabilidade.**\n",
    "\n",
    "Testes Não Paramétricos:\n",
    "\n",
    "> 1. **Nos testes não paramétricos, não requerem pressuposto da Distribuição de Probabilidade das quais as observações são extraídas.**\n",
    "\n",
    "## 7.2) Tipos de Amostra\n",
    "\n",
    "<img src='./img176.png' width='100%'>\n",
    "\n",
    "Amostras Dependentes\n",
    "> 1. Quando uma amostra selecionada de uma população estiver relacionada com uma amostra selecionada em outra população.\n",
    "\n",
    "    Ex: Por exemplo, queremos saber se a água de um rio está sendo afetada pela descarga de uma estação de tratamento de esgoto. Para isso, coleta-se água no rio antes de receber as águas da estação de tratamento e depois. Como a amostra que coletamos depois da descarga da estação está diretamente relacionada à que coletamos antes da estação, dizemos que estas amostras são dependentes.\n",
    "\n",
    "Amostras Independentes\n",
    "> 2. Quando uma amostra selecionada de uma população não tiver relação com uma amostra selecionada em outra população.\n",
    "\n",
    "    Ex: Por outro lado, se estivermos comparando a água de duas nascentes situadas em regiões diferentes, de forma que uma delas recebe a água de um estábulo de uma fazenda e a outra não, dizemos que as amostras das nascentes são independentes, porque o valor que encontraremos na amostra de uma nascente não está relacionada com o valor da amostra da outra nascente.\n",
    "\n",
    "## 7.3) O que são?\n",
    "\n",
    "> 1. São testes de afirmações sobre um parâmetro através de um processo que utiliza estatísticas amostrais para testar uma hipótese e aceitá-la ou rejeitá-la.\n",
    "\n",
    "> 2. Iremos admitir um valor hipotético para um parâmetro populacional, e com base nas informações da amostra, realizaremos um teste estatístico para aceitar ou rejeitar a hipótese. Por se tratar de probabilidades, a decisão sempre estará sujeita a erros, logo, não é possível tomar decisões que sejam definitivamente corretas, contudo, podemos dimensionar a probabilidade (risco) da decisão de aceitar ou rejeitar determinada hipótese estatística. \n",
    "\n",
    "> 3. Existem duas hipóteses:\n",
    "\n",
    "    * Hipótese Nula (H0) \n",
    " $$H_0:\\mu = k $$  \n",
    " \n",
    " $$H_0:\\mu <= k $$   \n",
    " \n",
    " $$H_0:\\mu => k $$ \n",
    "\n",
    "    * Hipótese Alternativa (H1) \n",
    "\n",
    " $$H_1:\\mu != k $$  \n",
    " \n",
    " $$H_1:\\mu > k $$    \n",
    " \n",
    " $$H_1:\\mu < k $$\n",
    "\n",
    " > Para saber se é Unicaudal à esquerda, Bicaudal ou Unicaudal à direita:\n",
    "     \n",
    "     * Menor que a média: Unicaudal à esquerda\n",
    "\n",
    "     * Igual a média: Bicaudal\n",
    "\n",
    "     * Maior que a média: Unicaudal à direita\n",
    "     \n",
    "> 4. Tipos de Erro \n",
    "\n",
    "## 7.4) Etapas Básicas de um Teste de Hipótese\n",
    "\n",
    "### **Passo 1** - formulação das hipóteses $H_0$ e $H_1$;\n",
    "\n",
    "> ### <font color='red'>Pontos importantes</font>\n",
    "> - De maneira geral, o alvo do estudo deve ser formulado como a hipótese alternativa $H_1$.\n",
    "> - A hipótese nula sempre afirma uma igualdade ou propriedade populacional, e $H_1$ a desigualdade que nega $H_0$.\n",
    "> - No caso da hipótese nula $H_0$ a igualdade pode ser representada por uma igualdade simples \"$=$\" ou por \"$\\geq$\" e \"$\\leq$\". Sempre complementar ao estabelecido pela hipótese alternativa.\n",
    "> - A hipótese alternativa $H_1$ deve definir uma desigualdade que pode ser uma diferença simples \"$\\neq$\" ou dos tipos \"$>$\" e \"$<$\".\n",
    "\n",
    "### **Passo 2** - escolha da distribuição amostral adequada;\n",
    "\n",
    "> ### <font color='red'>Pontos importantes</font>\n",
    "> - Quando o tamanho da amostra tiver 30 elementos ou mais, deve-se utilizar a distribuição normal, como estabelecido pelo **teorema do limite central**.\n",
    "> - Para um tamanho de amostra menor que 30 elementos, e se pudermos afirmar que a população se distribui aproximadamente como uma normal e o desvio padrão populacional for conhecido, deve-se utilizar a distribuição normal.\n",
    "> - Para um tamanho de amostra menor que 30 elementos, e se pudermos afirmar que a população se distribui aproximadamente como uma normal e o desvio padrão populacional for desconhecido, deve-se utilizar a distribuição t de Student.\n",
    "> - Caso você não saiba a Distribuição dos Dados, utilizar Testes Não Paramétricos.\n",
    "\n",
    "<img src='https://caelum-online-public.s3.amazonaws.com/1229-estatistica-parte3/01/img003.png' width=70%>\n",
    "\n",
    "### **Passo 3** - fixação da significância do teste ($\\alpha$), que define as regiões de aceitação e rejeição das hipóteses (os valores mais freqüentes são 10%, 5% e 1%);\n",
    "\n",
    "> ### <font color='red'>Pontos importantes</font>\n",
    "> - O **nível de confiança** ($1 - \\alpha$) representa a probabilidade de acerto da estimativa. De forma complementar o **nível de significância** ($\\alpha$) expressa a probabilidade de erro da estimativa.\n",
    ">\n",
    "> ![Níveis de Confiança e significância](https://caelum-online-public.s3.amazonaws.com/1229-estatistica-parte3/01/img001.png)\n",
    ">\n",
    "> - O **nível de confiança** representa o grau de confiabilidade do resultado da estimativa estar dentro de determinado intervalo. Quando fixamos em uma pesquisa um **nível de confiança** de 95%, por exemplo, estamos assumindo que existe uma probabilidade de 95% dos resultados da pesquisa representarem bem a realidade, ou seja, estarem corretos.\n",
    "> - **Testes Bicaudais: Quando há 2 Limites de Comparação.**\n",
    "> - **Testes Unicaudais: Quando há apenas 1 Limite de Comparação.**\n",
    "> ![Áreas de Aceitação e Rejeição](https://caelum-online-public.s3.amazonaws.com/1229-estatistica-parte3/01/img002.png)\n",
    "\n",
    "### **Passo 4** - cálculo da estatística-teste e verificação desse valor com as áreas de aceitação e rejeição do teste;\n",
    "\n",
    "# $$z = \\frac{\\bar{x} - \\mu_0}{\\frac{s}{\\sqrt{n}}}$$\n",
    "\n",
    "ou\n",
    "\n",
    "# $$t = \\frac{\\bar{x} - \\mu_0}{\\frac{s}{\\sqrt{n}}}$$\n",
    "\n",
    "> ### <font color='red'>Pontos importantes</font>\n",
    "\n",
    "> - Nos testes paramétricos, distância relativa entre a estatística amostral e o valor alegado como provável.\n",
    "> - Neste passo são obtidas as estatísticas amostrais necessárias à execução do teste (média, desvio-padrão, graus de liberdade etc.)\n",
    "\n",
    "\n",
    "\n",
    "### **Passo 5** - Aceitação ou rejeição da hipótese nula.\n",
    "\n",
    "> ### <font color='red'>Pontos importantes</font>\n",
    "> - No caso de o intervalo de aceitação conter a estatística-teste, aceita-se $H_0$ como estatisticamente válido e rejeita-se $H_1$ como tal.\n",
    "> - No caso de o intervalo de aceitação não conter a estatística-teste, rejeita-se $H_0$ e aceita-se $H_1$ como provavelmente verdadeira. \n",
    "> - A aceitação também se verifica com a probabilidade de cauda (p-valor): se maior que $\\alpha$, aceita-se $H_0$.\n",
    "\n",
    "<img src='https://caelum-online-public.s3.amazonaws.com/1229-estatistica-parte3/01/img013.png' width=90%>\n",
    "\n",
    "### <font color='red'>Critério do valor crítico</font>\n",
    "\n",
    "> ### Teste Bicaudal\n",
    "> ### Rejeitar $H_0$ se $z \\leq -z_{\\alpha / 2}$ ou se $z \\geq z_{\\alpha / 2}$\n",
    "\n",
    "### <font color='red'>Critério do $p-valor$</font>\n",
    "\n",
    "> ### Teste Bicaudal\n",
    "> ### Rejeitar $H_0$ se o valor $p\\leq\\alpha$\n",
    "\n",
    "\n",
    "\n",
    "<img src='./img36.png' width='100%'>"
   ]
  },
  {
   "cell_type": "markdown",
   "metadata": {},
   "source": [
    "## 7.5) Tipos de Erro "
   ]
  },
  {
   "cell_type": "markdown",
   "metadata": {},
   "source": [
    "# <font color='red' style='font-size: 40px;'>8.0 Testes de Hipóteses Paramétricos com uma Amostra: Teste Z </font>"
   ]
  },
  {
   "cell_type": "markdown",
   "metadata": {},
   "source": [
    "## 8.1) Quando utilizar?\n",
    "\n",
    " > 1. É utilizado quando a distribuição é normal e o desvio padrão seja conhecido. É denominado de estatística do teste padronizado Z."
   ]
  },
  {
   "cell_type": "markdown",
   "metadata": {},
   "source": [
    "## 8.2) Teste Unicaudal"
   ]
  },
  {
   "cell_type": "markdown",
   "metadata": {},
   "source": [
    "* Exemplo 1)\n",
    "\n",
    "> 1. Uma drogaria informa que a média do tempo de entrega de um medicamento é menor que 38 minutos. Foi realizada uma amostragem de 36 entregas de medicamentos para verificar o tempo de entrega e foi obtido uma média de 36.5 minutos com desvio padrão de 3.5 minutos. Considerando nível de significância 0.01, há evidência suficiente para apoiar a afirmação da drogaria?"
   ]
  },
  {
   "cell_type": "code",
   "execution_count": 11,
   "metadata": {},
   "outputs": [
    {
     "data": {
      "text/plain": [
       "-2.571428571428571"
      ]
     },
     "execution_count": 11,
     "metadata": {},
     "output_type": "execute_result"
    }
   ],
   "source": [
    "# H0: media >= 38 minutos  -> Vai contra ao que foi informado pela drogaria\n",
    "# H1: media < 38 minutos  -> Vai a favor do que foi afirmado pela drogaria\n",
    "\n",
    "media_amostral = 36.5\n",
    "media_referencia = 38\n",
    "desvio_padrao = 3.5\n",
    "n = 36\n",
    "\n",
    "z = (media_amostral - media_referencia) / (desvio_padrao/np.sqrt(n))\n",
    "z"
   ]
  },
  {
   "cell_type": "markdown",
   "metadata": {},
   "source": [
    "<img src='./img38.png' width='50%'>"
   ]
  },
  {
   "cell_type": "code",
   "execution_count": 12,
   "metadata": {},
   "outputs": [
    {
     "name": "stdout",
     "output_type": "stream",
     "text": [
      "0.9949355868687307\n",
      "pvalue: 0.005064413131269263, logo, Rejeita-se a H0\n"
     ]
    }
   ],
   "source": [
    "print(norm.cdf(2.5714))\n",
    "pvalue = 1 - norm.cdf(2.5714)\n",
    "print(f'pvalue: {pvalue}, logo, Rejeita-se a H0')"
   ]
  },
  {
   "cell_type": "markdown",
   "metadata": {},
   "source": [
    "* Exemplo 2) Um estudo afirma que em média, crianças de 6 anos pesam 22kg."
   ]
  },
  {
   "cell_type": "code",
   "execution_count": 13,
   "metadata": {},
   "outputs": [
    {
     "name": "stdout",
     "output_type": "stream",
     "text": [
      "Estatística de Teste: 2.5\n",
      "Probabilidade Estatística de Teste: 0.9937903346742238\n",
      "pvalue = 0.006209665325776159\n"
     ]
    },
    {
     "data": {
      "text/plain": [
       "True"
      ]
     },
     "execution_count": 13,
     "metadata": {},
     "output_type": "execute_result"
    }
   ],
   "source": [
    "#### 1) Hipóteses:\n",
    "    \n",
    "    # H0 -> média = 22\n",
    "    # H1 -> média > 22\n",
    "\n",
    "#### 2) Dados Coletados\n",
    "\n",
    "media = 22 # Média baseada na Hipótese Nula H0, a qual desejamos testar\n",
    "n = 100 # Quantidade de Elementos na Amostra coletada pelo Cientista\n",
    "media_amostral = 23 # Média Amostral coletada pelo Cientista\n",
    "desvio_padrao_amostral = 4 # Desvio Padrão Amostral, coletado pelo Cientista\n",
    "significancia = 0.05 # Nível de Significância definido pelo Cientista\n",
    "confianca = 1 - significancia # Nível de Confiança definido pelo Cientista  \n",
    "\n",
    "#### 3) Estatística de Teste\n",
    "z = (media_amostral - media) / (desvio_padrao_amostral/np.sqrt(n))\n",
    "print(f'Estatística de Teste: {z}')\n",
    "\n",
    "#### 4) Comparação com o Pvalue\n",
    "print(f'Probabilidade Estatística de Teste: {norm.cdf(z)}')\n",
    "p_valor = (1 - norm.cdf(z))\n",
    "print(f'pvalue = {p_valor}')\n",
    "\n",
    "p_valor <= significancia"
   ]
  },
  {
   "cell_type": "markdown",
   "id": "f38d852a",
   "metadata": {},
   "source": [
    "#### Conclusão: Hipótese Nula H0 rejeitada. De fato crianças de 6 anos pesam em média mais de 22kg"
   ]
  },
  {
   "cell_type": "markdown",
   "metadata": {},
   "source": [
    "* Exemplo 3) Assumindo um nível de significância de 0.05, analise a Normalidade da Distribuição das Notas de Redação. Posteriormente, compare a média das notas do colégio X com a média do Estado de São Paulo."
   ]
  },
  {
   "cell_type": "code",
   "execution_count": 14,
   "metadata": {},
   "outputs": [
    {
     "data": {
      "text/html": [
       "<div>\n",
       "<style scoped>\n",
       "    .dataframe tbody tr th:only-of-type {\n",
       "        vertical-align: middle;\n",
       "    }\n",
       "\n",
       "    .dataframe tbody tr th {\n",
       "        vertical-align: top;\n",
       "    }\n",
       "\n",
       "    .dataframe thead th {\n",
       "        text-align: right;\n",
       "    }\n",
       "</style>\n",
       "<table border=\"1\" class=\"dataframe\">\n",
       "  <thead>\n",
       "    <tr style=\"text-align: right;\">\n",
       "      <th></th>\n",
       "      <th>NU_INSCRICAO</th>\n",
       "      <th>NO_MUNICIPIO_RESIDENCIA</th>\n",
       "      <th>IDADE</th>\n",
       "      <th>SEXO</th>\n",
       "      <th>TP_ESTADO_CIVIL</th>\n",
       "      <th>RACA</th>\n",
       "      <th>TP_NACIONALIDADE</th>\n",
       "      <th>TP_ST_CONCLUSAO</th>\n",
       "      <th>ESCOLA</th>\n",
       "      <th>CO_ESCOLA</th>\n",
       "      <th>...</th>\n",
       "      <th>NOTA_MT</th>\n",
       "      <th>TP_LINGUA</th>\n",
       "      <th>TP_STATUS_REDACAO</th>\n",
       "      <th>COMP1</th>\n",
       "      <th>COMP2</th>\n",
       "      <th>COMP3</th>\n",
       "      <th>COMP4</th>\n",
       "      <th>COMP5</th>\n",
       "      <th>NOTA_REDACAO</th>\n",
       "      <th>INTERNET</th>\n",
       "    </tr>\n",
       "  </thead>\n",
       "  <tbody>\n",
       "    <tr>\n",
       "      <th>37</th>\n",
       "      <td>1,90E+11</td>\n",
       "      <td>Águas de Lindóia</td>\n",
       "      <td>18</td>\n",
       "      <td>M</td>\n",
       "      <td>1</td>\n",
       "      <td>branca</td>\n",
       "      <td>1</td>\n",
       "      <td>2</td>\n",
       "      <td>pública</td>\n",
       "      <td>35017632.0</td>\n",
       "      <td>...</td>\n",
       "      <td>537.1</td>\n",
       "      <td>Inglês</td>\n",
       "      <td>1.0</td>\n",
       "      <td>120.0</td>\n",
       "      <td>40.0</td>\n",
       "      <td>40.0</td>\n",
       "      <td>120.0</td>\n",
       "      <td>20.0</td>\n",
       "      <td>340.0</td>\n",
       "      <td>Sim</td>\n",
       "    </tr>\n",
       "    <tr>\n",
       "      <th>44</th>\n",
       "      <td>1,90E+11</td>\n",
       "      <td>Águas de Lindóia</td>\n",
       "      <td>17</td>\n",
       "      <td>F</td>\n",
       "      <td>1</td>\n",
       "      <td>parda</td>\n",
       "      <td>1</td>\n",
       "      <td>2</td>\n",
       "      <td>pública</td>\n",
       "      <td>35017632.0</td>\n",
       "      <td>...</td>\n",
       "      <td>451.9</td>\n",
       "      <td>Inglês</td>\n",
       "      <td>1.0</td>\n",
       "      <td>140.0</td>\n",
       "      <td>120.0</td>\n",
       "      <td>140.0</td>\n",
       "      <td>160.0</td>\n",
       "      <td>160.0</td>\n",
       "      <td>720.0</td>\n",
       "      <td>Não</td>\n",
       "    </tr>\n",
       "    <tr>\n",
       "      <th>52</th>\n",
       "      <td>1,90E+11</td>\n",
       "      <td>Águas de Lindóia</td>\n",
       "      <td>17</td>\n",
       "      <td>F</td>\n",
       "      <td>1</td>\n",
       "      <td>branca</td>\n",
       "      <td>1</td>\n",
       "      <td>2</td>\n",
       "      <td>pública</td>\n",
       "      <td>35017632.0</td>\n",
       "      <td>...</td>\n",
       "      <td>506.4</td>\n",
       "      <td>Espanhol</td>\n",
       "      <td>1.0</td>\n",
       "      <td>120.0</td>\n",
       "      <td>120.0</td>\n",
       "      <td>120.0</td>\n",
       "      <td>120.0</td>\n",
       "      <td>80.0</td>\n",
       "      <td>560.0</td>\n",
       "      <td>Não</td>\n",
       "    </tr>\n",
       "    <tr>\n",
       "      <th>65</th>\n",
       "      <td>1,90E+11</td>\n",
       "      <td>Águas de Lindóia</td>\n",
       "      <td>17</td>\n",
       "      <td>M</td>\n",
       "      <td>1</td>\n",
       "      <td>parda</td>\n",
       "      <td>1</td>\n",
       "      <td>2</td>\n",
       "      <td>pública</td>\n",
       "      <td>35017632.0</td>\n",
       "      <td>...</td>\n",
       "      <td>59.5</td>\n",
       "      <td>Inglês</td>\n",
       "      <td>1.0</td>\n",
       "      <td>120.0</td>\n",
       "      <td>120.0</td>\n",
       "      <td>120.0</td>\n",
       "      <td>120.0</td>\n",
       "      <td>40.0</td>\n",
       "      <td>520.0</td>\n",
       "      <td>Sim</td>\n",
       "    </tr>\n",
       "    <tr>\n",
       "      <th>79</th>\n",
       "      <td>1,90E+11</td>\n",
       "      <td>Águas de Lindóia</td>\n",
       "      <td>18</td>\n",
       "      <td>F</td>\n",
       "      <td>1</td>\n",
       "      <td>branca</td>\n",
       "      <td>1</td>\n",
       "      <td>2</td>\n",
       "      <td>pública</td>\n",
       "      <td>35017632.0</td>\n",
       "      <td>...</td>\n",
       "      <td>510.6</td>\n",
       "      <td>Espanhol</td>\n",
       "      <td>1.0</td>\n",
       "      <td>120.0</td>\n",
       "      <td>120.0</td>\n",
       "      <td>120.0</td>\n",
       "      <td>140.0</td>\n",
       "      <td>140.0</td>\n",
       "      <td>640.0</td>\n",
       "      <td>Sim</td>\n",
       "    </tr>\n",
       "  </tbody>\n",
       "</table>\n",
       "<p>5 rows × 28 columns</p>\n",
       "</div>"
      ],
      "text/plain": [
       "   NU_INSCRICAO NO_MUNICIPIO_RESIDENCIA  IDADE SEXO  TP_ESTADO_CIVIL    RACA  \\\n",
       "37     1,90E+11        Águas de Lindóia     18    M                1  branca   \n",
       "44     1,90E+11        Águas de Lindóia     17    F                1   parda   \n",
       "52     1,90E+11        Águas de Lindóia     17    F                1  branca   \n",
       "65     1,90E+11        Águas de Lindóia     17    M                1   parda   \n",
       "79     1,90E+11        Águas de Lindóia     18    F                1  branca   \n",
       "\n",
       "    TP_NACIONALIDADE  TP_ST_CONCLUSAO   ESCOLA   CO_ESCOLA  ... NOTA_MT  \\\n",
       "37                 1                2  pública  35017632.0  ...   537.1   \n",
       "44                 1                2  pública  35017632.0  ...   451.9   \n",
       "52                 1                2  pública  35017632.0  ...   506.4   \n",
       "65                 1                2  pública  35017632.0  ...    59.5   \n",
       "79                 1                2  pública  35017632.0  ...   510.6   \n",
       "\n",
       "    TP_LINGUA  TP_STATUS_REDACAO  COMP1  COMP2  COMP3  COMP4  COMP5  \\\n",
       "37     Inglês                1.0  120.0   40.0   40.0  120.0   20.0   \n",
       "44     Inglês                1.0  140.0  120.0  140.0  160.0  160.0   \n",
       "52   Espanhol                1.0  120.0  120.0  120.0  120.0   80.0   \n",
       "65     Inglês                1.0  120.0  120.0  120.0  120.0   40.0   \n",
       "79   Espanhol                1.0  120.0  120.0  120.0  140.0  140.0   \n",
       "\n",
       "    NOTA_REDACAO INTERNET  \n",
       "37         340.0      Sim  \n",
       "44         720.0      Não  \n",
       "52         560.0      Não  \n",
       "65         520.0      Sim  \n",
       "79         640.0      Sim  \n",
       "\n",
       "[5 rows x 28 columns]"
      ]
     },
     "execution_count": 14,
     "metadata": {},
     "output_type": "execute_result"
    }
   ],
   "source": [
    "colegiox = enem_sp.loc[enem_sp.CO_ESCOLA == 35017632.0]\n",
    "colegiox.shape\n",
    "colegiox.head()"
   ]
  },
  {
   "cell_type": "code",
   "execution_count": 15,
   "metadata": {},
   "outputs": [
    {
     "name": "stdout",
     "output_type": "stream",
     "text": [
      "NU_INSCRICAO                object\n",
      "NO_MUNICIPIO_RESIDENCIA     object\n",
      "IDADE                        int64\n",
      "SEXO                        object\n",
      "TP_ESTADO_CIVIL              int64\n",
      "RACA                        object\n",
      "TP_NACIONALIDADE             int64\n",
      "TP_ST_CONCLUSAO              int64\n",
      "ESCOLA                      object\n",
      "CO_ESCOLA                  float64\n",
      "NO_MUNICIPIO_ESC            object\n",
      "TP_PRESENCA_CN               int64\n",
      "TP_PRESENCA_CH               int64\n",
      "TP_PRESENCA_LC               int64\n",
      "TP_PRESENCA_MT               int64\n",
      "NOTA_CN                    float64\n",
      "NOTA_CH                    float64\n",
      "NOTA_LC                    float64\n",
      "NOTA_MT                    float64\n",
      "TP_LINGUA                   object\n",
      "TP_STATUS_REDACAO          float64\n",
      "COMP1                      float64\n",
      "COMP2                      float64\n",
      "COMP3                      float64\n",
      "COMP4                      float64\n",
      "COMP5                      float64\n",
      "NOTA_REDACAO               float64\n",
      "INTERNET                    object\n",
      "dtype: object\n",
      "NU_INSCRICAO               0\n",
      "NO_MUNICIPIO_RESIDENCIA    0\n",
      "IDADE                      0\n",
      "SEXO                       0\n",
      "TP_ESTADO_CIVIL            0\n",
      "RACA                       0\n",
      "TP_NACIONALIDADE           0\n",
      "TP_ST_CONCLUSAO            0\n",
      "ESCOLA                     0\n",
      "CO_ESCOLA                  0\n",
      "NO_MUNICIPIO_ESC           0\n",
      "TP_PRESENCA_CN             0\n",
      "TP_PRESENCA_CH             0\n",
      "TP_PRESENCA_LC             0\n",
      "TP_PRESENCA_MT             0\n",
      "NOTA_CN                    0\n",
      "NOTA_CH                    0\n",
      "NOTA_LC                    0\n",
      "NOTA_MT                    0\n",
      "TP_LINGUA                  0\n",
      "TP_STATUS_REDACAO          0\n",
      "COMP1                      0\n",
      "COMP2                      0\n",
      "COMP3                      0\n",
      "COMP4                      0\n",
      "COMP5                      0\n",
      "NOTA_REDACAO               0\n",
      "INTERNET                   0\n",
      "dtype: int64\n"
     ]
    },
    {
     "data": {
      "image/png": "[encoded data removed]",
      "text/plain": [
       "<Figure size 504x504 with 1 Axes>"
      ]
     },
     "metadata": {
      "needs_background": "light"
     },
     "output_type": "display_data"
    },
    {
     "data": {
      "image/png": "[encoded data removed]",
      "text/plain": [
       "<Figure size 504x504 with 1 Axes>"
      ]
     },
     "metadata": {
      "needs_background": "light"
     },
     "output_type": "display_data"
    },
    {
     "data": {
      "image/png": "[encoded data removed]",
      "text/plain": [
       "<Figure size 504x504 with 1 Axes>"
      ]
     },
     "metadata": {
      "needs_background": "light"
     },
     "output_type": "display_data"
    },
    {
     "name": "stdout",
     "output_type": "stream",
     "text": [
      "Teste Shapiro-Wilk: ShapiroResult(statistic=0.9529760479927063, pvalue=0.08905317634344101)\n",
      "Kolmogorov_Sminorv: (0.15115505856545197, 0.020310301942343047)\n",
      "Anderson: AndersonResult(statistic=0.6984616237351489, critical_values=array([0.532, 0.606, 0.727, 0.848, 1.009]), significance_level=array([15. , 10. ,  5. ,  2.5,  1. ]))\n"
     ]
    }
   ],
   "source": [
    "# 1) Analisar o tipo das variáveis que estamos trabalhando\n",
    "print(colegiox.dtypes)\n",
    "\n",
    "# 2) Analisar os valores missing\n",
    "\n",
    "print(colegiox.isnull().sum())\n",
    "\n",
    "# 3) Analisar os Outliers\n",
    "plt.figure(figsize = (7, 7))\n",
    "sns.boxplot(data = colegiox, y = 'NOTA_REDACAO')\n",
    "\n",
    "# 4) Análise da Normalidade\n",
    "import scipy.stats as stats\n",
    "plt.figure(figsize = (7, 7))\n",
    "plt.subplot(2, 1, 1)\n",
    "sns.histplot(data = colegiox, x = 'NOTA_REDACAO', bins = 10, color = 'orange', kde = True, stat='probability')\n",
    "plt.show()\n",
    "plt.figure(figsize = (7, 7))\n",
    "plt.subplot(2, 1, 2)\n",
    "stats.probplot(colegiox['NOTA_REDACAO'], dist = 'norm', plot = plt)\n",
    "plt.title('Normal Q-Q Plot')\n",
    "plt.show()\n",
    "\n",
    "shapiro = stats.shapiro(colegiox.NOTA_REDACAO)\n",
    "print(f'Teste Shapiro-Wilk: {shapiro}')\n",
    "\n",
    "import statsmodels\n",
    "from statsmodels.stats.diagnostic import lilliefors\n",
    "kolmogorov = statsmodels.stats.diagnostic.lilliefors(colegiox.NOTA_REDACAO, dist = 'norm')\n",
    "print(f'Kolmogorov_Sminorv: {kolmogorov}')\n",
    "\n",
    "anderson = stats.anderson(colegiox.NOTA_REDACAO, 'norm')\n",
    "print(f'Anderson: {anderson}')"
   ]
  },
  {
   "cell_type": "markdown",
   "metadata": {},
   "source": [
    "* Caso pvalue > 0.05 no Shapiro ou Anderson, a Distribuição é Normal\n",
    "\n",
    "* Pelo maioria dos testes, a Distribuição é Normal"
   ]
  },
  {
   "cell_type": "markdown",
   "metadata": {},
   "source": [
    "* Teste Z\n",
    "\n",
    "> 1. H0: média é igual a de São Paulo \n",
    "\n",
    "> 2. H1: média é diferente da de São Paulo"
   ]
  },
  {
   "cell_type": "code",
   "execution_count": 16,
   "metadata": {},
   "outputs": [
    {
     "name": "stdout",
     "output_type": "stream",
     "text": [
      "Estatística de teste: -3.98\n",
      "pvalue: 6.764690422432806e-05\n",
      "As médias são diferentes\n"
     ]
    }
   ],
   "source": [
    "from statsmodels.stats.weightstats import ztest\n",
    "media_sp = enem_sp.NOTA_REDACAO.mean()\n",
    "\n",
    "stat, p = ztest(colegiox['NOTA_REDACAO'], value = media_sp)\n",
    "print(f'Estatística de teste: {stat.round(2)}')\n",
    "print(f'pvalue: {p}')\n",
    "\n",
    "if p <= 0.05:\n",
    "    print('As médias são diferentes')\n",
    "else:\n",
    "    print('As médias são iguais')"
   ]
  },
  {
   "cell_type": "markdown",
   "metadata": {},
   "source": [
    "## 8.3) Teste Bicaudal\n",
    "\n",
    "> A empresa **Suco Bom** produz **sucos de frutas em embalagens de 500 ml**. Seu processo de produção é quase todo automatizado e as embalagens de sucos são preenchidas por uma máquina que às vezes apresenta um certo desajuste, levando a erros no preenchimento das embalagens para mais ou menos conteúdo. Quando o volume médio cai abaixo de 500 ml, a empresa se preocupa em perder vendas e ter problemas com os orgãos fiscalizadores. Quando o volume passa de 500 ml, a empresa começa a se preocupar com prejuízos no processo de produção.\n",
    "\n",
    "> O setor de controle de qualidade da empresa **Suco Bom** extrai, periodicamente, **amostras de 50 embalagens** para monitorar o processo de produção. Para cada amostra, é realizado um **teste de hipóteses** para avaliar se o maquinário se desajustou. A equipe de controle de qualidade assume um **nível de significância de 5%**.\n",
    "\n",
    "> Suponha agora que uma **amostra de 50 embalagens** foi selecionada e que a **média amostral observada foi de 503,24 ml**. **Esse valor de média amostral é suficientemente maior que 500 ml para nos fazer rejeitar a hipótese de que a média do processo é de 500 ml ao nível de significância de 5%?**"
   ]
  },
  {
   "cell_type": "code",
   "execution_count": 17,
   "metadata": {},
   "outputs": [
    {
     "name": "stdout",
     "output_type": "stream",
     "text": [
      "503.24\n",
      "4.483803050527347\n"
     ]
    }
   ],
   "source": [
    "amostra = [509, 505, 495, 510, 496, 509, 497, 502, 503, 505,\n",
    "           501, 505, 510, 505, 504, 497, 506, 506, 508, 505,\n",
    "           497, 504, 500, 498, 506, 496, 508, 497, 503, 501, \n",
    "           503, 506, 499, 498, 509, 507, 503, 499, 509, 495,\n",
    "           502, 505, 504, 509, 508, 501, 505, 497, 508, 507]\n",
    "amostra = pd.DataFrame(amostra, columns = ['Amostra'])\n",
    "\n",
    "media_amostra = amostra.mean()[0] \n",
    "desvio_padrao_amostra = amostra.std()[0]\n",
    "\n",
    "print(media_amostra)\n",
    "print(desvio_padrao_amostra)\n",
    "\n",
    "media = 500\n",
    "significancia = 0.05\n",
    "confianca = 1 - significancia\n",
    "n = 50"
   ]
  },
  {
   "cell_type": "markdown",
   "metadata": {},
   "source": [
    "### **Passo 1** - formulação das hipóteses $H_0$ e $H_1$\n",
    "\n",
    "#### <font color='red'>Lembre-se, a hipótese nula sempre contém a alegação de igualdade</font>\n",
    "\n",
    "### $H_0: \\mu = 500$\n",
    "\n",
    "### $H_1: \\mu \\neq 500$\n",
    "\n",
    "### **Passo 2** - escolha da distribuição amostral adequada\n",
    "<img src='https://caelum-online-public.s3.amazonaws.com/1229-estatistica-parte3/01/img003.png' width=70%>\n",
    "\n",
    "### O tamanho da amostra é maior que 30?\n",
    "#### Resp.: Sim\n",
    "\n",
    "### O desvio padrão populacional é conhecido?\n",
    "#### Resp.: Não"
   ]
  },
  {
   "cell_type": "markdown",
   "metadata": {},
   "source": [
    "### **Passo 3** - fixação da significância do teste ($\\alpha$)"
   ]
  },
  {
   "cell_type": "code",
   "execution_count": 18,
   "metadata": {},
   "outputs": [
    {
     "name": "stdout",
     "output_type": "stream",
     "text": [
      "0.975\n",
      "1.959963984540054\n"
     ]
    }
   ],
   "source": [
    "from scipy.stats import norm\n",
    "probabilidade = (0.5+ (confianca/2))\n",
    "print(probabilidade)\n",
    "\n",
    "z_alpha_2 = norm.ppf(probabilidade)\n",
    "print(z_alpha_2)"
   ]
  },
  {
   "cell_type": "markdown",
   "metadata": {},
   "source": [
    "### **Passo 4** - cálculo da estatística-teste e verificação desse valor com as áreas de aceitação e rejeição do teste\n",
    "\n",
    "# $$z = \\frac{\\bar{x} - \\mu_0}{\\frac{s}{\\sqrt{n}}}$$"
   ]
  },
  {
   "cell_type": "code",
   "execution_count": 19,
   "metadata": {},
   "outputs": [
    {
     "data": {
      "text/plain": [
       "5.109559775991877"
      ]
     },
     "execution_count": 19,
     "metadata": {},
     "output_type": "execute_result"
    }
   ],
   "source": [
    "z = (media_amostra - media) / (desvio_padrao_amostra / np.sqrt(n))\n",
    "z"
   ]
  },
  {
   "cell_type": "markdown",
   "metadata": {},
   "source": [
    "![Estatística-Teste](https://caelum-online-public.s3.amazonaws.com/1229-estatistica-parte3/01/img007.png)\n",
    "\n",
    "### **Passo 5** - Aceitação ou rejeição da hipótese nula\n",
    "\n",
    "<img src='https://caelum-online-public.s3.amazonaws.com/1229-estatistica-parte3/01/img013.png' width=90%>\n",
    "\n",
    "### <font color='red'>Critério do valor crítico</font>\n",
    "\n",
    "> ### Teste Bicaudal\n",
    "> ### Rejeitar $H_0$ se $z \\leq -z_{\\alpha / 2}$ ou se $z \\geq z_{\\alpha / 2}$\n",
    "\n",
    "### <font color='red'>Critério do $p-valor$</font>\n",
    "\n",
    "> ### Teste Bicaudal\n",
    "> ### Rejeitar $H_0$ se o valor $p\\leq\\alpha$"
   ]
  },
  {
   "cell_type": "code",
   "execution_count": 20,
   "metadata": {},
   "outputs": [
    {
     "data": {
      "text/plain": [
       "True"
      ]
     },
     "execution_count": 20,
     "metadata": {},
     "output_type": "execute_result"
    }
   ],
   "source": [
    "z >= z_alpha_2"
   ]
  },
  {
   "cell_type": "code",
   "execution_count": 21,
   "metadata": {},
   "outputs": [
    {
     "name": "stdout",
     "output_type": "stream",
     "text": [
      "3.2291031715203644e-07\n"
     ]
    },
    {
     "data": {
      "text/plain": [
       "True"
      ]
     },
     "execution_count": 21,
     "metadata": {},
     "output_type": "execute_result"
    }
   ],
   "source": [
    "p_valor = 2 * (1 - norm.cdf(z)) # multiplica por 2 pois é bicaudal\n",
    "print(p_valor)\n",
    "p_valor <= significancia"
   ]
  },
  {
   "cell_type": "markdown",
   "metadata": {},
   "source": [
    "* Conclusão: Como a média amostral $\\bar{x}$ é significativamente maior que 500 ml, rejeitamos $H_0$. Neste caso, devem ser tomadas providências para ajustar o maquinário que preenche as embalagens.</font>"
   ]
  },
  {
   "cell_type": "markdown",
   "metadata": {},
   "source": [
    "# <font color='red' style='font-size: 40px;'>9.0 Testes de Hipóteses Paramétricos com uma Amostra: Teste t </font>"
   ]
  },
  {
   "cell_type": "markdown",
   "metadata": {},
   "source": [
    "## 9.1) Quando usar?\n",
    "\n",
    "> 1. É utilizado quando a distribuição for normal, n < 30 (amostras pequenas) e desvuo padrão populacional $\\sigma$ for desconhecido. É denominado como estatística do teste padronizado t."
   ]
  },
  {
   "cell_type": "markdown",
   "metadata": {},
   "source": [
    "## 9.2) Teste T Unicaudal\n",
    "\n",
    "> Um famoso fabricante de refrigerantes alega que uma lata de 350 ml de seu principal produto contém, **no máximo**, **37 gramas de açúcar**. Esta alegação nos leva a entender que a quantidade média de açúcar em uma lata de refrigerante deve ser **igual ou menor que 37 g**.\n",
    "\n",
    "> Um consumidor desconfiado e com conhecimentos em inferência estatística resolve testar a alegação do fabricante e seleciona, aleatóriamente, em um conjunto de estabelecimentos distintos, **uma amostra de 25 latas** do refrigerante em questão. Utilizando o equipamento correto o consumidor obteve as quantidades de açúcar em todas as 25 latas de sua amostra. \n",
    "\n",
    "> **Assumindo que essa população se distribua aproximadamente como uma normal e considerando um nível de significância de 5%, é possível aceitar como válida a alegação do fabricante?**"
   ]
  },
  {
   "cell_type": "code",
   "execution_count": 22,
   "metadata": {},
   "outputs": [
    {
     "name": "stdout",
     "output_type": "stream",
     "text": [
      "36.250400000000006\n",
      "0.9667535018469453\n"
     ]
    }
   ],
   "source": [
    "amostra = [37.27, 36.42, 34.84, 34.60, 37.49,\n",
    "           36.53, 35.49, 36.90, 34.52, 37.30,\n",
    "           34.99, 36.55, 36.29, 36.06, 37.42, \n",
    "           34.47, 36.70, 35.86, 36.80, 36.92,\n",
    "           37.04, 36.39, 37.32, 36.64, 35.45]\n",
    "amostra = pd.DataFrame(data = amostra, columns = ['Amostra'])\n",
    "\n",
    "media_amostra = amostra.mean()[0]\n",
    "desvio_padrao_amostra = amostra.std()[0]\n",
    "print(media_amostra)\n",
    "print(desvio_padrao_amostra)\n",
    "\n",
    "media = 37\n",
    "significancia = 0.05\n",
    "confianca = 1 - significancia\n",
    "n = 25\n",
    "graus_de_liberdade = n - 1"
   ]
  },
  {
   "cell_type": "markdown",
   "metadata": {},
   "source": [
    "### **Passo 1** - formulação das hipóteses $H_0$ e $H_1$\n",
    "\n",
    "### $H_0: \\mu \\leq 37$\n",
    "\n",
    "### $H_1: \\mu > 37$\n",
    "\n",
    "### **Passo 2** - escolha da distribuição amostral adequada\n",
    "<img src='https://caelum-online-public.s3.amazonaws.com/1229-estatistica-parte3/01/img003.png' width=70%>\n",
    "\n",
    "### O tamanho da amostra é maior que 30?\n",
    "#### Resp.: Não\n",
    "\n",
    "### Podemos afirmar que a população se distribui aproximadamente como uma normal?\n",
    "#### Resp.: Sim\n",
    "\n",
    "### O desvio padrão populacional é conhecido?\n",
    "#### Resp.: Não"
   ]
  },
  {
   "cell_type": "markdown",
   "metadata": {},
   "source": [
    "### **Passo 3** - fixação da significância do teste ($\\alpha$)"
   ]
  },
  {
   "cell_type": "code",
   "execution_count": 23,
   "metadata": {},
   "outputs": [
    {
     "data": {
      "text/html": [
       "<div>\n",
       "<style scoped>\n",
       "    .dataframe tbody tr th:only-of-type {\n",
       "        vertical-align: middle;\n",
       "    }\n",
       "\n",
       "    .dataframe tbody tr th {\n",
       "        vertical-align: top;\n",
       "    }\n",
       "\n",
       "    .dataframe thead tr th {\n",
       "        text-align: left;\n",
       "    }\n",
       "</style>\n",
       "<table border=\"1\" class=\"dataframe\">\n",
       "  <thead>\n",
       "    <tr>\n",
       "      <th></th>\n",
       "      <th>Bicaudal</th>\n",
       "      <th>0.100</th>\n",
       "      <th>0.090</th>\n",
       "      <th>0.080</th>\n",
       "      <th>0.070</th>\n",
       "      <th>0.060</th>\n",
       "      <th>0.050</th>\n",
       "      <th>0.040</th>\n",
       "      <th>0.030</th>\n",
       "      <th>0.020</th>\n",
       "      <th>0.010</th>\n",
       "    </tr>\n",
       "    <tr>\n",
       "      <th></th>\n",
       "      <th>Unicaudal</th>\n",
       "      <th>0.050</th>\n",
       "      <th>0.045</th>\n",
       "      <th>0.040</th>\n",
       "      <th>0.035</th>\n",
       "      <th>0.030</th>\n",
       "      <th>0.025</th>\n",
       "      <th>0.020</th>\n",
       "      <th>0.015</th>\n",
       "      <th>0.010</th>\n",
       "      <th>0.005</th>\n",
       "    </tr>\n",
       "  </thead>\n",
       "  <tbody>\n",
       "    <tr>\n",
       "      <th rowspan=\"3\" valign=\"top\">Graus de Liberdade (n - 1)</th>\n",
       "      <th>23</th>\n",
       "      <td>1.713872</td>\n",
       "      <td>1.769907</td>\n",
       "      <td>1.831567</td>\n",
       "      <td>1.900307</td>\n",
       "      <td>1.978249</td>\n",
       "      <td>2.068658</td>\n",
       "      <td>2.176958</td>\n",
       "      <td>2.313231</td>\n",
       "      <td>2.499867</td>\n",
       "      <td>2.807336</td>\n",
       "    </tr>\n",
       "    <tr>\n",
       "      <th>24</th>\n",
       "      <td>1.710882</td>\n",
       "      <td>1.766675</td>\n",
       "      <td>1.828051</td>\n",
       "      <td>1.896457</td>\n",
       "      <td>1.973994</td>\n",
       "      <td>2.063899</td>\n",
       "      <td>2.171545</td>\n",
       "      <td>2.306913</td>\n",
       "      <td>2.492159</td>\n",
       "      <td>2.79694</td>\n",
       "    </tr>\n",
       "    <tr>\n",
       "      <th>25</th>\n",
       "      <td>1.708141</td>\n",
       "      <td>1.763711</td>\n",
       "      <td>1.824828</td>\n",
       "      <td>1.892928</td>\n",
       "      <td>1.970095</td>\n",
       "      <td>2.059539</td>\n",
       "      <td>2.166587</td>\n",
       "      <td>2.30113</td>\n",
       "      <td>2.485107</td>\n",
       "      <td>2.787436</td>\n",
       "    </tr>\n",
       "  </tbody>\n",
       "</table>\n",
       "</div>"
      ],
      "text/plain": [
       "Bicaudal                          0.100     0.090     0.080     0.070  \\\n",
       "Unicaudal                         0.050     0.045     0.040     0.035   \n",
       "Graus de Liberdade (n - 1) 23  1.713872  1.769907  1.831567  1.900307   \n",
       "                           24  1.710882  1.766675  1.828051  1.896457   \n",
       "                           25  1.708141  1.763711  1.824828  1.892928   \n",
       "\n",
       "Bicaudal                          0.060     0.050     0.040     0.030  \\\n",
       "Unicaudal                         0.030     0.025     0.020     0.015   \n",
       "Graus de Liberdade (n - 1) 23  1.978249  2.068658  2.176958  2.313231   \n",
       "                           24  1.973994  2.063899  2.171545  2.306913   \n",
       "                           25  1.970095  2.059539  2.166587   2.30113   \n",
       "\n",
       "Bicaudal                          0.020     0.010  \n",
       "Unicaudal                         0.010     0.005  \n",
       "Graus de Liberdade (n - 1) 23  2.499867  2.807336  \n",
       "                           24  2.492159   2.79694  \n",
       "                           25  2.485107  2.787436  "
      ]
     },
     "metadata": {},
     "output_type": "display_data"
    },
    {
     "data": {
      "text/plain": [
       "1.7108820799094275"
      ]
     },
     "execution_count": 23,
     "metadata": {},
     "output_type": "execute_result"
    }
   ],
   "source": [
    "from scipy.stats import t as t_student\n",
    "display(tabela_t_student[22:25])\n",
    "\n",
    "t_alpha = t_student.ppf(confianca, graus_de_liberdade)\n",
    "t_alpha"
   ]
  },
  {
   "cell_type": "markdown",
   "metadata": {},
   "source": [
    "![Região de Aceitação](https://caelum-online-public.s3.amazonaws.com/1229-estatistica-parte3/01/img009.png)\n",
    "\n",
    "### **Passo 4** - cálculo da estatística-teste e verificação desse valor com as áreas de aceitação e rejeição do teste\n",
    "\n",
    "# $$t = \\frac{\\bar{x} - \\mu_0}{\\frac{s}{\\sqrt{n}}}$$"
   ]
  },
  {
   "cell_type": "code",
   "execution_count": 24,
   "metadata": {},
   "outputs": [
    {
     "data": {
      "text/plain": [
       "-3.876893119952045"
      ]
     },
     "execution_count": 24,
     "metadata": {},
     "output_type": "execute_result"
    }
   ],
   "source": [
    "t = (media_amostra - media) / (desvio_padrao_amostra / np.sqrt(n))\n",
    "t"
   ]
  },
  {
   "cell_type": "markdown",
   "metadata": {},
   "source": [
    "![Estatística-Teste](https://caelum-online-public.s3.amazonaws.com/1229-estatistica-parte3/01/img010.png)\n",
    "\n",
    "### **Passo 5** - Aceitação ou rejeição da hipótese nula\n",
    "\n",
    "<img src='https://caelum-online-public.s3.amazonaws.com/1229-estatistica-parte3/01/img013.png' width=90%>\n",
    "\n",
    "\n",
    "\n",
    "### <font color='red'>Critério do valor crítico</font>\n",
    "\n",
    "> ### Teste Unicaudal Superior\n",
    "> ### Rejeitar $H_0$ se $t \\geq t_{\\alpha}$\n",
    "\n",
    "### <font color='red'>Critério do valor $p$</font>\n",
    "\n",
    "> ### Teste Unicaudal Superior\n",
    "> ### Rejeitar $H_0$ se o valor $p\\leq\\alpha$"
   ]
  },
  {
   "cell_type": "code",
   "execution_count": 25,
   "metadata": {},
   "outputs": [
    {
     "data": {
      "text/plain": [
       "False"
      ]
     },
     "execution_count": 25,
     "metadata": {},
     "output_type": "execute_result"
    }
   ],
   "source": [
    "t >= t_alpha"
   ]
  },
  {
   "cell_type": "code",
   "execution_count": 26,
   "metadata": {},
   "outputs": [
    {
     "name": "stdout",
     "output_type": "stream",
     "text": [
      "0.999640617030382\n"
     ]
    },
    {
     "data": {
      "text/plain": [
       "False"
      ]
     },
     "execution_count": 26,
     "metadata": {},
     "output_type": "execute_result"
    }
   ],
   "source": [
    "p_valor = t_student.sf(t, df = graus_de_liberdade)\n",
    "print(p_valor)\n",
    "p_valor <= significancia"
   ]
  },
  {
   "cell_type": "markdown",
   "metadata": {},
   "source": [
    "* Conclusão: Com um nível de confiança de 95% não podemos rejeitar $H_0$, ou seja, a alegação do fabricante é verdadeira."
   ]
  },
  {
   "cell_type": "markdown",
   "metadata": {},
   "source": [
    "## 9.3) Teste T Bicaudal\n",
    "\n",
    "* Exemplo 1) Uma indústria alimentícia afirma que a quantidade de proteína em um de seus produtos é de 5.3g. Utilizando 22 amostras desse produto para análise da quantidade de proteína, foi encontrado o valor de 5.1g com desvio padrão de 0.5g. Determine se há evidência suficiente para rejeitar a afirmação da indústria, com nível de significância de 0.05. Considere a população normalmente distribuída."
   ]
  },
  {
   "cell_type": "code",
   "execution_count": 27,
   "metadata": {},
   "outputs": [],
   "source": [
    "# H0 = 5.3\n",
    "# H1 != 5.3\n",
    "\n",
    "media = 5.3\n",
    "media_amostral = 5.1\n",
    "desvio_padrao_amostral = 0.5\n",
    "n = 22\n",
    "confianca = 0.95\n",
    "graus_de_liberdade = n - 1"
   ]
  },
  {
   "cell_type": "markdown",
   "metadata": {},
   "source": [
    "<img src ='./img39.png' width = '70%'>"
   ]
  },
  {
   "cell_type": "code",
   "execution_count": 28,
   "metadata": {},
   "outputs": [
    {
     "data": {
      "text/plain": [
       "1.7207429028118775"
      ]
     },
     "execution_count": 28,
     "metadata": {},
     "output_type": "execute_result"
    }
   ],
   "source": [
    "t_alpha = t_student.ppf(confianca, graus_de_liberdade)\n",
    "t_alpha"
   ]
  },
  {
   "cell_type": "code",
   "execution_count": 29,
   "metadata": {},
   "outputs": [
    {
     "data": {
      "text/plain": [
       "-1.8761663039293737"
      ]
     },
     "execution_count": 29,
     "metadata": {},
     "output_type": "execute_result"
    }
   ],
   "source": [
    "t = (media_amostral - media)/(desvio_padrao_amostral/np.sqrt(n))\n",
    "t"
   ]
  },
  {
   "cell_type": "code",
   "execution_count": 30,
   "metadata": {},
   "outputs": [
    {
     "data": {
      "text/plain": [
       "False"
      ]
     },
     "execution_count": 30,
     "metadata": {},
     "output_type": "execute_result"
    }
   ],
   "source": [
    "t >= t_alpha"
   ]
  },
  {
   "cell_type": "markdown",
   "metadata": {},
   "source": [
    "* Não podemos rejeitar a H0"
   ]
  },
  {
   "cell_type": "markdown",
   "metadata": {},
   "source": [
    "* Exemplo 2) Assumindo um nível de significância de 0.05, analise a Normalidade da Distribuição das Notas de Redação. Posteriormente, compare a média das notas do colégio X com a média do Estado de São Paulo."
   ]
  },
  {
   "cell_type": "code",
   "execution_count": 31,
   "metadata": {},
   "outputs": [
    {
     "data": {
      "text/plain": [
       "(30, 28)"
      ]
     },
     "execution_count": 31,
     "metadata": {},
     "output_type": "execute_result"
    }
   ],
   "source": [
    "colegioy = enem_sp.loc[enem_sp.CO_ESCOLA == 35151506.0]\n",
    "colegioy.shape"
   ]
  },
  {
   "cell_type": "code",
   "execution_count": 32,
   "metadata": {},
   "outputs": [
    {
     "name": "stdout",
     "output_type": "stream",
     "text": [
      "NU_INSCRICAO                object\n",
      "NO_MUNICIPIO_RESIDENCIA     object\n",
      "IDADE                        int64\n",
      "SEXO                        object\n",
      "TP_ESTADO_CIVIL              int64\n",
      "RACA                        object\n",
      "TP_NACIONALIDADE             int64\n",
      "TP_ST_CONCLUSAO              int64\n",
      "ESCOLA                      object\n",
      "CO_ESCOLA                  float64\n",
      "NO_MUNICIPIO_ESC            object\n",
      "TP_PRESENCA_CN               int64\n",
      "TP_PRESENCA_CH               int64\n",
      "TP_PRESENCA_LC               int64\n",
      "TP_PRESENCA_MT               int64\n",
      "NOTA_CN                    float64\n",
      "NOTA_CH                    float64\n",
      "NOTA_LC                    float64\n",
      "NOTA_MT                    float64\n",
      "TP_LINGUA                   object\n",
      "TP_STATUS_REDACAO          float64\n",
      "COMP1                      float64\n",
      "COMP2                      float64\n",
      "COMP3                      float64\n",
      "COMP4                      float64\n",
      "COMP5                      float64\n",
      "NOTA_REDACAO               float64\n",
      "INTERNET                    object\n",
      "dtype: object\n",
      "NU_INSCRICAO               0\n",
      "NO_MUNICIPIO_RESIDENCIA    0\n",
      "IDADE                      0\n",
      "SEXO                       0\n",
      "TP_ESTADO_CIVIL            0\n",
      "RACA                       0\n",
      "TP_NACIONALIDADE           0\n",
      "TP_ST_CONCLUSAO            0\n",
      "ESCOLA                     0\n",
      "CO_ESCOLA                  0\n",
      "NO_MUNICIPIO_ESC           0\n",
      "TP_PRESENCA_CN             0\n",
      "TP_PRESENCA_CH             0\n",
      "TP_PRESENCA_LC             0\n",
      "TP_PRESENCA_MT             0\n",
      "NOTA_CN                    0\n",
      "NOTA_CH                    0\n",
      "NOTA_LC                    0\n",
      "NOTA_MT                    0\n",
      "TP_LINGUA                  0\n",
      "TP_STATUS_REDACAO          0\n",
      "COMP1                      0\n",
      "COMP2                      0\n",
      "COMP3                      0\n",
      "COMP4                      0\n",
      "COMP5                      0\n",
      "NOTA_REDACAO               0\n",
      "INTERNET                   0\n",
      "dtype: int64\n"
     ]
    },
    {
     "data": {
      "image/png": "[encoded data removed]",
      "text/plain": [
       "<Figure size 504x504 with 1 Axes>"
      ]
     },
     "metadata": {
      "needs_background": "light"
     },
     "output_type": "display_data"
    },
    {
     "data": {
      "image/png": "[encoded data removed]",
      "text/plain": [
       "<Figure size 504x504 with 1 Axes>"
      ]
     },
     "metadata": {
      "needs_background": "light"
     },
     "output_type": "display_data"
    },
    {
     "data": {
      "image/png": "[encoded data removed]",
      "text/plain": [
       "<Figure size 504x504 with 1 Axes>"
      ]
     },
     "metadata": {
      "needs_background": "light"
     },
     "output_type": "display_data"
    },
    {
     "name": "stdout",
     "output_type": "stream",
     "text": [
      "Teste Shapiro-Wilk: ShapiroResult(statistic=0.9185915589332581, pvalue=0.02466052584350109)\n",
      "Kolmogorov_Sminorv: (0.15794211976028916, 0.052842042822119004)\n",
      "Anderson: AndersonResult(statistic=0.8227980663381267, critical_values=array([0.521, 0.593, 0.712, 0.83 , 0.988]), significance_level=array([15. , 10. ,  5. ,  2.5,  1. ]))\n"
     ]
    }
   ],
   "source": [
    "# 1) Analisar o tipo das variáveis que estamos trabalhando\n",
    "print(colegioy.dtypes)\n",
    "\n",
    "# 2) Analisar os valores missing\n",
    "\n",
    "print(colegioy.isnull().sum())\n",
    "\n",
    "# 3) Analisar os Outliers\n",
    "plt.figure(figsize = (7, 7))\n",
    "sns.boxplot(data = colegioy, y = 'NOTA_REDACAO')\n",
    "\n",
    "# 4) Análise da Normalidade\n",
    "import scipy.stats as stats\n",
    "plt.figure(figsize = (7, 7))\n",
    "plt.subplot(2, 1, 1)\n",
    "sns.histplot(data = colegioy, x = 'NOTA_REDACAO', bins = 10, color = 'orange', kde = True, stat='probability')\n",
    "plt.show()\n",
    "plt.figure(figsize = (7, 7))\n",
    "plt.subplot(2, 1, 2)\n",
    "stats.probplot(colegioy['NOTA_REDACAO'], dist = 'norm', plot = plt)\n",
    "plt.title('Normal Q-Q Plot')\n",
    "plt.show()\n",
    "\n",
    "shapiro = stats.shapiro(colegioy.NOTA_REDACAO)\n",
    "print(f'Teste Shapiro-Wilk: {shapiro}')\n",
    "\n",
    "import statsmodels\n",
    "from statsmodels.stats.diagnostic import lilliefors\n",
    "kolmogorov = statsmodels.stats.diagnostic.lilliefors(colegioy.NOTA_REDACAO, dist = 'norm')\n",
    "print(f'Kolmogorov_Sminorv: {kolmogorov}')\n",
    "\n",
    "anderson = stats.anderson(colegioy.NOTA_REDACAO, 'norm')\n",
    "print(f'Anderson: {anderson}')"
   ]
  },
  {
   "cell_type": "markdown",
   "metadata": {},
   "source": [
    "* A maioria dos testes confirma que a Distribuição aproxima-se de uma normal"
   ]
  },
  {
   "cell_type": "markdown",
   "metadata": {},
   "source": [
    "* Teste t\n",
    "\n",
    "> H0: A média é igual a de São Paulo: p > 0.05\n",
    "\n",
    "> H1: A média é diferente a de São Paulo: p <= 0.05"
   ]
  },
  {
   "cell_type": "code",
   "execution_count": 33,
   "metadata": {},
   "outputs": [
    {
     "data": {
      "text/plain": [
       "593.0183221986639"
      ]
     },
     "execution_count": 33,
     "metadata": {},
     "output_type": "execute_result"
    }
   ],
   "source": [
    "media_sp = enem_sp.NOTA_REDACAO.mean()\n",
    "media_sp"
   ]
  },
  {
   "cell_type": "code",
   "execution_count": 34,
   "metadata": {},
   "outputs": [
    {
     "name": "stdout",
     "output_type": "stream",
     "text": [
      "Estatística de teste: 7.18\n",
      "pvalue: 6.72e-08\n"
     ]
    }
   ],
   "source": [
    "stat, p = stats.ttest_1samp(colegioy['NOTA_REDACAO'], popmean = media_sp)\n",
    "print(f'Estatística de teste: {stat.round(2)}')\n",
    "print(f'pvalue: {p.round(10)}')"
   ]
  },
  {
   "cell_type": "markdown",
   "metadata": {},
   "source": [
    "* Estatistimente, a média de redação do colégio Y é diferente da média do Estado de São Paulo, com intervalo de confiança de 95%."
   ]
  },
  {
   "cell_type": "markdown",
   "metadata": {},
   "source": [
    "# <font color='red' style='font-size: 40px;'>10.0 Testes de Hipóteses com duas Amostras </font>"
   ]
  },
  {
   "cell_type": "markdown",
   "metadata": {},
   "source": [
    "## 10.1) Tipos de Amostra\n",
    "\n",
    "Amostras Dependentes\n",
    "> 1. Quando uma amostra selecionada de uma população estiver relacionada com uma amostra selecionada em outra população. Também são chamadas de pareadas ou relacionadas.\n",
    "\n",
    "    Ex: Dados coletados de um mesmo indivíduo (glicose antes e depois de um tratamento).\n",
    "    Ex: Dados de indivíduos diferentes mais coletadas de forma pareada.\n",
    "\n",
    "Amostras Independentes\n",
    "> 2. Quando uma amostra selecionada de uma população não tiver relação com uma amostra selecionada em outra população.\n",
    "\n",
    "    Ex: Altura de meninos vs altura de meninas.\n",
    "\n",
    "## 10.2) Estatísticas de Teste\n",
    "\n",
    "<img src='https://caelum-online-public.s3.amazonaws.com/1229-estatistica-parte3/01/img014.png' width=90%>"
   ]
  },
  {
   "cell_type": "markdown",
   "metadata": {},
   "source": [
    "# <font color='red' style='font-size: 40px;'> 11.0 Testes de Hipótese Paramétricos com duas Amostras Independentes: Teste Z </font>"
   ]
  },
  {
   "cell_type": "markdown",
   "metadata": {},
   "source": [
    "## 11.1) Teste Z de Duas Amostras para a Diferença entre Médias\n",
    "\n",
    "> 1. Amostras aleatórias.\n",
    "\n",
    "> 2. Amostras Independentes.\n",
    "\n",
    "> 3. Tamanho das amostras > 30.\n",
    "\n",
    "> 4. Distribuição Normal em ambas amostras.\n",
    "\n",
    "> 5. Desvio Padrão Populacional conhecido.\n",
    "\n",
    "# $$z = \\frac{(\\bar{x_1} - \\bar{x_2})-{(\\mu_1 - \\mu_2)}}{\\sqrt{\\frac{s_1^2}{n_1} + \\frac{s_2^2}{n_2}}}$$\n",
    "\n",
    "> 6. Sem conhecimento de $\\mu_1$ e $\\mu_2$, presume-se que eles são iguais.\n",
    "\n",
    "<img src = './img46.png' width = '70%'>"
   ]
  },
  {
   "cell_type": "code",
   "execution_count": 35,
   "metadata": {},
   "outputs": [],
   "source": [
    "# H0: u1 = u2\n",
    "# H1: u1 != u2\n",
    "\n",
    "significancia = 0.05\n",
    "confianca = 1 - significancia\n",
    "media_populacional_mulheres = 0\n",
    "media_populacional_homens = 0\n",
    "nm = 200\n",
    "nh = 200\n",
    "media_amostral_mulheres = 2290\n",
    "media_amostral_homens = 2370\n",
    "desvio_padrao_amostral_mulheres = 750\n",
    "desvio_padrao_amostral_homens = 800\n",
    "\n",
    "zc = 1.96"
   ]
  },
  {
   "cell_type": "code",
   "execution_count": 36,
   "metadata": {},
   "outputs": [
    {
     "data": {
      "text/plain": [
       "-1.0317214083506576"
      ]
     },
     "execution_count": 36,
     "metadata": {},
     "output_type": "execute_result"
    }
   ],
   "source": [
    "z = ((media_amostral_mulheres - media_amostral_homens)-(media_populacional_mulheres - media_populacional_homens))/(np.sqrt((np.square(desvio_padrao_amostral_mulheres)/nm) + (np.square(desvio_padrao_amostral_homens)/nh)))\n",
    "z"
   ]
  },
  {
   "cell_type": "code",
   "execution_count": 37,
   "metadata": {},
   "outputs": [
    {
     "name": "stdout",
     "output_type": "stream",
     "text": [
      "0.975\n",
      "1.959963984540054\n"
     ]
    }
   ],
   "source": [
    "from scipy.stats import norm\n",
    "probabilidade = (0.5+ (confianca/2))\n",
    "print(probabilidade)\n",
    "\n",
    "z_alpha = norm.ppf(probabilidade)\n",
    "print(z_alpha)"
   ]
  },
  {
   "cell_type": "code",
   "execution_count": 38,
   "metadata": {},
   "outputs": [
    {
     "data": {
      "text/plain": [
       "False"
      ]
     },
     "execution_count": 38,
     "metadata": {},
     "output_type": "execute_result"
    }
   ],
   "source": [
    "z > z_alpha"
   ]
  },
  {
   "cell_type": "markdown",
   "metadata": {},
   "source": [
    "* Pelo fato de z estar dentro dos limites -z_alpha e z_alpha, aceita-se a H0 para um nível de confiança de 95%."
   ]
  },
  {
   "cell_type": "markdown",
   "metadata": {},
   "source": [
    "### Exemplo 2) Analisar a diferença entre as médias de mulheres e homens para a nota de um dos componentes de redação do colégio X."
   ]
  },
  {
   "cell_type": "code",
   "execution_count": 39,
   "metadata": {},
   "outputs": [
    {
     "name": "stdout",
     "output_type": "stream",
     "text": [
      "(41, 28)\n"
     ]
    },
    {
     "data": {
      "text/html": [
       "<div>\n",
       "<style scoped>\n",
       "    .dataframe tbody tr th:only-of-type {\n",
       "        vertical-align: middle;\n",
       "    }\n",
       "\n",
       "    .dataframe tbody tr th {\n",
       "        vertical-align: top;\n",
       "    }\n",
       "\n",
       "    .dataframe thead th {\n",
       "        text-align: right;\n",
       "    }\n",
       "</style>\n",
       "<table border=\"1\" class=\"dataframe\">\n",
       "  <thead>\n",
       "    <tr style=\"text-align: right;\">\n",
       "      <th></th>\n",
       "      <th>NU_INSCRICAO</th>\n",
       "      <th>NO_MUNICIPIO_RESIDENCIA</th>\n",
       "      <th>IDADE</th>\n",
       "      <th>SEXO</th>\n",
       "      <th>TP_ESTADO_CIVIL</th>\n",
       "      <th>RACA</th>\n",
       "      <th>TP_NACIONALIDADE</th>\n",
       "      <th>TP_ST_CONCLUSAO</th>\n",
       "      <th>ESCOLA</th>\n",
       "      <th>CO_ESCOLA</th>\n",
       "      <th>...</th>\n",
       "      <th>NOTA_MT</th>\n",
       "      <th>TP_LINGUA</th>\n",
       "      <th>TP_STATUS_REDACAO</th>\n",
       "      <th>COMP1</th>\n",
       "      <th>COMP2</th>\n",
       "      <th>COMP3</th>\n",
       "      <th>COMP4</th>\n",
       "      <th>COMP5</th>\n",
       "      <th>NOTA_REDACAO</th>\n",
       "      <th>INTERNET</th>\n",
       "    </tr>\n",
       "  </thead>\n",
       "  <tbody>\n",
       "    <tr>\n",
       "      <th>37</th>\n",
       "      <td>1,90E+11</td>\n",
       "      <td>Águas de Lindóia</td>\n",
       "      <td>18</td>\n",
       "      <td>M</td>\n",
       "      <td>1</td>\n",
       "      <td>branca</td>\n",
       "      <td>1</td>\n",
       "      <td>2</td>\n",
       "      <td>pública</td>\n",
       "      <td>35017632.0</td>\n",
       "      <td>...</td>\n",
       "      <td>537.1</td>\n",
       "      <td>Inglês</td>\n",
       "      <td>1.0</td>\n",
       "      <td>120.0</td>\n",
       "      <td>40.0</td>\n",
       "      <td>40.0</td>\n",
       "      <td>120.0</td>\n",
       "      <td>20.0</td>\n",
       "      <td>340.0</td>\n",
       "      <td>Sim</td>\n",
       "    </tr>\n",
       "    <tr>\n",
       "      <th>44</th>\n",
       "      <td>1,90E+11</td>\n",
       "      <td>Águas de Lindóia</td>\n",
       "      <td>17</td>\n",
       "      <td>F</td>\n",
       "      <td>1</td>\n",
       "      <td>parda</td>\n",
       "      <td>1</td>\n",
       "      <td>2</td>\n",
       "      <td>pública</td>\n",
       "      <td>35017632.0</td>\n",
       "      <td>...</td>\n",
       "      <td>451.9</td>\n",
       "      <td>Inglês</td>\n",
       "      <td>1.0</td>\n",
       "      <td>140.0</td>\n",
       "      <td>120.0</td>\n",
       "      <td>140.0</td>\n",
       "      <td>160.0</td>\n",
       "      <td>160.0</td>\n",
       "      <td>720.0</td>\n",
       "      <td>Não</td>\n",
       "    </tr>\n",
       "  </tbody>\n",
       "</table>\n",
       "<p>2 rows × 28 columns</p>\n",
       "</div>"
      ],
      "text/plain": [
       "   NU_INSCRICAO NO_MUNICIPIO_RESIDENCIA  IDADE SEXO  TP_ESTADO_CIVIL    RACA  \\\n",
       "37     1,90E+11        Águas de Lindóia     18    M                1  branca   \n",
       "44     1,90E+11        Águas de Lindóia     17    F                1   parda   \n",
       "\n",
       "    TP_NACIONALIDADE  TP_ST_CONCLUSAO   ESCOLA   CO_ESCOLA  ... NOTA_MT  \\\n",
       "37                 1                2  pública  35017632.0  ...   537.1   \n",
       "44                 1                2  pública  35017632.0  ...   451.9   \n",
       "\n",
       "    TP_LINGUA  TP_STATUS_REDACAO  COMP1  COMP2  COMP3  COMP4  COMP5  \\\n",
       "37     Inglês                1.0  120.0   40.0   40.0  120.0   20.0   \n",
       "44     Inglês                1.0  140.0  120.0  140.0  160.0  160.0   \n",
       "\n",
       "    NOTA_REDACAO INTERNET  \n",
       "37         340.0      Sim  \n",
       "44         720.0      Não  \n",
       "\n",
       "[2 rows x 28 columns]"
      ]
     },
     "metadata": {},
     "output_type": "display_data"
    },
    {
     "name": "stdout",
     "output_type": "stream",
     "text": [
      "\n",
      "(28, 28)\n",
      "\n",
      "(13, 28)\n"
     ]
    }
   ],
   "source": [
    "colegiox = enem_sp.loc[enem_sp.CO_ESCOLA == 35017632.0]\n",
    "print(colegiox.shape)\n",
    "display(colegiox.head(2))\n",
    "print()\n",
    "colegiox_mulher = colegiox.loc[colegiox.SEXO == 'F']\n",
    "print(colegiox_mulher.shape)\n",
    "print()\n",
    "colegiox_homem = colegiox.loc[colegiox.SEXO == 'M']\n",
    "print(colegiox_homem.shape)\n"
   ]
  },
  {
   "cell_type": "code",
   "execution_count": 40,
   "metadata": {},
   "outputs": [
    {
     "name": "stdout",
     "output_type": "stream",
     "text": [
      "1) Analisar a classificação das variáveis\n",
      "NU_INSCRICAO                object\n",
      "NO_MUNICIPIO_RESIDENCIA     object\n",
      "IDADE                        int64\n",
      "SEXO                        object\n",
      "TP_ESTADO_CIVIL              int64\n",
      "RACA                        object\n",
      "TP_NACIONALIDADE             int64\n",
      "TP_ST_CONCLUSAO              int64\n",
      "ESCOLA                      object\n",
      "CO_ESCOLA                  float64\n",
      "NO_MUNICIPIO_ESC            object\n",
      "TP_PRESENCA_CN               int64\n",
      "TP_PRESENCA_CH               int64\n",
      "TP_PRESENCA_LC               int64\n",
      "TP_PRESENCA_MT               int64\n",
      "NOTA_CN                    float64\n",
      "NOTA_CH                    float64\n",
      "NOTA_LC                    float64\n",
      "NOTA_MT                    float64\n",
      "TP_LINGUA                   object\n",
      "TP_STATUS_REDACAO          float64\n",
      "COMP1                      float64\n",
      "COMP2                      float64\n",
      "COMP3                      float64\n",
      "COMP4                      float64\n",
      "COMP5                      float64\n",
      "NOTA_REDACAO               float64\n",
      "INTERNET                    object\n",
      "dtype: object\n",
      "\n",
      "2) Analisar os valores missing\n",
      "Quantidade de Valores Nulos: 0\n",
      "\n",
      "3) Analisar Outliers\n"
     ]
    },
    {
     "data": {
      "image/png": "[encoded data removed]",
      "text/plain": [
       "<Figure size 432x288 with 1 Axes>"
      ]
     },
     "metadata": {
      "needs_background": "light"
     },
     "output_type": "display_data"
    },
    {
     "data": {
      "image/png": "[encoded data removed]",
      "text/plain": [
       "<Figure size 432x288 with 1 Axes>"
      ]
     },
     "metadata": {
      "needs_background": "light"
     },
     "output_type": "display_data"
    },
    {
     "name": "stdout",
     "output_type": "stream",
     "text": [
      "\n",
      "4) Analisar Normalidade\n",
      "Shapiro Mulheres COMP5: 0.2238943725824356\n",
      "\n",
      "Shapiro Homens COMP5: 0.48747238516807556\n",
      "\n",
      "Kolmogorov Mulheres COMP5: 0.048205422522752915\n",
      "\n",
      "Kolmogorov Homens COMP5: 0.26208966678273116\n"
     ]
    },
    {
     "data": {
      "image/png": "[encoded data removed]",
      "text/plain": [
       "<Figure size 432x288 with 1 Axes>"
      ]
     },
     "metadata": {
      "needs_background": "light"
     },
     "output_type": "display_data"
    },
    {
     "name": "stdout",
     "output_type": "stream",
     "text": [
      "\n"
     ]
    },
    {
     "data": {
      "image/png": "[encoded data removed]",
      "text/plain": [
       "<Figure size 432x288 with 1 Axes>"
      ]
     },
     "metadata": {
      "needs_background": "light"
     },
     "output_type": "display_data"
    },
    {
     "name": "stdout",
     "output_type": "stream",
     "text": [
      "\n"
     ]
    },
    {
     "data": {
      "image/png": "[encoded data removed]",
      "text/plain": [
       "<Figure size 432x288 with 1 Axes>"
      ]
     },
     "metadata": {
      "needs_background": "light"
     },
     "output_type": "display_data"
    },
    {
     "name": "stdout",
     "output_type": "stream",
     "text": [
      "\n"
     ]
    },
    {
     "data": {
      "image/png": "[encoded data removed]",
      "text/plain": [
       "<Figure size 432x288 with 1 Axes>"
      ]
     },
     "metadata": {
      "needs_background": "light"
     },
     "output_type": "display_data"
    },
    {
     "name": "stdout",
     "output_type": "stream",
     "text": [
      "\n",
      "5) Analisar a Homogeniedade das Variâncias (Homocedasticidade)\n",
      "Estatística de teste: 0.07\n",
      "p_value: 0.7899416696\n"
     ]
    }
   ],
   "source": [
    "# 1) Analisar a classificação das variáveis\n",
    "print('1) Analisar a classificação das variáveis')\n",
    "print(colegiox.dtypes)\n",
    "print()\n",
    "\n",
    "# 2) Analisar os valores missing\n",
    "print('2) Analisar os valores missing')\n",
    "print(f'Quantidade de Valores Nulos: {colegiox.isnull().sum().sum()}')\n",
    "print()\n",
    "\n",
    "# 3) Analisar Outliers\n",
    "print('3) Analisar Outliers')\n",
    "grafico = sns.boxplot(data = colegiox_mulher, x = 'COMP5')\n",
    "plt.title('Mulheres')\n",
    "plt.show()\n",
    "\n",
    "grafico = sns.boxplot(data = colegiox_homem, x = 'COMP5')\n",
    "plt.title('Homens')\n",
    "plt.show()\n",
    "print()\n",
    "\n",
    "# 4) Analisar Normalidade\n",
    "\n",
    "# Nível de significância de 5%\n",
    "\n",
    "# Quando p_value > 0.05 : Distribuição Normal\n",
    "print('4) Analisar Normalidade')\n",
    "\n",
    "import scipy.stats as stats\n",
    "\n",
    "print(f'Shapiro Mulheres COMP5: {stats.shapiro(colegiox_mulher.COMP5)[1]}')\n",
    "print()\n",
    "print(f'Shapiro Homens COMP5: {stats.shapiro(colegiox_homem.COMP5)[1]}')\n",
    "print()\n",
    "\n",
    "import statsmodels\n",
    "from statsmodels.stats.diagnostic import lilliefors\n",
    "kolmogorov = statsmodels.stats.diagnostic.lilliefors(colegiox_mulher.COMP5, dist = 'norm')\n",
    "print(f'Kolmogorov Mulheres COMP5: {kolmogorov[1]}')\n",
    "print()\n",
    "kolmogorov = statsmodels.stats.diagnostic.lilliefors(colegiox_homem.COMP5, dist = 'norm')\n",
    "print(f'Kolmogorov Homens COMP5: {kolmogorov[1]}')\n",
    "\n",
    "sns.histplot(colegiox_mulher, x = 'COMP5', bins = 6, color = 'red', kde = 'True', stat = 'probability')\n",
    "plt.title('Mulheres COMP5')\n",
    "plt.show()\n",
    "print()\n",
    "sns.histplot(colegiox_homem, x = 'COMP5', bins = 4, color = 'green', kde = 'True', stat = 'probability')\n",
    "plt.title('Homens COMP5')\n",
    "plt.show()\n",
    "print()\n",
    "stats.probplot(colegiox_mulher['COMP5'], dist = 'norm', plot = plt)\n",
    "plt.title('QQPlot Mulheres COMP5')\n",
    "plt.show()\n",
    "print()\n",
    "stats.probplot(colegiox_homem['COMP5'], dist = 'norm', plot = plt)\n",
    "plt.title('QQPlot Homens COMP5')\n",
    "plt.show()\n",
    "print()\n",
    "# 5) Analisar a Homogeniedade das Variâncias (Homocedasticidade)\n",
    "\n",
    "# A variabilidade dos erros deve ser o mais constante possível.\n",
    "\n",
    "# H0: variâncias homogêneas: p_value > 0.05\n",
    "# H1: variâncias heterogêneas: p_value <= 0.05\n",
    "\n",
    "print('5) Analisar a Homogeniedade das Variâncias (Homocedasticidade)')\n",
    "from scipy.stats import levene\n",
    "# Utiliza-se 'mean' pois é um teste paramétrico, ou seja, compara-se as médias.\n",
    "stat, p = levene(colegiox_mulher.COMP5, colegiox_homem.COMP5, center = 'mean')\n",
    "print(f'Estatística de teste: {stat.round(2)}')\n",
    "print(f'p_value: {p.round(10)}')\n"
   ]
  },
  {
   "cell_type": "markdown",
   "metadata": {},
   "source": [
    "* Pelos testes estatísticos, para Mulheres e Homens a COMP5 segue Distribuição Normal\n",
    "\n",
    "* Ambas amostras tem Homocedasticidade (variâncias constantes).\n"
   ]
  },
  {
   "cell_type": "markdown",
   "metadata": {},
   "source": [
    "### Teste Z para Duas Amostras Independentes\n",
    "\n",
    "> 1. Comparação das Médias das Notas do COMP5 da redação entre homens e mulheres do colégio X.\n",
    "\n",
    "* H0: Não há diferença entre as médias dos componentes: p_value > 0.05\n",
    "\n",
    "* H1: Há diferença entre as médias dos componentes: p_value <= 0.05"
   ]
  },
  {
   "cell_type": "code",
   "execution_count": 41,
   "metadata": {},
   "outputs": [
    {
     "name": "stdout",
     "output_type": "stream",
     "text": [
      "Estatística de teste: 0.96\n",
      "p_value: 0.339491895\n"
     ]
    },
    {
     "data": {
      "text/plain": [
       "count     28.000000\n",
       "mean      86.428571\n",
       "std       43.903453\n",
       "min        0.000000\n",
       "25%       60.000000\n",
       "50%       80.000000\n",
       "75%      120.000000\n",
       "max      160.000000\n",
       "Name: COMP5, dtype: float64"
      ]
     },
     "metadata": {},
     "output_type": "display_data"
    },
    {
     "data": {
      "text/plain": [
       "count     13.000000\n",
       "mean      72.307692\n",
       "std       44.376016\n",
       "min        0.000000\n",
       "25%       40.000000\n",
       "50%       80.000000\n",
       "75%      100.000000\n",
       "max      140.000000\n",
       "Name: COMP5, dtype: float64"
      ]
     },
     "metadata": {},
     "output_type": "display_data"
    }
   ],
   "source": [
    "from statsmodels.stats.weightstats import ztest\n",
    "\n",
    "stat, p = ztest(colegiox_mulher.COMP5, colegiox_homem.COMP5)\n",
    "print(f'Estatística de teste: {stat.round(2)}')\n",
    "print(f'p_value: {p.round(10)}')\n",
    "\n",
    "display(colegiox_mulher.COMP5.describe())\n",
    "display(colegiox_homem.COMP5.describe())"
   ]
  },
  {
   "cell_type": "markdown",
   "metadata": {},
   "source": [
    "### Interpretação\n",
    "\n",
    "Teste Estatístico = 0.97\n",
    "\n",
    "p_value = 0.33\n",
    "\n",
    "Conclusão: Estatisticamente, com intervalo de confiança de 95%, Aceita-se a H0: Não há diferença entre as médias dos componentes para homens e mulheres. "
   ]
  },
  {
   "cell_type": "markdown",
   "metadata": {},
   "source": [
    "# <font color='red' style='font-size: 40px;'> 12.0 Testes de Hipótese Paramétricos com duas Amostras Independentes: Teste T</font>"
   ]
  },
  {
   "cell_type": "markdown",
   "metadata": {},
   "source": [
    "## 12.1) Teste t para Duas Amostras para Diferença entre Médias\n",
    "\n",
    "> 1. Amostras aleatórias.\n",
    "\n",
    "> 2. Amostras Independentes.\n",
    "\n",
    "> 3. Tamanho das amostras <> 30.\n",
    "\n",
    "> 4. Distribuição Normal em ambas amostras.\n",
    "\n",
    "> 5. Variâncias Iguais\n",
    "\n",
    "# $$t = \\frac{(\\bar{x_1} - \\bar{x_2})-{(\\mu_1 - \\mu_2)}}{{\\sigma}\\sqrt{\\frac{1}{n_1} + \\frac{1}{n_2}}}$$\n",
    "\n",
    "# $$ g.l = {n_1} + {n_2} - 2 $$\n",
    "\n",
    "> 6. Variâncias Diferentes\n",
    "\n",
    "# $$t = \\frac{(\\bar{x_1} - \\bar{x_2})-{(\\mu_1 - \\mu_2)}}{\\sqrt{\\frac{s_1^2}{n_1} + \\frac{s_2^2}{n_2}}}$$\n",
    "\n",
    "* Escolher o menor grau de liberdade entre:\n",
    "\n",
    "# $$ g.l = n_1 - 1$$  $$ g.l = n_2-1 $$\n",
    "\n",
    "> 6. Sem conhecimento de $\\mu_1$ e $\\mu_2$, presume-se que eles são iguais.\n",
    "\n",
    "<img src = './img46.png' width = '70%'>"
   ]
  },
  {
   "cell_type": "markdown",
   "metadata": {},
   "source": [
    "### Exemplo 1) Analisar a diferença entre as médias de dois componentes de redação do colégio Y."
   ]
  },
  {
   "cell_type": "code",
   "execution_count": 42,
   "metadata": {},
   "outputs": [
    {
     "name": "stdout",
     "output_type": "stream",
     "text": [
      "(30, 28)\n"
     ]
    },
    {
     "data": {
      "text/html": [
       "<div>\n",
       "<style scoped>\n",
       "    .dataframe tbody tr th:only-of-type {\n",
       "        vertical-align: middle;\n",
       "    }\n",
       "\n",
       "    .dataframe tbody tr th {\n",
       "        vertical-align: top;\n",
       "    }\n",
       "\n",
       "    .dataframe thead th {\n",
       "        text-align: right;\n",
       "    }\n",
       "</style>\n",
       "<table border=\"1\" class=\"dataframe\">\n",
       "  <thead>\n",
       "    <tr style=\"text-align: right;\">\n",
       "      <th></th>\n",
       "      <th>NU_INSCRICAO</th>\n",
       "      <th>NO_MUNICIPIO_RESIDENCIA</th>\n",
       "      <th>IDADE</th>\n",
       "      <th>SEXO</th>\n",
       "      <th>TP_ESTADO_CIVIL</th>\n",
       "      <th>RACA</th>\n",
       "      <th>TP_NACIONALIDADE</th>\n",
       "      <th>TP_ST_CONCLUSAO</th>\n",
       "      <th>ESCOLA</th>\n",
       "      <th>CO_ESCOLA</th>\n",
       "      <th>...</th>\n",
       "      <th>NOTA_MT</th>\n",
       "      <th>TP_LINGUA</th>\n",
       "      <th>TP_STATUS_REDACAO</th>\n",
       "      <th>COMP1</th>\n",
       "      <th>COMP2</th>\n",
       "      <th>COMP3</th>\n",
       "      <th>COMP4</th>\n",
       "      <th>COMP5</th>\n",
       "      <th>NOTA_REDACAO</th>\n",
       "      <th>INTERNET</th>\n",
       "    </tr>\n",
       "  </thead>\n",
       "  <tbody>\n",
       "    <tr>\n",
       "      <th>492</th>\n",
       "      <td>1,90E+11</td>\n",
       "      <td>São Paulo</td>\n",
       "      <td>17</td>\n",
       "      <td>F</td>\n",
       "      <td>1</td>\n",
       "      <td>branca</td>\n",
       "      <td>1</td>\n",
       "      <td>2</td>\n",
       "      <td>privada</td>\n",
       "      <td>35151506.0</td>\n",
       "      <td>...</td>\n",
       "      <td>64.0</td>\n",
       "      <td>Inglês</td>\n",
       "      <td>1.0</td>\n",
       "      <td>160.0</td>\n",
       "      <td>160.0</td>\n",
       "      <td>140.0</td>\n",
       "      <td>140.0</td>\n",
       "      <td>120.0</td>\n",
       "      <td>720.0</td>\n",
       "      <td>Sim</td>\n",
       "    </tr>\n",
       "    <tr>\n",
       "      <th>7910</th>\n",
       "      <td>1,90E+11</td>\n",
       "      <td>São Paulo</td>\n",
       "      <td>18</td>\n",
       "      <td>F</td>\n",
       "      <td>1</td>\n",
       "      <td>branca</td>\n",
       "      <td>1</td>\n",
       "      <td>2</td>\n",
       "      <td>privada</td>\n",
       "      <td>35151506.0</td>\n",
       "      <td>...</td>\n",
       "      <td>699.5</td>\n",
       "      <td>Inglês</td>\n",
       "      <td>1.0</td>\n",
       "      <td>160.0</td>\n",
       "      <td>120.0</td>\n",
       "      <td>160.0</td>\n",
       "      <td>160.0</td>\n",
       "      <td>140.0</td>\n",
       "      <td>740.0</td>\n",
       "      <td>Sim</td>\n",
       "    </tr>\n",
       "  </tbody>\n",
       "</table>\n",
       "<p>2 rows × 28 columns</p>\n",
       "</div>"
      ],
      "text/plain": [
       "     NU_INSCRICAO NO_MUNICIPIO_RESIDENCIA  IDADE SEXO  TP_ESTADO_CIVIL  \\\n",
       "492      1,90E+11               São Paulo     17    F                1   \n",
       "7910     1,90E+11               São Paulo     18    F                1   \n",
       "\n",
       "        RACA  TP_NACIONALIDADE  TP_ST_CONCLUSAO   ESCOLA   CO_ESCOLA  ...  \\\n",
       "492   branca                 1                2  privada  35151506.0  ...   \n",
       "7910  branca                 1                2  privada  35151506.0  ...   \n",
       "\n",
       "     NOTA_MT  TP_LINGUA  TP_STATUS_REDACAO  COMP1  COMP2  COMP3  COMP4  COMP5  \\\n",
       "492     64.0     Inglês                1.0  160.0  160.0  140.0  140.0  120.0   \n",
       "7910   699.5     Inglês                1.0  160.0  120.0  160.0  160.0  140.0   \n",
       "\n",
       "      NOTA_REDACAO INTERNET  \n",
       "492          720.0      Sim  \n",
       "7910         740.0      Sim  \n",
       "\n",
       "[2 rows x 28 columns]"
      ]
     },
     "execution_count": 42,
     "metadata": {},
     "output_type": "execute_result"
    }
   ],
   "source": [
    "colegioy = enem_sp.loc[enem_sp.CO_ESCOLA == 35151506.0]\n",
    "print(colegioy.shape)\n",
    "colegioy.head(2)"
   ]
  },
  {
   "cell_type": "code",
   "execution_count": 43,
   "metadata": {},
   "outputs": [
    {
     "name": "stdout",
     "output_type": "stream",
     "text": [
      "1) Analisar a classificação das variáveis\n",
      "NU_INSCRICAO                object\n",
      "NO_MUNICIPIO_RESIDENCIA     object\n",
      "IDADE                        int64\n",
      "SEXO                        object\n",
      "TP_ESTADO_CIVIL              int64\n",
      "RACA                        object\n",
      "TP_NACIONALIDADE             int64\n",
      "TP_ST_CONCLUSAO              int64\n",
      "ESCOLA                      object\n",
      "CO_ESCOLA                  float64\n",
      "NO_MUNICIPIO_ESC            object\n",
      "TP_PRESENCA_CN               int64\n",
      "TP_PRESENCA_CH               int64\n",
      "TP_PRESENCA_LC               int64\n",
      "TP_PRESENCA_MT               int64\n",
      "NOTA_CN                    float64\n",
      "NOTA_CH                    float64\n",
      "NOTA_LC                    float64\n",
      "NOTA_MT                    float64\n",
      "TP_LINGUA                   object\n",
      "TP_STATUS_REDACAO          float64\n",
      "COMP1                      float64\n",
      "COMP2                      float64\n",
      "COMP3                      float64\n",
      "COMP4                      float64\n",
      "COMP5                      float64\n",
      "NOTA_REDACAO               float64\n",
      "INTERNET                    object\n",
      "dtype: object\n",
      "\n",
      "2) Analisar os valores missing\n",
      "Quantidade de Valores Nulos: 0\n",
      "\n",
      "3) Analisar Outliers\n"
     ]
    },
    {
     "data": {
      "image/png": "[encoded data removed]",
      "text/plain": [
       "<Figure size 432x288 with 1 Axes>"
      ]
     },
     "metadata": {
      "needs_background": "light"
     },
     "output_type": "display_data"
    },
    {
     "data": {
      "image/png": "[encoded data removed]",
      "text/plain": [
       "<Figure size 432x288 with 1 Axes>"
      ]
     },
     "metadata": {
      "needs_background": "light"
     },
     "output_type": "display_data"
    },
    {
     "name": "stdout",
     "output_type": "stream",
     "text": [
      "\n",
      "4) Analisar Normalidade\n",
      "Shapiro COMP3: 0.02115193009376526\n",
      "\n",
      "Shapiro COMP5: 0.14903278648853302\n",
      "\n",
      "Kolmogorov COMP3: 0.0022752873084563707\n",
      "\n",
      "Kolmogorov COMP5: 0.06880798377868974\n"
     ]
    },
    {
     "data": {
      "image/png": "[encoded data removed]",
      "text/plain": [
       "<Figure size 432x288 with 1 Axes>"
      ]
     },
     "metadata": {
      "needs_background": "light"
     },
     "output_type": "display_data"
    },
    {
     "name": "stdout",
     "output_type": "stream",
     "text": [
      "\n"
     ]
    },
    {
     "data": {
      "image/png": "[encoded data removed]",
      "text/plain": [
       "<Figure size 432x288 with 1 Axes>"
      ]
     },
     "metadata": {
      "needs_background": "light"
     },
     "output_type": "display_data"
    },
    {
     "name": "stdout",
     "output_type": "stream",
     "text": [
      "\n"
     ]
    },
    {
     "data": {
      "image/png": "[encoded data removed]",
      "text/plain": [
       "<Figure size 432x288 with 1 Axes>"
      ]
     },
     "metadata": {
      "needs_background": "light"
     },
     "output_type": "display_data"
    },
    {
     "name": "stdout",
     "output_type": "stream",
     "text": [
      "\n"
     ]
    },
    {
     "data": {
      "image/png": "[encoded data removed]",
      "text/plain": [
       "<Figure size 432x288 with 1 Axes>"
      ]
     },
     "metadata": {
      "needs_background": "light"
     },
     "output_type": "display_data"
    },
    {
     "name": "stdout",
     "output_type": "stream",
     "text": [
      "\n",
      "5) Analisar a Homogeniedade das Variâncias (Homocedasticidade)\n",
      "Estatística de teste: 0.61\n",
      "p_value: 0.4382667191\n"
     ]
    }
   ],
   "source": [
    "# 1) Analisar a classificação das variáveis\n",
    "print('1) Analisar a classificação das variáveis')\n",
    "print(colegioy.dtypes)\n",
    "print()\n",
    "\n",
    "# 2) Analisar os valores missing\n",
    "print('2) Analisar os valores missing')\n",
    "print(f'Quantidade de Valores Nulos: {colegioy.isnull().sum().sum()}')\n",
    "print()\n",
    "\n",
    "# 3) Analisar Outliers\n",
    "print('3) Analisar Outliers')\n",
    "grafico = sns.boxplot(data = colegioy, x = 'COMP3')\n",
    "plt.title('COMP3')\n",
    "plt.show()\n",
    "\n",
    "grafico = sns.boxplot(data = colegioy, x = 'COMP5')\n",
    "plt.title('COMP5')\n",
    "plt.show()\n",
    "print()\n",
    "\n",
    "# 4) Analisar Normalidade\n",
    "\n",
    "# Nível de significância de 5%\n",
    "\n",
    "# Quando p_value > 0.05 : Distribuição Normal\n",
    "print('4) Analisar Normalidade')\n",
    "\n",
    "import scipy.stats as stats\n",
    "\n",
    "print(f'Shapiro COMP3: {stats.shapiro(colegioy.COMP3)[1]}')\n",
    "print()\n",
    "print(f'Shapiro COMP5: {stats.shapiro(colegioy.COMP5)[1]}')\n",
    "print()\n",
    "\n",
    "import statsmodels\n",
    "from statsmodels.stats.diagnostic import lilliefors\n",
    "kolmogorov = statsmodels.stats.diagnostic.lilliefors(colegioy.COMP3, dist = 'norm')\n",
    "print(f'Kolmogorov COMP3: {kolmogorov[1]}')\n",
    "print()\n",
    "kolmogorov = statsmodels.stats.diagnostic.lilliefors(colegioy.COMP5, dist = 'norm')\n",
    "print(f'Kolmogorov COMP5: {kolmogorov[1]}')\n",
    "\n",
    "sns.histplot(colegioy, x = 'COMP3', bins = 6, color = 'red', kde = 'True', stat = 'probability')\n",
    "plt.title('COMP3')\n",
    "plt.show()\n",
    "print()\n",
    "sns.histplot(colegioy, x = 'COMP5', bins = 6, color = 'green', kde = 'True', stat = 'probability')\n",
    "plt.title('COMP5')\n",
    "plt.show()\n",
    "print()\n",
    "stats.probplot(colegioy['COMP3'], dist = 'norm', plot = plt)\n",
    "plt.title('QQPlot COMP3')\n",
    "plt.show()\n",
    "print()\n",
    "stats.probplot(colegioy['COMP5'], dist = 'norm', plot = plt)\n",
    "plt.title('QQPlot COMP5')\n",
    "plt.show()\n",
    "print()\n",
    "# 5) Analisar a Homogeniedade das Variâncias (Homocedasticidade)\n",
    "\n",
    "# A variabilidade dos erros deve ser o mais constante possível.\n",
    "\n",
    "# H0: variâncias homogêneas: p_value > 0.05\n",
    "# H1: variâncias heterogêneas: p_value <= 0.05\n",
    "\n",
    "print('5) Analisar a Homogeniedade das Variâncias (Homocedasticidade)')\n",
    "from scipy.stats import levene\n",
    "# Utiliza-se 'mean' pois é um teste paramétrico, ou seja, compara-se as médias.\n",
    "stat, p = levene(colegioy.COMP3, colegioy.COMP5, center = 'mean')\n",
    "print(f'Estatística de teste: {stat.round(2)}')\n",
    "print(f'p_value: {p.round(10)}')\n"
   ]
  },
  {
   "cell_type": "markdown",
   "metadata": {},
   "source": [
    "* Note que a COMP3 não segue uma Distribuição Normal. Nesse caso, deve-se aplicar um teste não paramétrico que veremos a frente;\n",
    "\n",
    "* Para fins didáticos, considere que COMP3 segue uma Distribuição Normal.\n",
    "\n",
    "* COMP5 segue Distribuição Normal.\n",
    "\n",
    "* Ambas amostras tem Homocedasticidade (variâncias constantes).\n"
   ]
  },
  {
   "cell_type": "markdown",
   "metadata": {},
   "source": [
    "### Teste T Student para Duas Amostas Independentes\n",
    "\n",
    "> 1. Comparação das médias das notas dos componentes 3 e 5 da redação do colégio Y.\n",
    "\n",
    "* H0: Não há diferença entre as médias dos componentes: p_value > 0.05\n",
    "\n",
    "* H1: Há diferença entre as médias dos componentes: p_value <= 0.05"
   ]
  },
  {
   "cell_type": "code",
   "execution_count": 44,
   "metadata": {},
   "outputs": [
    {
     "name": "stdout",
     "output_type": "stream",
     "text": [
      "Estatística de teste: -0.38\n",
      "p_value: 0.7073512583\n"
     ]
    },
    {
     "data": {
      "text/plain": [
       "count     30.000000\n",
       "mean     141.333333\n",
       "std       24.597916\n",
       "min      100.000000\n",
       "25%      120.000000\n",
       "50%      140.000000\n",
       "75%      160.000000\n",
       "max      200.000000\n",
       "Name: COMP3, dtype: float64"
      ]
     },
     "metadata": {},
     "output_type": "display_data"
    },
    {
     "data": {
      "text/plain": [
       "count     30.000000\n",
       "mean     144.000000\n",
       "std       29.896373\n",
       "min       80.000000\n",
       "25%      120.000000\n",
       "50%      140.000000\n",
       "75%      160.000000\n",
       "max      200.000000\n",
       "Name: COMP5, dtype: float64"
      ]
     },
     "metadata": {},
     "output_type": "display_data"
    }
   ],
   "source": [
    "import scipy.stats\n",
    "# Se os dados não tem Homocedasticidade, devemos colocar o parâmetro equal_var = False\n",
    "stat, p = stats.ttest_ind(colegioy['COMP3'], colegioy['COMP5'], equal_var= True)\n",
    "print(f'Estatística de teste: {stat.round(2)}')\n",
    "print(f'p_value: {p.round(10)}')\n",
    "\n",
    "display(colegioy.COMP3.describe())\n",
    "display(colegioy.COMP5.describe())"
   ]
  },
  {
   "cell_type": "markdown",
   "metadata": {},
   "source": [
    "### Interpretação\n",
    "\n",
    "Teste Estatístico = -0.38\n",
    "\n",
    "p_value = 0.7\n",
    "\n",
    "Conclusão: Estatisticamente, com intervalo de confiança de 95%, Aceita-se a H0: Não há diferença entre as médias dos componentes. "
   ]
  },
  {
   "cell_type": "markdown",
   "metadata": {},
   "source": [
    "# <font color='red' style='font-size: 40px;'> 13.0 Testes de Hipótese Não Paramétricos com duas Amostras Independentes: Teste de Mann_Whitney </font>"
   ]
  },
  {
   "cell_type": "markdown",
   "metadata": {},
   "source": [
    "## 13.1) Teste de Mann_Whitney\n",
    "\n",
    "> 1. Teste Não Paramétrico.\n",
    "\n",
    "> 2. Nosso foco de comparação serão as Medianas.\n",
    "\n",
    "> 3. Pelo menos uma das Amostras não pode seguir Distribuição Normal"
   ]
  },
  {
   "cell_type": "markdown",
   "metadata": {},
   "source": [
    "### Exemplo 1) Analisar a diferença entre as Medianas de mulheres e homens para a nota de um dos componentes de redação do colégio X."
   ]
  },
  {
   "cell_type": "code",
   "execution_count": 45,
   "metadata": {},
   "outputs": [
    {
     "name": "stdout",
     "output_type": "stream",
     "text": [
      "(41, 28)\n"
     ]
    },
    {
     "data": {
      "text/html": [
       "<div>\n",
       "<style scoped>\n",
       "    .dataframe tbody tr th:only-of-type {\n",
       "        vertical-align: middle;\n",
       "    }\n",
       "\n",
       "    .dataframe tbody tr th {\n",
       "        vertical-align: top;\n",
       "    }\n",
       "\n",
       "    .dataframe thead th {\n",
       "        text-align: right;\n",
       "    }\n",
       "</style>\n",
       "<table border=\"1\" class=\"dataframe\">\n",
       "  <thead>\n",
       "    <tr style=\"text-align: right;\">\n",
       "      <th></th>\n",
       "      <th>NU_INSCRICAO</th>\n",
       "      <th>NO_MUNICIPIO_RESIDENCIA</th>\n",
       "      <th>IDADE</th>\n",
       "      <th>SEXO</th>\n",
       "      <th>TP_ESTADO_CIVIL</th>\n",
       "      <th>RACA</th>\n",
       "      <th>TP_NACIONALIDADE</th>\n",
       "      <th>TP_ST_CONCLUSAO</th>\n",
       "      <th>ESCOLA</th>\n",
       "      <th>CO_ESCOLA</th>\n",
       "      <th>...</th>\n",
       "      <th>NOTA_MT</th>\n",
       "      <th>TP_LINGUA</th>\n",
       "      <th>TP_STATUS_REDACAO</th>\n",
       "      <th>COMP1</th>\n",
       "      <th>COMP2</th>\n",
       "      <th>COMP3</th>\n",
       "      <th>COMP4</th>\n",
       "      <th>COMP5</th>\n",
       "      <th>NOTA_REDACAO</th>\n",
       "      <th>INTERNET</th>\n",
       "    </tr>\n",
       "  </thead>\n",
       "  <tbody>\n",
       "    <tr>\n",
       "      <th>37</th>\n",
       "      <td>1,90E+11</td>\n",
       "      <td>Águas de Lindóia</td>\n",
       "      <td>18</td>\n",
       "      <td>M</td>\n",
       "      <td>1</td>\n",
       "      <td>branca</td>\n",
       "      <td>1</td>\n",
       "      <td>2</td>\n",
       "      <td>pública</td>\n",
       "      <td>35017632.0</td>\n",
       "      <td>...</td>\n",
       "      <td>537.1</td>\n",
       "      <td>Inglês</td>\n",
       "      <td>1.0</td>\n",
       "      <td>120.0</td>\n",
       "      <td>40.0</td>\n",
       "      <td>40.0</td>\n",
       "      <td>120.0</td>\n",
       "      <td>20.0</td>\n",
       "      <td>340.0</td>\n",
       "      <td>Sim</td>\n",
       "    </tr>\n",
       "    <tr>\n",
       "      <th>44</th>\n",
       "      <td>1,90E+11</td>\n",
       "      <td>Águas de Lindóia</td>\n",
       "      <td>17</td>\n",
       "      <td>F</td>\n",
       "      <td>1</td>\n",
       "      <td>parda</td>\n",
       "      <td>1</td>\n",
       "      <td>2</td>\n",
       "      <td>pública</td>\n",
       "      <td>35017632.0</td>\n",
       "      <td>...</td>\n",
       "      <td>451.9</td>\n",
       "      <td>Inglês</td>\n",
       "      <td>1.0</td>\n",
       "      <td>140.0</td>\n",
       "      <td>120.0</td>\n",
       "      <td>140.0</td>\n",
       "      <td>160.0</td>\n",
       "      <td>160.0</td>\n",
       "      <td>720.0</td>\n",
       "      <td>Não</td>\n",
       "    </tr>\n",
       "  </tbody>\n",
       "</table>\n",
       "<p>2 rows × 28 columns</p>\n",
       "</div>"
      ],
      "text/plain": [
       "   NU_INSCRICAO NO_MUNICIPIO_RESIDENCIA  IDADE SEXO  TP_ESTADO_CIVIL    RACA  \\\n",
       "37     1,90E+11        Águas de Lindóia     18    M                1  branca   \n",
       "44     1,90E+11        Águas de Lindóia     17    F                1   parda   \n",
       "\n",
       "    TP_NACIONALIDADE  TP_ST_CONCLUSAO   ESCOLA   CO_ESCOLA  ... NOTA_MT  \\\n",
       "37                 1                2  pública  35017632.0  ...   537.1   \n",
       "44                 1                2  pública  35017632.0  ...   451.9   \n",
       "\n",
       "    TP_LINGUA  TP_STATUS_REDACAO  COMP1  COMP2  COMP3  COMP4  COMP5  \\\n",
       "37     Inglês                1.0  120.0   40.0   40.0  120.0   20.0   \n",
       "44     Inglês                1.0  140.0  120.0  140.0  160.0  160.0   \n",
       "\n",
       "    NOTA_REDACAO INTERNET  \n",
       "37         340.0      Sim  \n",
       "44         720.0      Não  \n",
       "\n",
       "[2 rows x 28 columns]"
      ]
     },
     "execution_count": 45,
     "metadata": {},
     "output_type": "execute_result"
    }
   ],
   "source": [
    "colegiox = enem_sp.loc[enem_sp.CO_ESCOLA == 35017632.0]\n",
    "print(colegiox.shape)\n",
    "colegiox.head(2)"
   ]
  },
  {
   "cell_type": "code",
   "execution_count": 54,
   "metadata": {},
   "outputs": [
    {
     "name": "stdout",
     "output_type": "stream",
     "text": [
      "1) Analisar a classificação das variáveis\n",
      "float64\n",
      "\n",
      "2) Analisar os valores missing\n",
      "Quantidade de Valores Nulos: 0\n",
      "\n",
      "3) Analisar Normalidade\n",
      "Shapiro Mulheres NOTA_MT: 5.430648343462963e-06\n",
      "\n",
      "Shapiro Homens NOTA_MT: 0.0462011992931366\n",
      "\n",
      "Kolmogorov Mulheres NOTA_MT: 0.0009999999999998899\n",
      "\n",
      "Kolmogorov Homens NOTA_MT: 0.18173074921058058\n"
     ]
    },
    {
     "data": {
      "image/png": "[encoded data removed]",
      "text/plain": [
       "<Figure size 432x288 with 1 Axes>"
      ]
     },
     "metadata": {
      "needs_background": "light"
     },
     "output_type": "display_data"
    },
    {
     "name": "stdout",
     "output_type": "stream",
     "text": [
      "\n"
     ]
    },
    {
     "data": {
      "image/png": "[encoded data removed]",
      "text/plain": [
       "<Figure size 432x288 with 1 Axes>"
      ]
     },
     "metadata": {
      "needs_background": "light"
     },
     "output_type": "display_data"
    },
    {
     "name": "stdout",
     "output_type": "stream",
     "text": [
      "\n"
     ]
    },
    {
     "data": {
      "image/png": "[encoded data removed]",
      "text/plain": [
       "<Figure size 432x288 with 1 Axes>"
      ]
     },
     "metadata": {
      "needs_background": "light"
     },
     "output_type": "display_data"
    },
    {
     "name": "stdout",
     "output_type": "stream",
     "text": [
      "\n"
     ]
    },
    {
     "data": {
      "image/png": "[encoded data removed]",
      "text/plain": [
       "<Figure size 432x288 with 1 Axes>"
      ]
     },
     "metadata": {
      "needs_background": "light"
     },
     "output_type": "display_data"
    },
    {
     "name": "stdout",
     "output_type": "stream",
     "text": [
      "\n"
     ]
    }
   ],
   "source": [
    "# 1) Analisar a classificação das variáveis\n",
    "print('1) Analisar a classificação das variáveis')\n",
    "print(colegiox.NOTA_MT.dtypes)\n",
    "print()\n",
    "\n",
    "# 2) Analisar os valores missing\n",
    "print('2) Analisar os valores missing')\n",
    "print(f'Quantidade de Valores Nulos: {colegiox.NOTA_MT.isnull().sum()}')\n",
    "print()\n",
    "\n",
    "# 3) Analisar Normalidade\n",
    "\n",
    "# Nível de significância de 5%\n",
    "\n",
    "# Quando p_value > 0.05 : Distribuição Normal\n",
    "print('3) Analisar Normalidade')\n",
    "\n",
    "import scipy.stats as stats\n",
    "\n",
    "print(f'Shapiro Mulheres NOTA_MT: {stats.shapiro(colegiox_mulher.NOTA_MT)[1]}')\n",
    "print()\n",
    "print(f'Shapiro Homens NOTA_MT: {stats.shapiro(colegiox_homem.NOTA_MT)[1]}')\n",
    "print()\n",
    "\n",
    "import statsmodels\n",
    "from statsmodels.stats.diagnostic import lilliefors\n",
    "kolmogorov = statsmodels.stats.diagnostic.lilliefors(colegiox_mulher.NOTA_MT, dist = 'norm')\n",
    "print(f'Kolmogorov Mulheres NOTA_MT: {kolmogorov[1]}')\n",
    "print()\n",
    "kolmogorov = statsmodels.stats.diagnostic.lilliefors(colegiox_homem.NOTA_MT, dist = 'norm')\n",
    "print(f'Kolmogorov Homens NOTA_MT: {kolmogorov[1]}')\n",
    "\n",
    "sns.histplot(colegiox_mulher, x = 'NOTA_MT', bins = 6, color = 'red', kde = 'True', stat = 'probability')\n",
    "plt.title('Mulheres NOTA_MT')\n",
    "plt.show()\n",
    "print()\n",
    "sns.histplot(colegiox_homem, x = 'NOTA_MT', bins = 4, color = 'green', kde = 'True', stat = 'probability')\n",
    "plt.title('Homens NOTA_MT')\n",
    "plt.show()\n",
    "print()\n",
    "stats.probplot(colegiox_mulher['NOTA_MT'], dist = 'norm', plot = plt)\n",
    "plt.title('QQPlot Mulheres NOTA_MT')\n",
    "plt.show()\n",
    "print()\n",
    "stats.probplot(colegiox_homem['NOTA_MT'], dist = 'norm', plot = plt)\n",
    "plt.title('QQPlot Homens NOTA_MT')\n",
    "plt.show()\n",
    "print()\n"
   ]
  },
  {
   "cell_type": "markdown",
   "metadata": {},
   "source": [
    "### Teste de Mann Whitney\n",
    "\n",
    "> 1. Comparação das medianas das notas de homens e mulheres do colégio X\n",
    "\n",
    "* H0 = Não há diferença entre as medianas das notas de homens e mulheres: p_value > 0.05\n",
    "\n",
    "* H1 = Há diferença entre as medianas das notas de homens e mulheres: p <= 0.05"
   ]
  },
  {
   "cell_type": "code",
   "execution_count": 56,
   "metadata": {},
   "outputs": [
    {
     "name": "stdout",
     "output_type": "stream",
     "text": [
      "Estatística de teste: 127.0\n",
      "p_value: 0.1267848363\n"
     ]
    },
    {
     "data": {
      "text/plain": [
       "count     28.000000\n",
       "mean     437.928571\n",
       "std      146.875707\n",
       "min       42.400000\n",
       "25%      413.375000\n",
       "50%      485.150000\n",
       "75%      512.550000\n",
       "max      599.500000\n",
       "Name: NOTA_MT, dtype: float64"
      ]
     },
     "metadata": {},
     "output_type": "display_data"
    },
    {
     "data": {
      "text/plain": [
       "count     13.000000\n",
       "mean     501.515385\n",
       "std      164.496808\n",
       "min       59.500000\n",
       "25%      442.600000\n",
       "50%      513.900000\n",
       "75%      588.800000\n",
       "max      705.700000\n",
       "Name: NOTA_MT, dtype: float64"
      ]
     },
     "metadata": {},
     "output_type": "display_data"
    }
   ],
   "source": [
    "import scipy.stats as stats\n",
    "\n",
    "stat, p = stats.mannwhitneyu(colegiox_mulher.NOTA_MT, colegiox_homem.NOTA_MT)\n",
    "print(f'Estatística de teste: {stat.round(2)}')\n",
    "print(f'p_value: {p.round(10)}')\n",
    "\n",
    "display(colegiox_mulher.NOTA_MT.describe())\n",
    "display(colegiox_homem.NOTA_MT.describe())"
   ]
  },
  {
   "cell_type": "markdown",
   "metadata": {},
   "source": [
    "### Interpretação\n",
    "\n",
    "Teste Estatístico = 127\n",
    "\n",
    "p_value = 0.126\n",
    "\n",
    "Conclusão: Estatisticamente, com intervalo de confiança de 95%, Aceita-se a H0: Não há diferença entre as médias dos componentes. "
   ]
  },
  {
   "cell_type": "markdown",
   "metadata": {},
   "source": [
    "# <font color='red' style='font-size: 40px;'> 14.0 Testes de Hipótese Paramétricos com duas Amostras Dependentes: Teste T Pareado </font>"
   ]
  },
  {
   "cell_type": "markdown",
   "metadata": {},
   "source": [
    "## 14.1) Teste T Pareado\n",
    "\n",
    "> 1. Amostras Aleatórias\n",
    "\n",
    "> 2. Amostras Dependentes\n",
    "\n",
    "> 3. Ambas Amostras tem de seguir Distribuição Normal\n",
    "\n",
    "\n",
    "# $$t = \\frac {\\bar{d}- \\mu_d} {\\frac{S_d}{\\sqrt{n}}} $$\n",
    "\n",
    "# $$g.l = n - 1 $$\n",
    "\n",
    "# $$S_d = \\sqrt { \\frac {\\sum{d^2} - \\frac {{(\\sum{d})}^2} {n}} {n-1} }  $$\n",
    "\n",
    "# $$ d = x_1 - x_2 $$\n",
    "\n",
    "# $$ \\bar{d} = \\frac {\\sum{d}} {n} $$\n",
    "\n",
    "sendo:\n",
    "\n",
    "$n$ = número de dados pareados\n",
    "\n",
    "$d$ = diferença entre os registros dos dados pareados.\n",
    "\n",
    "$\\bar{d}$ = média das diferenças\n",
    "\n",
    "\n",
    "<img src = './img47.png' width = '70%'>"
   ]
  },
  {
   "cell_type": "markdown",
   "metadata": {},
   "source": [
    "### Exemplo 1)\n",
    "\n",
    "* Um estudante quer analisar o seu desempenho comparado ao ano anterior nos resultados de 16 provas ao longo do ano, conforme a tabela a seguir. Há evidências suficientes para concluir que o desempenho do estudante mudou? Considere a Distribuição Normal e nível de significância de 0.01.\n",
    "\n",
    "<img src = './img48.png' width = '70%'>\n",
    "\n",
    "<img src = './img49.png' width = '70%'>\n",
    "\n",
    "\n",
    "    \n",
    "\n"
   ]
  },
  {
   "cell_type": "markdown",
   "metadata": {},
   "source": [
    "### Exemplo 2) Analisar a diferença média da nota de redação com relação aos seus componentes\n",
    "\n",
    "> 1. Amostras Independentes = analisa diferença nas médias.\n",
    "\n",
    "> 2. Amostras Dependentes = Analisa a Diferença Média."
   ]
  },
  {
   "cell_type": "code",
   "execution_count": 58,
   "metadata": {},
   "outputs": [
    {
     "name": "stdout",
     "output_type": "stream",
     "text": [
      "(30, 28)\n"
     ]
    },
    {
     "data": {
      "text/html": [
       "<div>\n",
       "<style scoped>\n",
       "    .dataframe tbody tr th:only-of-type {\n",
       "        vertical-align: middle;\n",
       "    }\n",
       "\n",
       "    .dataframe tbody tr th {\n",
       "        vertical-align: top;\n",
       "    }\n",
       "\n",
       "    .dataframe thead th {\n",
       "        text-align: right;\n",
       "    }\n",
       "</style>\n",
       "<table border=\"1\" class=\"dataframe\">\n",
       "  <thead>\n",
       "    <tr style=\"text-align: right;\">\n",
       "      <th></th>\n",
       "      <th>NU_INSCRICAO</th>\n",
       "      <th>NO_MUNICIPIO_RESIDENCIA</th>\n",
       "      <th>IDADE</th>\n",
       "      <th>SEXO</th>\n",
       "      <th>TP_ESTADO_CIVIL</th>\n",
       "      <th>RACA</th>\n",
       "      <th>TP_NACIONALIDADE</th>\n",
       "      <th>TP_ST_CONCLUSAO</th>\n",
       "      <th>ESCOLA</th>\n",
       "      <th>CO_ESCOLA</th>\n",
       "      <th>...</th>\n",
       "      <th>NOTA_MT</th>\n",
       "      <th>TP_LINGUA</th>\n",
       "      <th>TP_STATUS_REDACAO</th>\n",
       "      <th>COMP1</th>\n",
       "      <th>COMP2</th>\n",
       "      <th>COMP3</th>\n",
       "      <th>COMP4</th>\n",
       "      <th>COMP5</th>\n",
       "      <th>NOTA_REDACAO</th>\n",
       "      <th>INTERNET</th>\n",
       "    </tr>\n",
       "  </thead>\n",
       "  <tbody>\n",
       "    <tr>\n",
       "      <th>492</th>\n",
       "      <td>1,90E+11</td>\n",
       "      <td>São Paulo</td>\n",
       "      <td>17</td>\n",
       "      <td>F</td>\n",
       "      <td>1</td>\n",
       "      <td>branca</td>\n",
       "      <td>1</td>\n",
       "      <td>2</td>\n",
       "      <td>privada</td>\n",
       "      <td>35151506.0</td>\n",
       "      <td>...</td>\n",
       "      <td>64.0</td>\n",
       "      <td>Inglês</td>\n",
       "      <td>1.0</td>\n",
       "      <td>160.0</td>\n",
       "      <td>160.0</td>\n",
       "      <td>140.0</td>\n",
       "      <td>140.0</td>\n",
       "      <td>120.0</td>\n",
       "      <td>720.0</td>\n",
       "      <td>Sim</td>\n",
       "    </tr>\n",
       "    <tr>\n",
       "      <th>7910</th>\n",
       "      <td>1,90E+11</td>\n",
       "      <td>São Paulo</td>\n",
       "      <td>18</td>\n",
       "      <td>F</td>\n",
       "      <td>1</td>\n",
       "      <td>branca</td>\n",
       "      <td>1</td>\n",
       "      <td>2</td>\n",
       "      <td>privada</td>\n",
       "      <td>35151506.0</td>\n",
       "      <td>...</td>\n",
       "      <td>699.5</td>\n",
       "      <td>Inglês</td>\n",
       "      <td>1.0</td>\n",
       "      <td>160.0</td>\n",
       "      <td>120.0</td>\n",
       "      <td>160.0</td>\n",
       "      <td>160.0</td>\n",
       "      <td>140.0</td>\n",
       "      <td>740.0</td>\n",
       "      <td>Sim</td>\n",
       "    </tr>\n",
       "  </tbody>\n",
       "</table>\n",
       "<p>2 rows × 28 columns</p>\n",
       "</div>"
      ],
      "text/plain": [
       "     NU_INSCRICAO NO_MUNICIPIO_RESIDENCIA  IDADE SEXO  TP_ESTADO_CIVIL  \\\n",
       "492      1,90E+11               São Paulo     17    F                1   \n",
       "7910     1,90E+11               São Paulo     18    F                1   \n",
       "\n",
       "        RACA  TP_NACIONALIDADE  TP_ST_CONCLUSAO   ESCOLA   CO_ESCOLA  ...  \\\n",
       "492   branca                 1                2  privada  35151506.0  ...   \n",
       "7910  branca                 1                2  privada  35151506.0  ...   \n",
       "\n",
       "     NOTA_MT  TP_LINGUA  TP_STATUS_REDACAO  COMP1  COMP2  COMP3  COMP4  COMP5  \\\n",
       "492     64.0     Inglês                1.0  160.0  160.0  140.0  140.0  120.0   \n",
       "7910   699.5     Inglês                1.0  160.0  120.0  160.0  160.0  140.0   \n",
       "\n",
       "      NOTA_REDACAO INTERNET  \n",
       "492          720.0      Sim  \n",
       "7910         740.0      Sim  \n",
       "\n",
       "[2 rows x 28 columns]"
      ]
     },
     "execution_count": 58,
     "metadata": {},
     "output_type": "execute_result"
    }
   ],
   "source": [
    "colegioy = enem_sp.loc[enem_sp.CO_ESCOLA == 35151506.0]\n",
    "print(colegioy.shape)\n",
    "colegioy.head(2)"
   ]
  },
  {
   "cell_type": "code",
   "execution_count": 65,
   "metadata": {},
   "outputs": [
    {
     "name": "stdout",
     "output_type": "stream",
     "text": [
      "1) Analisar a classificação das variáveis\n",
      "COMP1           float64\n",
      "COMP2           float64\n",
      "COMP3           float64\n",
      "COMP4           float64\n",
      "COMP5           float64\n",
      "NOTA_REDACAO    float64\n",
      "dtype: object\n",
      "\n",
      "2) Analisar os valores missing\n",
      "Quantidade de Valores Nulos: 0\n",
      "\n",
      "3) Analisar Outliers\n"
     ]
    },
    {
     "data": {
      "image/png": "[encoded data removed]",
      "text/plain": [
       "<Figure size 432x288 with 1 Axes>"
      ]
     },
     "metadata": {
      "needs_background": "light"
     },
     "output_type": "display_data"
    },
    {
     "data": {
      "image/png": "[encoded data removed]",
      "text/plain": [
       "<Figure size 432x288 with 1 Axes>"
      ]
     },
     "metadata": {
      "needs_background": "light"
     },
     "output_type": "display_data"
    },
    {
     "data": {
      "image/png": "[encoded data removed]",
      "text/plain": [
       "<Figure size 432x288 with 1 Axes>"
      ]
     },
     "metadata": {
      "needs_background": "light"
     },
     "output_type": "display_data"
    },
    {
     "data": {
      "image/png": "[encoded data removed]",
      "text/plain": [
       "<Figure size 432x288 with 1 Axes>"
      ]
     },
     "metadata": {
      "needs_background": "light"
     },
     "output_type": "display_data"
    },
    {
     "data": {
      "image/png": "[encoded data removed]",
      "text/plain": [
       "<Figure size 432x288 with 1 Axes>"
      ]
     },
     "metadata": {
      "needs_background": "light"
     },
     "output_type": "display_data"
    },
    {
     "name": "stdout",
     "output_type": "stream",
     "text": [
      "\n",
      "4) Analisar Normalidade\n",
      "Shapiro diferença1: 0.027671540156006813\n",
      "\n",
      "Shapiro diferença2: 0.1629994660615921\n",
      "\n",
      "Shapiro diferença3: 0.024712208658456802\n",
      "\n",
      "Shapiro diferença4: 0.014813005924224854\n",
      "\n",
      "Shapiro diferença5: 0.025074632838368416\n",
      "\n"
     ]
    }
   ],
   "source": [
    "# 1) Analisar a classificação das variáveis\n",
    "print('1) Analisar a classificação das variáveis')\n",
    "print(colegioy[['COMP1', 'COMP2', 'COMP3', 'COMP4', 'COMP5', 'NOTA_REDACAO']].dtypes)\n",
    "print()\n",
    "\n",
    "# 2) Analisar os valores missing\n",
    "print('2) Analisar os valores missing')\n",
    "l = colegioy[['COMP1', 'COMP2', 'COMP3', 'COMP4', 'COMP5', 'NOTA_REDACAO']].isnull().sum().sum()\n",
    "print(f'Quantidade de Valores Nulos: {l}')\n",
    "print()\n",
    "\n",
    "# 3) Analisar Outliers\n",
    "print('3) Analisar Outliers')\n",
    "grafico = sns.boxplot(data = colegioy, x = 'COMP1')\n",
    "plt.title('COMP1')\n",
    "plt.show()\n",
    "\n",
    "grafico = sns.boxplot(data = colegioy, x = 'COMP2')\n",
    "plt.title('COMP2')\n",
    "plt.show()\n",
    "\n",
    "grafico = sns.boxplot(data = colegioy, x = 'COMP3')\n",
    "plt.title('COMP3')\n",
    "plt.show()\n",
    "\n",
    "grafico = sns.boxplot(data = colegioy, x = 'COMP4')\n",
    "plt.title('COMP4')\n",
    "plt.show()\n",
    "\n",
    "grafico = sns.boxplot(data = colegioy, x = 'COMP5')\n",
    "plt.title('COMP5')\n",
    "plt.show()\n",
    "print()\n",
    "\n",
    "# 4) Analisar Normalidade\n",
    "\n",
    "# Nível de significância de 5%\n",
    "\n",
    "# Quando p_value > 0.05 : Distribuição Normal\n",
    "print('4) Analisar Normalidade')\n",
    "\n",
    "import scipy.stats as stats\n",
    "\n",
    "diferenca1 = colegioy.NOTA_REDACAO - colegioy.COMP1\n",
    "diferenca2 = colegioy.NOTA_REDACAO - colegioy.COMP2\n",
    "diferenca3 = colegioy.NOTA_REDACAO - colegioy.COMP3\n",
    "diferenca4 = colegioy.NOTA_REDACAO - colegioy.COMP4\n",
    "diferenca5 = colegioy.NOTA_REDACAO - colegioy.COMP5\n",
    "\n",
    "diferencas = [diferenca1, diferenca2, diferenca3, diferenca4, diferenca5]\n",
    "\n",
    "i = 0\n",
    "for diferenca in diferencas:\n",
    "    i = i + 1\n",
    "    print(f'Shapiro diferença{i}: {stats.shapiro(diferenca)[1]}')\n",
    "    print()\n",
    "\n"
   ]
  },
  {
   "cell_type": "markdown",
   "metadata": {},
   "source": [
    "### Teste T Pareado\n",
    "\n",
    "> 1. Comparação das Médias das Notas dos componentes que passaram no teste de normalidade\n",
    "\n",
    "* H0 = Não há diferença entre as diferenças das médias da redação com os seus componentes: p_value > 0.05\n",
    "\n",
    "* H1 = Há diferença entre as diferenças das médias da redação com os seus componentes: p_value <= 0.05"
   ]
  },
  {
   "cell_type": "code",
   "execution_count": 66,
   "metadata": {},
   "outputs": [
    {
     "name": "stdout",
     "output_type": "stream",
     "text": [
      "Estatística de teste: 0.17\n",
      "p_value: 0.8690991006\n"
     ]
    },
    {
     "data": {
      "text/plain": [
       "574.0"
      ]
     },
     "metadata": {},
     "output_type": "display_data"
    },
    {
     "data": {
      "text/plain": [
       "573.3333333333334"
      ]
     },
     "metadata": {},
     "output_type": "display_data"
    }
   ],
   "source": [
    "import scipy.stats as stats\n",
    "\n",
    "stat, p = stats.ttest_rel(diferenca1, diferenca2)\n",
    "print(f'Estatística de teste: {stat.round(2)}')\n",
    "print(f'p_value: {p.round(10)}')\n",
    "\n",
    "display(diferenca1.mean())\n",
    "display(diferenca2.mean())"
   ]
  },
  {
   "cell_type": "markdown",
   "metadata": {},
   "source": [
    "### Interpretação\n",
    "\n",
    "Teste Estatístico = 0.17\n",
    "\n",
    "p_value = 0.869\n",
    "\n",
    "Conclusão: Estatisticamente, com intervalo de confiança de 95%, Aceita-se a H0: Não há diferença entre as diferenças das médias da redação e os seus componentes 1 e 2 do colégio Y. "
   ]
  },
  {
   "cell_type": "markdown",
   "metadata": {},
   "source": [
    "# <font color='red' style='font-size: 40px;'> 15.0 Testes de Hipótese Não Paramétricos com duas Amostras Dependentes: Teste de Wilcoxon </font>"
   ]
  },
  {
   "cell_type": "markdown",
   "metadata": {},
   "source": [
    "## 15.1) Teste de Wilcoxon\n",
    "\n",
    "> 1. Amostras Aleatórias.\n",
    "\n",
    "> 2. Amostras Dependentes.\n",
    "\n",
    "> 3. Pelo menos 1 das Amostras não devem seguir Distribuição Normal."
   ]
  },
  {
   "cell_type": "markdown",
   "metadata": {},
   "source": [
    "### Exemplo 1) Analisar a diferença mediana da nota de redação com relação aos seus componentes\n",
    "\n",
    "> 1. Amostras independentes = Analisa diferença nas medianas. \n",
    "\n",
    "> 2. Amostras dependentes = Analisa a mediana das diferenças. "
   ]
  },
  {
   "cell_type": "code",
   "execution_count": 67,
   "metadata": {},
   "outputs": [
    {
     "name": "stdout",
     "output_type": "stream",
     "text": [
      "(30, 28)\n"
     ]
    },
    {
     "data": {
      "text/html": [
       "<div>\n",
       "<style scoped>\n",
       "    .dataframe tbody tr th:only-of-type {\n",
       "        vertical-align: middle;\n",
       "    }\n",
       "\n",
       "    .dataframe tbody tr th {\n",
       "        vertical-align: top;\n",
       "    }\n",
       "\n",
       "    .dataframe thead th {\n",
       "        text-align: right;\n",
       "    }\n",
       "</style>\n",
       "<table border=\"1\" class=\"dataframe\">\n",
       "  <thead>\n",
       "    <tr style=\"text-align: right;\">\n",
       "      <th></th>\n",
       "      <th>NU_INSCRICAO</th>\n",
       "      <th>NO_MUNICIPIO_RESIDENCIA</th>\n",
       "      <th>IDADE</th>\n",
       "      <th>SEXO</th>\n",
       "      <th>TP_ESTADO_CIVIL</th>\n",
       "      <th>RACA</th>\n",
       "      <th>TP_NACIONALIDADE</th>\n",
       "      <th>TP_ST_CONCLUSAO</th>\n",
       "      <th>ESCOLA</th>\n",
       "      <th>CO_ESCOLA</th>\n",
       "      <th>...</th>\n",
       "      <th>NOTA_MT</th>\n",
       "      <th>TP_LINGUA</th>\n",
       "      <th>TP_STATUS_REDACAO</th>\n",
       "      <th>COMP1</th>\n",
       "      <th>COMP2</th>\n",
       "      <th>COMP3</th>\n",
       "      <th>COMP4</th>\n",
       "      <th>COMP5</th>\n",
       "      <th>NOTA_REDACAO</th>\n",
       "      <th>INTERNET</th>\n",
       "    </tr>\n",
       "  </thead>\n",
       "  <tbody>\n",
       "    <tr>\n",
       "      <th>492</th>\n",
       "      <td>1,90E+11</td>\n",
       "      <td>São Paulo</td>\n",
       "      <td>17</td>\n",
       "      <td>F</td>\n",
       "      <td>1</td>\n",
       "      <td>branca</td>\n",
       "      <td>1</td>\n",
       "      <td>2</td>\n",
       "      <td>privada</td>\n",
       "      <td>35151506.0</td>\n",
       "      <td>...</td>\n",
       "      <td>64.0</td>\n",
       "      <td>Inglês</td>\n",
       "      <td>1.0</td>\n",
       "      <td>160.0</td>\n",
       "      <td>160.0</td>\n",
       "      <td>140.0</td>\n",
       "      <td>140.0</td>\n",
       "      <td>120.0</td>\n",
       "      <td>720.0</td>\n",
       "      <td>Sim</td>\n",
       "    </tr>\n",
       "    <tr>\n",
       "      <th>7910</th>\n",
       "      <td>1,90E+11</td>\n",
       "      <td>São Paulo</td>\n",
       "      <td>18</td>\n",
       "      <td>F</td>\n",
       "      <td>1</td>\n",
       "      <td>branca</td>\n",
       "      <td>1</td>\n",
       "      <td>2</td>\n",
       "      <td>privada</td>\n",
       "      <td>35151506.0</td>\n",
       "      <td>...</td>\n",
       "      <td>699.5</td>\n",
       "      <td>Inglês</td>\n",
       "      <td>1.0</td>\n",
       "      <td>160.0</td>\n",
       "      <td>120.0</td>\n",
       "      <td>160.0</td>\n",
       "      <td>160.0</td>\n",
       "      <td>140.0</td>\n",
       "      <td>740.0</td>\n",
       "      <td>Sim</td>\n",
       "    </tr>\n",
       "  </tbody>\n",
       "</table>\n",
       "<p>2 rows × 28 columns</p>\n",
       "</div>"
      ],
      "text/plain": [
       "     NU_INSCRICAO NO_MUNICIPIO_RESIDENCIA  IDADE SEXO  TP_ESTADO_CIVIL  \\\n",
       "492      1,90E+11               São Paulo     17    F                1   \n",
       "7910     1,90E+11               São Paulo     18    F                1   \n",
       "\n",
       "        RACA  TP_NACIONALIDADE  TP_ST_CONCLUSAO   ESCOLA   CO_ESCOLA  ...  \\\n",
       "492   branca                 1                2  privada  35151506.0  ...   \n",
       "7910  branca                 1                2  privada  35151506.0  ...   \n",
       "\n",
       "     NOTA_MT  TP_LINGUA  TP_STATUS_REDACAO  COMP1  COMP2  COMP3  COMP4  COMP5  \\\n",
       "492     64.0     Inglês                1.0  160.0  160.0  140.0  140.0  120.0   \n",
       "7910   699.5     Inglês                1.0  160.0  120.0  160.0  160.0  140.0   \n",
       "\n",
       "      NOTA_REDACAO INTERNET  \n",
       "492          720.0      Sim  \n",
       "7910         740.0      Sim  \n",
       "\n",
       "[2 rows x 28 columns]"
      ]
     },
     "execution_count": 67,
     "metadata": {},
     "output_type": "execute_result"
    }
   ],
   "source": [
    "colegioy = enem_sp.loc[enem_sp.CO_ESCOLA == 35151506.0]\n",
    "print(colegioy.shape)\n",
    "colegioy.head(2)"
   ]
  },
  {
   "cell_type": "code",
   "execution_count": 68,
   "metadata": {},
   "outputs": [
    {
     "name": "stdout",
     "output_type": "stream",
     "text": [
      "1) Analisar a classificação das variáveis\n",
      "COMP1           float64\n",
      "COMP2           float64\n",
      "COMP3           float64\n",
      "COMP4           float64\n",
      "COMP5           float64\n",
      "NOTA_REDACAO    float64\n",
      "dtype: object\n",
      "\n",
      "2) Analisar os valores missing\n",
      "Quantidade de Valores Nulos: 0\n",
      "\n",
      "3) Analisar Outliers\n"
     ]
    },
    {
     "data": {
      "image/png": "[encoded data removed]",
      "text/plain": [
       "<Figure size 432x288 with 1 Axes>"
      ]
     },
     "metadata": {
      "needs_background": "light"
     },
     "output_type": "display_data"
    },
    {
     "data": {
      "image/png": "[encoded data removed]",
      "text/plain": [
       "<Figure size 432x288 with 1 Axes>"
      ]
     },
     "metadata": {
      "needs_background": "light"
     },
     "output_type": "display_data"
    },
    {
     "data": {
      "image/png": "[encoded data removed]",
      "text/plain": [
       "<Figure size 432x288 with 1 Axes>"
      ]
     },
     "metadata": {
      "needs_background": "light"
     },
     "output_type": "display_data"
    },
    {
     "data": {
      "image/png": "[encoded data removed]",
      "text/plain": [
       "<Figure size 432x288 with 1 Axes>"
      ]
     },
     "metadata": {
      "needs_background": "light"
     },
     "output_type": "display_data"
    },
    {
     "data": {
      "image/png": "[encoded data removed]",
      "text/plain": [
       "<Figure size 432x288 with 1 Axes>"
      ]
     },
     "metadata": {
      "needs_background": "light"
     },
     "output_type": "display_data"
    },
    {
     "name": "stdout",
     "output_type": "stream",
     "text": [
      "\n",
      "4) Analisar Normalidade\n",
      "Shapiro diferença1: 0.027671540156006813\n",
      "\n",
      "Shapiro diferença2: 0.1629994660615921\n",
      "\n",
      "Shapiro diferença3: 0.024712208658456802\n",
      "\n",
      "Shapiro diferença4: 0.014813005924224854\n",
      "\n",
      "Shapiro diferença5: 0.025074632838368416\n",
      "\n"
     ]
    }
   ],
   "source": [
    "# 1) Analisar a classificação das variáveis\n",
    "print('1) Analisar a classificação das variáveis')\n",
    "print(colegioy[['COMP1', 'COMP2', 'COMP3', 'COMP4', 'COMP5', 'NOTA_REDACAO']].dtypes)\n",
    "print()\n",
    "\n",
    "# 2) Analisar os valores missing\n",
    "print('2) Analisar os valores missing')\n",
    "l = colegioy[['COMP1', 'COMP2', 'COMP3', 'COMP4', 'COMP5', 'NOTA_REDACAO']].isnull().sum().sum()\n",
    "print(f'Quantidade de Valores Nulos: {l}')\n",
    "print()\n",
    "\n",
    "# 3) Analisar Outliers\n",
    "print('3) Analisar Outliers')\n",
    "grafico = sns.boxplot(data = colegioy, x = 'COMP1')\n",
    "plt.title('COMP1')\n",
    "plt.show()\n",
    "\n",
    "grafico = sns.boxplot(data = colegioy, x = 'COMP2')\n",
    "plt.title('COMP2')\n",
    "plt.show()\n",
    "\n",
    "grafico = sns.boxplot(data = colegioy, x = 'COMP3')\n",
    "plt.title('COMP3')\n",
    "plt.show()\n",
    "\n",
    "grafico = sns.boxplot(data = colegioy, x = 'COMP4')\n",
    "plt.title('COMP4')\n",
    "plt.show()\n",
    "\n",
    "grafico = sns.boxplot(data = colegioy, x = 'COMP5')\n",
    "plt.title('COMP5')\n",
    "plt.show()\n",
    "print()\n",
    "\n",
    "# 4) Analisar Normalidade\n",
    "\n",
    "# Nível de significância de 5%\n",
    "\n",
    "# Quando p_value > 0.05 : Distribuição Normal\n",
    "print('4) Analisar Normalidade')\n",
    "\n",
    "import scipy.stats as stats\n",
    "\n",
    "diferenca1 = colegioy.NOTA_REDACAO - colegioy.COMP1\n",
    "diferenca2 = colegioy.NOTA_REDACAO - colegioy.COMP2\n",
    "diferenca3 = colegioy.NOTA_REDACAO - colegioy.COMP3\n",
    "diferenca4 = colegioy.NOTA_REDACAO - colegioy.COMP4\n",
    "diferenca5 = colegioy.NOTA_REDACAO - colegioy.COMP5\n",
    "\n",
    "diferencas = [diferenca1, diferenca2, diferenca3, diferenca4, diferenca5]\n",
    "\n",
    "i = 0\n",
    "for diferenca in diferencas:\n",
    "    i = i + 1\n",
    "    print(f'Shapiro diferença{i}: {stats.shapiro(diferenca)[1]}')\n",
    "    print()\n",
    "\n"
   ]
  },
  {
   "cell_type": "markdown",
   "metadata": {},
   "source": [
    "### Teste Wilcoxon\n",
    "\n",
    "> 1. Comparação das Medianas das diferenças que não passaram no teste de normalidade.\n",
    "\n",
    "* H0 = Não há diferença entre as diferenças das medianas da redação com os seus componentes: p_value > 0.05\n",
    "\n",
    "* H1 = Há diferença entre as diferenças das medianas da redação com os seus componentes: p_value <= 0.05"
   ]
  },
  {
   "cell_type": "code",
   "execution_count": 69,
   "metadata": {},
   "outputs": [
    {
     "name": "stdout",
     "output_type": "stream",
     "text": [
      "Estatística de teste: 30.5\n",
      "p_value: 0.8127423726\n"
     ]
    },
    {
     "data": {
      "text/plain": [
       "560.0"
      ]
     },
     "metadata": {},
     "output_type": "display_data"
    },
    {
     "data": {
      "text/plain": [
       "560.0"
      ]
     },
     "metadata": {},
     "output_type": "display_data"
    }
   ],
   "source": [
    "import scipy.stats as stats\n",
    "\n",
    "stat, p = stats.wilcoxon(diferenca1, diferenca3)\n",
    "print(f'Estatística de teste: {stat.round(2)}')\n",
    "print(f'p_value: {p.round(10)}')\n",
    "\n",
    "display(diferenca1.median())\n",
    "display(diferenca2.median())"
   ]
  },
  {
   "cell_type": "markdown",
   "metadata": {},
   "source": [
    "### Interpretação\n",
    "\n",
    "Teste Estatístico = 30.5\n",
    "\n",
    "p_value = 0.812\n",
    "\n",
    "Conclusão: Estatisticamente, com intervalo de confiança de 95%, Aceita-se a H0: Não há diferença entre as diferenças das medianas da redação e os seus componentes 1 e 2 do colégio Y. "
   ]
  },
  {
   "cell_type": "markdown",
   "metadata": {},
   "source": [
    "# <font color='red' style='font-size: 30px;'>16.0 Anova </font>\n",
    "<hr style='border: 2px solid red;'>\n",
    "\n",
    "\n",
    "\n",
    "\n",
    "<p style='font-size: 18px; line-height: 2; margin: 0px 0px; text-align: justify; text-indent: 0px;'>    "
   ]
  },
  {
   "cell_type": "markdown",
   "metadata": {},
   "source": [
    "### 16.1) Anova\n",
    "\n",
    "> CONSULTAR:\n",
    "\n",
    "https://medium.com/omixdata/an%C3%A1lise-de-vari%C3%A2ncia-anova-one-way-e-tukey-usando-r-f91b6f79240e\n",
    "\n",
    "https://blog.minitab.com/pt/entendendo-analise-de-variancia-anova-e-o-teste-f\n",
    "\n",
    "https://medium.com/@isguzarsezgin/anova-analysis-of-variance-test-explanation-and-an-example-python-af801c64d414\n",
    "\n",
    "https://www.youtube.com/watch?v=1ceP2FL5fzE&ab_channel=UNIVESP\n",
    "\n",
    "https://www.youtube.com/watch?v=4PLzaoONIVc&t=2s&ab_channel=LuizCesarCarpinetti\n",
    "\n",
    "https://www.youtube.com/watch?v=xRo86sNgBxw&ab_channel=LuizCesarCarpinetti\n",
    "\n",
    "\n",
    "> 1. A ANOVA, análise de variância, tem como objetivo comparar a média de população amostral, e assim identificar se essas médias diferem significativamente entre elas. Ou seja, uma proposta bem parecida com os demais testes de hipóteses.\n",
    "\n",
    "> 2. A diferença básica entre os testes de hipótese e a análise de variância é o número de amostras. Enquanto nos testes de hipótese se trabalha com duas amostras, a ANOVA compara a média de mais de duas amostras e determina se ao menos uma se difere significativamente das demais.\n",
    "\n",
    "> 3. Uma variável quantitativa e uma ou mais variáveis categóricas.\n",
    "\n",
    "> 4. Busca a variação entre os grupos comparando a variação \"dentro\" dos grupos."
   ]
  },
  {
   "cell_type": "markdown",
   "metadata": {},
   "source": [
    "# <font color='red' style='font-size: 40px;'> 17.0 Testes A/B: Como Fazer?</font>"
   ]
  },
  {
   "cell_type": "markdown",
   "metadata": {},
   "source": [
    "> CONSULTAR:\n",
    "\n",
    "https://medium.com/data-hackers/tomada-de-decis%C3%A3o-com-teste-a-b-b3955773d3f7\n",
    "\n",
    "https://analyticsmayhem.com/digital-analytics/statistical-significance-ab-testing/\n",
    "\n",
    "https://towardsdatascience.com/the-math-behind-a-b-testing-with-example-code-part-1-of-2-7be752e1d06f\n",
    "\n",
    "https://www.youtube.com/watch?v=27wxfAhFsVk&t=334s&ab_channel=GoMakers\n",
    "\n"
   ]
  }
 ],
 "metadata": {
  "interpreter": {
   "hash": "5a9a036f549c34521959f2e35c11282d59c2fa6997060d671aa6f29f1c44b680"
  },
  "kernelspec": {
   "display_name": "Python 3.9.7 ('base')",
   "language": "python",
   "name": "python3"
  },
  "language_info": {
   "codemirror_mode": {
    "name": "ipython",
    "version": 3
   },
   "file_extension": ".py",
   "mimetype": "text/x-python",
   "name": "python",
   "nbconvert_exporter": "python",
   "pygments_lexer": "ipython3",
   "version": "3.9.12 (main, Apr  4 2022, 05:22:27) [MSC v.1916 64 bit (AMD64)]"
  },
  "orig_nbformat": 4
 },
 "nbformat": 4,
 "nbformat_minor": 2
}
