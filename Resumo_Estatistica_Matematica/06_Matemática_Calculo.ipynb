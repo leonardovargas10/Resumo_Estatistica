{
 "cells": [
  {
   "cell_type": "markdown",
   "metadata": {},
   "source": [
    "<h1 style='color: blue; font-size: 34px; font-weight: bold;'> Projeto Proposto \n",
    "</h1>\n",
    "\n",
    "<p style='font-size: 18px; line-height: 2; margin: 0px 0px; text-align: justify; text-indent: 0px;'>    \n",
    "<i> Este projeto baseia-se no Estudo das Técnicas de Cálculo para Machine Learning. </i>       \n",
    "</p>  "
   ]
  },
  {
   "cell_type": "markdown",
   "metadata": {},
   "source": [
    "# <font color='red' style='font-size: 40px;'>Library and Data </font>"
   ]
  },
  {
   "cell_type": "code",
   "execution_count": 1,
   "metadata": {},
   "outputs": [],
   "source": [
    "# Convencionais\n",
    "import pandas as pd\n",
    "import numpy as np\n",
    "import matplotlib.pyplot as plt\n",
    "import seaborn as sns\n",
    "sns.set_palette('Accent')\n",
    "sns.set_style('darkgrid')"
   ]
  },
  {
   "cell_type": "markdown",
   "metadata": {},
   "source": [
    "# <font color='red' style='font-size: 40px;'> 1.0 Introdução a Equações </font>"
   ]
  },
  {
   "cell_type": "markdown",
   "metadata": {},
   "source": [
    "## 1.1) Equações\n",
    "\n",
    "> 1. Uma equação é uma expressão matemática composta por uma igualdade e pelo menos uma incógnita. "
   ]
  },
  {
   "cell_type": "markdown",
   "metadata": {},
   "source": [
    "## 1.2) Tipos de Equações\n",
    "\n",
    "> 1. Equações Polinomiais: Incógnitas na equação normal\n",
    "\n",
    "## $ 4_x - 3 = 0$\n",
    "\n",
    "## $ 2_{x^2} + 3_x - 2 = 15 $\n",
    "\n",
    "## $ x^3 - 4_{x^2} - 10 = 0 $\n",
    "\n",
    "> 2. Equações Exponenciais: Incógnitas no Expoente\n",
    "\n",
    "## $2^{4x-3} = 4^{x+2} $\n",
    "\n",
    "## $e^{3x-2} = e^{x} $\n",
    "\n",
    "> 3. Equações Logarítmicas: Incógnitas envolvidas em Logarítmos\n",
    "\n",
    "## $ log (2x-4) = 10 $\n",
    "\n",
    "## $ log_x (4-x) = 3 $\n",
    "\n",
    "## $ log_3 (x+4) = x $"
   ]
  },
  {
   "cell_type": "markdown",
   "metadata": {},
   "source": [
    "> 4. Equações Racionais: Incógnitas no Denominador\n",
    "\n",
    "## $ \\frac {4} {x-2} + \\frac {5} {x+3} = 25 $\n",
    "\n",
    "> 5. Equações Irracionais: Incógnitas no Radicando\n",
    "\n",
    "## $ \\sqrt {x-2} = 32 $\n",
    "\n",
    "> 6. Equações Trigonométricas: Incógnitas no argumento da função trigonométrica\n",
    "\n",
    "## $ sen(x) = 0.5 $\n",
    "\n",
    "## $ cos(x) = tg(y-2) + sen(4y) $\n",
    "\n",
    "> 7. Equações Diferenciais: Incógnitas são funções envolvidas em derivadas e diferenciais\n",
    "\n",
    "## $ \\frac {{d^2}y} {{dx}^2} + \\frac {dy} {dx} + xy = 0 $"
   ]
  },
  {
   "cell_type": "markdown",
   "metadata": {},
   "source": [
    "# <font color='red' style='font-size: 40px;'> 2.0 Limites </font>"
   ]
  },
  {
   "cell_type": "markdown",
   "metadata": {},
   "source": [
    "## 2.1) O que são Limites?\n",
    "\n",
    "<img src = './img164.png' width = '70%'>\n",
    "\n",
    "<img src = './img165.png' width = '70%'>\n",
    "\n",
    "<img src = './img166.png' width = '70%'>"
   ]
  },
  {
   "cell_type": "markdown",
   "metadata": {},
   "source": [
    "# <font color='red' style='font-size: 40px;'> 3.0 Derivadas </font>"
   ]
  },
  {
   "cell_type": "markdown",
   "metadata": {},
   "source": [
    "> CONSULTAR: \n",
    "\n",
    "https://www.youtube.com/watch?v=WuPKvp_-X7Y&list=PLtQM10PgmGogjn0cikgWi8wpQUnV6ERkY&index=4&ab_channel=DiogoCortiz"
   ]
  },
  {
   "cell_type": "markdown",
   "metadata": {},
   "source": [
    "## 3.1) O que são Derivadas?\n",
    "\n",
    "<img src = './img167.png' width = '100%'>\n",
    "\n",
    "<img src = './img168.png' width = '100%'>\n",
    "\n",
    "<img src = './img169.png' width = '100%'>\n",
    "\n",
    "<img src = './img170.png' width = '100%'>\n"
   ]
  },
  {
   "cell_type": "markdown",
   "metadata": {},
   "source": [
    "## 3.2) Conceitos Fundamentais \n",
    "\n",
    "<img src = './img270.png' width = '70%'>\n",
    "<img src = './img271.png' width = '70%'>\n",
    "<img src = './img272.png' width = '70%'>\n",
    "<img src = './img273.png' width = '70%'>\n",
    "<img src = './img274.png' width = '70%'>\n",
    "<img src = './img275.png' width = '70%'>\n",
    "<img src = './img276.png' width = '70%'>\n",
    "<img src = './img277.png' width = '70%'>\n"
   ]
  },
  {
   "cell_type": "markdown",
   "metadata": {},
   "source": [
    "## 3.3) Derivadas Parciais \n",
    "\n",
    "> 1. Derivadas Parciais\n",
    "\n",
    "<img src = './img171.png' width = '100%'>\n",
    "<img src = './img172.png' width = '100%'>\n",
    "<img src = './img173.png' width = '100%'>\n",
    "<img src = './img278.png' width = '70%'>\n",
    "<img src = './img279.png' width = '70%'>\n",
    "\n",
    "> 2. Regra da Cadeia\n",
    "\n",
    "<img src = './img280.png' width = '70%'>\n",
    "<img src = './img281.png' width = '70%'>\n",
    "\n",
    "\n",
    "> 3. Derivadas Parciais de Segunda Ordem \n",
    "\n",
    "<img src = './img174.png' width = '100%'>\n",
    "<img src = './img175.png' width = '100%'>\n",
    "\n"
   ]
  },
  {
   "cell_type": "markdown",
   "metadata": {},
   "source": [
    "## 3.4) Pontos de Máximo e Mínimo\n",
    "\n",
    "### A grande sacada desses pontos é que a derivada tem resultado igual a 0 nesses pontos, visto que o coeficiente angular da reta é 0, independentemente se for mínimo ou máximo\n",
    "### Conceitos:\n",
    "    1) MÁXIMO LOCAL = y = f(x) tem um máximo local em x = c se existe um intervalo aberto, contendo c, tal que para todo x neste intervalo, temos f(c) >= f(x)\n",
    "    1) MÍNIMO LOCAL = y = f(x) tem um mínimo local em x = c se existe um intervalo aberto, contendo c, tal que para todo x neste intervalo, temos f(c) <= f(x)\n",
    "### Regras:\n",
    "    1) Se a derivada segunda de uma função F(x) em determinado ponto for negativa, o ponto será de MÁXIMO\n",
    "    2) Se a derivada segunda de uma função F(x) em determinado ponto for positiva, o ponto será de MÍNIMO\n",
    "    3) Sabendo os Máximos e Mínimos Locais, basta substituirmos os valores de x na F(x) para descobrirmos qual serão os Máximos e Mínimos Globais\n",
    "\n",
    "<img src='figG.jpg'>"
   ]
  },
  {
   "cell_type": "markdown",
   "metadata": {},
   "source": [
    "# <font color='red' style='font-size: 40px;'> 4.0 Matemática do Gradiente Descendente  </font>"
   ]
  },
  {
   "attachments": {},
   "cell_type": "markdown",
   "metadata": {},
   "source": [
    "> CONSULTAR :\n",
    "\n",
    "https://medium.com/@anwarhermuche/gradiente-descendente-uma-breve-introdu%C3%A7%C3%A3o-3eb13b152a51\n",
    "\n",
    "https://www.youtube.com/watch?v=joaYDx1HTcA&list=PLtQM10PgmGogjn0cikgWi8wpQUnV6ERkY&index=7&ab_channel=DiogoCortiz\n",
    "\n",
    "https://www.tiagoms.com/post/gradiente/\n",
    "\n",
    "https://towardsdatascience.com/back-to-basics-part-uno-linear-regression-cost-function-and-gradient-descent-590dcb3eee46\n",
    "\n",
    "https://towardsdatascience.com/back-to-basics-part-dos-linear-regression-cost-function-and-gradient-descent-e3d7d05c56fd"
   ]
  },
  {
   "cell_type": "markdown",
   "metadata": {},
   "source": [
    "### 1) Conceitos Fundamentais\n",
    "* OBS: \n",
    "\n",
    "# $MAE = \\frac {1}{n}\\sum_{i=1}^{n}(|\\bar{Y_{i}}-Y_{i}|)$\n",
    "\n",
    "\n",
    "<img src = './img283.png' width = '70%'>\n",
    "\n",
    "\n",
    "### 2) Fundamentos"
   ]
  },
  {
   "cell_type": "markdown",
   "metadata": {},
   "source": []
  }
 ],
 "metadata": {
  "kernelspec": {
   "display_name": "Python 3.9.12 ('base')",
   "language": "python",
   "name": "python3"
  },
  "language_info": {
   "codemirror_mode": {
    "name": "ipython",
    "version": 3
   },
   "file_extension": ".py",
   "mimetype": "text/x-python",
   "name": "python",
   "nbconvert_exporter": "python",
   "pygments_lexer": "ipython3",
   "version": "3.9.12"
  },
  "orig_nbformat": 4,
  "vscode": {
   "interpreter": {
    "hash": "5a9a036f549c34521959f2e35c11282d59c2fa6997060d671aa6f29f1c44b680"
   }
  }
 },
 "nbformat": 4,
 "nbformat_minor": 2
}
